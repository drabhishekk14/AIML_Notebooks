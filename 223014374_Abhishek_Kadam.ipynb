{
  "nbformat": 4,
  "nbformat_minor": 0,
  "metadata": {
    "colab": {
      "provenance": [],
      "collapsed_sections": [],
      "authorship_tag": "ABX9TyPmUP8KN5GK6ANZcqOIU21n",
      "include_colab_link": true
    },
    "kernelspec": {
      "name": "python3",
      "display_name": "Python 3"
    },
    "language_info": {
      "name": "python"
    }
  },
  "cells": [
    {
      "cell_type": "markdown",
      "metadata": {
        "id": "view-in-github",
        "colab_type": "text"
      },
      "source": [
        "<a href=\"https://colab.research.google.com/github/drabhishekk14/AIML_Notebooks/blob/main/223014374_Abhishek_Kadam.ipynb\" target=\"_parent\"><img src=\"https://colab.research.google.com/assets/colab-badge.svg\" alt=\"Open In Colab\"/></a>"
      ]
    },
    {
      "cell_type": "markdown",
      "source": [
        "**Student id: -** **2230114373**\n",
        "\n",
        "**Sudent Name: -** **Abhishek Kadam**\n",
        "\n",
        "**Attempting High Distinction Questions: - Yes**"
      ],
      "metadata": {
        "id": "h7IlK05eB5T9"
      }
    },
    {
      "cell_type": "markdown",
      "source": [
        "# **Part1**"
      ],
      "metadata": {
        "id": "MScLG_0gvn1y"
      }
    },
    {
      "cell_type": "markdown",
      "source": [
        "Answer1.1"
      ],
      "metadata": {
        "id": "oQ6eB066vx-R"
      }
    },
    {
      "cell_type": "code",
      "source": [
        "# Program to find the median value of age\n",
        "\n",
        "ages = [5,31,43,48,50,41,7,11,15,39,80,82,32,2,8,6,25,36,27,61,31]\n",
        "n = len(ages)\n",
        "ages.sort()# sorting the ages in ascedning order\n",
        "\n",
        "if n % 2 == 0: #cheking the count of ages values is even or odd\n",
        "\tmedian1 = ages[n//2]\n",
        "\tmedian2 = ages[n//2 - 1]\n",
        "\tmedian = (median1 + median2)/2\n",
        "else:\n",
        "\tmedian = ages[n//2]\n",
        "print(\"Median values of ages is: \" + str(median))\n",
        "\n",
        "# Program to find the age which is larger than 90% of other ages\n",
        "# To find the age which is larger than 90% of other ages is same as finding the \n",
        "# 90th percentile of ages\n",
        "# Writing a function to calculate percentile\n",
        "def my_percentile(data, percentile):\n",
        "    import math #import math library to solve dependency of using .ceil function\n",
        "    n = len(data)\n",
        "    p = n * percentile / 100\n",
        "    \n",
        "    if p.is_integer():\n",
        "        return sorted(data)[int(p)]\n",
        "    else:\n",
        "      #using .ceil function from math library for approximating the percentile\n",
        "      #value\n",
        "        return sorted(data)[int(math.ceil(p)) - 1] #substracting 1 to adjust the \n",
        "        #index of the list\n",
        "age_l =my_percentile(ages,90)\n",
        "print(\"Ages value %s and above are larger than 90 percent of other ages\" % age_l)"
      ],
      "metadata": {
        "colab": {
          "base_uri": "https://localhost:8080/"
        },
        "id": "YLc2Dag2vmSg",
        "outputId": "4edb923a-5516-4848-8dea-567482ebae68"
      },
      "execution_count": 1,
      "outputs": [
        {
          "output_type": "stream",
          "name": "stdout",
          "text": [
            "Median values of ages is: 31\n",
            "Ages value 61 and above are larger than 90 percent of other ages\n"
          ]
        }
      ]
    },
    {
      "cell_type": "markdown",
      "source": [
        "Answer 1.2"
      ],
      "metadata": {
        "id": "h0mxvS7EEB1w"
      }
    },
    {
      "cell_type": "code",
      "source": [
        "# creating a summation function sum_test\n",
        "\n",
        "# defining sum_test function to take 'n' as an argument\n",
        "def sum_test(n): \n",
        "  # initializing a variable total with value '0'. This variable will keep \n",
        "  #accumulating the sum of numbers in the range\n",
        "  total = 0\n",
        "  # passing n+1 in the range to include last number in the range for summation\n",
        "  for i in range(n+1):\n",
        "    # each number in the range gets added to total and the for loop iterates \n",
        "    #till \"n+1\" value is reached\n",
        "    total = total + i\n",
        "  print (\"The summation of %s is %s\"% (n,total))\n",
        "# Per the question passing value '12' to the sum_test function\n",
        "sum_test(12)  "
      ],
      "metadata": {
        "colab": {
          "base_uri": "https://localhost:8080/"
        },
        "id": "L-CRrPBCEEpI",
        "outputId": "500ab61a-6dd0-4b87-f79c-7e72abd85c40"
      },
      "execution_count": 2,
      "outputs": [
        {
          "output_type": "stream",
          "name": "stdout",
          "text": [
            "The summation of 12 is 78\n"
          ]
        }
      ]
    },
    {
      "cell_type": "markdown",
      "source": [
        "Answer 1.3"
      ],
      "metadata": {
        "id": "vMtNdw2sW19g"
      }
    },
    {
      "cell_type": "code",
      "source": [
        "# Program for score grade mechanism \n",
        "while True :\n",
        "    try:\n",
        "      score = int(input(\"please fill your score \"))\n",
        "    except ValueError:\n",
        "      print(\"Try again! Provide score without decimals.\")\n",
        "      continue\n",
        "    else:\n",
        "      if score >=90:\n",
        "        print(\"HD\")\n",
        "      elif score >=80:\n",
        "        print(\"D\")\n",
        "      elif score >=70:\n",
        "        print(\"C\")\n",
        "      elif score >=60:\n",
        "        print(\"P\")\n",
        "      elif score <60:\n",
        "        print(\"F\")\n",
        "      break\n"
      ],
      "metadata": {
        "colab": {
          "base_uri": "https://localhost:8080/"
        },
        "id": "zofZoReRW1qE",
        "outputId": "c19c5740-55c4-4436-ae67-9cc201ec6a10"
      },
      "execution_count": 3,
      "outputs": [
        {
          "output_type": "stream",
          "name": "stdout",
          "text": [
            "please fill your score 65\n",
            "P\n"
          ]
        }
      ]
    },
    {
      "cell_type": "markdown",
      "source": [
        "Answer 1.4"
      ],
      "metadata": {
        "id": "CHAFxaverOTG"
      }
    },
    {
      "cell_type": "code",
      "source": [
        "# Ask is to print a triangle pattern which has increasing and decreasing colums\n",
        "#such that the number of rows is 9. The given figure shows max column = 5, hence\n",
        "# taking num = 5\n",
        "\n",
        "num = 5\n",
        "\n",
        "row = 1\n",
        "# outter while loop for assigning number of columns when number of rows is less\n",
        "# than or equal to num.\n",
        "while row <= num :\n",
        "    col = 1\n",
        "    # inner while loop for printing stars\n",
        "    while col <= row:\n",
        "        print(\"*\", end = \"\")\n",
        "        col += 1 # columns incrementor\n",
        "    print()\n",
        "    row += 1 # row incrementor\n",
        "# outter while loop for assigning number of columns when number of rows is\n",
        "# greater than or equal to num.\n",
        "while row >= num:\n",
        "  #introducing a break statement to terminate while loop when columns = 0\n",
        "    if col ==0:\n",
        "        break\n",
        "    # assigning a value to column such that it decrease per increase in row\n",
        "    col = 2*num-row\n",
        "    while col > 0:\n",
        "        print(\"*\"*col, end =\"\")\n",
        "        print() # adding print () before the coulum decrementor to get new line\n",
        "        # per iteration\n",
        "        col -=1 # column decrementor"
      ],
      "metadata": {
        "colab": {
          "base_uri": "https://localhost:8080/"
        },
        "id": "SotK6ye5c8FE",
        "outputId": "00642382-e1db-4c11-f74e-e3b72da9a0f9"
      },
      "execution_count": 4,
      "outputs": [
        {
          "output_type": "stream",
          "name": "stdout",
          "text": [
            "*\n",
            "**\n",
            "***\n",
            "****\n",
            "*****\n",
            "****\n",
            "***\n",
            "**\n",
            "*\n"
          ]
        }
      ]
    },
    {
      "cell_type": "markdown",
      "source": [
        "Answer 1.5"
      ],
      "metadata": {
        "id": "RmFJ_Vs3hNip"
      }
    },
    {
      "cell_type": "code",
      "source": [
        "test = \"aAsmr3idd4bgs7Dlsf9eAF\"\n",
        "# creating a variable to collect the numbers from the string\n",
        "digit = \"\"\n",
        "# for statement to check if each the charachter is a digit and adding it in digit variable\n",
        "for i in test:\n",
        "  if i in \"0123456789\":\n",
        "    digit+=i\n",
        "print (digit)\n",
        "\n"
      ],
      "metadata": {
        "colab": {
          "base_uri": "https://localhost:8080/"
        },
        "id": "veSnBMAwhPt4",
        "outputId": "be0da12d-524f-43f6-ea3a-96bfea6db780"
      },
      "execution_count": 5,
      "outputs": [
        {
          "output_type": "stream",
          "name": "stdout",
          "text": [
            "3479\n"
          ]
        }
      ]
    },
    {
      "cell_type": "markdown",
      "source": [
        "Answer 1.6"
      ],
      "metadata": {
        "id": "FGmatJe6kchs"
      }
    },
    {
      "cell_type": "code",
      "source": [
        "# Defining a function to iterate through the string and identify the position of word hello in the string\n",
        "def find_all(i_str, sub):\n",
        "    start = 0\n",
        "    while True:\n",
        "        start = i_str.find(sub, start)\n",
        "        if start == -1: \n",
        "          return\n",
        "        yield start\n",
        "        start += len(sub) # to iterate throug the string\n",
        "\n",
        "list(find_all(\"helloworldhelloPythonhelloc++hellojava\", \"hello\")) # [0, 5, 10, 15]"
      ],
      "metadata": {
        "colab": {
          "base_uri": "https://localhost:8080/"
        },
        "id": "cdlI_dllkepe",
        "outputId": "cf849bfa-b400-4c11-962f-ccda91fff232"
      },
      "execution_count": 6,
      "outputs": [
        {
          "output_type": "execute_result",
          "data": {
            "text/plain": [
              "[0, 10, 21, 29]"
            ]
          },
          "metadata": {},
          "execution_count": 6
        }
      ]
    },
    {
      "cell_type": "markdown",
      "source": [
        "Answer 1.7"
      ],
      "metadata": {
        "id": "neKySbCjnkvn"
      }
    },
    {
      "cell_type": "code",
      "source": [
        "#First ask is to create class Person with two variables name and age and\n",
        "#2 methods Get_age and Set_age \n",
        "class Person:\n",
        "  def __init__(self, name, age):\n",
        "    self.name = name\n",
        "    self.age = age\n",
        "\n",
        "# one of the asks is to output object of the class. Printing the object within\n",
        "#the class can be acheived by either using __repr__ function commented here;\n",
        "  #def __repr__(self): \n",
        "    #return \"name: %s, age: %s\" %(self.name, self.age)\n",
        "# OR by defining a string function like__str__. Both approaches supress the \n",
        "#default output __main__.Person object at \" memory location\"\n",
        "\n",
        "# Using the string function for returning the object of class with its values\n",
        "  def __str__(self): \n",
        "    return \"name: %s, age: %s\" %(self.name, self.age)\n",
        "\n",
        "# Second ask is to creat 2 methods for class Persons Get_age and Set_age\n",
        "\n",
        "# Creating Get_age method\n",
        "  def Get_age(self):\n",
        "    return(\"age: %s\" %(self.age)) # Use return fucntion instead of print to \n",
        "    #avoid getting extra None output. \n",
        "\n",
        "# creating Set_age method\n",
        "  def Set_age(self, age):\n",
        "    self.age = age\n",
        "\n",
        "# ***** At this stage the Class Person with two variables name and age and \n",
        "#2 methods Get_age and Set_age are created now *****#\n",
        "\n",
        "# Next ask is to creat an object daniel with Name = Daniel and Age = 50  \n",
        "daniel = Person(\"Daniel\", 50)\n",
        "\n",
        "# Using Print function to print the object daniel\n",
        "print(daniel)\n",
        "\n",
        "# Setting age of Daniel as 60\n",
        "daniel.Set_age(60)\n",
        "\n",
        "# Print age of Daniel to see the updated age\n",
        "print(daniel.Get_age())\n",
        "\n",
        "# Using Print function to print the object daniel to see the updated record\n",
        "print(daniel)"
      ],
      "metadata": {
        "colab": {
          "base_uri": "https://localhost:8080/"
        },
        "id": "p-h2-08_NNUh",
        "outputId": "b269bde0-ba81-4365-cd6b-3be40438c46f"
      },
      "execution_count": 8,
      "outputs": [
        {
          "output_type": "stream",
          "name": "stdout",
          "text": [
            "name: Daniel, age: 50\n",
            "age: 60\n",
            "name: Daniel, age: 60\n"
          ]
        }
      ]
    },
    {
      "cell_type": "markdown",
      "source": [
        "Answer 1.8"
      ],
      "metadata": {
        "id": "W7hixrWYgIZ1"
      }
    },
    {
      "cell_type": "code",
      "source": [
        "# The ask is, given the array nums with integers, return all possible permutations of the array. The ask is also to validate if the integers in nums are unique\n",
        "\n",
        "#Function to validate the integers are unique\n",
        "\n",
        "def unique(nums):\n",
        "  # Validating if the nums are unique\n",
        "  flag = 0\n",
        "  \n",
        "# using set() + len() to check all unique list elements\n",
        "  flag = len(set(nums)) == len(nums)\n",
        "\n",
        "# printing result\n",
        "  if(flag) :\n",
        "    print (\"List contains all unique elements.\")\n",
        "  else : \n",
        "    print (\"List contains does not contains all unique elements.\")\n",
        "\n",
        "# Function to find the possible permutations\n",
        "def permutations(res, nums, l, h) :\n",
        "\t\n",
        "\t# Base case\n",
        "\t# Add the vector to result and return\n",
        "\tif (l == h) :\n",
        "\t\tres.append(nums);\n",
        "\t\tfor i in range(len(nums)):\n",
        "\t\t\tprint(nums[i], end=' ');\n",
        "\n",
        "\t\tprint('')\n",
        "\t\treturn;\n",
        "\n",
        "\t# Permutations made\n",
        "\tfor i in range(l, h + 1):\n",
        "\t\t\n",
        "\t\t# Swapping\n",
        "\t\ttemp = nums[l];\n",
        "\t\tnums[l] = nums[i];\n",
        "\t\tnums[i] = temp;\n",
        "\n",
        "\t\t# Calling permutations for\n",
        "\t\t# next greater value of l\n",
        "\t\tpermutations(res, nums, l + 1, h);\n",
        "\n",
        "\t\t# Backtracking\n",
        "\t\ttemp = nums[l];\n",
        "\t\tnums[l] = nums[i];\n",
        "\t\tnums[i] = temp;\n",
        "\n",
        "# Function to get the permutations\n",
        "def permute(nums):\n",
        "\t\n",
        "\t# Declaring result variable\n",
        "\tx = len(nums) - 1;\n",
        "\tres = [];\n",
        "\t\n",
        "\t# Calling permutations for the first time by passing l as 0 and \n",
        "  #h = nums.size()-1\n",
        "\tpermutations(res, nums, 0, x);\n",
        "\treturn res;\n",
        "\n",
        "# First input nums [1,2,3]\n",
        "nums = [1,2,3];\n",
        "unique(nums)\n",
        "\n",
        "res = print((permute(nums)));\n",
        "\n",
        "# Second input nums[1]\n",
        "nums =[1]\n",
        "unique(nums)\n",
        "res = print((permute(nums)))"
      ],
      "metadata": {
        "colab": {
          "base_uri": "https://localhost:8080/"
        },
        "id": "45-3UW-MgKWx",
        "outputId": "ae8c0660-554d-4671-fb4a-1b8b332fd957"
      },
      "execution_count": 9,
      "outputs": [
        {
          "output_type": "stream",
          "name": "stdout",
          "text": [
            "List contains all unique elements.\n",
            "1 2 3 \n",
            "1 3 2 \n",
            "2 1 3 \n",
            "2 3 1 \n",
            "3 2 1 \n",
            "3 1 2 \n",
            "[[1, 2, 3], [1, 2, 3], [1, 2, 3], [1, 2, 3], [1, 2, 3], [1, 2, 3]]\n",
            "List contains all unique elements.\n",
            "1 \n",
            "[[1]]\n"
          ]
        }
      ]
    },
    {
      "cell_type": "markdown",
      "source": [
        "# **Part 2**"
      ],
      "metadata": {
        "id": "j6rSTghjhYnm"
      }
    },
    {
      "cell_type": "markdown",
      "source": [
        "## **Which version of Question 2 for you?**"
      ],
      "metadata": {
        "id": "iaWne3Y14weQ"
      }
    },
    {
      "cell_type": "code",
      "source": [
        "def sum_digit(n):\n",
        "  r=0\n",
        "  while n:\n",
        "    r, n = r + n % 10, n//10\n",
        "  return r\n",
        "def check_studentid (studentid):\n",
        "    x = sum_digit(studentid)\n",
        "    if x%2 == 0:\n",
        "      print (\"Version I\")\n",
        "    else:\n",
        "      print (\"Version II\")\n",
        "\n",
        "check_studentid (223014373)\n",
        "\n"
      ],
      "metadata": {
        "colab": {
          "base_uri": "https://localhost:8080/"
        },
        "id": "0uINGEQM1Iln",
        "outputId": "0748aa2f-833d-42f2-f091-09f8d5961d48"
      },
      "execution_count": 96,
      "outputs": [
        {
          "output_type": "stream",
          "name": "stdout",
          "text": [
            "Version II\n"
          ]
        }
      ]
    },
    {
      "cell_type": "markdown",
      "source": [
        "# **Hill climb on linear regression**"
      ],
      "metadata": {
        "id": "n7zOxI5J7vjd"
      }
    },
    {
      "cell_type": "markdown",
      "source": [
        "**Importing libraries**"
      ],
      "metadata": {
        "id": "dmhW5Y_8jhIE"
      }
    },
    {
      "cell_type": "code",
      "source": [
        "# importing the libraries required\n",
        "\n",
        "import numpy as np\n",
        "import pandas as pd\n",
        "import matplotlib.pyplot as plt\n",
        "import seaborn as sns\n",
        "%matplotlib inline\n",
        "from random import random, randint\n",
        "from random import seed\n",
        "from random import normalvariate "
      ],
      "metadata": {
        "id": "EXW-X7XN7pqU"
      },
      "execution_count": 101,
      "outputs": []
    },
    {
      "cell_type": "markdown",
      "source": [
        "**Creating data**"
      ],
      "metadata": {
        "id": "qamup748jo3m"
      }
    },
    {
      "cell_type": "code",
      "source": [
        "# Creating the data for the assignment to fit the regression line to the data\n",
        "X = np.linspace(0, 3, 30)\n",
        "Y = 2.5 * np.linspace (0, 3, 30) + np.random.rand(30)\n",
        "fig, ax = plt.subplots()\n",
        "ax.set_title(\"Regression line to fit\")\n",
        "ax.set_ylabel (\"Y\")\n",
        "ax.set_xlabel (\"X\")\n",
        "ax.plot (X, Y, label = \"line to fit\")\n",
        "ax.legend ()\n",
        "plt.show"
      ],
      "metadata": {
        "colab": {
          "base_uri": "https://localhost:8080/",
          "height": 313
        },
        "id": "KgguSU-a8d20",
        "outputId": "b5cdf621-f5fc-4904-9c00-3b7050c83005"
      },
      "execution_count": 102,
      "outputs": [
        {
          "output_type": "execute_result",
          "data": {
            "text/plain": [
              "<function matplotlib.pyplot.show(*args, **kw)>"
            ]
          },
          "metadata": {},
          "execution_count": 102
        },
        {
          "output_type": "display_data",
          "data": {
            "text/plain": [
              "<Figure size 432x288 with 1 Axes>"
            ],
            "image/png": "[encoded data removed]"
          },
          "metadata": {
            "needs_background": "light"
          }
        }
      ]
    },
    {
      "cell_type": "markdown",
      "source": [
        "# **Answer 2.1**"
      ],
      "metadata": {
        "id": "bRSfIkZidaC5"
      }
    },
    {
      "cell_type": "code",
      "source": [
        "# Ask is to define a function \"find_error (a, X, Y)\" that calculates RMSE \n",
        "def find_error(a, X, Y):\n",
        "  import math # for getting squareroot function\n",
        "  RMSE = math.sqrt(np.square(np.subtract(Y, a*X)).mean()) # \n",
        "  print(\"The RMSE is %s\" % round(float(RMSE),4))"
      ],
      "metadata": {
        "id": "IAp3_fiXRaAm"
      },
      "execution_count": 99,
      "outputs": []
    },
    {
      "cell_type": "code",
      "source": [
        "#finding the Root Mean Square Error (RMSE) for random value of coefficient \"a\"\n",
        "seed = (100)\n",
        "a= randint(0,5)\n",
        "print(\"The random value assigned to coefficient 'a' is %d\" % (a))\n",
        "find_error(a, X, Y)"
      ],
      "metadata": {
        "colab": {
          "base_uri": "https://localhost:8080/"
        },
        "id": "IR2lxtb7Yeaq",
        "outputId": "05c0d30d-c878-47ed-bb32-87b3f11c6b7d"
      },
      "execution_count": 100,
      "outputs": [
        {
          "output_type": "stream",
          "name": "stdout",
          "text": [
            "The random value assigned to coefficient 'a' is 4\n",
            "The RMSE is 2.2472\n"
          ]
        }
      ]
    },
    {
      "cell_type": "markdown",
      "source": [
        "# **Answer 2.2**"
      ],
      "metadata": {
        "id": "_obK6Nbke0et"
      }
    },
    {
      "cell_type": "code",
      "source": [
        "#The ask is to define a function fit_regression (n, X, Y) to find an optimal \n",
        "#coefficient a.\n",
        "def fit_regression(n, X, Y):\n",
        "  \n",
        "  for i in range(0, n):\n",
        "      #Perform hill climbing per the steps given\n",
        "\n",
        "      # initializing first value of a as a random float value           \n",
        "      a = float(random())\n",
        "\n",
        "      # creating yfit from X by multiplying each element in X by a\n",
        "      yfit = [element * a for element in X]\n",
        "      # Calculating the error by subtracting items in yfit from Y. Important to \n",
        "      # consider if the errors are positive or negative.\n",
        "      error = []\n",
        "      for item1, item2 in zip(Y, yfit):\n",
        "          error.append(item1-item2)\n",
        "      \n",
        "      # Adjusting the value of a for getting new yfit\n",
        "      a_adjust =a+normalvariate(0,1)\n",
        "      yfit = [element * a_adjust for element in X]\n",
        "      \n",
        "      # Calculating new error\n",
        "      error_new = []\n",
        "      for item1, item2 in zip(Y, yfit):\n",
        "          error_new.append(item1-item2)\n",
        "      if error_new < error:\n",
        "        a = a_adjust\n",
        "        error = error_new\n",
        "        return(a)    "
      ],
      "metadata": {
        "id": "wR2DUjN0JaJv"
      },
      "execution_count": 5,
      "outputs": []
    },
    {
      "cell_type": "code",
      "source": [
        "# using the fit_regression function to find optimal a.\n",
        "# the plot is used to check the most optimal value.\n",
        "n = 50000\n",
        "a = fit_regression(n,X,Y)\n",
        "print (a)\n",
        "fig, ax = plt.subplots()\n",
        "ax.set_title = (\"Regression line to fit\")\n",
        "ax.set_ylabel = (\"Y\")\n",
        "ax.set_xlabel = (\"X\")\n",
        "ax.plot (X, Y, label= \"line  to fit\")\n",
        "ax.plot (X, a * X, label = \"fitted line\")\n",
        "ax.legend()\n",
        "plt.show"
      ],
      "metadata": {
        "colab": {
          "base_uri": "https://localhost:8080/",
          "height": 302
        },
        "id": "qi3xIHh-XkcC",
        "outputId": "9523bc77-da94-4430-d80c-cc10795e4547"
      },
      "execution_count": 91,
      "outputs": [
        {
          "output_type": "stream",
          "name": "stdout",
          "text": [
            "2.7409848603278437\n"
          ]
        },
        {
          "output_type": "execute_result",
          "data": {
            "text/plain": [
              "<function matplotlib.pyplot.show(*args, **kw)>"
            ]
          },
          "metadata": {},
          "execution_count": 91
        },
        {
          "output_type": "display_data",
          "data": {
            "text/plain": [
              "<Figure size 432x288 with 1 Axes>"
            ],
            "image/png": "[encoded data removed]"
          },
          "metadata": {
            "needs_background": "light"
          }
        }
      ]
    },
    {
      "cell_type": "code",
      "source": [
        "# using the value of a directly in the plot\n",
        "#2.654927494718759, 2.6561792105828457, 2.660854451793192 , 2.8783141697127856\n",
        "a=round(a,2)\n",
        "print (a)\n",
        "fig, ax = plt.subplots()\n",
        "ax.set_title = ('Regression line to fit')\n",
        "ax.set_ylabel = ('Y')\n",
        "ax.set_xlabel = ('X')\n",
        "ax.plot (X, Y, label= 'line  to fit')\n",
        "ax.plot (X, 2.6561792105828457 * X, label = 'fitted line')\n",
        "ax.legend()\n",
        "plt.show"
      ],
      "metadata": {
        "colab": {
          "base_uri": "https://localhost:8080/",
          "height": 302
        },
        "id": "uFDaJyIfgdtn",
        "outputId": "18bba7e0-d603-47b6-b937-b49cf57577b0"
      },
      "execution_count": 44,
      "outputs": [
        {
          "output_type": "stream",
          "name": "stdout",
          "text": [
            "0.18\n"
          ]
        },
        {
          "output_type": "execute_result",
          "data": {
            "text/plain": [
              "<function matplotlib.pyplot.show(*args, **kw)>"
            ]
          },
          "metadata": {},
          "execution_count": 44
        },
        {
          "output_type": "display_data",
          "data": {
            "text/plain": [
              "<Figure size 432x288 with 1 Axes>"
            ],
            "image/png": "[encoded data removed]"
          },
          "metadata": {
            "needs_background": "light"
          }
        }
      ]
    }
  ]
}