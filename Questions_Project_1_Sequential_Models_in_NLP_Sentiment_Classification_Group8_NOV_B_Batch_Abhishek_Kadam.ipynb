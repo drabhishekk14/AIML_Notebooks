{
 "cells": [
  {
   "cell_type": "markdown",
   "metadata": {
    "colab_type": "text",
    "id": "WXaFSkUu0fzm"
   },
   "source": [
    "![alt text](https://drive.google.com/uc?export=view&id=1UXScsVx_Wni_JuDdB8LeTnM6jsPfIwkW)\n",
    "\n",
    "Proprietary content. © Great Learning. All Rights Reserved. Unauthorized use or distribution prohibited."
   ]
  },
  {
   "cell_type": "markdown",
   "metadata": {
    "colab_type": "text",
    "id": "OudB5by50jlI"
   },
   "source": [
    "# Sentiment Classification"
   ]
  },
  {
   "cell_type": "markdown",
   "metadata": {
    "colab_type": "text",
    "id": "xT7MKZuMRaCg"
   },
   "source": [
    "### Dataset\n",
    "- Dataset of 50,000 movie reviews from IMDB, labeled by sentiment positive (1) or negative (0)\n",
    "- Reviews have been preprocessed, and each review is encoded as a sequence of word indexes (integers).\n",
    "- For convenience, words are indexed by overall frequency in the dataset, so that for instance the integer \"3\" encodes the 3rd most frequent word in the data. This allows for quick filtering operations such as: \"only consider the top 10,000 most common words, but eliminate the top 20 most common words\".\n",
    "- As a convention, \"0\" does not stand for a specific word, but instead is used to encode any unknown word.\n",
    "\n",
    "Command to import data\n",
    "- `from tensorflow.keras.datasets import imdb`"
   ]
  },
  {
   "cell_type": "markdown",
   "metadata": {
    "colab_type": "text",
    "id": "Q34-Y3nRKXdO"
   },
   "source": [
    "### Import the data (2 Marks)\n",
    "- Use `imdb.load_data()` method\n",
    "- Get train and test set\n",
    "- Take 10000 most frequent words"
   ]
  },
  {
   "cell_type": "code",
   "execution_count": 1,
   "metadata": {
    "colab": {
     "base_uri": "https://localhost:8080/",
     "height": 52
    },
    "colab_type": "code",
    "id": "JxfwbrbuKbk2",
    "outputId": "94792c1c-48e7-414e-d382-20d70c4ab0e4"
   },
   "outputs": [
    {
     "name": "stdout",
     "output_type": "stream",
     "text": [
      "Downloading data from https://storage.googleapis.com/tensorflow/tf-keras-datasets/imdb.npz\n",
      "17465344/17464789 [==============================] - 0s 0us/step\n"
     ]
    }
   ],
   "source": [
    "#### Add your code here ####\n",
    "import numpy\n",
    "from tensorflow.keras.datasets import imdb\n",
    "(X_train, y_train), (X_test, y_test) = imdb.load_data(num_words=10000,skip_top=20)"
   ]
  },
  {
   "cell_type": "markdown",
   "metadata": {
    "colab_type": "text",
    "id": "DldivBO4LTbP"
   },
   "source": [
    "### Pad each sentence to be of same length (2 Marks)\n",
    "- Take maximum sequence length as 300"
   ]
  },
  {
   "cell_type": "code",
   "execution_count": 2,
   "metadata": {
    "colab": {},
    "colab_type": "code",
    "id": "E808XB4tLtic"
   },
   "outputs": [],
   "source": [
    "#### Add your code here ####\n",
    "import tensorflow.keras.preprocessing.sequence as sequence\n",
    "X_train = sequence.pad_sequences(sequences=X_train, maxlen=300,dtype= 'int32', padding='post',value=0.0)\n",
    "X_test = sequence.pad_sequences(sequences =X_test, maxlen=300,dtype= 'int32', padding='post',value=0.0)\n"
   ]
  },
  {
   "cell_type": "markdown",
   "metadata": {
    "colab_type": "text",
    "id": "qOcyRtZfMYZd"
   },
   "source": [
    "Number of review, number of words in each review"
   ]
  },
  {
   "cell_type": "code",
   "execution_count": 3,
   "metadata": {
    "colab": {
     "base_uri": "https://localhost:8080/",
     "height": 52
    },
    "colab_type": "code",
    "id": "hdMCUPr7RaCm",
    "outputId": "88f07ee0-2f1c-4233-b6b4-3c2d607717ff"
   },
   "outputs": [
    {
     "name": "stdout",
     "output_type": "stream",
     "text": [
      "X_train (25000, 300)\n",
      "X_test (25000, 300)\n"
     ]
    }
   ],
   "source": [
    "#### Number of review ####\n",
    "\n",
    "print(\"X_train\", X_train.shape)\n",
    "print(\"X_test\", X_test.shape)\n"
   ]
  },
  {
   "cell_type": "code",
   "execution_count": 4,
   "metadata": {
    "colab": {
     "base_uri": "https://localhost:8080/",
     "height": 52
    },
    "colab_type": "code",
    "id": "eGVHeKOWyJiG",
    "outputId": "f95d33b9-b3b7-47b9-c1e0-7101aea58dbb"
   },
   "outputs": [
    {
     "name": "stdout",
     "output_type": "stream",
     "text": [
      "Review length: \n",
      "Mean 300.00 words\n"
     ]
    }
   ],
   "source": [
    "#### number of words in each review ####\n",
    "print(\"Review length: \")\n",
    "result = [len(x) for x in X_train]\n",
    "print(\"Mean %.2f words\" % (numpy.mean(result)))"
   ]
  },
  {
   "cell_type": "markdown",
   "metadata": {
    "colab_type": "text",
    "id": "5cNk5sDvMr3j"
   },
   "source": [
    "Number of labels"
   ]
  },
  {
   "cell_type": "code",
   "execution_count": 5,
   "metadata": {
    "colab": {
     "base_uri": "https://localhost:8080/",
     "height": 35
    },
    "colab_type": "code",
    "id": "6Z00-mYgMoKv",
    "outputId": "8b64c031-2931-41b8-8e9c-0899dd7b4f10"
   },
   "outputs": [
    {
     "name": "stdout",
     "output_type": "stream",
     "text": [
      "y_train  (25000,)\n"
     ]
    }
   ],
   "source": [
    "#### Number of labels ####\n",
    "print(\"y_train \", y_train.shape)"
   ]
  },
  {
   "cell_type": "markdown",
   "metadata": {
    "colab_type": "text",
    "id": "NdXPWuOmNEbh"
   },
   "source": [
    "### Print value of any one feature and it's label (2 Marks)"
   ]
  },
  {
   "cell_type": "markdown",
   "metadata": {
    "colab_type": "text",
    "id": "MGLEdeFmNZfR"
   },
   "source": [
    "Feature value"
   ]
  },
  {
   "cell_type": "code",
   "execution_count": 6,
   "metadata": {
    "colab": {
     "base_uri": "https://localhost:8080/",
     "height": 399
    },
    "colab_type": "code",
    "id": "RKFyMa28zztL",
    "outputId": "9824b9a7-afc9-4384-b4c4-d30816f59bc6"
   },
   "outputs": [
    {
     "name": "stdout",
     "output_type": "stream",
     "text": [
      "[   2 4658  590 2999    2    2  530 2133    2    2    2   86  298  761\n",
      " 1199    2 4505    2 4714    2 9075    2 1990   41 4505    2    2    2\n",
      "   35 1122    2    2    2   59 1040    2  883    2 9074   63    2    2\n",
      "  333   31  103   41   86  667 2924 1933    2 1263 1933    2 9645    2\n",
      "   41  454    2 4714    2  777  725   41    2 2868    2    2   59 1199\n",
      "    2    2    2 4505    2 4714   23   41 5646  667    2   52  703   63\n",
      "   93    2  530    2   23    2  113    2 1619    2    2 9614    2   27\n",
      "  322 1604 2946    2   68 2048    2  393    2    2    2  254 9775    2\n",
      "   68  703    2 2101    2   68  194 3200   34   68 5202    2    2  723\n",
      " 8721 4102    2    2  217    2 1619    2    2   29 2848  309    2    2\n",
      "  217  725   27    2    2 1619   84    2 2614 3698    2   68  513    2\n",
      "   30 1619  618    2    2  147    2  283    2    2    2    2 4102    2\n",
      "   41  217    2 1604 2946   34    2  530 2314    2   59 1199   35 1809\n",
      " 8169    2    2  118  524    2    2    0    0    0    0    0    0    0\n",
      "    0    0    0    0    0    0    0    0    0    0    0    0    0    0\n",
      "    0    0    0    0    0    0    0    0    0    0    0    0    0    0\n",
      "    0    0    0    0    0    0    0    0    0    0    0    0    0    0\n",
      "    0    0    0    0    0    0    0    0    0    0    0    0    0    0\n",
      "    0    0    0    0    0    0    0    0    0    0    0    0    0    0\n",
      "    0    0    0    0    0    0    0    0    0    0    0    0    0    0\n",
      "    0    0    0    0    0    0    0    0    0    0    0    0    0    0\n",
      "    0    0    0    0    0    0]\n"
     ]
    }
   ],
   "source": [
    "#### Add your code here ####\n",
    "print(X_train[(23245)])"
   ]
  },
  {
   "cell_type": "markdown",
   "metadata": {
    "colab_type": "text",
    "id": "h_85Hqm0Nb1I"
   },
   "source": [
    "Label value"
   ]
  },
  {
   "cell_type": "code",
   "execution_count": 7,
   "metadata": {
    "colab": {
     "base_uri": "https://localhost:8080/",
     "height": 35
    },
    "colab_type": "code",
    "id": "-FoehB5jNd1g",
    "outputId": "0f3792bf-bde3-41da-aded-a445c8e1a49e"
   },
   "outputs": [
    {
     "name": "stdout",
     "output_type": "stream",
     "text": [
      "1\n"
     ]
    }
   ],
   "source": [
    "#### Add your code here ####\n",
    "print(y_train[(23245)])"
   ]
  },
  {
   "cell_type": "markdown",
   "metadata": {
    "colab_type": "text",
    "id": "0cof4LSxNxuv"
   },
   "source": [
    "### Decode the feature value to get original sentence (2 Marks)"
   ]
  },
  {
   "cell_type": "markdown",
   "metadata": {
    "colab_type": "text",
    "id": "Q_oiAyPZOkJD"
   },
   "source": [
    "First, retrieve a dictionary that contains mapping of words to their index in the IMDB dataset"
   ]
  },
  {
   "cell_type": "code",
   "execution_count": 8,
   "metadata": {
    "colab": {
     "base_uri": "https://localhost:8080/",
     "height": 52
    },
    "colab_type": "code",
    "id": "Clsk-yK8OtzD",
    "outputId": "1c85072a-31c3-470c-d371-20523aef42b9"
   },
   "outputs": [
    {
     "name": "stdout",
     "output_type": "stream",
     "text": [
      "Downloading data from https://storage.googleapis.com/tensorflow/tf-keras-datasets/imdb_word_index.json\n",
      "1646592/1641221 [==============================] - 0s 0us/step\n"
     ]
    }
   ],
   "source": [
    "#### Add your code here ####\n",
    "word_index = imdb.get_word_index()\n"
   ]
  },
  {
   "cell_type": "markdown",
   "metadata": {
    "colab_type": "text",
    "id": "NRgOD5S2Uuvd"
   },
   "source": [
    "Now use the dictionary to get the original words from the encodings, for a particular sentence"
   ]
  },
  {
   "cell_type": "code",
   "execution_count": 9,
   "metadata": {
    "colab": {
     "base_uri": "https://localhost:8080/",
     "height": 55
    },
    "colab_type": "code",
    "id": "zJ504QDORwxj",
    "outputId": "49ddb660-2150-48ff-c75a-408f46ddfc29"
   },
   "outputs": [
    {
     "name": "stdout",
     "output_type": "stream",
     "text": [
      "0 together 0 edge to match routine we flashback like think 0 with 0 0 get post him 0 was them 0 0 off 0 after i've your on without features or 0 0 0 table some version lines 0 are only has reminds even 0 0 in 0 unique 0 are well there short great 0 0 0 0 0 0 0 0 0 0 0 0 0 0 0 0 0 0 0 0 0 0 0 0 0 0 0 0 0 0 0 0 0 0 0 0 0 0 0 0 0 0 0 0 0 0 0 0 0 0 0 0 0 0 0 0 0 0 0 0 0 0 0 0 0 0 0 0 0 0 0 0 0 0 0 0 0 0 0 0 0 0 0 0 0 0 0 0 0 0 0 0 0 0 0 0 0 0 0 0 0 0 0 0 0 0 0 0 0 0 0 0 0 0 0 0 0 0 0 0 0 0 0 0 0 0 0 0 0 0 0 0 0 0 0 0 0 0 0 0 0 0 0 0 0 0 0 0 0 0 0 0 0 0 0 0 0 0 0 0 0 0 0 0 0 0 0 0 0 0 0 0 0 0 0 0 0 0 0 0 0 0 0 0 0 0 0 0 0 0 0 0 0 0 0 0 0 0 0 0 0 0 0 0 0 0 0 0 0 0 0 0 0 0 0 0 0 0 0 0 0 0 0 0 0 0 0 0 0 0 0 0 0 0 0 0 0 0 0 0 0 0 0 0\n"
     ]
    }
   ],
   "source": [
    "#### Add your code here ####\n",
    "reverse_word_index = dict([(value, key) for (key, value) in word_index.items()])\n",
    "decoded_review = ' '.join([reverse_word_index.get(i - 15, '0') for i in X_train[123]])\n",
    "\n",
    "print(decoded_review)"
   ]
  },
  {
   "cell_type": "markdown",
   "metadata": {
    "colab_type": "text",
    "id": "WLGABrJoVZe6"
   },
   "source": [
    "Get the sentiment for the above sentence\n",
    "- positive (1)\n",
    "- negative (0)"
   ]
  },
  {
   "cell_type": "code",
   "execution_count": 10,
   "metadata": {
    "colab": {
     "base_uri": "https://localhost:8080/",
     "height": 35
    },
    "colab_type": "code",
    "id": "XDyQGJT0Ve-a",
    "outputId": "b0062be6-ad25-4322-edd0-b5bba66b871c"
   },
   "outputs": [
    {
     "name": "stdout",
     "output_type": "stream",
     "text": [
      "0\n"
     ]
    }
   ],
   "source": [
    "#### Add your code here ####\n",
    "print(y_train[(15)])"
   ]
  },
  {
   "cell_type": "markdown",
   "metadata": {
    "colab_type": "text",
    "id": "BmCjr8miXIWB"
   },
   "source": [
    "### Define model (10 Marks)\n",
    "- Define a Sequential Model\n",
    "- Add Embedding layer\n",
    "  - Embedding layer turns positive integers into dense vectors of fixed size\n",
    "  - `tensorflow.keras` embedding layer doesn't require us to onehot encode our words, instead we have to give each word a unique integer number as an id. For the imdb dataset we've loaded this has already been done, but if this wasn't the case we could use sklearn LabelEncoder.\n",
    "  - Size of the vocabulary will be 10000\n",
    "  - Give dimension of the dense embedding as 100\n",
    "  - Length of input sequences should be 300\n",
    "- Add LSTM layer\n",
    "  - Pass value in `return_sequences` as True\n",
    "- Add a `TimeDistributed` layer with 100 Dense neurons\n",
    "- Add Flatten layer\n",
    "- Add Dense layer"
   ]
  },
  {
   "cell_type": "code",
   "execution_count": 11,
   "metadata": {
    "colab": {
     "base_uri": "https://localhost:8080/",
     "height": 55
    },
    "colab_type": "code",
    "id": "Np5GxT1caFEq",
    "outputId": "d842f833-44a5-4b68-f888-e4d4e839c0e1"
   },
   "outputs": [
    {
     "name": "stdout",
     "output_type": "stream",
     "text": [
      "WARNING:tensorflow:Layer lstm will not use cuDNN kernel since it doesn't meet the cuDNN kernel criteria. It will use generic GPU kernel as fallback when running on GPU\n"
     ]
    }
   ],
   "source": [
    "#### Model ####\n",
    "from tensorflow.keras.models import Sequential\n",
    "from tensorflow.keras.layers import Dense, Embedding, LSTM, Flatten, TimeDistributed\n",
    "model = Sequential()\n",
    "model.add(Embedding(10000,100,input_length = 300))\n",
    "model.add(LSTM(units = 150, dropout=0.2, recurrent_dropout=0.2,return_sequences = True))\n",
    "model.add(TimeDistributed(Dense(100)))\n",
    "model.add(Flatten())\n",
    "model.add(Dense(10,activation = 'relu'))\n",
    "model.add(Dense(5, activation = 'relu'))\n",
    "model.add(Dense(1,activation = 'sigmoid'))\n"
   ]
  },
  {
   "cell_type": "markdown",
   "metadata": {
    "colab_type": "text",
    "id": "Hc4bknOobDby"
   },
   "source": [
    "### Compile the model (2 Marks)\n",
    "- Use Optimizer as Adam\n",
    "- Use Binary Crossentropy as loss\n",
    "- Use Accuracy as metrics"
   ]
  },
  {
   "cell_type": "code",
   "execution_count": 12,
   "metadata": {
    "colab": {},
    "colab_type": "code",
    "id": "jw4RJ0CQbwFY"
   },
   "outputs": [],
   "source": [
    "#### Add your code here ####\n",
    "model.compile(loss = 'binary_crossentropy', optimizer='adam',metrics = ['accuracy'])"
   ]
  },
  {
   "cell_type": "markdown",
   "metadata": {
    "colab_type": "text",
    "id": "8sEzwazqbz3T"
   },
   "source": [
    "### Print model summary (2 Marks)"
   ]
  },
  {
   "cell_type": "code",
   "execution_count": 13,
   "metadata": {
    "colab": {
     "base_uri": "https://localhost:8080/",
     "height": 416
    },
    "colab_type": "code",
    "id": "6Hx1yxwlb2Ue",
    "outputId": "114b0f0a-0336-4f65-d156-4228fc5abe45"
   },
   "outputs": [
    {
     "name": "stdout",
     "output_type": "stream",
     "text": [
      "Model: \"sequential\"\n",
      "_________________________________________________________________\n",
      "Layer (type)                 Output Shape              Param #   \n",
      "=================================================================\n",
      "embedding (Embedding)        (None, 300, 100)          1000000   \n",
      "_________________________________________________________________\n",
      "lstm (LSTM)                  (None, 300, 150)          150600    \n",
      "_________________________________________________________________\n",
      "time_distributed (TimeDistri (None, 300, 100)          15100     \n",
      "_________________________________________________________________\n",
      "flatten (Flatten)            (None, 30000)             0         \n",
      "_________________________________________________________________\n",
      "dense_1 (Dense)              (None, 10)                300010    \n",
      "_________________________________________________________________\n",
      "dense_2 (Dense)              (None, 5)                 55        \n",
      "_________________________________________________________________\n",
      "dense_3 (Dense)              (None, 1)                 6         \n",
      "=================================================================\n",
      "Total params: 1,465,771\n",
      "Trainable params: 1,465,771\n",
      "Non-trainable params: 0\n",
      "_________________________________________________________________\n",
      "None\n"
     ]
    }
   ],
   "source": [
    "#### Add your code here ####\n",
    "print(model.summary())"
   ]
  },
  {
   "cell_type": "markdown",
   "metadata": {
    "colab_type": "text",
    "id": "bmkolKP4b-U6"
   },
   "source": [
    "### Fit the model (2 Marks)"
   ]
  },
  {
   "cell_type": "code",
   "execution_count": 14,
   "metadata": {
    "colab": {
     "base_uri": "https://localhost:8080/",
     "height": 381
    },
    "colab_type": "code",
    "id": "vRg3KFXLcAkk",
    "outputId": "45dfe706-6bfd-4bea-93a4-ffab0b9e027b"
   },
   "outputs": [
    {
     "name": "stdout",
     "output_type": "stream",
     "text": [
      "Epoch 1/10\n",
      "200/200 - 92s - loss: 0.4385 - accuracy: 0.7756\n",
      "Epoch 2/10\n",
      "200/200 - 88s - loss: 0.2249 - accuracy: 0.9124\n",
      "Epoch 3/10\n",
      "200/200 - 87s - loss: 0.1704 - accuracy: 0.9369\n",
      "Epoch 4/10\n",
      "200/200 - 88s - loss: 0.1372 - accuracy: 0.9510\n",
      "Epoch 5/10\n",
      "200/200 - 88s - loss: 0.1010 - accuracy: 0.9644\n",
      "Epoch 6/10\n",
      "200/200 - 88s - loss: 0.0698 - accuracy: 0.9758\n",
      "Epoch 7/10\n",
      "200/200 - 88s - loss: 0.0493 - accuracy: 0.9828\n",
      "Epoch 8/10\n",
      "200/200 - 87s - loss: 0.0379 - accuracy: 0.9873\n",
      "Epoch 9/10\n",
      "200/200 - 87s - loss: 0.0266 - accuracy: 0.9910\n",
      "Epoch 10/10\n",
      "200/200 - 88s - loss: 0.0251 - accuracy: 0.9912\n"
     ]
    },
    {
     "data": {
      "text/plain": [
       "<tensorflow.python.keras.callbacks.History at 0x7f46d0585fd0>"
      ]
     },
     "execution_count": 14,
     "metadata": {
      "tags": []
     },
     "output_type": "execute_result"
    }
   ],
   "source": [
    "#### Add your code here ####\n",
    "batch_size = 125\n",
    "model.fit(X_train, y_train, epochs = 10, batch_size=batch_size, verbose = 2)"
   ]
  },
  {
   "cell_type": "markdown",
   "metadata": {
    "colab_type": "text",
    "id": "bwLl54MXnkEA"
   },
   "source": [
    "### Evaluate model (2 Marks)"
   ]
  },
  {
   "cell_type": "code",
   "execution_count": 15,
   "metadata": {
    "colab": {
     "base_uri": "https://localhost:8080/",
     "height": 69
    },
    "colab_type": "code",
    "id": "EUqY-bD8RaDR",
    "outputId": "4136da37-75ff-4b3d-95aa-4fcb34ba9256"
   },
   "outputs": [
    {
     "name": "stdout",
     "output_type": "stream",
     "text": [
      "200/200 - 14s - loss: 0.7657 - accuracy: 0.8532\n",
      "score: 0.77\n",
      "acc: 0.85\n"
     ]
    }
   ],
   "source": [
    "#### Add your code here ####\n",
    "score,acc = model.evaluate(X_test, y_test, verbose = 2, batch_size = batch_size)\n",
    "print(\"score: %.2f\" % (score))\n",
    "print(\"acc: %.2f\" % (acc))"
   ]
  },
  {
   "cell_type": "markdown",
   "metadata": {
    "colab_type": "text",
    "id": "h2amr1tJn9Jz"
   },
   "source": [
    "### Predict on one sample (2 Marks)"
   ]
  },
  {
   "cell_type": "code",
   "execution_count": 37,
   "metadata": {
    "colab": {
     "base_uri": "https://localhost:8080/",
     "height": 52
    },
    "colab_type": "code",
    "id": "pdbXlqq17W6a",
    "outputId": "fac20b2a-e3b4-4e05-bf93-a1199fa933b9"
   },
   "outputs": [
    {
     "name": "stdout",
     "output_type": "stream",
     "text": [
      "positive\n"
     ]
    },
    {
     "data": {
      "text/plain": [
       "array([[0.9987753]], dtype=float32)"
      ]
     },
     "execution_count": 37,
     "metadata": {
      "tags": []
     },
     "output_type": "execute_result"
    }
   ],
   "source": [
    "#### Add your code here ####\n",
    "sentiment = model.predict(X_test[1500].reshape((1, 300)))\n",
    "\n",
    "if(sentiment < 0.5):\n",
    "    print(\"negative\")\n",
    "elif (sentiment > 0.5):\n",
    "    print(\"positive\")\n",
    "\n",
    "sentiment"
   ]
  }
 ],
 "metadata": {
  "accelerator": "GPU",
  "colab": {
   "collapsed_sections": [],
   "name": "Questions - Project 1 - Sequential Models in NLP - Sentiment Classification_Group8_NOV_B_Batch_Abhishek_Kadam.ipynb",
   "provenance": []
  },
  "kernelspec": {
   "display_name": "Python 3",
   "language": "python",
   "name": "python3"
  },
  "language_info": {
   "codemirror_mode": {
    "name": "ipython",
    "version": 3
   },
   "file_extension": ".py",
   "mimetype": "text/x-python",
   "name": "python",
   "nbconvert_exporter": "python",
   "pygments_lexer": "ipython3",
   "version": "3.6.5"
  }
 },
 "nbformat": 4,
 "nbformat_minor": 1
}
