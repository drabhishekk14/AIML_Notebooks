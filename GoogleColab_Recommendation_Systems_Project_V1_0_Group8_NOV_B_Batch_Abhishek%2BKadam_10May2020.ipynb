{
 "cells": [
  {
   "cell_type": "code",
   "execution_count": 1,
   "metadata": {
    "colab": {
     "base_uri": "https://localhost:8080/",
     "height": 124
    },
    "colab_type": "code",
    "id": "5Fg6eZWiqwRd",
    "outputId": "ab7a82ce-c95a-472d-d77b-950e44497861"
   },
   "outputs": [
    {
     "name": "stdout",
     "output_type": "stream",
     "text": [
      "Go to this URL in a browser: https://accounts.google.com/o/oauth2/auth?client_id=947318989803-6bn6qk8qdgf4n4g3pfee6491hc0brc4i.apps.googleusercontent.com&redirect_uri=urn%3aietf%3awg%3aoauth%3a2.0%3aoob&response_type=code&scope=email%20https%3a%2f%2fwww.googleapis.com%2fauth%2fdocs.test%20https%3a%2f%2fwww.googleapis.com%2fauth%2fdrive%20https%3a%2f%2fwww.googleapis.com%2fauth%2fdrive.photos.readonly%20https%3a%2f%2fwww.googleapis.com%2fauth%2fpeopleapi.readonly\n",
      "\n",
      "Enter your authorization code:\n",
      "··········\n",
      "Mounted at /content/drive\n"
     ]
    }
   ],
   "source": [
    "from google.colab import drive\n",
    "drive.mount('/content/drive')"
   ]
  },
  {
   "cell_type": "code",
   "execution_count": 0,
   "metadata": {
    "colab": {},
    "colab_type": "code",
    "id": "LP-VBMDPq6Lf"
   },
   "outputs": [],
   "source": [
    "import pandas as pd\n",
    "import matplotlib.pyplot as plt\n",
    "import sklearn.metrics as metrics\n",
    "import numpy as np\n",
    "from sklearn.neighbors import NearestNeighbors\n",
    "from sklearn.metrics.pairwise import pairwise_distances\n",
    "import warnings\n",
    "warnings.filterwarnings('ignore')\n",
    "import numpy as np\n",
    "import re\n",
    "import seaborn as sns\n",
    "%matplotlib inline"
   ]
  },
  {
   "cell_type": "code",
   "execution_count": 3,
   "metadata": {
    "colab": {
     "base_uri": "https://localhost:8080/",
     "height": 355
    },
    "colab_type": "code",
    "id": "GCdNrMHVq6Lp",
    "outputId": "8634e3fe-65b6-49bc-b766-148cb9f6b087"
   },
   "outputs": [
    {
     "data": {
      "text/html": [
       "<div>\n",
       "<style scoped>\n",
       "    .dataframe tbody tr th:only-of-type {\n",
       "        vertical-align: middle;\n",
       "    }\n",
       "\n",
       "    .dataframe tbody tr th {\n",
       "        vertical-align: top;\n",
       "    }\n",
       "\n",
       "    .dataframe thead th {\n",
       "        text-align: right;\n",
       "    }\n",
       "</style>\n",
       "<table border=\"1\" class=\"dataframe\">\n",
       "  <thead>\n",
       "    <tr style=\"text-align: right;\">\n",
       "      <th></th>\n",
       "      <th>0</th>\n",
       "      <th>1</th>\n",
       "      <th>2</th>\n",
       "      <th>3</th>\n",
       "    </tr>\n",
       "  </thead>\n",
       "  <tbody>\n",
       "    <tr>\n",
       "      <th>0</th>\n",
       "      <td>AKM1MP6P0OYPR</td>\n",
       "      <td>0132793040</td>\n",
       "      <td>5.0</td>\n",
       "      <td>1365811200</td>\n",
       "    </tr>\n",
       "    <tr>\n",
       "      <th>1</th>\n",
       "      <td>A2CX7LUOHB2NDG</td>\n",
       "      <td>0321732944</td>\n",
       "      <td>5.0</td>\n",
       "      <td>1341100800</td>\n",
       "    </tr>\n",
       "    <tr>\n",
       "      <th>2</th>\n",
       "      <td>A2NWSAGRHCP8N5</td>\n",
       "      <td>0439886341</td>\n",
       "      <td>1.0</td>\n",
       "      <td>1367193600</td>\n",
       "    </tr>\n",
       "    <tr>\n",
       "      <th>3</th>\n",
       "      <td>A2WNBOD3WNDNKT</td>\n",
       "      <td>0439886341</td>\n",
       "      <td>3.0</td>\n",
       "      <td>1374451200</td>\n",
       "    </tr>\n",
       "    <tr>\n",
       "      <th>4</th>\n",
       "      <td>A1GI0U4ZRJA8WN</td>\n",
       "      <td>0439886341</td>\n",
       "      <td>1.0</td>\n",
       "      <td>1334707200</td>\n",
       "    </tr>\n",
       "    <tr>\n",
       "      <th>5</th>\n",
       "      <td>A1QGNMC6O1VW39</td>\n",
       "      <td>0511189877</td>\n",
       "      <td>5.0</td>\n",
       "      <td>1397433600</td>\n",
       "    </tr>\n",
       "    <tr>\n",
       "      <th>6</th>\n",
       "      <td>A3J3BRHTDRFJ2G</td>\n",
       "      <td>0511189877</td>\n",
       "      <td>2.0</td>\n",
       "      <td>1397433600</td>\n",
       "    </tr>\n",
       "    <tr>\n",
       "      <th>7</th>\n",
       "      <td>A2TY0BTJOTENPG</td>\n",
       "      <td>0511189877</td>\n",
       "      <td>5.0</td>\n",
       "      <td>1395878400</td>\n",
       "    </tr>\n",
       "    <tr>\n",
       "      <th>8</th>\n",
       "      <td>A34ATBPOK6HCHY</td>\n",
       "      <td>0511189877</td>\n",
       "      <td>5.0</td>\n",
       "      <td>1395532800</td>\n",
       "    </tr>\n",
       "    <tr>\n",
       "      <th>9</th>\n",
       "      <td>A89DO69P0XZ27</td>\n",
       "      <td>0511189877</td>\n",
       "      <td>5.0</td>\n",
       "      <td>1395446400</td>\n",
       "    </tr>\n",
       "  </tbody>\n",
       "</table>\n",
       "</div>"
      ],
      "text/plain": [
       "                0           1    2           3\n",
       "0   AKM1MP6P0OYPR  0132793040  5.0  1365811200\n",
       "1  A2CX7LUOHB2NDG  0321732944  5.0  1341100800\n",
       "2  A2NWSAGRHCP8N5  0439886341  1.0  1367193600\n",
       "3  A2WNBOD3WNDNKT  0439886341  3.0  1374451200\n",
       "4  A1GI0U4ZRJA8WN  0439886341  1.0  1334707200\n",
       "5  A1QGNMC6O1VW39  0511189877  5.0  1397433600\n",
       "6  A3J3BRHTDRFJ2G  0511189877  2.0  1397433600\n",
       "7  A2TY0BTJOTENPG  0511189877  5.0  1395878400\n",
       "8  A34ATBPOK6HCHY  0511189877  5.0  1395532800\n",
       "9   A89DO69P0XZ27  0511189877  5.0  1395446400"
      ]
     },
     "execution_count": 3,
     "metadata": {
      "tags": []
     },
     "output_type": "execute_result"
    }
   ],
   "source": [
    "ratings = pd.read_csv(\"/content/drive/My Drive/AIML/Projects/Recommendation Engine/ratings_Electronics.csv\", header= None)\n",
    "ratings.head(10)"
   ]
  },
  {
   "cell_type": "code",
   "execution_count": 0,
   "metadata": {
    "colab": {},
    "colab_type": "code",
    "id": "vf38K4koq6Ly"
   },
   "outputs": [],
   "source": [
    "ratings.columns = ['user_ID', 'item_id', 'Rating', 'timestamp']"
   ]
  },
  {
   "cell_type": "code",
   "execution_count": 5,
   "metadata": {
    "colab": {
     "base_uri": "https://localhost:8080/",
     "height": 35
    },
    "colab_type": "code",
    "id": "6-2mjvwQq6L4",
    "outputId": "160af5f3-b4d4-4b83-aac4-e1d86609864a"
   },
   "outputs": [
    {
     "name": "stdout",
     "output_type": "stream",
     "text": [
      "(7824482, 4)\n"
     ]
    }
   ],
   "source": [
    "print(ratings.shape)"
   ]
  },
  {
   "cell_type": "code",
   "execution_count": 0,
   "metadata": {
    "colab": {},
    "colab_type": "code",
    "id": "90BRL1ycq6L7"
   },
   "outputs": [],
   "source": [
    "ratings.drop(['timestamp'],axis=1,inplace=True)"
   ]
  },
  {
   "cell_type": "code",
   "execution_count": 7,
   "metadata": {
    "colab": {
     "base_uri": "https://localhost:8080/",
     "height": 202
    },
    "colab_type": "code",
    "id": "MSjTKCSRq6MC",
    "outputId": "44b20a5d-49e8-4d80-af9f-2e5337054ded"
   },
   "outputs": [
    {
     "data": {
      "text/html": [
       "<div>\n",
       "<style scoped>\n",
       "    .dataframe tbody tr th:only-of-type {\n",
       "        vertical-align: middle;\n",
       "    }\n",
       "\n",
       "    .dataframe tbody tr th {\n",
       "        vertical-align: top;\n",
       "    }\n",
       "\n",
       "    .dataframe thead th {\n",
       "        text-align: right;\n",
       "    }\n",
       "</style>\n",
       "<table border=\"1\" class=\"dataframe\">\n",
       "  <thead>\n",
       "    <tr style=\"text-align: right;\">\n",
       "      <th></th>\n",
       "      <th>user_ID</th>\n",
       "      <th>item_id</th>\n",
       "      <th>Rating</th>\n",
       "    </tr>\n",
       "  </thead>\n",
       "  <tbody>\n",
       "    <tr>\n",
       "      <th>0</th>\n",
       "      <td>AKM1MP6P0OYPR</td>\n",
       "      <td>0132793040</td>\n",
       "      <td>5.0</td>\n",
       "    </tr>\n",
       "    <tr>\n",
       "      <th>1</th>\n",
       "      <td>A2CX7LUOHB2NDG</td>\n",
       "      <td>0321732944</td>\n",
       "      <td>5.0</td>\n",
       "    </tr>\n",
       "    <tr>\n",
       "      <th>2</th>\n",
       "      <td>A2NWSAGRHCP8N5</td>\n",
       "      <td>0439886341</td>\n",
       "      <td>1.0</td>\n",
       "    </tr>\n",
       "    <tr>\n",
       "      <th>3</th>\n",
       "      <td>A2WNBOD3WNDNKT</td>\n",
       "      <td>0439886341</td>\n",
       "      <td>3.0</td>\n",
       "    </tr>\n",
       "    <tr>\n",
       "      <th>4</th>\n",
       "      <td>A1GI0U4ZRJA8WN</td>\n",
       "      <td>0439886341</td>\n",
       "      <td>1.0</td>\n",
       "    </tr>\n",
       "  </tbody>\n",
       "</table>\n",
       "</div>"
      ],
      "text/plain": [
       "          user_ID     item_id  Rating\n",
       "0   AKM1MP6P0OYPR  0132793040     5.0\n",
       "1  A2CX7LUOHB2NDG  0321732944     5.0\n",
       "2  A2NWSAGRHCP8N5  0439886341     1.0\n",
       "3  A2WNBOD3WNDNKT  0439886341     3.0\n",
       "4  A1GI0U4ZRJA8WN  0439886341     1.0"
      ]
     },
     "execution_count": 7,
     "metadata": {
      "tags": []
     },
     "output_type": "execute_result"
    }
   ],
   "source": [
    "ratings.head()"
   ]
  },
  {
   "cell_type": "code",
   "execution_count": 8,
   "metadata": {
    "colab": {
     "base_uri": "https://localhost:8080/",
     "height": 79
    },
    "colab_type": "code",
    "id": "2NNk58LHqXP3",
    "outputId": "acdd3dd9-db20-4834-ab59-55a52f8ccab9"
   },
   "outputs": [
    {
     "data": {
      "text/html": [
       "<div>\n",
       "<style scoped>\n",
       "    .dataframe tbody tr th:only-of-type {\n",
       "        vertical-align: middle;\n",
       "    }\n",
       "\n",
       "    .dataframe tbody tr th {\n",
       "        vertical-align: top;\n",
       "    }\n",
       "\n",
       "    .dataframe thead th {\n",
       "        text-align: right;\n",
       "    }\n",
       "</style>\n",
       "<table border=\"1\" class=\"dataframe\">\n",
       "  <thead>\n",
       "    <tr style=\"text-align: right;\">\n",
       "      <th></th>\n",
       "      <th>count</th>\n",
       "      <th>mean</th>\n",
       "      <th>std</th>\n",
       "      <th>min</th>\n",
       "      <th>25%</th>\n",
       "      <th>50%</th>\n",
       "      <th>75%</th>\n",
       "      <th>max</th>\n",
       "    </tr>\n",
       "  </thead>\n",
       "  <tbody>\n",
       "    <tr>\n",
       "      <th>Rating</th>\n",
       "      <td>7824482.0</td>\n",
       "      <td>4.012337</td>\n",
       "      <td>1.38091</td>\n",
       "      <td>1.0</td>\n",
       "      <td>3.0</td>\n",
       "      <td>5.0</td>\n",
       "      <td>5.0</td>\n",
       "      <td>5.0</td>\n",
       "    </tr>\n",
       "  </tbody>\n",
       "</table>\n",
       "</div>"
      ],
      "text/plain": [
       "            count      mean      std  min  25%  50%  75%  max\n",
       "Rating  7824482.0  4.012337  1.38091  1.0  3.0  5.0  5.0  5.0"
      ]
     },
     "execution_count": 8,
     "metadata": {
      "tags": []
     },
     "output_type": "execute_result"
    }
   ],
   "source": [
    "ratings.describe().transpose()"
   ]
  },
  {
   "cell_type": "code",
   "execution_count": 9,
   "metadata": {
    "colab": {
     "base_uri": "https://localhost:8080/",
     "height": 35
    },
    "colab_type": "code",
    "id": "nhAedWXPqhN1",
    "outputId": "5bab1849-1db1-499f-9807-1a716b8bc7cd"
   },
   "outputs": [
    {
     "data": {
      "text/plain": [
       "array([5., 1., 3., 2., 4.])"
      ]
     },
     "execution_count": 9,
     "metadata": {
      "tags": []
     },
     "output_type": "execute_result"
    }
   ],
   "source": [
    "ratings.Rating.unique()"
   ]
  },
  {
   "cell_type": "code",
   "execution_count": 10,
   "metadata": {
    "colab": {
     "base_uri": "https://localhost:8080/",
     "height": 307
    },
    "colab_type": "code",
    "id": "t0ee9ewpqmLY",
    "outputId": "9ebd0d14-f52b-4192-b6ea-0be4bd54f830"
   },
   "outputs": [
    {
     "data": {
      "text/plain": [
       "<matplotlib.axes._subplots.AxesSubplot at 0x7f917749a4e0>"
      ]
     },
     "execution_count": 10,
     "metadata": {
      "tags": []
     },
     "output_type": "execute_result"
    },
    {
     "data": {
      "image/png": "[encoded data removed]",
      "text/plain": [
       "<Figure size 432x288 with 1 Axes>"
      ]
     },
     "metadata": {
      "needs_background": "light",
      "tags": []
     },
     "output_type": "display_data"
    }
   ],
   "source": [
    "sns.countplot(data=ratings, x='Rating')"
   ]
  },
  {
   "cell_type": "markdown",
   "metadata": {
    "colab_type": "text",
    "id": "i5jnQJnvq5IE"
   },
   "source": [
    "# **Popularity based recommendations**"
   ]
  },
  {
   "cell_type": "code",
   "execution_count": 11,
   "metadata": {
    "colab": {
     "base_uri": "https://localhost:8080/",
     "height": 139
    },
    "colab_type": "code",
    "id": "e0bqMQOBq3yc",
    "outputId": "f4fe00f4-d9be-416c-f6bf-d302e273b271"
   },
   "outputs": [
    {
     "data": {
      "text/plain": [
       "item_id\n",
       "0132793040    5.000000\n",
       "0321732944    5.000000\n",
       "0439886341    1.666667\n",
       "0511189877    4.500000\n",
       "0528881469    2.851852\n",
       "Name: Rating, dtype: float64"
      ]
     },
     "execution_count": 11,
     "metadata": {
      "tags": []
     },
     "output_type": "execute_result"
    }
   ],
   "source": [
    "ratings.groupby('item_id')['Rating'].mean().head()"
   ]
  },
  {
   "cell_type": "code",
   "execution_count": 12,
   "metadata": {
    "colab": {
     "base_uri": "https://localhost:8080/",
     "height": 139
    },
    "colab_type": "code",
    "id": "82wAOk3xrE0b",
    "outputId": "e09d40c1-889d-4509-8d06-b488bffd90eb"
   },
   "outputs": [
    {
     "data": {
      "text/plain": [
       "item_id\n",
       "BT008V9J9U    5.0\n",
       "B0058PPK8Y    5.0\n",
       "B0058OQ9Q2    5.0\n",
       "B0058OKSMS    5.0\n",
       "B0058OHGX2    5.0\n",
       "Name: Rating, dtype: float64"
      ]
     },
     "execution_count": 12,
     "metadata": {
      "tags": []
     },
     "output_type": "execute_result"
    }
   ],
   "source": [
    "ratings.groupby('item_id')['Rating'].mean().sort_values(ascending=False).head()"
   ]
  },
  {
   "cell_type": "code",
   "execution_count": 13,
   "metadata": {
    "colab": {
     "base_uri": "https://localhost:8080/",
     "height": 139
    },
    "colab_type": "code",
    "id": "FuNIRl_vrNJi",
    "outputId": "194fe5bc-22ba-4645-d0ac-0a8341a1a236"
   },
   "outputs": [
    {
     "data": {
      "text/plain": [
       "item_id\n",
       "B0074BW614    18244\n",
       "B00DR0PDNE    16454\n",
       "B007WTAJTO    14172\n",
       "B0019EHU8G    12285\n",
       "B006GWO5WK    12226\n",
       "Name: Rating, dtype: int64"
      ]
     },
     "execution_count": 13,
     "metadata": {
      "tags": []
     },
     "output_type": "execute_result"
    }
   ],
   "source": [
    "ratings.groupby('item_id')['Rating'].count().sort_values(ascending=False).head()"
   ]
  },
  {
   "cell_type": "code",
   "execution_count": 0,
   "metadata": {
    "colab": {},
    "colab_type": "code",
    "id": "2ZyGHOf7rQX-"
   },
   "outputs": [],
   "source": [
    "ratings_mean_count = pd.DataFrame(ratings.groupby('item_id')['Rating'].mean())"
   ]
  },
  {
   "cell_type": "code",
   "execution_count": 0,
   "metadata": {
    "colab": {},
    "colab_type": "code",
    "id": "-h9fWHyJrVKW"
   },
   "outputs": [],
   "source": [
    "ratings_mean_count['rating_counts'] = pd.DataFrame(ratings.groupby('item_id')['Rating'].count()) "
   ]
  },
  {
   "cell_type": "code",
   "execution_count": 16,
   "metadata": {
    "colab": {
     "base_uri": "https://localhost:8080/",
     "height": 233
    },
    "colab_type": "code",
    "id": "SM8YrfWTrYNu",
    "outputId": "c90754f4-6ff7-4fc8-9137-b6faa8de0be3"
   },
   "outputs": [
    {
     "data": {
      "text/html": [
       "<div>\n",
       "<style scoped>\n",
       "    .dataframe tbody tr th:only-of-type {\n",
       "        vertical-align: middle;\n",
       "    }\n",
       "\n",
       "    .dataframe tbody tr th {\n",
       "        vertical-align: top;\n",
       "    }\n",
       "\n",
       "    .dataframe thead th {\n",
       "        text-align: right;\n",
       "    }\n",
       "</style>\n",
       "<table border=\"1\" class=\"dataframe\">\n",
       "  <thead>\n",
       "    <tr style=\"text-align: right;\">\n",
       "      <th></th>\n",
       "      <th>Rating</th>\n",
       "      <th>rating_counts</th>\n",
       "    </tr>\n",
       "    <tr>\n",
       "      <th>item_id</th>\n",
       "      <th></th>\n",
       "      <th></th>\n",
       "    </tr>\n",
       "  </thead>\n",
       "  <tbody>\n",
       "    <tr>\n",
       "      <th>B0074BW614</th>\n",
       "      <td>4.491504</td>\n",
       "      <td>18244</td>\n",
       "    </tr>\n",
       "    <tr>\n",
       "      <th>B00DR0PDNE</th>\n",
       "      <td>3.931020</td>\n",
       "      <td>16454</td>\n",
       "    </tr>\n",
       "    <tr>\n",
       "      <th>B007WTAJTO</th>\n",
       "      <td>4.424005</td>\n",
       "      <td>14172</td>\n",
       "    </tr>\n",
       "    <tr>\n",
       "      <th>B0019EHU8G</th>\n",
       "      <td>4.754497</td>\n",
       "      <td>12285</td>\n",
       "    </tr>\n",
       "    <tr>\n",
       "      <th>B006GWO5WK</th>\n",
       "      <td>4.314657</td>\n",
       "      <td>12226</td>\n",
       "    </tr>\n",
       "  </tbody>\n",
       "</table>\n",
       "</div>"
      ],
      "text/plain": [
       "              Rating  rating_counts\n",
       "item_id                            \n",
       "B0074BW614  4.491504          18244\n",
       "B00DR0PDNE  3.931020          16454\n",
       "B007WTAJTO  4.424005          14172\n",
       "B0019EHU8G  4.754497          12285\n",
       "B006GWO5WK  4.314657          12226"
      ]
     },
     "execution_count": 16,
     "metadata": {
      "tags": []
     },
     "output_type": "execute_result"
    }
   ],
   "source": [
    "ratings_mean_count.sort_values('rating_counts',ascending=False).head()"
   ]
  },
  {
   "cell_type": "markdown",
   "metadata": {
    "colab_type": "text",
    "id": "QSirgZW6rgJl"
   },
   "source": [
    "**The popularity based recommendations above are made more relevant by sorting on the rating counts. Without this sorting the recommendations do not indicate popularity of the items**"
   ]
  },
  {
   "cell_type": "markdown",
   "metadata": {
    "colab_type": "text",
    "id": "jZ9ZCDKaq6MI"
   },
   "source": [
    "### The key observation here is that in its current state, the data is huge 238.8+ MB. It is imperative that the working is done on a smaller dataset. The size of dataset reduced however it is still high 179.1+ MB after removing timestamp column, however it is too high and will take a lot of computation power. Also the data contains users who may have rated very few items which is non consequential. Hence we will take only those uses who have rated atleast 50 items"
   ]
  },
  {
   "cell_type": "markdown",
   "metadata": {
    "colab_type": "text",
    "id": "i84MnEVNq6Mk"
   },
   "source": [
    "## a. For more accurate results only consider users who have rated atleast 50 items"
   ]
  },
  {
   "cell_type": "code",
   "execution_count": 0,
   "metadata": {
    "colab": {},
    "colab_type": "code",
    "id": "u0rvuFcjstA-"
   },
   "outputs": [],
   "source": [
    "counts1 = ratings['user_ID'].value_counts()\n",
    "# print(counts1)\n",
    "ratings_CF = ratings[ratings['user_ID'].isin(counts1[counts1 >= 50].index)]"
   ]
  },
  {
   "cell_type": "code",
   "execution_count": 18,
   "metadata": {
    "colab": {
     "base_uri": "https://localhost:8080/",
     "height": 202
    },
    "colab_type": "code",
    "id": "uVSFWaUdtE1u",
    "outputId": "80926ede-e450-4ee7-dc30-a5c32b16ee8f"
   },
   "outputs": [
    {
     "data": {
      "text/html": [
       "<div>\n",
       "<style scoped>\n",
       "    .dataframe tbody tr th:only-of-type {\n",
       "        vertical-align: middle;\n",
       "    }\n",
       "\n",
       "    .dataframe tbody tr th {\n",
       "        vertical-align: top;\n",
       "    }\n",
       "\n",
       "    .dataframe thead th {\n",
       "        text-align: right;\n",
       "    }\n",
       "</style>\n",
       "<table border=\"1\" class=\"dataframe\">\n",
       "  <thead>\n",
       "    <tr style=\"text-align: right;\">\n",
       "      <th></th>\n",
       "      <th>user_ID</th>\n",
       "      <th>item_id</th>\n",
       "      <th>Rating</th>\n",
       "    </tr>\n",
       "  </thead>\n",
       "  <tbody>\n",
       "    <tr>\n",
       "      <th>94</th>\n",
       "      <td>A3BY5KCNQZXV5U</td>\n",
       "      <td>0594451647</td>\n",
       "      <td>5.0</td>\n",
       "    </tr>\n",
       "    <tr>\n",
       "      <th>118</th>\n",
       "      <td>AT09WGFUM934H</td>\n",
       "      <td>0594481813</td>\n",
       "      <td>3.0</td>\n",
       "    </tr>\n",
       "    <tr>\n",
       "      <th>177</th>\n",
       "      <td>A32HSNCNPRUMTR</td>\n",
       "      <td>0970407998</td>\n",
       "      <td>1.0</td>\n",
       "    </tr>\n",
       "    <tr>\n",
       "      <th>178</th>\n",
       "      <td>A17HMM1M7T9PJ1</td>\n",
       "      <td>0970407998</td>\n",
       "      <td>4.0</td>\n",
       "    </tr>\n",
       "    <tr>\n",
       "      <th>492</th>\n",
       "      <td>A3CLWR1UUZT6TG</td>\n",
       "      <td>0972683275</td>\n",
       "      <td>5.0</td>\n",
       "    </tr>\n",
       "  </tbody>\n",
       "</table>\n",
       "</div>"
      ],
      "text/plain": [
       "            user_ID     item_id  Rating\n",
       "94   A3BY5KCNQZXV5U  0594451647     5.0\n",
       "118   AT09WGFUM934H  0594481813     3.0\n",
       "177  A32HSNCNPRUMTR  0970407998     1.0\n",
       "178  A17HMM1M7T9PJ1  0970407998     4.0\n",
       "492  A3CLWR1UUZT6TG  0972683275     5.0"
      ]
     },
     "execution_count": 18,
     "metadata": {
      "tags": []
     },
     "output_type": "execute_result"
    }
   ],
   "source": [
    "ratings_CF.head()"
   ]
  },
  {
   "cell_type": "code",
   "execution_count": 19,
   "metadata": {
    "colab": {
     "base_uri": "https://localhost:8080/",
     "height": 35
    },
    "colab_type": "code",
    "id": "yaD2gBF-t0yM",
    "outputId": "2e563e5e-f5fc-4b0a-cb51-68dd16fa3c40"
   },
   "outputs": [
    {
     "data": {
      "text/plain": [
       "(125871, 3)"
      ]
     },
     "execution_count": 19,
     "metadata": {
      "tags": []
     },
     "output_type": "execute_result"
    }
   ],
   "source": [
    "ratings_CF.shape"
   ]
  },
  {
   "cell_type": "code",
   "execution_count": 21,
   "metadata": {
    "colab": {
     "base_uri": "https://localhost:8080/",
     "height": 191
    },
    "colab_type": "code",
    "id": "uR4cjzjGuA8M",
    "outputId": "811f2032-d152-4316-f394-b691982bad9a"
   },
   "outputs": [
    {
     "name": "stdout",
     "output_type": "stream",
     "text": [
      "<class 'pandas.core.frame.DataFrame'>\n",
      "Int64Index: 125871 entries, 94 to 7824444\n",
      "Data columns (total 3 columns):\n",
      " #   Column   Non-Null Count   Dtype  \n",
      "---  ------   --------------   -----  \n",
      " 0   user_ID  125871 non-null  object \n",
      " 1   item_id  125871 non-null  object \n",
      " 2   Rating   125871 non-null  float64\n",
      "dtypes: float64(1), object(2)\n",
      "memory usage: 3.8+ MB\n"
     ]
    }
   ],
   "source": [
    "ratings_CF.info()"
   ]
  },
  {
   "cell_type": "markdown",
   "metadata": {
    "colab_type": "text",
    "id": "ctTxS-Djq6NK"
   },
   "source": [
    "#### This size of the data is considerably reduced to 3.8 MB. This can be made sparse further."
   ]
  },
  {
   "cell_type": "markdown",
   "metadata": {
    "colab_type": "text",
    "id": "CO-pIAj0eIGx"
   },
   "source": [
    "# **Collaborative Filtering - User-based flitering**"
   ]
  },
  {
   "cell_type": "code",
   "execution_count": 23,
   "metadata": {
    "colab": {
     "base_uri": "https://localhost:8080/",
     "height": 280
    },
    "colab_type": "code",
    "id": "UM20N0tysTBx",
    "outputId": "a6a3a644-ea16-4f24-a8ad-c03db37afe30"
   },
   "outputs": [
    {
     "name": "stdout",
     "output_type": "stream",
     "text": [
      "Collecting scikit-surprise\n",
      "\u001b[?25l  Downloading https://files.pythonhosted.org/packages/f5/da/b5700d96495fb4f092be497f02492768a3d96a3f4fa2ae7dea46d4081cfa/scikit-surprise-1.1.0.tar.gz (6.4MB)\n",
      "\u001b[K     |████████████████████████████████| 6.5MB 2.5MB/s \n",
      "\u001b[?25hRequirement already satisfied: joblib>=0.11 in /usr/local/lib/python3.6/dist-packages (from scikit-surprise) (0.14.1)\n",
      "Requirement already satisfied: numpy>=1.11.2 in /usr/local/lib/python3.6/dist-packages (from scikit-surprise) (1.18.4)\n",
      "Requirement already satisfied: scipy>=1.0.0 in /usr/local/lib/python3.6/dist-packages (from scikit-surprise) (1.4.1)\n",
      "Requirement already satisfied: six>=1.10.0 in /usr/local/lib/python3.6/dist-packages (from scikit-surprise) (1.12.0)\n",
      "Building wheels for collected packages: scikit-surprise\n",
      "  Building wheel for scikit-surprise (setup.py) ... \u001b[?25l\u001b[?25hdone\n",
      "  Created wheel for scikit-surprise: filename=scikit_surprise-1.1.0-cp36-cp36m-linux_x86_64.whl size=1673640 sha256=8788682872a8bdf8593643ad559744c9cdd7792283ffa4f28c7dd55a5d504123\n",
      "  Stored in directory: /root/.cache/pip/wheels/cc/fa/8c/16c93fccce688ae1bde7d979ff102f7bee980d9cfeb8641bcf\n",
      "Successfully built scikit-surprise\n",
      "Installing collected packages: scikit-surprise\n",
      "Successfully installed scikit-surprise-1.1.0\n"
     ]
    }
   ],
   "source": [
    "! pip install scikit-surprise"
   ]
  },
  {
   "cell_type": "code",
   "execution_count": 0,
   "metadata": {
    "colab": {},
    "colab_type": "code",
    "id": "NVoLZeW5q6Ne"
   },
   "outputs": [],
   "source": [
    "from surprise import KNNWithMeans\n",
    "from surprise import Dataset\n",
    "from surprise import Reader\n",
    "from surprise import accuracy\n",
    "from surprise.model_selection import train_test_split\n"
   ]
  },
  {
   "cell_type": "markdown",
   "metadata": {
    "colab_type": "text",
    "id": "baFR-DrBgBhE"
   },
   "source": [
    "Since we are using custom data i.e. not bulitin data, need to use the Reader class from the surprise.dataset.load_from_df method."
   ]
  },
  {
   "cell_type": "code",
   "execution_count": 0,
   "metadata": {
    "colab": {},
    "colab_type": "code",
    "id": "4gGJ8bVTtvt6"
   },
   "outputs": [],
   "source": [
    "\n",
    "reader = Reader(rating_scale=(1, 5))\n",
    "data = Dataset.load_from_df(ratings_CF[['user_ID', 'item_id', 'Rating']], reader)"
   ]
  },
  {
   "cell_type": "markdown",
   "metadata": {
    "colab_type": "text",
    "id": "YysR0VKiDCOi"
   },
   "source": [
    "# **Split the data randomly into train and test dataset.**"
   ]
  },
  {
   "cell_type": "code",
   "execution_count": 0,
   "metadata": {
    "colab": {},
    "colab_type": "code",
    "id": "1XqtMJwGC9rt"
   },
   "outputs": [],
   "source": [
    "trainset, testset = train_test_split(data, test_size=.30)"
   ]
  },
  {
   "cell_type": "markdown",
   "metadata": {
    "colab_type": "text",
    "id": "TGaivp7EhahE"
   },
   "source": [
    "For **user-based** collaborative filtering we need to pass user_based = true and use it to switch between user-based or item-based collaborative filtering."
   ]
  },
  {
   "cell_type": "code",
   "execution_count": 27,
   "metadata": {
    "colab": {
     "base_uri": "https://localhost:8080/",
     "height": 87
    },
    "colab_type": "code",
    "id": "2TFp4LKDhSyt",
    "outputId": "c720a9a9-b231-4289-e6be-741ab11baff1"
   },
   "outputs": [
    {
     "name": "stdout",
     "output_type": "stream",
     "text": [
      "Estimating biases using als...\n",
      "Computing the pearson_baseline similarity matrix...\n",
      "Done computing similarity matrix.\n"
     ]
    },
    {
     "data": {
      "text/plain": [
       "<surprise.prediction_algorithms.knns.KNNWithMeans at 0x7f91c93f7da0>"
      ]
     },
     "execution_count": 27,
     "metadata": {
      "tags": []
     },
     "output_type": "execute_result"
    }
   ],
   "source": [
    "algo = KNNWithMeans(k=50, sim_options={'name': 'pearson_baseline', 'user_based': True})\n",
    "algo.fit(trainset)"
   ]
  },
  {
   "cell_type": "code",
   "execution_count": 0,
   "metadata": {
    "colab": {},
    "colab_type": "code",
    "id": "Jyu51Ds1kMvY"
   },
   "outputs": [],
   "source": [
    "test_pred = algo.test(testset)"
   ]
  },
  {
   "cell_type": "code",
   "execution_count": 29,
   "metadata": {
    "colab": {
     "base_uri": "https://localhost:8080/",
     "height": 1000
    },
    "colab_type": "code",
    "id": "0NrYBUsSkVLa",
    "outputId": "731b5bc9-4773-4fa4-ea1c-c6bc1d424630"
   },
   "outputs": [
    {
     "data": {
      "text/plain": [
       "[Prediction(uid='A2DS9DLMSU2M2Z', iid='B003ICXCWA', r_ui=5.0, est=4.2620504148270895, details={'was_impossible': True, 'reason': 'User and/or item is unkown.'}),\n",
       " Prediction(uid='A1QRST0A3IQIEF', iid='B001MQ4NJU', r_ui=5.0, est=4.2620504148270895, details={'was_impossible': True, 'reason': 'User and/or item is unkown.'}),\n",
       " Prediction(uid='AEAFHD09X8044', iid='B00295RBQ0', r_ui=5.0, est=4.2620504148270895, details={'was_impossible': True, 'reason': 'User and/or item is unkown.'}),\n",
       " Prediction(uid='A1ODOGXEYECQQ8', iid='B00D65AJ0C', r_ui=5.0, est=4.7164449198246725, details={'actual_k': 4, 'was_impossible': False}),\n",
       " Prediction(uid='A3OXHLG6DIBRW8', iid='B001OBV7T2', r_ui=5.0, est=4.2620504148270895, details={'was_impossible': True, 'reason': 'User and/or item is unkown.'}),\n",
       " Prediction(uid='A38C12950IM24P', iid='B008GGH5HQ', r_ui=5.0, est=4.2620504148270895, details={'was_impossible': True, 'reason': 'User and/or item is unkown.'}),\n",
       " Prediction(uid='A1IG1I6MR3HAWA', iid='B0014F9U6U', r_ui=4.0, est=4.695652173913044, details={'actual_k': 0, 'was_impossible': False}),\n",
       " Prediction(uid='A2UQK3DAZ8NO2T', iid='B000065BP9', r_ui=4.0, est=4.318181818181818, details={'actual_k': 0, 'was_impossible': False}),\n",
       " Prediction(uid='A1VYFEJM12ZP11', iid='B000LRMS66', r_ui=5.0, est=3.9974398996849985, details={'actual_k': 3, 'was_impossible': False}),\n",
       " Prediction(uid='A23ZNGL704AW7O', iid='B003ES5ZSW', r_ui=3.0, est=4.94571670746444, details={'actual_k': 3, 'was_impossible': False}),\n",
       " Prediction(uid='A1GQRGB8FGSLIZ', iid='B002DPTQ8W', r_ui=4.0, est=3.313775510204082, details={'actual_k': 1, 'was_impossible': False}),\n",
       " Prediction(uid='ARX0KOX5Q01BJ', iid='B005UBNLFK', r_ui=5.0, est=3.707317073170732, details={'actual_k': 0, 'was_impossible': False}),\n",
       " Prediction(uid='AEJAGHLC675A7', iid='B002CVU4G0', r_ui=4.0, est=5, details={'actual_k': 1, 'was_impossible': False}),\n",
       " Prediction(uid='A267FU71Z01CIH', iid='B00BWL33H8', r_ui=5.0, est=4.57630529091961, details={'actual_k': 3, 'was_impossible': False}),\n",
       " Prediction(uid='A3NHUQ33CFH3VM', iid='B003ELOSIW', r_ui=5.0, est=5, details={'actual_k': 4, 'was_impossible': False}),\n",
       " Prediction(uid='A17BUUBOU0598B', iid='B000R2N2LK', r_ui=3.0, est=4.2620504148270895, details={'was_impossible': True, 'reason': 'User and/or item is unkown.'}),\n",
       " Prediction(uid='AYOMAHLWRQHUG', iid='B000Y9PJ4O', r_ui=5.0, est=4.2727272727272725, details={'actual_k': 0, 'was_impossible': False}),\n",
       " Prediction(uid='A1O229NVVDJUX2', iid='B00D50UNRM', r_ui=5.0, est=4.574392684477077, details={'actual_k': 2, 'was_impossible': False}),\n",
       " Prediction(uid='A1NGFGBX2VCQS8', iid='B00186JQRI', r_ui=5.0, est=4.2620504148270895, details={'was_impossible': True, 'reason': 'User and/or item is unkown.'}),\n",
       " Prediction(uid='A1ODOGXEYECQQ8', iid='B006421IRW', r_ui=5.0, est=4.303370786516854, details={'actual_k': 0, 'was_impossible': False}),\n",
       " Prediction(uid='A15G70V9OBTOVO', iid='B00127VAW2', r_ui=4.0, est=3.869565217391304, details={'actual_k': 0, 'was_impossible': False}),\n",
       " Prediction(uid='A2SGAJWXG65464', iid='B003GAEW6Y', r_ui=5.0, est=4.119047619047619, details={'actual_k': 0, 'was_impossible': False}),\n",
       " Prediction(uid='A1MEISNED4NP7U', iid='B005WX50DM', r_ui=5.0, est=3.742996402894379, details={'actual_k': 2, 'was_impossible': False}),\n",
       " Prediction(uid='A3QQGPI3CTV9SX', iid='B00101XVH2', r_ui=5.0, est=4.7384615384615385, details={'actual_k': 0, 'was_impossible': False}),\n",
       " Prediction(uid='A18NDN2CIG2TKR', iid='B001AV48JM', r_ui=5.0, est=4.2620504148270895, details={'was_impossible': True, 'reason': 'User and/or item is unkown.'}),\n",
       " Prediction(uid='AOEAD7DPLZE53', iid='B008MF40F6', r_ui=5.0, est=4.2620504148270895, details={'was_impossible': True, 'reason': 'User and/or item is unkown.'}),\n",
       " Prediction(uid='A12ANFNOSMW5VD', iid='B001F51G16', r_ui=5.0, est=4.668918918918919, details={'actual_k': 1, 'was_impossible': False}),\n",
       " Prediction(uid='A1OGCPMSIVK7G4', iid='B005T4SFF4', r_ui=5.0, est=4.2620504148270895, details={'was_impossible': True, 'reason': 'User and/or item is unkown.'}),\n",
       " Prediction(uid='A1Y051MQ2SVPFI', iid='B00017LSPI', r_ui=5.0, est=3.973684210526316, details={'actual_k': 0, 'was_impossible': False}),\n",
       " Prediction(uid='A1J75JJ0Q2OEJN', iid='B00FJWKYYG', r_ui=5.0, est=5, details={'actual_k': 4, 'was_impossible': False}),\n",
       " Prediction(uid='A2E1EFNIZL2FVA', iid='B00148QQLY', r_ui=5.0, est=4.27027027027027, details={'actual_k': 0, 'was_impossible': False}),\n",
       " Prediction(uid='A1X1CEGHTHMBL1', iid='B003O8J11Y', r_ui=5.0, est=4.2620504148270895, details={'was_impossible': True, 'reason': 'User and/or item is unkown.'}),\n",
       " Prediction(uid='A3INN916E4VION', iid='B0011000R6', r_ui=5.0, est=5, details={'actual_k': 1, 'was_impossible': False}),\n",
       " Prediction(uid='A6VPK7X53QNAQ', iid='B0079UAT0A', r_ui=4.0, est=4.23078891582906, details={'actual_k': 14, 'was_impossible': False}),\n",
       " Prediction(uid='AIFLY2HF8NS8U', iid='B007B5QQ96', r_ui=3.0, est=4.475409836065574, details={'actual_k': 0, 'was_impossible': False}),\n",
       " Prediction(uid='A328GLDSDNFYII', iid='B0009PEU3Y', r_ui=5.0, est=4.175, details={'actual_k': 0, 'was_impossible': False}),\n",
       " Prediction(uid='A1BJOHHLG0D965', iid='B003VNKKUS', r_ui=5.0, est=4.1875, details={'actual_k': 0, 'was_impossible': False}),\n",
       " Prediction(uid='A1URXSRV6WDHVY', iid='B003VYB1K0', r_ui=2.0, est=4.2620504148270895, details={'was_impossible': True, 'reason': 'User and/or item is unkown.'}),\n",
       " Prediction(uid='A2RW587355CMVA', iid='B002K9IHGI', r_ui=4.0, est=4.7274828072925335, details={'actual_k': 7, 'was_impossible': False}),\n",
       " Prediction(uid='A1B8EJQU73YGL9', iid='B008U811OS', r_ui=5.0, est=4.2620504148270895, details={'was_impossible': True, 'reason': 'User and/or item is unkown.'}),\n",
       " Prediction(uid='A2J3VCGBNDLAKF', iid='B005VFG06W', r_ui=5.0, est=4.226415094339623, details={'actual_k': 0, 'was_impossible': False}),\n",
       " Prediction(uid='A3223W5IROMYTY', iid='B004DBA2O6', r_ui=5.0, est=4.702127659574468, details={'actual_k': 0, 'was_impossible': False}),\n",
       " Prediction(uid='A3QRR8PSCBI07C', iid='B000FIES7S', r_ui=2.0, est=4.2620504148270895, details={'was_impossible': True, 'reason': 'User and/or item is unkown.'}),\n",
       " Prediction(uid='AMVXR3NPL0GWX', iid='B0002IHHME', r_ui=4.0, est=4.2620504148270895, details={'was_impossible': True, 'reason': 'User and/or item is unkown.'}),\n",
       " Prediction(uid='A1UEL5C1N6E5SE', iid='B00083Y0YG', r_ui=5.0, est=4.2620504148270895, details={'was_impossible': True, 'reason': 'User and/or item is unkown.'}),\n",
       " Prediction(uid='A2AF0NOCM71J0B', iid='B00I59VBH4', r_ui=5.0, est=4.335643564356436, details={'actual_k': 1, 'was_impossible': False}),\n",
       " Prediction(uid='A1MFVAHTT2BHM0', iid='B000V4TMEU', r_ui=3.0, est=3.6966292134831464, details={'actual_k': 1, 'was_impossible': False}),\n",
       " Prediction(uid='A23ZXHFLC6TBLD', iid='B00542NV32', r_ui=5.0, est=4.590909090909091, details={'actual_k': 0, 'was_impossible': False}),\n",
       " Prediction(uid='A1GYEGLX3P2Y7P', iid='B00829THK0', r_ui=4.0, est=4.803173735013959, details={'actual_k': 18, 'was_impossible': False}),\n",
       " Prediction(uid='A3SOJO7Z7R9WIA', iid='B0024FB46I', r_ui=5.0, est=4.2620504148270895, details={'was_impossible': True, 'reason': 'User and/or item is unkown.'}),\n",
       " Prediction(uid='A3CJ7MHAS9IMAM', iid='B0009K9Q2E', r_ui=5.0, est=4.377777777777778, details={'actual_k': 0, 'was_impossible': False}),\n",
       " Prediction(uid='A178M2AHNWQZB0', iid='B009SS0FZK', r_ui=5.0, est=5, details={'actual_k': 1, 'was_impossible': False}),\n",
       " Prediction(uid='A34BZM6S9L7QI4', iid='B00AQ2BRXQ', r_ui=4.0, est=4.580645161290323, details={'actual_k': 0, 'was_impossible': False}),\n",
       " Prediction(uid='A1UQBFCERIP7VJ', iid='B007Q8GOHM', r_ui=4.0, est=4.058919676265397, details={'actual_k': 14, 'was_impossible': False}),\n",
       " Prediction(uid='ABUE0ALHKWKHC', iid='B005I6EU48', r_ui=5.0, est=4.431216931216931, details={'actual_k': 1, 'was_impossible': False}),\n",
       " Prediction(uid='A3PCEB9ND82AGE', iid='B005CXWK5I', r_ui=5.0, est=4.2620504148270895, details={'was_impossible': True, 'reason': 'User and/or item is unkown.'}),\n",
       " Prediction(uid='A2HNH4PKE5DPSI', iid='B009P2S4G6', r_ui=3.0, est=4.637931034482759, details={'actual_k': 0, 'was_impossible': False}),\n",
       " Prediction(uid='A3CIET1UO3G51E', iid='B000Q6RETS', r_ui=3.0, est=4.078947368421052, details={'actual_k': 0, 'was_impossible': False}),\n",
       " Prediction(uid='AGJRUK27RBVYS', iid='B00752R4S2', r_ui=3.0, est=4.053100775193799, details={'actual_k': 1, 'was_impossible': False}),\n",
       " Prediction(uid='AMKNPIDFLRFMP', iid='B00EEBS9O0', r_ui=3.0, est=3.962962962962963, details={'actual_k': 0, 'was_impossible': False}),\n",
       " Prediction(uid='A1KWPIORLG2QV', iid='B0049SCB2Y', r_ui=5.0, est=4.9, details={'actual_k': 0, 'was_impossible': False}),\n",
       " Prediction(uid='A1Z16630QMH8Q6', iid='B006WVR9GY', r_ui=5.0, est=4.317860175381198, details={'actual_k': 3, 'was_impossible': False}),\n",
       " Prediction(uid='A17BUUBOU0598B', iid='B000PH5MEC', r_ui=4.0, est=4.2620504148270895, details={'was_impossible': True, 'reason': 'User and/or item is unkown.'}),\n",
       " Prediction(uid='A1VEELTKS8NLZB', iid='B007UIX1VK', r_ui=3.0, est=4.2620504148270895, details={'was_impossible': True, 'reason': 'User and/or item is unkown.'}),\n",
       " Prediction(uid='A1T1YSCDW0PD25', iid='B0018O9JIG', r_ui=4.0, est=4.862711787623448, details={'actual_k': 1, 'was_impossible': False}),\n",
       " Prediction(uid='A20OBCQWBKCGZT', iid='B007L5NKZO', r_ui=3.0, est=3.3918574845657306, details={'actual_k': 3, 'was_impossible': False}),\n",
       " Prediction(uid='A36K2N527TXXJN', iid='B00JO80LUI', r_ui=5.0, est=4.682283050082719, details={'actual_k': 1, 'was_impossible': False}),\n",
       " Prediction(uid='A11I1I9QLMAM1A', iid='B00GJO7GOE', r_ui=5.0, est=4.394736842105263, details={'actual_k': 0, 'was_impossible': False}),\n",
       " Prediction(uid='A3QNX5KWHDV0GD', iid='B002NX13LC', r_ui=3.0, est=3.298507462686567, details={'actual_k': 0, 'was_impossible': False}),\n",
       " Prediction(uid='AOTZOHB2LZGYR', iid='B00574OH30', r_ui=5.0, est=4.555555555555555, details={'actual_k': 0, 'was_impossible': False}),\n",
       " Prediction(uid='A21INUA35HX4XQ', iid='B006W8U2MU', r_ui=5.0, est=3.8601297764960347, details={'actual_k': 1, 'was_impossible': False}),\n",
       " Prediction(uid='A2BMZRO0H7TFCS', iid='B001TH7GVE', r_ui=5.0, est=4.267484458506442, details={'actual_k': 7, 'was_impossible': False}),\n",
       " Prediction(uid='A2TRXEZYU9GYY8', iid='B001E0JH5E', r_ui=4.0, est=4.061872909698997, details={'actual_k': 1, 'was_impossible': False}),\n",
       " Prediction(uid='AFR9GYKAHM37U', iid='B002HUURWM', r_ui=4.0, est=4.630434782608695, details={'actual_k': 0, 'was_impossible': False}),\n",
       " Prediction(uid='A35C2IVVQR1HTK', iid='B0001MKU48', r_ui=5.0, est=4.2620504148270895, details={'was_impossible': True, 'reason': 'User and/or item is unkown.'}),\n",
       " Prediction(uid='AFM2J3HJNPIHV', iid='B00350GKQ0', r_ui=4.0, est=4.2620504148270895, details={'was_impossible': True, 'reason': 'User and/or item is unkown.'}),\n",
       " Prediction(uid='A14JBDSWKPKTZA', iid='B000BPRGK6', r_ui=4.0, est=4.72463768115942, details={'actual_k': 0, 'was_impossible': False}),\n",
       " Prediction(uid='A25HBO5V8S8SEA', iid='B00006HPBG', r_ui=5.0, est=4.2620504148270895, details={'was_impossible': True, 'reason': 'User and/or item is unkown.'}),\n",
       " Prediction(uid='A2QDOJFFLFGF18', iid='B007W7PK04', r_ui=4.0, est=3.389701843012447, details={'actual_k': 5, 'was_impossible': False}),\n",
       " Prediction(uid='A2L90SGUP36KGA', iid='B000W3QLLW', r_ui=4.0, est=4.0701754385964914, details={'actual_k': 0, 'was_impossible': False}),\n",
       " Prediction(uid='A1DO9LRCO23EOM', iid='B004NPH7BI', r_ui=5.0, est=4.461538461538462, details={'actual_k': 0, 'was_impossible': False}),\n",
       " Prediction(uid='ALQ4USPEQ9L5N', iid='B003ULNA3K', r_ui=5.0, est=4.893897882938979, details={'actual_k': 1, 'was_impossible': False}),\n",
       " Prediction(uid='A21I62TCDL4754', iid='B005T7MGOC', r_ui=4.0, est=4.2620504148270895, details={'was_impossible': True, 'reason': 'User and/or item is unkown.'}),\n",
       " Prediction(uid='A2HXE29CU1I24Y', iid='B0020HR7DE', r_ui=3.0, est=3.951219512195122, details={'actual_k': 0, 'was_impossible': False}),\n",
       " Prediction(uid='A2QI2NTDTMK2FV', iid='B0050SLU6K', r_ui=3.0, est=2.282375851996105, details={'actual_k': 1, 'was_impossible': False}),\n",
       " Prediction(uid='A3EQQHWJ1EEYEU', iid='B001BPII48', r_ui=5.0, est=4.2620504148270895, details={'was_impossible': True, 'reason': 'User and/or item is unkown.'}),\n",
       " Prediction(uid='A2ER8G4JJJ7XER', iid='B002JCSBDK', r_ui=4.0, est=4.2620504148270895, details={'was_impossible': True, 'reason': 'User and/or item is unkown.'}),\n",
       " Prediction(uid='A2V7EO331SFUF6', iid='B000WXAX6G', r_ui=5.0, est=4.086206896551724, details={'actual_k': 0, 'was_impossible': False}),\n",
       " Prediction(uid='AG6TX1ZJHLMO7', iid='B007JCMDA2', r_ui=3.0, est=4.454545454545454, details={'actual_k': 0, 'was_impossible': False}),\n",
       " Prediction(uid='A359MYLPLEOF7N', iid='B00CKAEF3Q', r_ui=5.0, est=4.2620504148270895, details={'was_impossible': True, 'reason': 'User and/or item is unkown.'}),\n",
       " Prediction(uid='A23NSKTMSPPBTR', iid='B005NTHXYY', r_ui=3.0, est=4.2620504148270895, details={'was_impossible': True, 'reason': 'User and/or item is unkown.'}),\n",
       " Prediction(uid='A3DOPYDOS49I3T', iid='B000EPHP4U', r_ui=5.0, est=4.863013698630137, details={'actual_k': 0, 'was_impossible': False}),\n",
       " Prediction(uid='A14I1F2H7NOYDC', iid='B0001LS14U', r_ui=3.0, est=4.2620504148270895, details={'was_impossible': True, 'reason': 'User and/or item is unkown.'}),\n",
       " Prediction(uid='A20VG5W98SX99L', iid='B005GM1Q1O', r_ui=2.0, est=2.677447864980233, details={'actual_k': 2, 'was_impossible': False}),\n",
       " Prediction(uid='AT28RL25Q2OLK', iid='B00C0OF9K0', r_ui=5.0, est=4.2620504148270895, details={'was_impossible': True, 'reason': 'User and/or item is unkown.'}),\n",
       " Prediction(uid='AT2J7H5TRZM8Z', iid='B00006JKXN', r_ui=2.0, est=4.315789473684211, details={'actual_k': 0, 'was_impossible': False}),\n",
       " Prediction(uid='A11OTLEDSW8ZXD', iid='B0063705PE', r_ui=5.0, est=4.01573733759239, details={'actual_k': 3, 'was_impossible': False}),\n",
       " Prediction(uid='A3ER6ARJ23CIN8', iid='B001ANZPZQ', r_ui=4.0, est=4.2620504148270895, details={'was_impossible': True, 'reason': 'User and/or item is unkown.'}),\n",
       " Prediction(uid='A3LDPF5FMB782Z', iid='B000GT6HAM', r_ui=2.0, est=4.2620504148270895, details={'was_impossible': True, 'reason': 'User and/or item is unkown.'}),\n",
       " Prediction(uid='A34UVV757IKPVB', iid='B008O2HW8O', r_ui=3.0, est=4.057528957528958, details={'actual_k': 1, 'was_impossible': False}),\n",
       " Prediction(uid='A2UOHALGF2X77Q', iid='B002VPDM2K', r_ui=4.0, est=3.2087537268538853, details={'actual_k': 3, 'was_impossible': False}),\n",
       " Prediction(uid='A2V0I904FH7ABY', iid='B003LRVNUU', r_ui=3.0, est=4.571428571428571, details={'actual_k': 0, 'was_impossible': False}),\n",
       " Prediction(uid='A1J75JJ0Q2OEJN', iid='B009AOFNU4', r_ui=3.0, est=2.859570156381115, details={'actual_k': 2, 'was_impossible': False}),\n",
       " Prediction(uid='A31N0XY2UTB25C', iid='B009APBY0G', r_ui=5.0, est=4.701219512195122, details={'actual_k': 0, 'was_impossible': False}),\n",
       " Prediction(uid='A3D7BGK0P5QY0X', iid='B00429N18S', r_ui=4.0, est=4.618905472636816, details={'actual_k': 1, 'was_impossible': False}),\n",
       " Prediction(uid='AOEAD7DPLZE53', iid='B0014C0IAK', r_ui=4.0, est=3.585526315789474, details={'actual_k': 0, 'was_impossible': False}),\n",
       " Prediction(uid='A3D01HLSUFEZQY', iid='B000X06ZH4', r_ui=5.0, est=4.425925925925926, details={'actual_k': 0, 'was_impossible': False}),\n",
       " Prediction(uid='A376OJHLE6SU9Q', iid='B00008ZGSO', r_ui=4.0, est=4.368197088465846, details={'actual_k': 1, 'was_impossible': False}),\n",
       " Prediction(uid='A1DB5QPH7WO488', iid='B000R1E59O', r_ui=1.0, est=4.2620504148270895, details={'was_impossible': True, 'reason': 'User and/or item is unkown.'}),\n",
       " Prediction(uid='A38RMU1Y5TDP9', iid='B006FLENJC', r_ui=5.0, est=4.734815876177212, details={'actual_k': 3, 'was_impossible': False}),\n",
       " Prediction(uid='A3G7BEJJCPD6DS', iid='B0035FZ13I', r_ui=5.0, est=4.919659630679601, details={'actual_k': 2, 'was_impossible': False}),\n",
       " Prediction(uid='AVPNQUVZWMDSX', iid='B008C1JC4O', r_ui=5.0, est=3.1382509896558988, details={'actual_k': 4, 'was_impossible': False}),\n",
       " Prediction(uid='A2IXK5LB4Y0NYV', iid='B0024FACAW', r_ui=5.0, est=4.2620504148270895, details={'was_impossible': True, 'reason': 'User and/or item is unkown.'}),\n",
       " Prediction(uid='A2ME89MSWVG9NF', iid='B004YIZWYI', r_ui=4.0, est=4.394917582417582, details={'actual_k': 1, 'was_impossible': False}),\n",
       " Prediction(uid='AYMD77ITD15PT', iid='B00BGA9WK2', r_ui=1.0, est=4.25, details={'actual_k': 0, 'was_impossible': False}),\n",
       " Prediction(uid='A10NMELR4KX0J6', iid='B006GDACG2', r_ui=5.0, est=4.2620504148270895, details={'was_impossible': True, 'reason': 'User and/or item is unkown.'}),\n",
       " Prediction(uid='AG35JCCQWDRCS', iid='B00EE39G1I', r_ui=4.0, est=4.2620504148270895, details={'was_impossible': True, 'reason': 'User and/or item is unkown.'}),\n",
       " Prediction(uid='A2VH0UT5EQFB6P', iid='B000MDZWUS', r_ui=3.0, est=4.020408163265306, details={'actual_k': 0, 'was_impossible': False}),\n",
       " Prediction(uid='A3V8P0O224OBDB', iid='B004Q0T0LU', r_ui=1.0, est=4.854166666666667, details={'actual_k': 0, 'was_impossible': False}),\n",
       " Prediction(uid='AZMY6E8B52L2T', iid='B00DTPYRTI', r_ui=5.0, est=4.318649045521292, details={'actual_k': 1, 'was_impossible': False}),\n",
       " Prediction(uid='A3LGT6UZL99IW1', iid='B005QZLN1Y', r_ui=5.0, est=4.2620504148270895, details={'was_impossible': True, 'reason': 'User and/or item is unkown.'}),\n",
       " Prediction(uid='A3NEAETOSXDBOM', iid='B0014XKQY2', r_ui=5.0, est=3.140983606557377, details={'actual_k': 1, 'was_impossible': False}),\n",
       " Prediction(uid='ALQ4USPEQ9L5N', iid='B00FRDUZXM', r_ui=4.0, est=4.601581888092257, details={'actual_k': 2, 'was_impossible': False}),\n",
       " Prediction(uid='A10O7THJ2O20AG', iid='B003UKJR7E', r_ui=5.0, est=4.2620504148270895, details={'was_impossible': True, 'reason': 'User and/or item is unkown.'}),\n",
       " Prediction(uid='A3KCKECEO3E2AN', iid='B00G53GJ88', r_ui=4.0, est=4.114285714285714, details={'actual_k': 0, 'was_impossible': False}),\n",
       " Prediction(uid='A3LGT6UZL99IW1', iid='B00009R6N0', r_ui=5.0, est=4.752775595320952, details={'actual_k': 2, 'was_impossible': False}),\n",
       " Prediction(uid='A27ADCSD15F3GL', iid='B005INAIOW', r_ui=5.0, est=2.4021185304371144, details={'actual_k': 1, 'was_impossible': False}),\n",
       " Prediction(uid='A1HBI9BBQIG1NH', iid='B005IHAIEI', r_ui=5.0, est=4.919767441860465, details={'actual_k': 1, 'was_impossible': False}),\n",
       " Prediction(uid='AYLLSFYS3UP1H', iid='B003YFHEAC', r_ui=5.0, est=4.383333333333334, details={'actual_k': 0, 'was_impossible': False}),\n",
       " Prediction(uid='A2FSOHSM9X13JT', iid='B003M349VS', r_ui=4.0, est=4.63265306122449, details={'actual_k': 0, 'was_impossible': False}),\n",
       " Prediction(uid='AFFVUZEGP1FDQ', iid='B007PM8AFS', r_ui=5.0, est=3.595744680851064, details={'actual_k': 0, 'was_impossible': False}),\n",
       " Prediction(uid='A3PD8JD9L4WEII', iid='B003U7SR0U', r_ui=5.0, est=4.2875, details={'actual_k': 0, 'was_impossible': False}),\n",
       " Prediction(uid='A11KQADBYE0UZL', iid='B00FJRS5BA', r_ui=5.0, est=4.575757575757576, details={'actual_k': 0, 'was_impossible': False}),\n",
       " Prediction(uid='ADZF3QDGSZE7K', iid='B004E635JO', r_ui=5.0, est=4.485321100917431, details={'actual_k': 1, 'was_impossible': False}),\n",
       " Prediction(uid='AIJQU979J6UFY', iid='B000VUIXOO', r_ui=5.0, est=5, details={'actual_k': 2, 'was_impossible': False}),\n",
       " Prediction(uid='AGXMC3ITWZASE', iid='B001GUPEMW', r_ui=4.0, est=3.8146535333797726, details={'actual_k': 2, 'was_impossible': False}),\n",
       " Prediction(uid='A1W415JP5WEAJK', iid='B004HD5EXO', r_ui=3.0, est=4.417582417582418, details={'actual_k': 0, 'was_impossible': False}),\n",
       " Prediction(uid='AOMEH9W6LHC4S', iid='B00009UTL1', r_ui=1.0, est=4.122222222222222, details={'actual_k': 0, 'was_impossible': False}),\n",
       " Prediction(uid='A2DS9DLMSU2M2Z', iid='B0000AE6CE', r_ui=4.0, est=4.2620504148270895, details={'was_impossible': True, 'reason': 'User and/or item is unkown.'}),\n",
       " Prediction(uid='A1Z7U9K6X3FEOU', iid='B004CVSTVU', r_ui=5.0, est=4.326923076923077, details={'actual_k': 0, 'was_impossible': False}),\n",
       " Prediction(uid='A2L4ZGN7GZJ95T', iid='B007B6YPAW', r_ui=4.0, est=3.475096683464198, details={'actual_k': 1, 'was_impossible': False}),\n",
       " Prediction(uid='A3EZFFPVS34AMO', iid='B004TS2AP2', r_ui=4.0, est=4.571428571428571, details={'actual_k': 0, 'was_impossible': False}),\n",
       " Prediction(uid='A30R8VFR16RE32', iid='B002T6NQU4', r_ui=5.0, est=4.2620504148270895, details={'was_impossible': True, 'reason': 'User and/or item is unkown.'}),\n",
       " Prediction(uid='A3D01HLSUFEZQY', iid='B001GCUXE4', r_ui=5.0, est=4.2620504148270895, details={'was_impossible': True, 'reason': 'User and/or item is unkown.'}),\n",
       " Prediction(uid='A2CL818RN52NWN', iid='B0007PN5ZK', r_ui=5.0, est=4.2620504148270895, details={'was_impossible': True, 'reason': 'User and/or item is unkown.'}),\n",
       " Prediction(uid='AN81JUYW2SL24', iid='B00004VUGJ', r_ui=4.0, est=4.141843971631205, details={'actual_k': 0, 'was_impossible': False}),\n",
       " Prediction(uid='A3SL0HA6422W4M', iid='B00591GIQK', r_ui=5.0, est=4.2620504148270895, details={'was_impossible': True, 'reason': 'User and/or item is unkown.'}),\n",
       " Prediction(uid='A203OCQQ12MAVT', iid='B001LNO722', r_ui=4.0, est=4.52258064516129, details={'actual_k': 0, 'was_impossible': False}),\n",
       " Prediction(uid='A3F3B6HY9RJI04', iid='B005MI8NJK', r_ui=3.0, est=3.3478947368421057, details={'actual_k': 1, 'was_impossible': False}),\n",
       " Prediction(uid='AJEOFP6ZWY0MK', iid='B0014DRXRA', r_ui=3.0, est=4.2620504148270895, details={'was_impossible': True, 'reason': 'User and/or item is unkown.'}),\n",
       " Prediction(uid='A14I1F2H7NOYDC', iid='B002ZRQ3PW', r_ui=5.0, est=4.2620504148270895, details={'was_impossible': True, 'reason': 'User and/or item is unkown.'}),\n",
       " Prediction(uid='A1VR1HIOVQWN09', iid='B00478O0JI', r_ui=5.0, est=4.764705882352941, details={'actual_k': 0, 'was_impossible': False}),\n",
       " Prediction(uid='AULFLNWJP1QXY', iid='B001TODUXA', r_ui=4.0, est=3.483483483483484, details={'actual_k': 1, 'was_impossible': False}),\n",
       " Prediction(uid='A2J7FHZFKOKGZ6', iid='B001AOK7KI', r_ui=5.0, est=3.8405797101449277, details={'actual_k': 0, 'was_impossible': False}),\n",
       " Prediction(uid='A2E1EFNIZL2FVA', iid='B003UT6C9G', r_ui=2.0, est=4.27027027027027, details={'actual_k': 0, 'was_impossible': False}),\n",
       " Prediction(uid='A1RCGK44YXNBBB', iid='B000E40DF4', r_ui=5.0, est=4.2620504148270895, details={'was_impossible': True, 'reason': 'User and/or item is unkown.'}),\n",
       " Prediction(uid='A2UTZ4O5E2W4DK', iid='B001O4EPHA', r_ui=5.0, est=5, details={'actual_k': 1, 'was_impossible': False}),\n",
       " Prediction(uid='A8X8D4BUY5DFU', iid='B000FDTNZK', r_ui=3.0, est=4.147058823529412, details={'actual_k': 0, 'was_impossible': False}),\n",
       " Prediction(uid='A8WEXFRWX1ZHH', iid='B009SYZ8OC', r_ui=5.0, est=3.2884615384615383, details={'actual_k': 0, 'was_impossible': False}),\n",
       " Prediction(uid='A1TY97ZGQT5FGF', iid='B004HW7E2O', r_ui=1.0, est=2.317073170731707, details={'actual_k': 0, 'was_impossible': False}),\n",
       " Prediction(uid='A34LQ791ACZ0JC', iid='B002W4M0DW', r_ui=5.0, est=4.722222222222222, details={'actual_k': 0, 'was_impossible': False}),\n",
       " Prediction(uid='A1VUN4JU731CBH', iid='B002TLSOFQ', r_ui=4.0, est=3.5626750700280114, details={'actual_k': 1, 'was_impossible': False}),\n",
       " Prediction(uid='A1Z7U9K6X3FEOU', iid='B002ODG5GO', r_ui=5.0, est=4.326923076923077, details={'actual_k': 0, 'was_impossible': False}),\n",
       " Prediction(uid='AV8MDYLHHTUOY', iid='B001GXLDMO', r_ui=1.0, est=4.2620504148270895, details={'was_impossible': True, 'reason': 'User and/or item is unkown.'}),\n",
       " Prediction(uid='A1QOK9LU90ACF7', iid='B002SG7MEG', r_ui=4.0, est=4.029411764705882, details={'actual_k': 0, 'was_impossible': False}),\n",
       " Prediction(uid='A1EQ5D5JRSW23K', iid='B004Q9T7KK', r_ui=4.0, est=4.2620504148270895, details={'was_impossible': True, 'reason': 'User and/or item is unkown.'}),\n",
       " Prediction(uid='A3N4VTNFPMTHEF', iid='B008HO9DK4', r_ui=5.0, est=3.6530120481927706, details={'actual_k': 1, 'was_impossible': False}),\n",
       " Prediction(uid='A3775OP5VTX5ON', iid='B00542NV32', r_ui=4.0, est=3.6206896551724137, details={'actual_k': 0, 'was_impossible': False}),\n",
       " Prediction(uid='A3CKI6VEH0HBMJ', iid='B00AU0HMGA', r_ui=5.0, est=4.769230769230769, details={'actual_k': 0, 'was_impossible': False}),\n",
       " Prediction(uid='AO8NH0BV82XIE', iid='B002IC0YL8', r_ui=5.0, est=3.9555555555555557, details={'actual_k': 0, 'was_impossible': False}),\n",
       " Prediction(uid='A3CW0ZLUO5X2B1', iid='B00212NO6W', r_ui=4.0, est=4.58008107559045, details={'actual_k': 3, 'was_impossible': False}),\n",
       " Prediction(uid='A2UTZ4O5E2W4DK', iid='B000WKW69Q', r_ui=4.0, est=5, details={'actual_k': 1, 'was_impossible': False}),\n",
       " Prediction(uid='A294BKN913UOGP', iid='B003Z8X132', r_ui=4.0, est=4.2620504148270895, details={'was_impossible': True, 'reason': 'User and/or item is unkown.'}),\n",
       " Prediction(uid='A1F1A0QQP2XVH5', iid='B003G2ZJTG', r_ui=4.0, est=4.038461538461538, details={'actual_k': 0, 'was_impossible': False}),\n",
       " Prediction(uid='ATS2855497V0I', iid='B004NY9V0O', r_ui=4.0, est=2.6895459693365478, details={'actual_k': 3, 'was_impossible': False}),\n",
       " Prediction(uid='A680RUE1FDO8B', iid='B00ANII768', r_ui=5.0, est=4.90560323069157, details={'actual_k': 1, 'was_impossible': False}),\n",
       " Prediction(uid='AQIJ3ZEEVCIKU', iid='B005LJQP0E', r_ui=5.0, est=4.2620504148270895, details={'was_impossible': True, 'reason': 'User and/or item is unkown.'}),\n",
       " Prediction(uid='A1MEISNED4NP7U', iid='B0026ZPFCK', r_ui=4.0, est=5, details={'actual_k': 1, 'was_impossible': False}),\n",
       " Prediction(uid='A3A4ZAIBQWKOZS', iid='B00KYMCJF8', r_ui=5.0, est=4.799535188606162, details={'actual_k': 1, 'was_impossible': False}),\n",
       " Prediction(uid='A1TQZUSOU22E9M', iid='B0010Y4SMG', r_ui=5.0, est=4.2620504148270895, details={'was_impossible': True, 'reason': 'User and/or item is unkown.'}),\n",
       " Prediction(uid='AT28RL25Q2OLK', iid='B00GN6PPXW', r_ui=5.0, est=4.871421298211921, details={'actual_k': 3, 'was_impossible': False}),\n",
       " Prediction(uid='A1QRST0A3IQIEF', iid='B008C4LITS', r_ui=5.0, est=4.2620504148270895, details={'was_impossible': True, 'reason': 'User and/or item is unkown.'}),\n",
       " Prediction(uid='A38CHSS1ZAE51B', iid='B003TPC2JU', r_ui=5.0, est=4.2620504148270895, details={'was_impossible': True, 'reason': 'User and/or item is unkown.'}),\n",
       " Prediction(uid='A2SH6A32BE6NEV', iid='B00F1CRTLK', r_ui=5.0, est=4.75, details={'actual_k': 1, 'was_impossible': False}),\n",
       " Prediction(uid='A1ODOGXEYECQQ8', iid='B00127VF68', r_ui=4.0, est=4.037098137611457, details={'actual_k': 7, 'was_impossible': False}),\n",
       " Prediction(uid='ASCBJEPXTOU0V', iid='B006ISKYPE', r_ui=5.0, est=4.434782608695652, details={'actual_k': 0, 'was_impossible': False}),\n",
       " Prediction(uid='ADHA1W879JNT0', iid='B00C8NNZ36', r_ui=4.0, est=4.027027027027027, details={'actual_k': 0, 'was_impossible': False}),\n",
       " Prediction(uid='A376OJHLE6SU9Q', iid='B006TF37H8', r_ui=5.0, est=4.762415669180969, details={'actual_k': 4, 'was_impossible': False}),\n",
       " Prediction(uid='A3PD8JD9L4WEII', iid='B002KKYXSI', r_ui=4.0, est=4.2620504148270895, details={'was_impossible': True, 'reason': 'User and/or item is unkown.'}),\n",
       " Prediction(uid='ARIDN94LOCQFD', iid='B003DSCU72', r_ui=4.0, est=4.423728813559322, details={'actual_k': 0, 'was_impossible': False}),\n",
       " Prediction(uid='A1VGXHHR08G044', iid='B0009FUXV2', r_ui=5.0, est=4.2620504148270895, details={'was_impossible': True, 'reason': 'User and/or item is unkown.'}),\n",
       " Prediction(uid='AW6FQE5QRF2LM', iid='B00BALK9CM', r_ui=5.0, est=4.048280423280423, details={'actual_k': 1, 'was_impossible': False}),\n",
       " Prediction(uid='A1MBXP3NZM2BUO', iid='B006W8U2MU', r_ui=5.0, est=4.920251174582325, details={'actual_k': 2, 'was_impossible': False}),\n",
       " Prediction(uid='A37IRE9GZ0CZ7I', iid='B003ES5ZUU', r_ui=5.0, est=4.6892023743166, details={'actual_k': 8, 'was_impossible': False}),\n",
       " Prediction(uid='A33HIV8RXRDM88', iid='B004VM0SE6', r_ui=5.0, est=4.478395061728395, details={'actual_k': 1, 'was_impossible': False}),\n",
       " Prediction(uid='A1BVE2ZIBKJ7YI', iid='B00726185Q', r_ui=3.0, est=3.2916666666666665, details={'actual_k': 0, 'was_impossible': False}),\n",
       " Prediction(uid='A3INN916E4VION', iid='B00C3QF4GY', r_ui=5.0, est=4.517241379310345, details={'actual_k': 0, 'was_impossible': False}),\n",
       " Prediction(uid='A2VALCFTOWFYXZ', iid='B00BWLL9QA', r_ui=1.0, est=4.2620504148270895, details={'was_impossible': True, 'reason': 'User and/or item is unkown.'}),\n",
       " Prediction(uid='A1UEL5C1N6E5SE', iid='B00FB45SI4', r_ui=5.0, est=4.063291139240507, details={'actual_k': 0, 'was_impossible': False}),\n",
       " Prediction(uid='A2OOLI2WFY4L2', iid='B002DS7NJI', r_ui=3.0, est=3.851063829787234, details={'actual_k': 0, 'was_impossible': False}),\n",
       " Prediction(uid='ADKGE078JK8K7', iid='B0011Z44UA', r_ui=5.0, est=4.538461538461538, details={'actual_k': 0, 'was_impossible': False}),\n",
       " Prediction(uid='A2XPK6XCL0UH1S', iid='B000CS1TLE', r_ui=5.0, est=3.9285714285714284, details={'actual_k': 0, 'was_impossible': False}),\n",
       " Prediction(uid='A3VBXQKRM7A4JR', iid='B002TLSOFQ', r_ui=4.0, est=3.946796338672769, details={'actual_k': 1, 'was_impossible': False}),\n",
       " Prediction(uid='A2BLFCOPSMBOZ9', iid='B001GDLYAU', r_ui=4.0, est=4.099099099099099, details={'actual_k': 0, 'was_impossible': False}),\n",
       " Prediction(uid='A35W3JQYP0M655', iid='B00EPCN9O8', r_ui=5.0, est=4.1923076923076925, details={'actual_k': 0, 'was_impossible': False}),\n",
       " Prediction(uid='A2ZWJVKITA32OV', iid='B004YLCBRG', r_ui=5.0, est=4.026315789473684, details={'actual_k': 0, 'was_impossible': False}),\n",
       " Prediction(uid='A2N3JSOIQ6ZNFL', iid='B00F0DD0I6', r_ui=5.0, est=4.8214581607290805, details={'actual_k': 1, 'was_impossible': False}),\n",
       " Prediction(uid='AFXTKAO0CB354', iid='B00006B6O9', r_ui=4.0, est=4.2620504148270895, details={'was_impossible': True, 'reason': 'User and/or item is unkown.'}),\n",
       " Prediction(uid='A2NYK9KWFMJV4Y', iid='B00HZ9GPTE', r_ui=5.0, est=5, details={'actual_k': 2, 'was_impossible': False}),\n",
       " Prediction(uid='A10NMELR4KX0J6', iid='B008DVMRXG', r_ui=5.0, est=4.079365079365079, details={'actual_k': 0, 'was_impossible': False}),\n",
       " Prediction(uid='A1BZIM4WGZ6DZP', iid='B008GGH4OK', r_ui=5.0, est=4.2620504148270895, details={'was_impossible': True, 'reason': 'User and/or item is unkown.'}),\n",
       " Prediction(uid='A3OA4DV4L81N1D', iid='B004MKNJ6G', r_ui=5.0, est=4.544117647058823, details={'actual_k': 0, 'was_impossible': False}),\n",
       " Prediction(uid='A365PBEOWM7EI7', iid='B0016OEV7C', r_ui=5.0, est=3.7837837837837838, details={'actual_k': 0, 'was_impossible': False}),\n",
       " Prediction(uid='A2ZY49IDE6TY5I', iid='B009W8YQ6K', r_ui=4.0, est=4.049382716049383, details={'actual_k': 0, 'was_impossible': False}),\n",
       " Prediction(uid='AZ8XSDMIX04VJ', iid='B001BZM998', r_ui=5.0, est=4.684210526315789, details={'actual_k': 0, 'was_impossible': False}),\n",
       " Prediction(uid='AN81JUYW2SL24', iid='B000NK3H4S', r_ui=4.0, est=4.2927873678576205, details={'actual_k': 1, 'was_impossible': False}),\n",
       " Prediction(uid='ATOKT8QYK967L', iid='B008FQWJWI', r_ui=5.0, est=4.2620504148270895, details={'was_impossible': True, 'reason': 'User and/or item is unkown.'}),\n",
       " Prediction(uid='A3JUHP1E3WUHEA', iid='B003R7KMS8', r_ui=5.0, est=4.413043478260869, details={'actual_k': 0, 'was_impossible': False}),\n",
       " Prediction(uid='A22S7D0LP8GRDH', iid='B0057CVH6W', r_ui=5.0, est=4.671428571428572, details={'actual_k': 0, 'was_impossible': False}),\n",
       " Prediction(uid='A1EVV74UQYVKRY', iid='B00D4MFPLA', r_ui=5.0, est=5, details={'actual_k': 9, 'was_impossible': False}),\n",
       " Prediction(uid='AHF4I1FSIHABC', iid='B002NEGTTW', r_ui=5.0, est=4.99046821114908, details={'actual_k': 2, 'was_impossible': False}),\n",
       " Prediction(uid='AOEDWQLH2WKKW', iid='B00CQ35C1Q', r_ui=4.0, est=4.617021276595745, details={'actual_k': 1, 'was_impossible': False}),\n",
       " Prediction(uid='A1PVJICI412IN4', iid='B0031KBKLY', r_ui=1.0, est=3.96, details={'actual_k': 0, 'was_impossible': False}),\n",
       " Prediction(uid='ABQWMANK4AR63', iid='B002BWOO0W', r_ui=5.0, est=3.9130434782608696, details={'actual_k': 0, 'was_impossible': False}),\n",
       " Prediction(uid='A3DWO5RJDA430F', iid='B00AYAO7MI', r_ui=4.0, est=4.2620504148270895, details={'was_impossible': True, 'reason': 'User and/or item is unkown.'}),\n",
       " Prediction(uid='ADHA1W879JNT0', iid='B001C3K7IE', r_ui=3.0, est=4.2620504148270895, details={'was_impossible': True, 'reason': 'User and/or item is unkown.'}),\n",
       " Prediction(uid='A3FKQQTSMHOCE0', iid='B00009XVCZ', r_ui=4.0, est=4.666666666666667, details={'actual_k': 0, 'was_impossible': False}),\n",
       " Prediction(uid='A141OPVE376YFI', iid='B000MQH9MO', r_ui=5.0, est=4.622222222222222, details={'actual_k': 0, 'was_impossible': False}),\n",
       " Prediction(uid='AOMEH9W6LHC4S', iid='B004T9RR6I', r_ui=5.0, est=3.529123802234155, details={'actual_k': 18, 'was_impossible': False}),\n",
       " Prediction(uid='A25TQLMIAPI1T6', iid='B002WE6D44', r_ui=4.0, est=4.758928571428571, details={'actual_k': 1, 'was_impossible': False}),\n",
       " Prediction(uid='AOEAD7DPLZE53', iid='B009YP274O', r_ui=4.0, est=4.2620504148270895, details={'was_impossible': True, 'reason': 'User and/or item is unkown.'}),\n",
       " Prediction(uid='A3SU7JSTPH9CC9', iid='B0087NZ31S', r_ui=5.0, est=4.4324324324324325, details={'actual_k': 0, 'was_impossible': False}),\n",
       " Prediction(uid='A10NMELR4KX0J6', iid='B002HWRJBM', r_ui=5.0, est=3.5389936657226304, details={'actual_k': 5, 'was_impossible': False}),\n",
       " Prediction(uid='A3V2EZ6MA32FF6', iid='B0039NLS3I', r_ui=5.0, est=5, details={'actual_k': 2, 'was_impossible': False}),\n",
       " Prediction(uid='A26EQ8U96JA92T', iid='B005MR6CLM', r_ui=5.0, est=4.2620504148270895, details={'was_impossible': True, 'reason': 'User and/or item is unkown.'}),\n",
       " Prediction(uid='A3F9CMU8KNAY1M', iid='B00825BZUY', r_ui=5.0, est=3.9197660047659153, details={'actual_k': 2, 'was_impossible': False}),\n",
       " Prediction(uid='A2TN0U8173HM7A', iid='B000Y7T5UU', r_ui=5.0, est=5, details={'actual_k': 0, 'was_impossible': False}),\n",
       " Prediction(uid='A2RG1B0K8YBJ4A', iid='B0037W69FS', r_ui=3.0, est=4.2620504148270895, details={'was_impossible': True, 'reason': 'User and/or item is unkown.'}),\n",
       " Prediction(uid='A15QYHQH80W30L', iid='B00067WPQY', r_ui=3.0, est=4.2620504148270895, details={'was_impossible': True, 'reason': 'User and/or item is unkown.'}),\n",
       " Prediction(uid='ASJZT7DM51QEM', iid='B006TAP096', r_ui=5.0, est=4.0, details={'actual_k': 0, 'was_impossible': False}),\n",
       " Prediction(uid='A1EH2S92FHWZRP', iid='B001T0HFNA', r_ui=4.0, est=3.8647937721986514, details={'actual_k': 2, 'was_impossible': False}),\n",
       " Prediction(uid='AYB4ELCS5AM8P', iid='B00JEOC1LO', r_ui=5.0, est=5, details={'actual_k': 2, 'was_impossible': False}),\n",
       " Prediction(uid='AW68KVDV7BBRS', iid='B0023RRPDI', r_ui=5.0, est=4.461538461538462, details={'actual_k': 0, 'was_impossible': False}),\n",
       " Prediction(uid='AD8DLOGHAXL', iid='B0054FCQUS', r_ui=5.0, est=4.2620504148270895, details={'was_impossible': True, 'reason': 'User and/or item is unkown.'}),\n",
       " Prediction(uid='A1UEL5C1N6E5SE', iid='B0011Z44UA', r_ui=4.0, est=3.543810619759987, details={'actual_k': 1, 'was_impossible': False}),\n",
       " Prediction(uid='A34CSXOGVYF94S', iid='B006291K7A', r_ui=4.0, est=4.25531914893617, details={'actual_k': 0, 'was_impossible': False}),\n",
       " Prediction(uid='A17BUUBOU0598B', iid='B006CFU61U', r_ui=4.0, est=3.1805797108207967, details={'actual_k': 4, 'was_impossible': False}),\n",
       " Prediction(uid='AGXMC3ITWZASE', iid='B00B5QNFUK', r_ui=5.0, est=4.2620504148270895, details={'was_impossible': True, 'reason': 'User and/or item is unkown.'}),\n",
       " Prediction(uid='A3977M5S0GIG5H', iid='B000N4Z4JK', r_ui=5.0, est=4.65, details={'actual_k': 0, 'was_impossible': False}),\n",
       " Prediction(uid='A3CG93783LP0FO', iid='B000Q8UAWY', r_ui=5.0, est=4.230324895942596, details={'actual_k': 4, 'was_impossible': False}),\n",
       " Prediction(uid='AEJAGHLC675A7', iid='B006ZT4VA0', r_ui=5.0, est=5, details={'actual_k': 1, 'was_impossible': False}),\n",
       " Prediction(uid='AL9WKVMRI6GFB', iid='B00E964YGC', r_ui=4.0, est=4.102564102564102, details={'actual_k': 0, 'was_impossible': False}),\n",
       " Prediction(uid='A35HNL2VEDK9Z1', iid='B00005LENO', r_ui=5.0, est=4.5320186695221, details={'actual_k': 2, 'was_impossible': False}),\n",
       " Prediction(uid='A3NHUQ33CFH3VM', iid='B004L9M4DW', r_ui=3.0, est=4.456692913385827, details={'actual_k': 0, 'was_impossible': False}),\n",
       " Prediction(uid='A3A15L96IYUO6V', iid='B001L2MJO6', r_ui=4.0, est=4.253021644181578, details={'actual_k': 2, 'was_impossible': False}),\n",
       " Prediction(uid='A231WM2Z2JL0U3', iid='B00005T6GZ', r_ui=5.0, est=4.285714285714286, details={'actual_k': 0, 'was_impossible': False}),\n",
       " Prediction(uid='A1ASWDAEDTTY5I', iid='B000EXS1BS', r_ui=5.0, est=4.2105263157894735, details={'actual_k': 0, 'was_impossible': False}),\n",
       " Prediction(uid='AWPODHOB4GFWL', iid='B0053U10K6', r_ui=5.0, est=4.2620504148270895, details={'was_impossible': True, 'reason': 'User and/or item is unkown.'}),\n",
       " Prediction(uid='ANW6EGY12V5XS', iid='B005N8W1EW', r_ui=3.0, est=3.5105580693815988, details={'actual_k': 1, 'was_impossible': False}),\n",
       " Prediction(uid='A21T0D2F7SKG5S', iid='B003100VSW', r_ui=5.0, est=4.2620504148270895, details={'was_impossible': True, 'reason': 'User and/or item is unkown.'}),\n",
       " Prediction(uid='A2AFTRU43PY9P5', iid='B003OF6BDI', r_ui=5.0, est=4.578947368421052, details={'actual_k': 0, 'was_impossible': False}),\n",
       " Prediction(uid='A2SATO5BNKWY3Y', iid='B000HPV3RW', r_ui=5.0, est=4.9009442746347975, details={'actual_k': 2, 'was_impossible': False}),\n",
       " Prediction(uid='A1VLVWTLV3LVHR', iid='B000ENQT1W', r_ui=4.0, est=4.2620504148270895, details={'was_impossible': True, 'reason': 'User and/or item is unkown.'}),\n",
       " Prediction(uid='A8X8D4BUY5DFU', iid='B0092HP3GS', r_ui=5.0, est=4.147058823529412, details={'actual_k': 0, 'was_impossible': False}),\n",
       " Prediction(uid='A2PY5ED630H0QJ', iid='B005DMC2Z6', r_ui=3.0, est=4.2620504148270895, details={'was_impossible': True, 'reason': 'User and/or item is unkown.'}),\n",
       " Prediction(uid='A680RUE1FDO8B', iid='B000VEHTLS', r_ui=5.0, est=4.477031802120141, details={'actual_k': 0, 'was_impossible': False}),\n",
       " Prediction(uid='A1143YEAZYMYHJ', iid='B00032C2EW', r_ui=2.0, est=4.2620504148270895, details={'was_impossible': True, 'reason': 'User and/or item is unkown.'}),\n",
       " Prediction(uid='A54S9CIUV5VNB', iid='B00D6PTMHI', r_ui=2.0, est=4.385714285714286, details={'actual_k': 0, 'was_impossible': False}),\n",
       " Prediction(uid='A2J8T58Z4X15IO', iid='B00822GIH2', r_ui=5.0, est=3.9278761061946903, details={'actual_k': 1, 'was_impossible': False}),\n",
       " Prediction(uid='A2FSOHSM9X13JT', iid='B007REQU9W', r_ui=5.0, est=4.2620504148270895, details={'was_impossible': True, 'reason': 'User and/or item is unkown.'}),\n",
       " Prediction(uid='A2XX2A4OJCDNLZ', iid='B003TSL5DQ', r_ui=5.0, est=4.2620504148270895, details={'was_impossible': True, 'reason': 'User and/or item is unkown.'}),\n",
       " Prediction(uid='A1N5FSCYN4796F', iid='B007PJ4PKK', r_ui=3.0, est=2.4460521426864643, details={'actual_k': 2, 'was_impossible': False}),\n",
       " Prediction(uid='A11I1I9QLMAM1A', iid='B005YR1PV2', r_ui=4.0, est=3.6063774040612753, details={'actual_k': 6, 'was_impossible': False}),\n",
       " Prediction(uid='A781ITP3HE2N5', iid='B00DIIH6YY', r_ui=4.0, est=4.2620504148270895, details={'was_impossible': True, 'reason': 'User and/or item is unkown.'}),\n",
       " Prediction(uid='AN2IZT80ZUNJN', iid='B002WLSQU6', r_ui=5.0, est=4.2620504148270895, details={'was_impossible': True, 'reason': 'User and/or item is unkown.'}),\n",
       " Prediction(uid='A3FKQQTSMHOCE0', iid='B000067BEG', r_ui=5.0, est=4.2620504148270895, details={'was_impossible': True, 'reason': 'User and/or item is unkown.'}),\n",
       " Prediction(uid='A1DQHS7MOVYYYA', iid='B002R5AM7C', r_ui=5.0, est=3.422134378792914, details={'actual_k': 6, 'was_impossible': False}),\n",
       " Prediction(uid='A1ZPUEHF4AES86', iid='B004Q72PEM', r_ui=5.0, est=2.815371762740184, details={'actual_k': 1, 'was_impossible': False}),\n",
       " Prediction(uid='A2QI2JHSIQ3SN3', iid='B00GTGETFG', r_ui=5.0, est=5, details={'actual_k': 1, 'was_impossible': False}),\n",
       " Prediction(uid='A2U3OEIK1CUPIK', iid='B002BH4MWW', r_ui=4.0, est=4.616666666666666, details={'actual_k': 0, 'was_impossible': False}),\n",
       " Prediction(uid='A2Y739CRM15WDL', iid='B005CLPP84', r_ui=5.0, est=4.239761051341659, details={'actual_k': 3, 'was_impossible': False}),\n",
       " Prediction(uid='A17HMM1M7T9PJ1', iid='B0002Y5WXE', r_ui=4.0, est=4.762863483151761, details={'actual_k': 3, 'was_impossible': False}),\n",
       " Prediction(uid='AEN44U6T9R93', iid='B002BFA91C', r_ui=5.0, est=4.25, details={'actual_k': 0, 'was_impossible': False}),\n",
       " Prediction(uid='A74UT8IQCM0I2', iid='B00152QN08', r_ui=5.0, est=4.767441860465116, details={'actual_k': 0, 'was_impossible': False}),\n",
       " Prediction(uid='A1KWPIORLG2QV', iid='B003BYRGJU', r_ui=5.0, est=4.9, details={'actual_k': 0, 'was_impossible': False}),\n",
       " Prediction(uid='A15XI2BEGGFEOW', iid='B004O0TRDI', r_ui=5.0, est=4.2620504148270895, details={'was_impossible': True, 'reason': 'User and/or item is unkown.'}),\n",
       " Prediction(uid='A1H7Y5XKPGT0OS', iid='B0044UHMOO', r_ui=3.0, est=3.6278887583235413, details={'actual_k': 1, 'was_impossible': False}),\n",
       " Prediction(uid='AN2IZT80ZUNJN', iid='B003NQAIUU', r_ui=5.0, est=4.2620504148270895, details={'was_impossible': True, 'reason': 'User and/or item is unkown.'}),\n",
       " Prediction(uid='AMVXR3NPL0GWX', iid='B000BTCJNG', r_ui=4.0, est=4.371428571428571, details={'actual_k': 0, 'was_impossible': False}),\n",
       " Prediction(uid='AW3LX47IHPFRL', iid='B0055D66V4', r_ui=2.0, est=3.731707317073171, details={'actual_k': 0, 'was_impossible': False}),\n",
       " Prediction(uid='A2XPK6XCL0UH1S', iid='B000JDHS5I', r_ui=1.0, est=3.9285714285714284, details={'actual_k': 0, 'was_impossible': False}),\n",
       " Prediction(uid='A2LF16F0KX9L7P', iid='B00904JILO', r_ui=3.0, est=5, details={'actual_k': 1, 'was_impossible': False}),\n",
       " Prediction(uid='AUBEFRFHJR64Y', iid='B001T9N0SA', r_ui=2.0, est=3.9661016949152543, details={'actual_k': 0, 'was_impossible': False}),\n",
       " Prediction(uid='A1P4XD7IORSEFN', iid='B003GAJ67Y', r_ui=3.0, est=3.8297872340425534, details={'actual_k': 0, 'was_impossible': False}),\n",
       " Prediction(uid='A24HWYHR28JJ7A', iid='B007BYLLNI', r_ui=5.0, est=4.516129032258065, details={'actual_k': 0, 'was_impossible': False}),\n",
       " Prediction(uid='A2QNS95WGN35G9', iid='B001V9LPT4', r_ui=4.0, est=4.575, details={'actual_k': 0, 'was_impossible': False}),\n",
       " Prediction(uid='A5JLAU2ARJ0BO', iid='B0001BRITE', r_ui=1.0, est=3.893939393939394, details={'actual_k': 0, 'was_impossible': False}),\n",
       " Prediction(uid='A25KKXUQQ0OLWB', iid='B004RO9L4Q', r_ui=4.0, est=4.774193548387097, details={'actual_k': 0, 'was_impossible': False}),\n",
       " Prediction(uid='A32QOZWIKQDNZX', iid='B0007GIXS8', r_ui=5.0, est=4.451612903225806, details={'actual_k': 0, 'was_impossible': False}),\n",
       " Prediction(uid='A105S56ODHGJEK', iid='B0085YTDM4', r_ui=4.0, est=3.6764705882352944, details={'actual_k': 1, 'was_impossible': False}),\n",
       " Prediction(uid='A3OZA8HNJM26DC', iid='B007YUISHQ', r_ui=3.0, est=4.2620504148270895, details={'was_impossible': True, 'reason': 'User and/or item is unkown.'}),\n",
       " Prediction(uid='A1H98YV5K5BUX0', iid='B00009R6J7', r_ui=4.0, est=4.490909090909091, details={'actual_k': 0, 'was_impossible': False}),\n",
       " Prediction(uid='A37D1ZP8GBHE38', iid='B002MCZJ78', r_ui=5.0, est=4.989565217391305, details={'actual_k': 1, 'was_impossible': False}),\n",
       " Prediction(uid='A2AY4YUOX2N1BQ', iid='B00D65AJ0C', r_ui=3.0, est=3.7429277626623207, details={'actual_k': 6, 'was_impossible': False}),\n",
       " Prediction(uid='A34UVV757IKPVB', iid='B004CLYEFK', r_ui=4.0, est=4.232323936606421, details={'actual_k': 8, 'was_impossible': False}),\n",
       " Prediction(uid='A1UMSB7LAW0RIR', iid='B00008XOMX', r_ui=1.0, est=4.2620504148270895, details={'was_impossible': True, 'reason': 'User and/or item is unkown.'}),\n",
       " Prediction(uid='A259MPG6SOL02P', iid='B00004TDN2', r_ui=3.0, est=3.375, details={'actual_k': 0, 'was_impossible': False}),\n",
       " Prediction(uid='A1T1YSCDW0PD25', iid='B0007MWE1E', r_ui=5.0, est=4.339743589743589, details={'actual_k': 0, 'was_impossible': False}),\n",
       " Prediction(uid='A5KMMY627T3W', iid='B0011NVMO8', r_ui=5.0, est=4.592800478970215, details={'actual_k': 1, 'was_impossible': False}),\n",
       " Prediction(uid='A1B4MIXYVIKMU2', iid='B00AWLCJ6K', r_ui=4.0, est=4.265822784810126, details={'actual_k': 0, 'was_impossible': False}),\n",
       " Prediction(uid='AT53ZTTO707MB', iid='B00I0G8GNY', r_ui=5.0, est=4.58172517832571, details={'actual_k': 2, 'was_impossible': False}),\n",
       " Prediction(uid='AGXMC3ITWZASE', iid='B002IRPA2G', r_ui=4.0, est=4.4363636363636365, details={'actual_k': 1, 'was_impossible': False}),\n",
       " Prediction(uid='A5JLAU2ARJ0BO', iid='B0001G6U5M', r_ui=5.0, est=3.893939393939394, details={'actual_k': 0, 'was_impossible': False}),\n",
       " Prediction(uid='A17UNMURMLX0ZE', iid='B000EVSI7M', r_ui=4.0, est=4.754716981132075, details={'actual_k': 1, 'was_impossible': False}),\n",
       " Prediction(uid='AYOTEJ617O60K', iid='B0032OE610', r_ui=5.0, est=4.2620504148270895, details={'was_impossible': True, 'reason': 'User and/or item is unkown.'}),\n",
       " Prediction(uid='A2A4X545ERLS7H', iid='B00023433U', r_ui=5.0, est=4.557165861513688, details={'actual_k': 1, 'was_impossible': False}),\n",
       " Prediction(uid='A3T7V207KRDE2O', iid='B005VTGCE8', r_ui=5.0, est=3.8125378558449423, details={'actual_k': 1, 'was_impossible': False}),\n",
       " Prediction(uid='A1CSRR7FCKBL9M', iid='B001L4L7AQ', r_ui=5.0, est=4.2620504148270895, details={'was_impossible': True, 'reason': 'User and/or item is unkown.'}),\n",
       " Prediction(uid='A8CKH8XB33XGN', iid='B009EVIG5M', r_ui=5.0, est=4.2620504148270895, details={'was_impossible': True, 'reason': 'User and/or item is unkown.'}),\n",
       " Prediction(uid='A1VEELTKS8NLZB', iid='B004RO3V7O', r_ui=4.0, est=4.2620504148270895, details={'was_impossible': True, 'reason': 'User and/or item is unkown.'}),\n",
       " Prediction(uid='A30J7WQV0ZNRXG', iid='B004YIZWXO', r_ui=1.0, est=4.288461538461538, details={'actual_k': 0, 'was_impossible': False}),\n",
       " Prediction(uid='A1J75JJ0Q2OEJN', iid='B001H35TPK', r_ui=4.0, est=4.469720542088548, details={'actual_k': 3, 'was_impossible': False}),\n",
       " Prediction(uid='A3AYSYSLHU26U9', iid='B003Y74AXO', r_ui=3.0, est=3.3661369396957, details={'actual_k': 7, 'was_impossible': False}),\n",
       " Prediction(uid='A3NHUQ33CFH3VM', iid='B00CPJLZ3A', r_ui=5.0, est=4.579980584618704, details={'actual_k': 1, 'was_impossible': False}),\n",
       " Prediction(uid='A36A1ZYZH8568P', iid='B005KDYA44', r_ui=4.0, est=4.15625, details={'actual_k': 0, 'was_impossible': False}),\n",
       " Prediction(uid='A1DTCJV6KOMJOA', iid='B003B4CU3M', r_ui=5.0, est=4.05, details={'actual_k': 0, 'was_impossible': False}),\n",
       " Prediction(uid='A6FIAB28IS79', iid='B003EHT6YC', r_ui=4.0, est=4.1381578947368425, details={'actual_k': 0, 'was_impossible': False}),\n",
       " Prediction(uid='A1PI8VBCXXSGC7', iid='B0088CJT4U', r_ui=3.0, est=4.281106495365227, details={'actual_k': 9, 'was_impossible': False}),\n",
       " Prediction(uid='A1AQ8JT2A3UWMY', iid='B002BH3JDA', r_ui=5.0, est=3.909090909090909, details={'actual_k': 0, 'was_impossible': False}),\n",
       " Prediction(uid='ABDR6IJ93HFIO', iid='B003L0OUIE', r_ui=5.0, est=4.2620504148270895, details={'was_impossible': True, 'reason': 'User and/or item is unkown.'}),\n",
       " Prediction(uid='A2WB7LZ595CR50', iid='B007471PZQ', r_ui=4.0, est=4.3802933278248295, details={'actual_k': 1, 'was_impossible': False}),\n",
       " Prediction(uid='A3FBM0RMCMAABV', iid='B004T9RR6I', r_ui=4.0, est=3.809633624227103, details={'actual_k': 4, 'was_impossible': False}),\n",
       " Prediction(uid='A2L42QEWR77PKZ', iid='B00CMEN95U', r_ui=5.0, est=4.292307692307692, details={'actual_k': 0, 'was_impossible': False}),\n",
       " Prediction(uid='A3IJ4Z18FTIIP', iid='B00B7GV802', r_ui=4.0, est=3.7906976744186047, details={'actual_k': 0, 'was_impossible': False}),\n",
       " Prediction(uid='ACH055GTTIGC9', iid='B00683C6H8', r_ui=5.0, est=4.2620504148270895, details={'was_impossible': True, 'reason': 'User and/or item is unkown.'}),\n",
       " Prediction(uid='A356RFKNIG043B', iid='B006LW0W5Y', r_ui=4.0, est=4.381136950904392, details={'actual_k': 1, 'was_impossible': False}),\n",
       " Prediction(uid='A25C2M3QF9G7OQ', iid='B00IEUCW6S', r_ui=5.0, est=4.689814814814815, details={'actual_k': 0, 'was_impossible': False}),\n",
       " Prediction(uid='A1JWSDDIH5Z7DV', iid='B0001U6RNI', r_ui=5.0, est=4.962962962962963, details={'actual_k': 0, 'was_impossible': False}),\n",
       " Prediction(uid='A3T8WOFS5RD2IR', iid='B0000V1A7Q', r_ui=5.0, est=4.2620504148270895, details={'was_impossible': True, 'reason': 'User and/or item is unkown.'}),\n",
       " Prediction(uid='A3J8A5L5AF5TX9', iid='B003VYH1UE', r_ui=3.0, est=4.6226485033824485, details={'actual_k': 1, 'was_impossible': False}),\n",
       " Prediction(uid='A3QJU4FEN8PQSZ', iid='B005FVNHBI', r_ui=3.0, est=3.435862716616552, details={'actual_k': 6, 'was_impossible': False}),\n",
       " Prediction(uid='A3HRDRQ5VAFPQS', iid='B001LK8P14', r_ui=5.0, est=4.683371852427088, details={'actual_k': 2, 'was_impossible': False}),\n",
       " Prediction(uid='AEJAGHLC675A7', iid='B001HBIYSG', r_ui=5.0, est=4.770186335403727, details={'actual_k': 0, 'was_impossible': False}),\n",
       " Prediction(uid='A1SX9PHJWTDMF9', iid='B0029L4NX8', r_ui=5.0, est=4.5813953488372094, details={'actual_k': 0, 'was_impossible': False}),\n",
       " Prediction(uid='A18FLOC8YQY0P8', iid='B004Y4ZR7E', r_ui=4.0, est=4.2620504148270895, details={'was_impossible': True, 'reason': 'User and/or item is unkown.'}),\n",
       " Prediction(uid='A17NVM7IAPF2NS', iid='B00EI4V3FU', r_ui=1.0, est=4.36734693877551, details={'actual_k': 0, 'was_impossible': False}),\n",
       " Prediction(uid='A1MNN0ZMHYPJDU', iid='B004TPPWT6', r_ui=5.0, est=4.85, details={'actual_k': 0, 'was_impossible': False}),\n",
       " Prediction(uid='A2JP9E1H0SF392', iid='B000KN0YEY', r_ui=5.0, est=2.497855392156863, details={'actual_k': 1, 'was_impossible': False}),\n",
       " Prediction(uid='A3E68EBGXTWDNP', iid='B00007EDZG', r_ui=4.0, est=4.2727272727272725, details={'actual_k': 0, 'was_impossible': False}),\n",
       " Prediction(uid='A31BD4RXCON7QO', iid='B0015GPMO2', r_ui=5.0, est=4.2620504148270895, details={'was_impossible': True, 'reason': 'User and/or item is unkown.'}),\n",
       " Prediction(uid='A3MQ15651KGVLJ', iid='B000HJ75CK', r_ui=5.0, est=4.2620504148270895, details={'was_impossible': True, 'reason': 'User and/or item is unkown.'}),\n",
       " Prediction(uid='A33HIV8RXRDM88', iid='B001CHHVCU', r_ui=2.0, est=2.9455361514543297, details={'actual_k': 8, 'was_impossible': False}),\n",
       " Prediction(uid='A8X8D4BUY5DFU', iid='B000O321IW', r_ui=5.0, est=4.2620504148270895, details={'was_impossible': True, 'reason': 'User and/or item is unkown.'}),\n",
       " Prediction(uid='A204K1OFE8OB9Y', iid='B000I66DQQ', r_ui=4.0, est=4.2620504148270895, details={'was_impossible': True, 'reason': 'User and/or item is unkown.'}),\n",
       " Prediction(uid='A1W4F91DH3XPB2', iid='B00C27S0M4', r_ui=5.0, est=4.375793650793651, details={'actual_k': 1, 'was_impossible': False}),\n",
       " Prediction(uid='A5KMMY627T3W', iid='B00004THCZ', r_ui=5.0, est=3.0837789661319075, details={'actual_k': 1, 'was_impossible': False}),\n",
       " Prediction(uid='A18HE80910BTZI', iid='B0045371FU', r_ui=5.0, est=2.5418725453452535, details={'actual_k': 2, 'was_impossible': False}),\n",
       " Prediction(uid='ADPKRJ2BSFJ0I', iid='B002K4GDGY', r_ui=5.0, est=4.7, details={'actual_k': 0, 'was_impossible': False}),\n",
       " Prediction(uid='A3PD8JD9L4WEII', iid='B00DO7TS6I', r_ui=5.0, est=4.2620504148270895, details={'was_impossible': True, 'reason': 'User and/or item is unkown.'}),\n",
       " Prediction(uid='A3QU3O79AGNWCY', iid='B00009UT8E', r_ui=5.0, est=4.2620504148270895, details={'was_impossible': True, 'reason': 'User and/or item is unkown.'}),\n",
       " Prediction(uid='A3DWO5RJDA430F', iid='B005MT9J60', r_ui=5.0, est=4.2620504148270895, details={'was_impossible': True, 'reason': 'User and/or item is unkown.'}),\n",
       " Prediction(uid='A1FXT4VNDA25LY', iid='B0015MFTE4', r_ui=5.0, est=4.613636363636363, details={'actual_k': 0, 'was_impossible': False}),\n",
       " Prediction(uid='A1RPTVW5VEOSI', iid='B000EVSLRO', r_ui=5.0, est=4.268501232682742, details={'actual_k': 2, 'was_impossible': False}),\n",
       " Prediction(uid='A1DQHS7MOVYYYA', iid='B000PCX780', r_ui=5.0, est=4.105263157894737, details={'actual_k': 0, 'was_impossible': False}),\n",
       " Prediction(uid='AQ2FC1DLKVD8H', iid='B006OVYI1G', r_ui=5.0, est=4.2620504148270895, details={'was_impossible': True, 'reason': 'User and/or item is unkown.'}),\n",
       " Prediction(uid='A24RCBRDXRXR0Y', iid='B004HW7E7E', r_ui=4.0, est=3.95, details={'actual_k': 0, 'was_impossible': False}),\n",
       " Prediction(uid='A2LXX47A0KMJVX', iid='B000MVBHRW', r_ui=5.0, est=3.8666666666666667, details={'actual_k': 0, 'was_impossible': False}),\n",
       " Prediction(uid='ARBKYIVNYWK3C', iid='B001MS0OKU', r_ui=5.0, est=4.478672985781991, details={'actual_k': 0, 'was_impossible': False}),\n",
       " Prediction(uid='A1YN5I4FINMBTI', iid='B0036Q7MV0', r_ui=5.0, est=5, details={'actual_k': 2, 'was_impossible': False}),\n",
       " Prediction(uid='A3GQY0TFRG0MPZ', iid='B0043BNF4U', r_ui=5.0, est=4.2620504148270895, details={'was_impossible': True, 'reason': 'User and/or item is unkown.'}),\n",
       " Prediction(uid='A19W47CXJJP1MI', iid='B000Q7IA5E', r_ui=2.0, est=4.2620504148270895, details={'was_impossible': True, 'reason': 'User and/or item is unkown.'}),\n",
       " Prediction(uid='A1T1YSCDW0PD25', iid='B004MAEIOS', r_ui=5.0, est=4.2620504148270895, details={'was_impossible': True, 'reason': 'User and/or item is unkown.'}),\n",
       " Prediction(uid='A3V15SFD7918WZ', iid='B0071BTJPI', r_ui=4.0, est=4.203247516624803, details={'actual_k': 3, 'was_impossible': False}),\n",
       " Prediction(uid='A2QIC4G483SQQA', iid='B00B10ZISW', r_ui=2.0, est=4.2620504148270895, details={'was_impossible': True, 'reason': 'User and/or item is unkown.'}),\n",
       " Prediction(uid='A2NOW4U7W3F7RI', iid='B00H7GU5QO', r_ui=5.0, est=4.824742268041237, details={'actual_k': 0, 'was_impossible': False}),\n",
       " Prediction(uid='A1URXSRV6WDHVY', iid='B00IWYO42G', r_ui=5.0, est=3.892627412172192, details={'actual_k': 1, 'was_impossible': False}),\n",
       " Prediction(uid='A1ZXMMQPYC3Z9I', iid='B005GC7YJ2', r_ui=5.0, est=4.0, details={'actual_k': 0, 'was_impossible': False}),\n",
       " Prediction(uid='A5JLAU2ARJ0BO', iid='B00004YKDQ', r_ui=1.0, est=3.893939393939394, details={'actual_k': 0, 'was_impossible': False}),\n",
       " Prediction(uid='A2T689YVOAYGGD', iid='B0044UEP8U', r_ui=5.0, est=4.2620504148270895, details={'was_impossible': True, 'reason': 'User and/or item is unkown.'}),\n",
       " Prediction(uid='A2RN2AO4BE6F4K', iid='B0017TFVUW', r_ui=5.0, est=4.23197214682809, details={'actual_k': 5, 'was_impossible': False}),\n",
       " Prediction(uid='A2EZTM9WY5B5IL', iid='B00DBV28TG', r_ui=2.0, est=4.815330477356181, details={'actual_k': 1, 'was_impossible': False}),\n",
       " Prediction(uid='AEJAGHLC675A7', iid='B0017U87TS', r_ui=4.0, est=4.868888052719251, details={'actual_k': 2, 'was_impossible': False}),\n",
       " Prediction(uid='A9J4UURM4OSDW', iid='B000LH5F1G', r_ui=5.0, est=4.2620504148270895, details={'was_impossible': True, 'reason': 'User and/or item is unkown.'}),\n",
       " Prediction(uid='A2J7FHZFKOKGZ6', iid='B0015C30J0', r_ui=3.0, est=3.8405797101449277, details={'actual_k': 0, 'was_impossible': False}),\n",
       " Prediction(uid='AC9QEWWN4W9MC', iid='B00EC62AOC', r_ui=4.0, est=4.2620504148270895, details={'was_impossible': True, 'reason': 'User and/or item is unkown.'}),\n",
       " Prediction(uid='A1AWL9JASMG904', iid='B00711JB24', r_ui=3.0, est=4.2620504148270895, details={'was_impossible': True, 'reason': 'User and/or item is unkown.'}),\n",
       " Prediction(uid='A5JLAU2ARJ0BO', iid='B000VB5MZG', r_ui=4.0, est=4.2620504148270895, details={'was_impossible': True, 'reason': 'User and/or item is unkown.'}),\n",
       " Prediction(uid='AOEAD7DPLZE53', iid='B001GZMH9K', r_ui=3.0, est=4.2620504148270895, details={'was_impossible': True, 'reason': 'User and/or item is unkown.'}),\n",
       " Prediction(uid='A1LHMSY3Q46PJS', iid='B00001WRSJ', r_ui=5.0, est=4.324324324324325, details={'actual_k': 0, 'was_impossible': False}),\n",
       " Prediction(uid='A23GFTVIETX7DS', iid='B007C0Y8NQ', r_ui=3.0, est=3.7094854651886124, details={'actual_k': 2, 'was_impossible': False}),\n",
       " Prediction(uid='A1A535TCGNMVPI', iid='B000167KQ0', r_ui=5.0, est=4.2620504148270895, details={'was_impossible': True, 'reason': 'User and/or item is unkown.'}),\n",
       " Prediction(uid='A1P0JSFW184ZXJ', iid='B00829TIEK', r_ui=5.0, est=4.914364678980821, details={'actual_k': 25, 'was_impossible': False}),\n",
       " Prediction(uid='A1SC5OXLQNGPLN', iid='B00009XVCZ', r_ui=5.0, est=4.987012987012987, details={'actual_k': 1, 'was_impossible': False}),\n",
       " Prediction(uid='A1AZQCVCDBQP6', iid='B00A14ZT6U', r_ui=5.0, est=4.2620504148270895, details={'was_impossible': True, 'reason': 'User and/or item is unkown.'}),\n",
       " Prediction(uid='A2NP9CGUSFP22E', iid='B00E362W9O', r_ui=5.0, est=4.62962962962963, details={'actual_k': 0, 'was_impossible': False}),\n",
       " Prediction(uid='A1Y85GQ09Y95JL', iid='B0014KOB6Y', r_ui=2.0, est=4.057923497267759, details={'actual_k': 1, 'was_impossible': False}),\n",
       " Prediction(uid='A3SX5MZTCZRQLF', iid='B002KQ5KVG', r_ui=5.0, est=3.849056603773585, details={'actual_k': 0, 'was_impossible': False}),\n",
       " Prediction(uid='A1522TN5FVJL0Y', iid='B0038KLD50', r_ui=5.0, est=4.575, details={'actual_k': 0, 'was_impossible': False}),\n",
       " Prediction(uid='A1JUBRIZMO0RJV', iid='B004XQWGHW', r_ui=4.0, est=4.613130723312594, details={'actual_k': 2, 'was_impossible': False}),\n",
       " Prediction(uid='A1OGCPMSIVK7G4', iid='B0078K16IK', r_ui=5.0, est=4.2620504148270895, details={'was_impossible': True, 'reason': 'User and/or item is unkown.'}),\n",
       " Prediction(uid='ASFP250F22MDZ', iid='B0030D3T16', r_ui=1.0, est=4.2620504148270895, details={'was_impossible': True, 'reason': 'User and/or item is unkown.'}),\n",
       " Prediction(uid='AA8RBTN3J2F5H', iid='B000VLNWZS', r_ui=5.0, est=4.787878787878788, details={'actual_k': 0, 'was_impossible': False}),\n",
       " Prediction(uid='A1V3TRGWOMA8LC', iid='B0025VKUQG', r_ui=5.0, est=4.301369863013699, details={'actual_k': 0, 'was_impossible': False}),\n",
       " Prediction(uid='A1VHCO8RQFIGQJ', iid='B003K1EYM6', r_ui=4.0, est=4.13524284303826, details={'actual_k': 2, 'was_impossible': False}),\n",
       " Prediction(uid='A2UOHALGF2X77Q', iid='B0088PPFP4', r_ui=2.0, est=3.517935642349726, details={'actual_k': 3, 'was_impossible': False}),\n",
       " Prediction(uid='A1SC5OXLQNGPLN', iid='B0011NVMO8', r_ui=5.0, est=4.363636363636363, details={'actual_k': 0, 'was_impossible': False}),\n",
       " Prediction(uid='A2T689YVOAYGGD', iid='B0034CSTFY', r_ui=5.0, est=4.196428571428571, details={'actual_k': 0, 'was_impossible': False}),\n",
       " Prediction(uid='A3TBMGNSEQBWIL', iid='B000067RC4', r_ui=5.0, est=4.0, details={'actual_k': 0, 'was_impossible': False}),\n",
       " Prediction(uid='A30UP2KKD5IQEP', iid='B002SQK2F2', r_ui=3.0, est=3.1371171760714263, details={'actual_k': 13, 'was_impossible': False}),\n",
       " Prediction(uid='ABQWMANK4AR63', iid='B000HZBR64', r_ui=1.0, est=3.9130434782608696, details={'actual_k': 0, 'was_impossible': False}),\n",
       " Prediction(uid='A3SMD3T0QTN109', iid='B00F3ZNLJO', r_ui=5.0, est=4.301587301587301, details={'actual_k': 0, 'was_impossible': False}),\n",
       " Prediction(uid='ASJLXOX1VD4DF', iid='B00J0XR10A', r_ui=3.0, est=3.136562356189599, details={'actual_k': 1, 'was_impossible': False}),\n",
       " Prediction(uid='AVJORH3ACR2A5', iid='B00E87T53O', r_ui=5.0, est=4.2620504148270895, details={'was_impossible': True, 'reason': 'User and/or item is unkown.'}),\n",
       " Prediction(uid='A7QMQBGJ2TCQG', iid='B0026T3TJM', r_ui=3.0, est=4.306666666666667, details={'actual_k': 0, 'was_impossible': False}),\n",
       " Prediction(uid='A28UMA3GW9L124', iid='B00FQQ4PNQ', r_ui=3.0, est=2.4073543021245865, details={'actual_k': 7, 'was_impossible': False}),\n",
       " Prediction(uid='A2NN1KIYEM2SKS', iid='B0049MPQF4', r_ui=5.0, est=4.2620504148270895, details={'was_impossible': True, 'reason': 'User and/or item is unkown.'}),\n",
       " Prediction(uid='A12R3YGEHW7D8G', iid='B007WTAJTO', r_ui=5.0, est=4.8427555856465805, details={'actual_k': 1, 'was_impossible': False}),\n",
       " Prediction(uid='A1ATVMMJZP3Q4X', iid='B000BKBZGC', r_ui=5.0, est=4.2620504148270895, details={'was_impossible': True, 'reason': 'User and/or item is unkown.'}),\n",
       " Prediction(uid='A14X244VGHWPSX', iid='B0015VW3BM', r_ui=5.0, est=4.175, details={'actual_k': 0, 'was_impossible': False}),\n",
       " Prediction(uid='A24J2Y1O22JYZX', iid='B00BIP816Q', r_ui=5.0, est=4.194444444444445, details={'actual_k': 0, 'was_impossible': False}),\n",
       " Prediction(uid='A3OXHLG6DIBRW8', iid='B00A628QYE', r_ui=5.0, est=5, details={'actual_k': 1, 'was_impossible': False}),\n",
       " Prediction(uid='ARBKYIVNYWK3C', iid='B003S7R4EC', r_ui=2.0, est=4.2620504148270895, details={'was_impossible': True, 'reason': 'User and/or item is unkown.'}),\n",
       " Prediction(uid='A250AXLRBVYKB4', iid='B002JAYKEQ', r_ui=5.0, est=4.2620504148270895, details={'was_impossible': True, 'reason': 'User and/or item is unkown.'}),\n",
       " Prediction(uid='A3N4I2KRSMACW8', iid='B002KKFP9Y', r_ui=3.0, est=3.8444444444444446, details={'actual_k': 0, 'was_impossible': False}),\n",
       " Prediction(uid='ABH9D1TEOJ56E', iid='B00008RHA3', r_ui=4.0, est=4.2620504148270895, details={'was_impossible': True, 'reason': 'User and/or item is unkown.'}),\n",
       " Prediction(uid='A2XRMQA6PJ5ZJ8', iid='B0088CJT4U', r_ui=4.0, est=4.734751774882034, details={'actual_k': 21, 'was_impossible': False}),\n",
       " Prediction(uid='A1MFPAM9TTRTXN', iid='B002HWRJY4', r_ui=5.0, est=4.883720930232558, details={'actual_k': 0, 'was_impossible': False}),\n",
       " Prediction(uid='A1X3DA7C61WZLQ', iid='B00005853Z', r_ui=1.0, est=3.6578947368421053, details={'actual_k': 0, 'was_impossible': False}),\n",
       " Prediction(uid='ADKZOXAOV8EXD', iid='B005OL2ID2', r_ui=3.0, est=4.0, details={'actual_k': 0, 'was_impossible': False}),\n",
       " Prediction(uid='A2UWPPU5GZLMQZ', iid='B00BXF5GKK', r_ui=4.0, est=4.3896103896103895, details={'actual_k': 0, 'was_impossible': False}),\n",
       " Prediction(uid='A1VFX417XDNWIU', iid='B00DV51DTS', r_ui=4.0, est=4.089285714285714, details={'actual_k': 0, 'was_impossible': False}),\n",
       " Prediction(uid='AXR3CV6A4FMBG', iid='B001AYW91I', r_ui=4.0, est=4.7835613262230465, details={'actual_k': 1, 'was_impossible': False}),\n",
       " Prediction(uid='A5JLAU2ARJ0BO', iid='B00009QSET', r_ui=5.0, est=4.050306638296897, details={'actual_k': 2, 'was_impossible': False}),\n",
       " Prediction(uid='A38V76R24EJSHA', iid='B0026IBI1O', r_ui=5.0, est=4.2620504148270895, details={'was_impossible': True, 'reason': 'User and/or item is unkown.'}),\n",
       " Prediction(uid='A2GYV87WW0DMSN', iid='B004VTAVLE', r_ui=5.0, est=3.782905982905983, details={'actual_k': 1, 'was_impossible': False}),\n",
       " Prediction(uid='A2IT7S59GSASN7', iid='B00IL7B2YM', r_ui=4.0, est=3.624686580652143, details={'actual_k': 4, 'was_impossible': False}),\n",
       " Prediction(uid='A3OA4DV4L81N1D', iid='B002WE4HE2', r_ui=5.0, est=3.258403361344538, details={'actual_k': 1, 'was_impossible': False}),\n",
       " Prediction(uid='A2JE071UW97J2A', iid='B007PJ4PKK', r_ui=5.0, est=4.636363636363637, details={'actual_k': 0, 'was_impossible': False}),\n",
       " Prediction(uid='AG35JCCQWDRCS', iid='B0013LOU10', r_ui=5.0, est=4.2620504148270895, details={'was_impossible': True, 'reason': 'User and/or item is unkown.'}),\n",
       " Prediction(uid='A18FLOC8YQY0P8', iid='B00E44B18I', r_ui=5.0, est=4.285714285714286, details={'actual_k': 0, 'was_impossible': False}),\n",
       " Prediction(uid='A9ELHLPXF7JKD', iid='B00FG38L16', r_ui=4.0, est=4.327425121563104, details={'actual_k': 2, 'was_impossible': False}),\n",
       " Prediction(uid='A9Y5O2R4D6EH5', iid='B0039BPG1A', r_ui=4.0, est=4.111111111111111, details={'actual_k': 0, 'was_impossible': False}),\n",
       " Prediction(uid='AUCIFMWP3DU8R', iid='B0094S37GS', r_ui=4.0, est=4.061224489795919, details={'actual_k': 0, 'was_impossible': False}),\n",
       " Prediction(uid='ALDAF4VVLFRHP', iid='B002OPACU2', r_ui=4.0, est=4.2620504148270895, details={'was_impossible': True, 'reason': 'User and/or item is unkown.'}),\n",
       " Prediction(uid='AM8W6Y3HVXLZT', iid='B00009X75L', r_ui=5.0, est=3.4754330151997173, details={'actual_k': 1, 'was_impossible': False}),\n",
       " Prediction(uid='A3QRW0UJPKIAX7', iid='B00139Y7QK', r_ui=4.0, est=4.2620504148270895, details={'was_impossible': True, 'reason': 'User and/or item is unkown.'}),\n",
       " Prediction(uid='A2LTYEYGKBYXRR', iid='B00E0C2YQC', r_ui=5.0, est=4.2620504148270895, details={'was_impossible': True, 'reason': 'User and/or item is unkown.'}),\n",
       " Prediction(uid='AZMY6E8B52L2T', iid='B00D4MFPLA', r_ui=5.0, est=5, details={'actual_k': 8, 'was_impossible': False}),\n",
       " Prediction(uid='A1G650TTTHEAL5', iid='B00DR0PDNE', r_ui=4.0, est=5, details={'actual_k': 3, 'was_impossible': False}),\n",
       " Prediction(uid='A1XXMNLOLKNO0I', iid='B00992B29I', r_ui=4.0, est=4.2620504148270895, details={'was_impossible': True, 'reason': 'User and/or item is unkown.'}),\n",
       " Prediction(uid='A2NX6PABLIJLP1', iid='B0009JR42E', r_ui=5.0, est=4.473684210526316, details={'actual_k': 0, 'was_impossible': False}),\n",
       " Prediction(uid='A2IFGGXG3YV3Y6', iid='B004ZP74IW', r_ui=5.0, est=4.426666666666667, details={'actual_k': 0, 'was_impossible': False}),\n",
       " Prediction(uid='A231WM2Z2JL0U3', iid='B00005LB8P', r_ui=5.0, est=4.285714285714286, details={'actual_k': 0, 'was_impossible': False}),\n",
       " Prediction(uid='A3NG7X4APIV649', iid='B0088CJT4U', r_ui=2.0, est=3.838088014874727, details={'actual_k': 25, 'was_impossible': False}),\n",
       " Prediction(uid='A3E68EBGXTWDNP', iid='B000GFZTQO', r_ui=2.0, est=4.2620504148270895, details={'was_impossible': True, 'reason': 'User and/or item is unkown.'}),\n",
       " Prediction(uid='A3LDLV1GWQJLEQ', iid='B00JP12170', r_ui=3.0, est=4.807232579366849, details={'actual_k': 4, 'was_impossible': False}),\n",
       " Prediction(uid='A3R1WFO4KIUQXZ', iid='B0058UUR6E', r_ui=4.0, est=2.470515970515971, details={'actual_k': 1, 'was_impossible': False}),\n",
       " Prediction(uid='A2DG63DN704LOI', iid='B00FISD9DO', r_ui=5.0, est=4.62660908677396, details={'actual_k': 4, 'was_impossible': False}),\n",
       " Prediction(uid='A27T4RQ3XA661C', iid='B00CBQNB7K', r_ui=5.0, est=4.2620504148270895, details={'was_impossible': True, 'reason': 'User and/or item is unkown.'}),\n",
       " Prediction(uid='A10NMELR4KX0J6', iid='B008MOOJ44', r_ui=5.0, est=4.2620504148270895, details={'was_impossible': True, 'reason': 'User and/or item is unkown.'}),\n",
       " Prediction(uid='AMUP8DYE7EAN2', iid='B00EH5UGR6', r_ui=4.0, est=4.4500339265146085, details={'actual_k': 3, 'was_impossible': False}),\n",
       " Prediction(uid='A2JOPUWVV0XQJ3', iid='B007NZGPAY', r_ui=4.0, est=4.1466065747614, details={'actual_k': 1, 'was_impossible': False}),\n",
       " Prediction(uid='A32O5FZH994CNY', iid='B0014S5FVQ', r_ui=5.0, est=4.425531914893617, details={'actual_k': 0, 'was_impossible': False}),\n",
       " Prediction(uid='A38RMU1Y5TDP9', iid='B00KHF4T46', r_ui=5.0, est=4.2620504148270895, details={'was_impossible': True, 'reason': 'User and/or item is unkown.'}),\n",
       " Prediction(uid='A1FF2PLA84KNAE', iid='B00001P4ZH', r_ui=4.0, est=4.794117647058823, details={'actual_k': 0, 'was_impossible': False}),\n",
       " Prediction(uid='A3L9E0YI7C5G0W', iid='B002AR5XIK', r_ui=5.0, est=4.259740259740259, details={'actual_k': 0, 'was_impossible': False}),\n",
       " Prediction(uid='A3G5MOHY1U635N', iid='B0041OSQB6', r_ui=4.0, est=4.192982456140351, details={'actual_k': 0, 'was_impossible': False}),\n",
       " Prediction(uid='AT28RL25Q2OLK', iid='B00IDYRZ0S', r_ui=5.0, est=4.566278712545667, details={'actual_k': 2, 'was_impossible': False}),\n",
       " Prediction(uid='A2FRKEXDXDN1KI', iid='B003M0NURK', r_ui=5.0, est=4.619603796323553, details={'actual_k': 11, 'was_impossible': False}),\n",
       " Prediction(uid='A307Y3LMCVEZS1', iid='B001VO4MOY', r_ui=5.0, est=3.27027027027027, details={'actual_k': 0, 'was_impossible': False}),\n",
       " Prediction(uid='A1ZCSSCAGBCD49', iid='B0051GN9JC', r_ui=1.0, est=3.812343828085957, details={'actual_k': 1, 'was_impossible': False}),\n",
       " Prediction(uid='AD0J5KK4WQXNS', iid='B0000DC69T', r_ui=5.0, est=4.625, details={'actual_k': 0, 'was_impossible': False}),\n",
       " Prediction(uid='A14X244VGHWPSX', iid='B00FZ9SJLS', r_ui=5.0, est=4.175, details={'actual_k': 0, 'was_impossible': False}),\n",
       " Prediction(uid='A1BT6TL7UCIC5Y', iid='B005O88CUS', r_ui=5.0, est=4.006525545121757, details={'actual_k': 1, 'was_impossible': False}),\n",
       " Prediction(uid='A2GOHNFBHUU3UI', iid='B00ATANTRW', r_ui=3.0, est=4.2620504148270895, details={'was_impossible': True, 'reason': 'User and/or item is unkown.'}),\n",
       " Prediction(uid='ACJT8MUC0LRF0', iid='B00I0G8GNY', r_ui=5.0, est=5, details={'actual_k': 2, 'was_impossible': False}),\n",
       " Prediction(uid='AK9BXHEXOOM6Z', iid='B003TVWNAM', r_ui=4.0, est=4.571428571428571, details={'actual_k': 0, 'was_impossible': False}),\n",
       " Prediction(uid='A2OWR5G2OAQF7C', iid='B003SX0NG2', r_ui=5.0, est=4.482758620689655, details={'actual_k': 0, 'was_impossible': False}),\n",
       " Prediction(uid='A3R1GJY2MY8041', iid='B001KMWOJ2', r_ui=5.0, est=4.864864864864865, details={'actual_k': 0, 'was_impossible': False}),\n",
       " Prediction(uid='A2X06FP2PQ6EK0', iid='B0019EHU8G', r_ui=5.0, est=3.761152680291289, details={'actual_k': 3, 'was_impossible': False}),\n",
       " Prediction(uid='A2JAEZ0FMAMJVW', iid='B001F51G16', r_ui=1.0, est=4.8968181818181815, details={'actual_k': 1, 'was_impossible': False}),\n",
       " Prediction(uid='A2J8T58Z4X15IO', iid='B00CF9MNQI', r_ui=4.0, est=4.2620504148270895, details={'was_impossible': True, 'reason': 'User and/or item is unkown.'}),\n",
       " Prediction(uid='A18YMFFJW974QS', iid='B000G36GOU', r_ui=5.0, est=4.155172413793103, details={'actual_k': 0, 'was_impossible': False}),\n",
       " Prediction(uid='A2NOIWPJDD7WIQ', iid='B008NMCPTQ', r_ui=3.0, est=4.20242914979757, details={'actual_k': 1, 'was_impossible': False}),\n",
       " Prediction(uid='A6VPK7X53QNAQ', iid='B0001G6U4S', r_ui=5.0, est=5, details={'actual_k': 1, 'was_impossible': False}),\n",
       " Prediction(uid='A2Y739CRM15WDL', iid='B00FG38L16', r_ui=4.0, est=3.9130434782608696, details={'actual_k': 0, 'was_impossible': False}),\n",
       " Prediction(uid='A1KXJCXS6HFRQZ', iid='B001E1Y5O6', r_ui=5.0, est=4.603231546480347, details={'actual_k': 3, 'was_impossible': False}),\n",
       " Prediction(uid='A8P6GIIQ6YQV8', iid='B008ORT9OY', r_ui=4.0, est=4.2620504148270895, details={'was_impossible': True, 'reason': 'User and/or item is unkown.'}),\n",
       " Prediction(uid='A1Z16630QMH8Q6', iid='B000V1R96G', r_ui=5.0, est=4.7534246575342465, details={'actual_k': 0, 'was_impossible': False}),\n",
       " Prediction(uid='A3AZI828WJN1CD', iid='B00ENZRS76', r_ui=5.0, est=4.516597937797313, details={'actual_k': 3, 'was_impossible': False}),\n",
       " Prediction(uid='A2LCE1D0TW2XY0', iid='B0090I9VVC', r_ui=3.0, est=4.12, details={'actual_k': 0, 'was_impossible': False}),\n",
       " Prediction(uid='A1KDUQ2HU0WD68', iid='B00B8I23O4', r_ui=4.0, est=3.453389830508475, details={'actual_k': 1, 'was_impossible': False}),\n",
       " Prediction(uid='A203OCQQ12MAVT', iid='B002ZCXJZE', r_ui=5.0, est=3.937028385321926, details={'actual_k': 2, 'was_impossible': False}),\n",
       " Prediction(uid='A18YMFFJW974QS', iid='B00DR8LBAK', r_ui=4.0, est=4.2620504148270895, details={'was_impossible': True, 'reason': 'User and/or item is unkown.'}),\n",
       " Prediction(uid='A2L36AGL8CKY3D', iid='B001P05NBA', r_ui=5.0, est=4.7, details={'actual_k': 0, 'was_impossible': False}),\n",
       " Prediction(uid='A2XRMQA6PJ5ZJ8', iid='B005VTGB0S', r_ui=1.0, est=4.543607028348031, details={'actual_k': 2, 'was_impossible': False}),\n",
       " Prediction(uid='A203OCQQ12MAVT', iid='B003VYB2WW', r_ui=5.0, est=4.52258064516129, details={'actual_k': 0, 'was_impossible': False}),\n",
       " Prediction(uid='A23NSKTMSPPBTR', iid='B001JTTVT2', r_ui=5.0, est=4.2620504148270895, details={'was_impossible': True, 'reason': 'User and/or item is unkown.'}),\n",
       " Prediction(uid='A20L63B48RPSOH', iid='B005GM1Q1O', r_ui=5.0, est=3.1341103765620133, details={'actual_k': 7, 'was_impossible': False}),\n",
       " Prediction(uid='A197T2N6RU7K56', iid='B004EBZZX8', r_ui=2.0, est=4.579710144927536, details={'actual_k': 0, 'was_impossible': False}),\n",
       " Prediction(uid='A1C47ROOK7BSVL', iid='B005OQYUHE', r_ui=1.0, est=4.2620504148270895, details={'was_impossible': True, 'reason': 'User and/or item is unkown.'}),\n",
       " Prediction(uid='AVJORH3ACR2A5', iid='B0039BPG1A', r_ui=3.0, est=5, details={'actual_k': 1, 'was_impossible': False}),\n",
       " Prediction(uid='A2QNS95WGN35G9', iid='B000M17AVO', r_ui=4.0, est=4.575, details={'actual_k': 0, 'was_impossible': False}),\n",
       " Prediction(uid='AXYM52DNK6NDF', iid='B0055MBQOM', r_ui=5.0, est=4.491228070175438, details={'actual_k': 0, 'was_impossible': False}),\n",
       " Prediction(uid='A3BACUOZV1M0WM', iid='B0074KBLAW', r_ui=4.0, est=4.454545454545454, details={'actual_k': 0, 'was_impossible': False}),\n",
       " Prediction(uid='A22CW0ZHY3NJH8', iid='B00000K135', r_ui=5.0, est=4.211055276381909, details={'actual_k': 0, 'was_impossible': False}),\n",
       " Prediction(uid='A291XTI6NO7DEG', iid='B00008RW94', r_ui=5.0, est=4.2620504148270895, details={'was_impossible': True, 'reason': 'User and/or item is unkown.'}),\n",
       " Prediction(uid='A20OBCQWBKCGZT', iid='B0039BPG1U', r_ui=5.0, est=4.82913152942341, details={'actual_k': 2, 'was_impossible': False}),\n",
       " Prediction(uid='A5JLAU2ARJ0BO', iid='B0001AU6H6', r_ui=5.0, est=3.893939393939394, details={'actual_k': 0, 'was_impossible': False}),\n",
       " Prediction(uid='A1IU7S4HCK1XK0', iid='B00428N9N6', r_ui=4.0, est=4.46875, details={'actual_k': 0, 'was_impossible': False}),\n",
       " Prediction(uid='AQ3IN3MRXQ5KH', iid='B00000J0GF', r_ui=5.0, est=4.2620504148270895, details={'was_impossible': True, 'reason': 'User and/or item is unkown.'}),\n",
       " Prediction(uid='AMUP8DYE7EAN2', iid='B00B59NO5S', r_ui=4.0, est=4.0181818181818185, details={'actual_k': 0, 'was_impossible': False}),\n",
       " Prediction(uid='AVBLGXSWRN666', iid='B001F51G16', r_ui=4.0, est=4.457307692307692, details={'actual_k': 1, 'was_impossible': False}),\n",
       " Prediction(uid='A3BI8BKIHESDNQ', iid='B001GX6MJ8', r_ui=4.0, est=4.794871794871795, details={'actual_k': 0, 'was_impossible': False}),\n",
       " Prediction(uid='AX05DBU8IRUWY', iid='B00KGTDDIG', r_ui=5.0, est=4.217391304347826, details={'actual_k': 0, 'was_impossible': False}),\n",
       " Prediction(uid='A2LB4FLRZG6CUV', iid='B003R6U6HG', r_ui=4.0, est=4.834057971014492, details={'actual_k': 1, 'was_impossible': False}),\n",
       " Prediction(uid='A3VZH0PWLQ9BB1', iid='B004CLYEE6', r_ui=4.0, est=4.85865569823693, details={'actual_k': 6, 'was_impossible': False}),\n",
       " Prediction(uid='A35HNL2VEDK9Z1', iid='B000HL4V98', r_ui=5.0, est=4.2620504148270895, details={'was_impossible': True, 'reason': 'User and/or item is unkown.'}),\n",
       " Prediction(uid='A3TR3KLL5PXSZ8', iid='B000SLNNG4', r_ui=5.0, est=4.657894736842105, details={'actual_k': 0, 'was_impossible': False}),\n",
       " Prediction(uid='A18GJ9MYYO6GCQ', iid='B004YHXXKO', r_ui=5.0, est=4.932941187970334, details={'actual_k': 2, 'was_impossible': False}),\n",
       " Prediction(uid='AQR4HPVSOPS08', iid='B003L1ZYZ6', r_ui=5.0, est=3.3115401491882404, details={'actual_k': 1, 'was_impossible': False}),\n",
       " Prediction(uid='A4GGT6O0GQNV2', iid='B00AI5T7AG', r_ui=2.0, est=4.2620504148270895, details={'was_impossible': True, 'reason': 'User and/or item is unkown.'}),\n",
       " Prediction(uid='A1K4G5YJDJQI6Q', iid='B0036WS4CK', r_ui=4.0, est=2.796875, details={'actual_k': 0, 'was_impossible': False}),\n",
       " Prediction(uid='A1EKSETIBS9ETQ', iid='B00FSB767G', r_ui=2.0, est=4.2620504148270895, details={'was_impossible': True, 'reason': 'User and/or item is unkown.'}),\n",
       " Prediction(uid='A1NAA1R38JSNHV', iid='B004I0LAJI', r_ui=5.0, est=4.2620504148270895, details={'was_impossible': True, 'reason': 'User and/or item is unkown.'}),\n",
       " Prediction(uid='AWSK1ZAEU1KFL', iid='B001UOXPIY', r_ui=3.0, est=4.137254901960785, details={'actual_k': 0, 'was_impossible': False}),\n",
       " Prediction(uid='A2VALCFTOWFYXZ', iid='B003FVAQM8', r_ui=4.0, est=3.287878787878788, details={'actual_k': 0, 'was_impossible': False}),\n",
       " Prediction(uid='A2NPN06SYI5VL3', iid='B002UY0ONM', r_ui=5.0, est=4.2620504148270895, details={'was_impossible': True, 'reason': 'User and/or item is unkown.'}),\n",
       " Prediction(uid='A231WM2Z2JL0U3', iid='B00005ATZN', r_ui=5.0, est=4.285714285714286, details={'actual_k': 0, 'was_impossible': False}),\n",
       " Prediction(uid='A20DZX38KRBIT8', iid='B009XE0K7W', r_ui=5.0, est=2.546153846153846, details={'actual_k': 0, 'was_impossible': False}),\n",
       " Prediction(uid='A3V8P0O224OBDB', iid='B001MSZBNA', r_ui=5.0, est=4.854166666666667, details={'actual_k': 0, 'was_impossible': False}),\n",
       " Prediction(uid='A225G2TFM76GYX', iid='B00871SR68', r_ui=5.0, est=5, details={'actual_k': 5, 'was_impossible': False}),\n",
       " Prediction(uid='A2UOHALGF2X77Q', iid='B007UYKG4E', r_ui=5.0, est=4.2620504148270895, details={'was_impossible': True, 'reason': 'User and/or item is unkown.'}),\n",
       " Prediction(uid='AQ3IN3MRXQ5KH', iid='B000AODZQ2', r_ui=4.0, est=4.2620504148270895, details={'was_impossible': True, 'reason': 'User and/or item is unkown.'}),\n",
       " Prediction(uid='AVPNQUVZWMDSX', iid='B007WTAJTO', r_ui=1.0, est=4.753866906136872, details={'actual_k': 8, 'was_impossible': False}),\n",
       " Prediction(uid='ALDAF4VVLFRHP', iid='B001O92JFK', r_ui=5.0, est=3.991068856237395, details={'actual_k': 1, 'was_impossible': False}),\n",
       " Prediction(uid='A1E55W6ES0FY17', iid='B00IVPU7DG', r_ui=5.0, est=3.4838709677419355, details={'actual_k': 0, 'was_impossible': False}),\n",
       " Prediction(uid='ARX0KOX5Q01BJ', iid='B002YKPX6U', r_ui=5.0, est=4.2620504148270895, details={'was_impossible': True, 'reason': 'User and/or item is unkown.'}),\n",
       " Prediction(uid='AO2EURP2Y4JZM', iid='B000I51FF6', r_ui=5.0, est=4.2620504148270895, details={'was_impossible': True, 'reason': 'User and/or item is unkown.'}),\n",
       " Prediction(uid='A23R3EOZ837242', iid='B000U8Y88M', r_ui=5.0, est=4.209302325581396, details={'actual_k': 0, 'was_impossible': False}),\n",
       " Prediction(uid='AZMY6E8B52L2T', iid='B00ALRI2O8', r_ui=5.0, est=4.976851851851852, details={'actual_k': 1, 'was_impossible': False}),\n",
       " Prediction(uid='A3PD8JD9L4WEII', iid='B006ALR3OE', r_ui=5.0, est=4.2620504148270895, details={'was_impossible': True, 'reason': 'User and/or item is unkown.'}),\n",
       " Prediction(uid='A3CP3J7OEGQMD5', iid='B004OBYWAK', r_ui=5.0, est=4.1875, details={'actual_k': 0, 'was_impossible': False}),\n",
       " Prediction(uid='A3EFSLEMHNPP6A', iid='B0045XV2CI', r_ui=3.0, est=5, details={'actual_k': 3, 'was_impossible': False}),\n",
       " Prediction(uid='A11FX8HL2ANK6T', iid='B004AZ38Z0', r_ui=5.0, est=4.22, details={'actual_k': 0, 'was_impossible': False}),\n",
       " Prediction(uid='ARBKYIVNYWK3C', iid='B009L946F6', r_ui=5.0, est=4.2620504148270895, details={'was_impossible': True, 'reason': 'User and/or item is unkown.'}),\n",
       " Prediction(uid='A2WYF4POBUXL2O', iid='B002JCSV8U', r_ui=5.0, est=4.705128205128205, details={'actual_k': 1, 'was_impossible': False}),\n",
       " Prediction(uid='A2DKQQIZ793AV5', iid='B00CZ54VVM', r_ui=5.0, est=5, details={'actual_k': 0, 'was_impossible': False}),\n",
       " Prediction(uid='A21I62TCDL4754', iid='B003BLQHN4', r_ui=5.0, est=3.9298245614035086, details={'actual_k': 0, 'was_impossible': False}),\n",
       " Prediction(uid='AQNSQW4495SG0', iid='B001ANT1I8', r_ui=5.0, est=4.2620504148270895, details={'was_impossible': True, 'reason': 'User and/or item is unkown.'}),\n",
       " Prediction(uid='A6FIAB28IS79', iid='B000BKJZ9Q', r_ui=5.0, est=4.648552528568019, details={'actual_k': 2, 'was_impossible': False}),\n",
       " Prediction(uid='ANEXFROORI6F6', iid='B00030DEOQ', r_ui=5.0, est=4.2620504148270895, details={'was_impossible': True, 'reason': 'User and/or item is unkown.'}),\n",
       " Prediction(uid='A2H4OMJLE7JFM2', iid='B000BQ7GW8', r_ui=5.0, est=4.7631578947368425, details={'actual_k': 0, 'was_impossible': False}),\n",
       " Prediction(uid='A17HMM1M7T9PJ1', iid='B0019Y8AAI', r_ui=4.0, est=2.2758694260721146, details={'actual_k': 1, 'was_impossible': False}),\n",
       " Prediction(uid='ARBKYIVNYWK3C', iid='B000IGGCCG', r_ui=5.0, est=5, details={'actual_k': 1, 'was_impossible': False}),\n",
       " Prediction(uid='A33ZYFE8XMKKR1', iid='B0007CG5EG', r_ui=1.0, est=4.2620504148270895, details={'was_impossible': True, 'reason': 'User and/or item is unkown.'}),\n",
       " Prediction(uid='A2XRMQA6PJ5ZJ8', iid='B0007XXU2K', r_ui=5.0, est=4.573033707865169, details={'actual_k': 0, 'was_impossible': False}),\n",
       " Prediction(uid='ABH9D1TEOJ56E', iid='B0000DKHIP', r_ui=4.0, est=4.2620504148270895, details={'was_impossible': True, 'reason': 'User and/or item is unkown.'}),\n",
       " Prediction(uid='A30ADSBTWCORYC', iid='B00AP5YTLQ', r_ui=5.0, est=4.2620504148270895, details={'was_impossible': True, 'reason': 'User and/or item is unkown.'}),\n",
       " Prediction(uid='A3OA4DV4L81N1D', iid='B008EFFG8E', r_ui=4.0, est=4.2620504148270895, details={'was_impossible': True, 'reason': 'User and/or item is unkown.'}),\n",
       " Prediction(uid='ADOR3TR7GDF68', iid='B0017JY5FE', r_ui=1.0, est=4.671296296296296, details={'actual_k': 1, 'was_impossible': False}),\n",
       " Prediction(uid='A2G563AC1HME2R', iid='B000UZC378', r_ui=2.0, est=4.3428571428571425, details={'actual_k': 0, 'was_impossible': False}),\n",
       " Prediction(uid='A3KNGMX2RVQG91', iid='B00EZPXTOU', r_ui=5.0, est=4.2620504148270895, details={'was_impossible': True, 'reason': 'User and/or item is unkown.'}),\n",
       " Prediction(uid='A2R1HUYHXV7H18', iid='B00G4UQ6U8', r_ui=5.0, est=5, details={'actual_k': 9, 'was_impossible': False}),\n",
       " Prediction(uid='A18FLOC8YQY0P8', iid='B00BP5KOPA', r_ui=5.0, est=5, details={'actual_k': 1, 'was_impossible': False}),\n",
       " Prediction(uid='A1Y85GQ09Y95JL', iid='B000WR0CKE', r_ui=4.0, est=3.533333333333333, details={'actual_k': 0, 'was_impossible': False}),\n",
       " Prediction(uid='A2EN82VBJT44QP', iid='B000COZ504', r_ui=5.0, est=4.2620504148270895, details={'was_impossible': True, 'reason': 'User and/or item is unkown.'}),\n",
       " Prediction(uid='A204K1OFE8OB9Y', iid='B00CPLGLS2', r_ui=4.0, est=3.0277777777777777, details={'actual_k': 0, 'was_impossible': False}),\n",
       " Prediction(uid='A5Q1FK0FWU7DH', iid='B000CS1TLE', r_ui=5.0, est=4.183333333333334, details={'actual_k': 0, 'was_impossible': False}),\n",
       " Prediction(uid='A29KJ32G75L7G9', iid='B0064R9H2A', r_ui=4.0, est=5, details={'actual_k': 1, 'was_impossible': False}),\n",
       " Prediction(uid='A3KZEGBTPH6MMF', iid='B000FBK3QK', r_ui=5.0, est=4.157894736842105, details={'actual_k': 0, 'was_impossible': False}),\n",
       " Prediction(uid='A2JXS1JII6SAUD', iid='B004EPV7TK', r_ui=4.0, est=4.584905660377358, details={'actual_k': 0, 'was_impossible': False}),\n",
       " Prediction(uid='A3CFU12GS5CZCN', iid='B003UOIMBW', r_ui=4.0, est=4.707602339181287, details={'actual_k': 1, 'was_impossible': False}),\n",
       " Prediction(uid='A11D1KHM7DVOQK', iid='B00000JCTD', r_ui=4.0, est=4.2620504148270895, details={'was_impossible': True, 'reason': 'User and/or item is unkown.'}),\n",
       " Prediction(uid='A111WCUF5KA2I6', iid='B00303CGS8', r_ui=5.0, est=4.2620504148270895, details={'was_impossible': True, 'reason': 'User and/or item is unkown.'}),\n",
       " Prediction(uid='A3DWO5RJDA430F', iid='B007X6MVZQ', r_ui=5.0, est=4.2620504148270895, details={'was_impossible': True, 'reason': 'User and/or item is unkown.'}),\n",
       " Prediction(uid='A3EXWV8FNSSFL6', iid='B00H7HDQIC', r_ui=5.0, est=4.485, details={'actual_k': 0, 'was_impossible': False}),\n",
       " Prediction(uid='AKSFZ4G1AXYFC', iid='B006ZTMEZ4', r_ui=5.0, est=4.424242424242424, details={'actual_k': 0, 'was_impossible': False}),\n",
       " Prediction(uid='A2KHG3JOFXQ4CE', iid='B005D9LG6K', r_ui=3.0, est=3.975722543352601, details={'actual_k': 1, 'was_impossible': False}),\n",
       " Prediction(uid='A1R76R4E6A8S3B', iid='B003GSLFMK', r_ui=4.0, est=4.042553191489362, details={'actual_k': 0, 'was_impossible': False}),\n",
       " Prediction(uid='A13BX9O5UDBILC', iid='B00BOHNYU6', r_ui=4.0, est=4.570745691606394, details={'actual_k': 2, 'was_impossible': False}),\n",
       " Prediction(uid='A9ELHLPXF7JKD', iid='B00BWHILCY', r_ui=5.0, est=4.755061728395062, details={'actual_k': 1, 'was_impossible': False}),\n",
       " Prediction(uid='ATDQ9CGCWTT8D', iid='B004WR125O', r_ui=5.0, est=4.194444444444445, details={'actual_k': 0, 'was_impossible': False}),\n",
       " Prediction(uid='A2SGAJWXG65464', iid='B005PSQ5TM', r_ui=5.0, est=4.119047619047619, details={'actual_k': 0, 'was_impossible': False}),\n",
       " Prediction(uid='A1ODOGXEYECQQ8', iid='B0001FTVEA', r_ui=3.0, est=4.125523494364677, details={'actual_k': 2, 'was_impossible': False}),\n",
       " Prediction(uid='A3MQAQT8C6D1I7', iid='B001F51G16', r_ui=5.0, est=5, details={'actual_k': 1, 'was_impossible': False}),\n",
       " Prediction(uid='A3J8A5L5AF5TX9', iid='B002MAPRYU', r_ui=3.0, est=4.235607004455672, details={'actual_k': 2, 'was_impossible': False}),\n",
       " Prediction(uid='A1MNN0ZMHYPJDU', iid='B009K99JCC', r_ui=1.0, est=4.2620504148270895, details={'was_impossible': True, 'reason': 'User and/or item is unkown.'}),\n",
       " Prediction(uid='A1KDUQ2HU0WD68', iid='B003VAK1G4', r_ui=4.0, est=3.6761171032357476, details={'actual_k': 1, 'was_impossible': False}),\n",
       " Prediction(uid='A22NKFOH9RATRC', iid='B007Y4TUZQ', r_ui=2.0, est=4.2620504148270895, details={'was_impossible': True, 'reason': 'User and/or item is unkown.'}),\n",
       " Prediction(uid='A1DB5QPH7WO488', iid='B009SYZ8OC', r_ui=4.0, est=4.3346814339330395, details={'actual_k': 4, 'was_impossible': False}),\n",
       " Prediction(uid='AOWF9T81XMX2S', iid='B008EQZ25K', r_ui=5.0, est=4.398867924528302, details={'actual_k': 1, 'was_impossible': False}),\n",
       " Prediction(uid='A3D822N1K2IAQD', iid='B00001P4XA', r_ui=4.0, est=4.204545454545454, details={'actual_k': 0, 'was_impossible': False}),\n",
       " Prediction(uid='A2M14CFAMF8J7I', iid='B00JFAA97A', r_ui=5.0, est=4.75, details={'actual_k': 0, 'was_impossible': False}),\n",
       " Prediction(uid='A1GYEGLX3P2Y7P', iid='B0052L6Q78', r_ui=4.0, est=4.973723813301285, details={'actual_k': 2, 'was_impossible': False}),\n",
       " Prediction(uid='AT6CZDCP4TRGA', iid='B00007BGSO', r_ui=3.0, est=4.2620504148270895, details={'was_impossible': True, 'reason': 'User and/or item is unkown.'}),\n",
       " Prediction(uid='A3F3B6HY9RJI04', iid='B00GMGDFPI', r_ui=5.0, est=4.64778584943984, details={'actual_k': 6, 'was_impossible': False}),\n",
       " Prediction(uid='A1XE3M22N91451', iid='B003Y31FHC', r_ui=3.0, est=4.2620504148270895, details={'was_impossible': True, 'reason': 'User and/or item is unkown.'}),\n",
       " Prediction(uid='A7KBAXO177NND', iid='B00139W0XM', r_ui=5.0, est=5, details={'actual_k': 1, 'was_impossible': False}),\n",
       " Prediction(uid='AM3XNQU9TZBD8', iid='B008C1JC4O', r_ui=5.0, est=5, details={'actual_k': 4, 'was_impossible': False}),\n",
       " Prediction(uid='A328S9RN3U5M68', iid='B005ZIM73A', r_ui=5.0, est=4.981132075471698, details={'actual_k': 0, 'was_impossible': False}),\n",
       " Prediction(uid='A5JLAU2ARJ0BO', iid='B0000AOWWM', r_ui=5.0, est=4.2620504148270895, details={'was_impossible': True, 'reason': 'User and/or item is unkown.'}),\n",
       " Prediction(uid='A5JLAU2ARJ0BO', iid='B002PY7LM4', r_ui=1.0, est=3.893939393939394, details={'actual_k': 0, 'was_impossible': False}),\n",
       " Prediction(uid='A21NS06GDEA3V0', iid='B00BBIQTBO', r_ui=4.0, est=4.2620504148270895, details={'was_impossible': True, 'reason': 'User and/or item is unkown.'}),\n",
       " Prediction(uid='A6FIAB28IS79', iid='B00B46XUQU', r_ui=3.0, est=4.084536217631779, details={'actual_k': 2, 'was_impossible': False}),\n",
       " Prediction(uid='A26KXNN6H1IL0I', iid='B009OZUPUC', r_ui=5.0, est=3.4360379187587315, details={'actual_k': 3, 'was_impossible': False}),\n",
       " Prediction(uid='AYO1146CBIV5C', iid='B00FNJGLRO', r_ui=4.0, est=4.5, details={'actual_k': 0, 'was_impossible': False}),\n",
       " Prediction(uid='A1MJMYLRTZ76ZX', iid='B00006BC2K', r_ui=5.0, est=4.2620504148270895, details={'was_impossible': True, 'reason': 'User and/or item is unkown.'}),\n",
       " Prediction(uid='A2HPJKM7L4EOQB', iid='B005DIBH88', r_ui=1.0, est=4.2620504148270895, details={'was_impossible': True, 'reason': 'User and/or item is unkown.'}),\n",
       " Prediction(uid='A11T807LX2EF00', iid='B0026RQYEQ', r_ui=1.0, est=4.2620504148270895, details={'was_impossible': True, 'reason': 'User and/or item is unkown.'}),\n",
       " Prediction(uid='A1Y85GQ09Y95JL', iid='B0006HPCLE', r_ui=5.0, est=4.2620504148270895, details={'was_impossible': True, 'reason': 'User and/or item is unkown.'}),\n",
       " Prediction(uid='A5MCDQ60DWUEV', iid='B003OU639A', r_ui=3.0, est=4.5813953488372094, details={'actual_k': 0, 'was_impossible': False}),\n",
       " Prediction(uid='A3L9E0YI7C5G0W', iid='B000LS2HGQ', r_ui=5.0, est=4.2620504148270895, details={'was_impossible': True, 'reason': 'User and/or item is unkown.'}),\n",
       " Prediction(uid='A1MFAPVBW9BEGD', iid='B00746W3HG', r_ui=5.0, est=3.3684210526315788, details={'actual_k': 0, 'was_impossible': False}),\n",
       " Prediction(uid='A24P4E3RJ6AX94', iid='B0075SUK14', r_ui=4.0, est=4.529411764705882, details={'actual_k': 0, 'was_impossible': False}),\n",
       " Prediction(uid='A204K1OFE8OB9Y', iid='B001S4MPSM', r_ui=3.0, est=4.2620504148270895, details={'was_impossible': True, 'reason': 'User and/or item is unkown.'}),\n",
       " Prediction(uid='A5KMMY627T3W', iid='B0077JAEI0', r_ui=5.0, est=4.2620504148270895, details={'was_impossible': True, 'reason': 'User and/or item is unkown.'}),\n",
       " Prediction(uid='A11ULAZ4B5ZXC8', iid='B0019SSSMY', r_ui=4.0, est=4.975, details={'actual_k': 0, 'was_impossible': False}),\n",
       " Prediction(uid='A215IN14OKAE2T', iid='B001VEI2OA', r_ui=5.0, est=3.775, details={'actual_k': 0, 'was_impossible': False}),\n",
       " Prediction(uid='A1R377IPZOKLMM', iid='B001NN5NSM', r_ui=5.0, est=4.2620504148270895, details={'was_impossible': True, 'reason': 'User and/or item is unkown.'}),\n",
       " Prediction(uid='A3R1WFO4KIUQXZ', iid='B002LE8D2A', r_ui=5.0, est=4.2620504148270895, details={'was_impossible': True, 'reason': 'User and/or item is unkown.'}),\n",
       " Prediction(uid='A25HBO5V8S8SEA', iid='B0000DK3I4', r_ui=5.0, est=4.973214285714286, details={'actual_k': 0, 'was_impossible': False}),\n",
       " Prediction(uid='A296QED1MV1V0J', iid='B003V1YGSW', r_ui=4.0, est=3.575581395348837, details={'actual_k': 1, 'was_impossible': False}),\n",
       " Prediction(uid='A1F0KPA232MTYC', iid='B0019884K0', r_ui=3.0, est=4.381818181818182, details={'actual_k': 0, 'was_impossible': False}),\n",
       " Prediction(uid='A1E1LEVQ9VQNK', iid='B005IMFX2K', r_ui=5.0, est=5, details={'actual_k': 6, 'was_impossible': False}),\n",
       " Prediction(uid='A2RU4U1JZ3DMP5', iid='B004UHYUZU', r_ui=5.0, est=4.2620504148270895, details={'was_impossible': True, 'reason': 'User and/or item is unkown.'}),\n",
       " Prediction(uid='A2ZGDHLJ85T6AD', iid='B0034CL2ZI', r_ui=5.0, est=4.793838277679218, details={'actual_k': 3, 'was_impossible': False}),\n",
       " Prediction(uid='A2SZLNSI5KOQJT', iid='B00COYOAYW', r_ui=5.0, est=4.121951219512195, details={'actual_k': 0, 'was_impossible': False}),\n",
       " Prediction(uid='A2UOHALGF2X77Q', iid='B001GIOQBE', r_ui=5.0, est=4.770274671588318, details={'actual_k': 1, 'was_impossible': False}),\n",
       " Prediction(uid='A3CW0ZLUO5X2B1', iid='B0096T97OG', r_ui=3.0, est=4.555335480806139, details={'actual_k': 2, 'was_impossible': False}),\n",
       " Prediction(uid='A1ODOGXEYECQQ8', iid='B008EQQSXA', r_ui=4.0, est=4.2620504148270895, details={'was_impossible': True, 'reason': 'User and/or item is unkown.'}),\n",
       " Prediction(uid='A2XRMQA6PJ5ZJ8', iid='B002TMRZOQ', r_ui=5.0, est=5, details={'actual_k': 3, 'was_impossible': False}),\n",
       " Prediction(uid='A2NSXY5L42ZUGO', iid='B00193U3O0', r_ui=4.0, est=4.47457627118644, details={'actual_k': 0, 'was_impossible': False}),\n",
       " Prediction(uid='AY4EXFOO43C3S', iid='B0024682SK', r_ui=3.0, est=4.2620504148270895, details={'was_impossible': True, 'reason': 'User and/or item is unkown.'}),\n",
       " Prediction(uid='A11T807LX2EF00', iid='B004WOBCXO', r_ui=3.0, est=3.517094017094017, details={'actual_k': 1, 'was_impossible': False}),\n",
       " Prediction(uid='A3F9CMU8KNAY1M', iid='B008YDUTRO', r_ui=4.0, est=4.169491525423729, details={'actual_k': 0, 'was_impossible': False}),\n",
       " Prediction(uid='A1KY5G5FP31F2F', iid='B003TFDUJ6', r_ui=5.0, est=4.586206896551724, details={'actual_k': 0, 'was_impossible': False}),\n",
       " Prediction(uid='A2HKUM9OEBQKDW', iid='B00AUKBUHW', r_ui=4.0, est=4.22, details={'actual_k': 0, 'was_impossible': False}),\n",
       " Prediction(uid='AHIK7BUXFRMT8', iid='B00CJLEHPM', r_ui=5.0, est=4.576923076923077, details={'actual_k': 0, 'was_impossible': False}),\n",
       " Prediction(uid='A206CGM6J75UJY', iid='B000IF51UQ', r_ui=4.0, est=4.2439024390243905, details={'actual_k': 0, 'was_impossible': False}),\n",
       " Prediction(uid='A2YW6XOID7GV6G', iid='B0058FAYPI', r_ui=4.0, est=3.875, details={'actual_k': 0, 'was_impossible': False}),\n",
       " Prediction(uid='A2503LT8PZIHAD', iid='B00FZHWEYS', r_ui=5.0, est=4.2620504148270895, details={'was_impossible': True, 'reason': 'User and/or item is unkown.'}),\n",
       " Prediction(uid='A2KYRPDKVBI2R4', iid='B005FP53G6', r_ui=5.0, est=4.2620504148270895, details={'was_impossible': True, 'reason': 'User and/or item is unkown.'}),\n",
       " Prediction(uid='A1VVRA3P6G1TWH', iid='B0017HQN6A', r_ui=5.0, est=4.2620504148270895, details={'was_impossible': True, 'reason': 'User and/or item is unkown.'}),\n",
       " Prediction(uid='A3L9E0YI7C5G0W', iid='B0060GEZ0E', r_ui=5.0, est=4.259740259740259, details={'actual_k': 0, 'was_impossible': False}),\n",
       " Prediction(uid='AOEAD7DPLZE53', iid='B001ID49BO', r_ui=2.0, est=3.585526315789474, details={'actual_k': 0, 'was_impossible': False}),\n",
       " Prediction(uid='A203OCQQ12MAVT', iid='B001UK13IW', r_ui=4.0, est=4.2620504148270895, details={'was_impossible': True, 'reason': 'User and/or item is unkown.'}),\n",
       " Prediction(uid='A11I1I9QLMAM1A', iid='B00FRL6ZZ6', r_ui=5.0, est=4.2620504148270895, details={'was_impossible': True, 'reason': 'User and/or item is unkown.'}),\n",
       " Prediction(uid='A1A535TCGNMVPI', iid='B00A81ICCE', r_ui=5.0, est=4.245236373836269, details={'actual_k': 2, 'was_impossible': False}),\n",
       " Prediction(uid='A6KL17KKN0A5L', iid='B006T3AUCU', r_ui=5.0, est=4.2620504148270895, details={'was_impossible': True, 'reason': 'User and/or item is unkown.'}),\n",
       " Prediction(uid='AT28RL25Q2OLK', iid='B000FOYMKU', r_ui=5.0, est=4.0698686501028645, details={'actual_k': 1, 'was_impossible': False}),\n",
       " Prediction(uid='ARC5ASW9CUAGP', iid='B00006IRY5', r_ui=4.0, est=4.2620504148270895, details={'was_impossible': True, 'reason': 'User and/or item is unkown.'}),\n",
       " Prediction(uid='A7FDGFK0KN7QG', iid='B00J3KA814', r_ui=5.0, est=4.717948717948718, details={'actual_k': 0, 'was_impossible': False}),\n",
       " Prediction(uid='A1F9Z42CFF9IAY', iid='B00752R4QO', r_ui=5.0, est=4.2620504148270895, details={'was_impossible': True, 'reason': 'User and/or item is unkown.'}),\n",
       " Prediction(uid='APGQTZZ4ZFPHO', iid='B001TZUS98', r_ui=5.0, est=4.326086956521739, details={'actual_k': 0, 'was_impossible': False}),\n",
       " Prediction(uid='A506HOOCVL8GW', iid='B007GFX0PY', r_ui=5.0, est=4.66267783539423, details={'actual_k': 1, 'was_impossible': False}),\n",
       " Prediction(uid='A2GMZZ6TDYOHY7', iid='B001TH7GUU', r_ui=5.0, est=5, details={'actual_k': 2, 'was_impossible': False}),\n",
       " Prediction(uid='A2UOHALGF2X77Q', iid='B005FVNHBI', r_ui=4.0, est=4.1435568371704745, details={'actual_k': 2, 'was_impossible': False}),\n",
       " Prediction(uid='AWNJAY0M5UI70', iid='B005G3066Y', r_ui=4.0, est=4.746666666666667, details={'actual_k': 0, 'was_impossible': False}),\n",
       " Prediction(uid='A680RUE1FDO8B', iid='B000MK4GGM', r_ui=4.0, est=4.477031802120141, details={'actual_k': 0, 'was_impossible': False}),\n",
       " Prediction(uid='ALUNVOQRXOZIA', iid='B00004UF8Z', r_ui=5.0, est=4.2620504148270895, details={'was_impossible': True, 'reason': 'User and/or item is unkown.'}),\n",
       " Prediction(uid='A3T7V207KRDE2O', iid='B002JINFS0', r_ui=5.0, est=4.269230769230769, details={'actual_k': 0, 'was_impossible': False}),\n",
       " Prediction(uid='AFICF7DKHTQ87', iid='B007CLWLQ6', r_ui=4.0, est=4.2620504148270895, details={'was_impossible': True, 'reason': 'User and/or item is unkown.'}),\n",
       " Prediction(uid='A36K2N527TXXJN', iid='B00D3F7D7M', r_ui=4.0, est=5, details={'actual_k': 7, 'was_impossible': False}),\n",
       " Prediction(uid='A1XE3M22N91451', iid='B002NU5UW8', r_ui=5.0, est=4.333333333333333, details={'actual_k': 0, 'was_impossible': False}),\n",
       " Prediction(uid='AOVTLYTHVDNUX', iid='B00BLORPGG', r_ui=4.0, est=4.2620504148270895, details={'was_impossible': True, 'reason': 'User and/or item is unkown.'}),\n",
       " Prediction(uid='ARX7Z3NI6O0F7', iid='B001UFYFYG', r_ui=4.0, est=5, details={'actual_k': 1, 'was_impossible': False}),\n",
       " Prediction(uid='A2V0I904FH7ABY', iid='B001FWU96M', r_ui=4.0, est=5, details={'actual_k': 1, 'was_impossible': False}),\n",
       " Prediction(uid='A11I1I9QLMAM1A', iid='B00A7PPLP2', r_ui=5.0, est=4.24105461035738, details={'actual_k': 12, 'was_impossible': False}),\n",
       " Prediction(uid='AHF4I1FSIHABC', iid='B002WE0QN8', r_ui=5.0, est=5, details={'actual_k': 1, 'was_impossible': False}),\n",
       " Prediction(uid='A19X4BF861LQST', iid='B00009R6JT', r_ui=5.0, est=3.7083333333333335, details={'actual_k': 0, 'was_impossible': False}),\n",
       " Prediction(uid='A2XXBZPQT5EXHV', iid='B0065TISVI', r_ui=5.0, est=4.2620504148270895, details={'was_impossible': True, 'reason': 'User and/or item is unkown.'}),\n",
       " Prediction(uid='A21I62TCDL4754', iid='B0021YZ4HW', r_ui=5.0, est=4.2620504148270895, details={'was_impossible': True, 'reason': 'User and/or item is unkown.'}),\n",
       " Prediction(uid='A359MYLPLEOF7N', iid='B000OGA81Q', r_ui=4.0, est=4.6, details={'actual_k': 0, 'was_impossible': False}),\n",
       " Prediction(uid='A3LSEIG2PIJYBL', iid='B004B8VMMW', r_ui=5.0, est=4.2620504148270895, details={'was_impossible': True, 'reason': 'User and/or item is unkown.'}),\n",
       " Prediction(uid='A3NHUQ33CFH3VM', iid='B00GLJGJTA', r_ui=5.0, est=4.4941929133858265, details={'actual_k': 1, 'was_impossible': False}),\n",
       " Prediction(uid='AD8DLOGHAXL', iid='B00007FGO2', r_ui=4.0, est=4.2620504148270895, details={'was_impossible': True, 'reason': 'User and/or item is unkown.'}),\n",
       " Prediction(uid='A2LTYEYGKBYXRR', iid='B0058TUZT4', r_ui=5.0, est=4.833333333333333, details={'actual_k': 0, 'was_impossible': False}),\n",
       " Prediction(uid='A1901NTE8LFJF6', iid='B0011U65F2', r_ui=5.0, est=4.740839243498819, details={'actual_k': 1, 'was_impossible': False}),\n",
       " Prediction(uid='AWZR0O65DL2Q', iid='B0015DYMVO', r_ui=4.0, est=4.061224489795919, details={'actual_k': 0, 'was_impossible': False}),\n",
       " Prediction(uid='A240FRPD4MEXND', iid='B00GO1UV4E', r_ui=5.0, est=4.663897763881896, details={'actual_k': 2, 'was_impossible': False}),\n",
       " Prediction(uid='A3NEAETOSXDBOM', iid='B00155RGHO', r_ui=5.0, est=4.2620504148270895, details={'was_impossible': True, 'reason': 'User and/or item is unkown.'}),\n",
       " Prediction(uid='AQCJWSMSURQI2', iid='B00I3ERXWS', r_ui=4.0, est=4.165895061728396, details={'actual_k': 1, 'was_impossible': False}),\n",
       " Prediction(uid='A3PCEB9ND82AGE', iid='B004PYD88I', r_ui=3.0, est=4.2620504148270895, details={'was_impossible': True, 'reason': 'User and/or item is unkown.'}),\n",
       " Prediction(uid='A11D1KHM7DVOQK', iid='B000BP50AY', r_ui=3.0, est=3.048780487804878, details={'actual_k': 0, 'was_impossible': False}),\n",
       " Prediction(uid='A3HR0ZZOFKQ97N', iid='B002HWRJBM', r_ui=5.0, est=4.569811723776291, details={'actual_k': 2, 'was_impossible': False}),\n",
       " Prediction(uid='A2ARDVMUGDFED6', iid='B000KZ70JE', r_ui=5.0, est=4.262626262626263, details={'actual_k': 0, 'was_impossible': False}),\n",
       " Prediction(uid='A3E68EBGXTWDNP', iid='B000HI4VHI', r_ui=4.0, est=4.2727272727272725, details={'actual_k': 0, 'was_impossible': False}),\n",
       " Prediction(uid='A1143YEAZYMYHJ', iid='B00BW6LW7G', r_ui=5.0, est=4.455882352941177, details={'actual_k': 0, 'was_impossible': False}),\n",
       " Prediction(uid='A16RI68PS6T5CA', iid='B001TANZ0W', r_ui=5.0, est=3.9074074074074074, details={'actual_k': 0, 'was_impossible': False}),\n",
       " Prediction(uid='ADLVFFE4VBT8', iid='B00AEZIESG', r_ui=4.0, est=3.3165661210171207, details={'actual_k': 5, 'was_impossible': False}),\n",
       " Prediction(uid='A3SRDVCD2ATIIS', iid='B00JMQ5X2I', r_ui=5.0, est=4.2620504148270895, details={'was_impossible': True, 'reason': 'User and/or item is unkown.'}),\n",
       " Prediction(uid='A1D27BCSYV7VWH', iid='B0044D3R7M', r_ui=5.0, est=4.2620504148270895, details={'was_impossible': True, 'reason': 'User and/or item is unkown.'}),\n",
       " Prediction(uid='A7Y6AVS576M03', iid='B000DIM9AS', r_ui=5.0, est=4.2620504148270895, details={'was_impossible': True, 'reason': 'User and/or item is unkown.'}),\n",
       " Prediction(uid='A1522TN5FVJL0Y', iid='B00006ANYX', r_ui=5.0, est=4.2620504148270895, details={'was_impossible': True, 'reason': 'User and/or item is unkown.'}),\n",
       " Prediction(uid='A3OA4DV4L81N1D', iid='B00CBEKK3A', r_ui=5.0, est=4.544117647058823, details={'actual_k': 0, 'was_impossible': False}),\n",
       " Prediction(uid='A1A306IAZ3TM1', iid='B00009MK3T', r_ui=5.0, est=4.2620504148270895, details={'was_impossible': True, 'reason': 'User and/or item is unkown.'}),\n",
       " Prediction(uid='A1AKW788238PWQ', iid='B00022OBOC', r_ui=3.0, est=4.2620504148270895, details={'was_impossible': True, 'reason': 'User and/or item is unkown.'}),\n",
       " Prediction(uid='A21T0D2F7SKG5S', iid='B000JLK5PK', r_ui=4.0, est=3.975, details={'actual_k': 0, 'was_impossible': False}),\n",
       " Prediction(uid='A24QFMD1RXLJMB', iid='B006MJGX6S', r_ui=1.0, est=4.2620504148270895, details={'was_impossible': True, 'reason': 'User and/or item is unkown.'}),\n",
       " Prediction(uid='A3MMR2WDKAK0PA', iid='B003VJF63I', r_ui=4.0, est=4.2620504148270895, details={'was_impossible': True, 'reason': 'User and/or item is unkown.'}),\n",
       " Prediction(uid='A25C2M3QF9G7OQ', iid='B001CHHVCU', r_ui=3.0, est=4.049625905559033, details={'actual_k': 16, 'was_impossible': False}),\n",
       " Prediction(uid='A2JP9E1H0SF392', iid='B0000E2RZN', r_ui=4.0, est=4.2620504148270895, details={'was_impossible': True, 'reason': 'User and/or item is unkown.'}),\n",
       " Prediction(uid='A3J8A5L5AF5TX9', iid='B007BJHETS', r_ui=4.0, est=4.084752073732676, details={'actual_k': 4, 'was_impossible': False}),\n",
       " Prediction(uid='A141R97FHSSUQ0', iid='B000N99BBC', r_ui=5.0, est=4.86525915984687, details={'actual_k': 9, 'was_impossible': False}),\n",
       " Prediction(uid='A3HPCRD9RX351S', iid='B004TLH7C0', r_ui=5.0, est=4.445945945945946, details={'actual_k': 0, 'was_impossible': False}),\n",
       " Prediction(uid='A2GYV87WW0DMSN', iid='B001ES5D5Y', r_ui=5.0, est=4.444444444444445, details={'actual_k': 0, 'was_impossible': False}),\n",
       " Prediction(uid='A3H4S6YO9VNGDZ', iid='B0012MMW7E', r_ui=5.0, est=4.983861118030712, details={'actual_k': 2, 'was_impossible': False}),\n",
       " Prediction(uid='A33XMCG1UFDSY2', iid='B000L4D42Q', r_ui=3.0, est=4.2620504148270895, details={'was_impossible': True, 'reason': 'User and/or item is unkown.'}),\n",
       " Prediction(uid='A2OOXVZ6B1VZ9A', iid='B003TO51LW', r_ui=5.0, est=4.2620504148270895, details={'was_impossible': True, 'reason': 'User and/or item is unkown.'}),\n",
       " Prediction(uid='A2R6RA8FRBS608', iid='B00004TWM4', r_ui=3.0, est=4.2620504148270895, details={'was_impossible': True, 'reason': 'User and/or item is unkown.'}),\n",
       " Prediction(uid='A1IDAKX7OM3QIE', iid='B000I6JZGQ', r_ui=1.0, est=3.871794871794872, details={'actual_k': 0, 'was_impossible': False}),\n",
       " Prediction(uid='AZNUHQSHZHSUE', iid='B001M4N956', r_ui=5.0, est=4.214285714285714, details={'actual_k': 0, 'was_impossible': False}),\n",
       " Prediction(uid='ARXU3FESTWMJJ', iid='B00FRMAOIO', r_ui=5.0, est=3.5376344086021505, details={'actual_k': 0, 'was_impossible': False}),\n",
       " Prediction(uid='A35HNL2VEDK9Z1', iid='B001SJVU24', r_ui=5.0, est=4.1568627450980395, details={'actual_k': 0, 'was_impossible': False}),\n",
       " Prediction(uid='A2X695AM08AIN1', iid='B00DJERMRS', r_ui=5.0, est=4.2620504148270895, details={'was_impossible': True, 'reason': 'User and/or item is unkown.'}),\n",
       " Prediction(uid='A2BYV7S1QP2YIG', iid='B00KNEBRT6', r_ui=5.0, est=5, details={'actual_k': 1, 'was_impossible': False}),\n",
       " Prediction(uid='A1RL1OTV8IJMVD', iid='B003ZUM5LE', r_ui=5.0, est=4.178217821782178, details={'actual_k': 0, 'was_impossible': False}),\n",
       " Prediction(uid='A1URXSRV6WDHVY', iid='B005O81U9S', r_ui=4.0, est=4.488372093023256, details={'actual_k': 0, 'was_impossible': False}),\n",
       " Prediction(uid='A11I1I9QLMAM1A', iid='B00F6E8OUS', r_ui=5.0, est=4.452868724916666, details={'actual_k': 5, 'was_impossible': False}),\n",
       " Prediction(uid='A2Y4H3PXB07WQI', iid='B004FLJ37Q', r_ui=5.0, est=4.2620504148270895, details={'was_impossible': True, 'reason': 'User and/or item is unkown.'}),\n",
       " Prediction(uid='A36IHC0K68NS2', iid='B00C28L138', r_ui=4.0, est=4.37433875093338, details={'actual_k': 3, 'was_impossible': False}),\n",
       " Prediction(uid='A22MANL4US4RMY', iid='B00ESUCTPC', r_ui=5.0, est=4.2620504148270895, details={'was_impossible': True, 'reason': 'User and/or item is unkown.'}),\n",
       " Prediction(uid='A2UOHALGF2X77Q', iid='B001PNCNVK', r_ui=4.0, est=4.0653566388014335, details={'actual_k': 1, 'was_impossible': False}),\n",
       " Prediction(uid='A1ODOGXEYECQQ8', iid='B0053G6GI6', r_ui=5.0, est=4.433000416146483, details={'actual_k': 1, 'was_impossible': False}),\n",
       " Prediction(uid='A3MFORLOKIOEQY', iid='B004MSQZUU', r_ui=5.0, est=4.636106858981297, details={'actual_k': 2, 'was_impossible': False}),\n",
       " Prediction(uid='A2IT7S59GSASN7', iid='B00CXADBRY', r_ui=2.0, est=3.469236049450874, details={'actual_k': 4, 'was_impossible': False}),\n",
       " Prediction(uid='AAK6SOEJY30YG', iid='B00081A2KY', r_ui=4.0, est=3.85, details={'actual_k': 0, 'was_impossible': False}),\n",
       " Prediction(uid='A1RPTVW5VEOSI', iid='B00000K3RI', r_ui=3.0, est=4.034782608695652, details={'actual_k': 0, 'was_impossible': False}),\n",
       " Prediction(uid='A2SPV96SGOEO2', iid='B003ZUXVQM', r_ui=4.0, est=4.318181818181818, details={'actual_k': 0, 'was_impossible': False}),\n",
       " Prediction(uid='ABIVKBMSIPEDY', iid='B00IZDLDCI', r_ui=3.0, est=3.8210526315789473, details={'actual_k': 0, 'was_impossible': False}),\n",
       " Prediction(uid='A379DLIAF0MFM5', iid='B00009K7E3', r_ui=4.0, est=4.2620504148270895, details={'was_impossible': True, 'reason': 'User and/or item is unkown.'}),\n",
       " Prediction(uid='ARBKYIVNYWK3C', iid='B002MMY4WY', r_ui=4.0, est=5, details={'actual_k': 1, 'was_impossible': False}),\n",
       " Prediction(uid='AN81JUYW2SL24', iid='B0007MGFFU', r_ui=5.0, est=4.141843971631205, details={'actual_k': 0, 'was_impossible': False}),\n",
       " Prediction(uid='A1XEQGYY1IL8CD', iid='B003WG8TUW', r_ui=3.0, est=4.2620504148270895, details={'was_impossible': True, 'reason': 'User and/or item is unkown.'}),\n",
       " Prediction(uid='A2V2URLB31HG59', iid='B004WOK2NK', r_ui=4.0, est=4.123588241461386, details={'actual_k': 2, 'was_impossible': False}),\n",
       " Prediction(uid='A20G074MWH9U7O', iid='B0095Z2F54', r_ui=5.0, est=4.2620504148270895, details={'was_impossible': True, 'reason': 'User and/or item is unkown.'}),\n",
       " Prediction(uid='AG8YP2XTC5X1I', iid='B000MX48VM', r_ui=5.0, est=4.509803921568627, details={'actual_k': 0, 'was_impossible': False}),\n",
       " Prediction(uid='A1GWG5CWLKJ7ET', iid='B00HR7FWUC', r_ui=4.0, est=4.106684895330315, details={'actual_k': 2, 'was_impossible': False}),\n",
       " Prediction(uid='A3FFZQKCA7UOYY', iid='B00F3SISYO', r_ui=5.0, est=4.690476190476191, details={'actual_k': 0, 'was_impossible': False}),\n",
       " Prediction(uid='A5MCDQ60DWUEV', iid='B004J3V7MO', r_ui=4.0, est=4.5813953488372094, details={'actual_k': 0, 'was_impossible': False}),\n",
       " Prediction(uid='A3KZEGBTPH6MMF', iid='B005GM1Q1O', r_ui=3.0, est=2.800352837400765, details={'actual_k': 1, 'was_impossible': False}),\n",
       " Prediction(uid='A353U0L2HAMSHV', iid='B00BD7UVKI', r_ui=4.0, est=4.4255076668048074, details={'actual_k': 1, 'was_impossible': False}),\n",
       " Prediction(uid='AKX9EQ37PAYMY', iid='B003YSWNNW', r_ui=5.0, est=4.473684210526316, details={'actual_k': 0, 'was_impossible': False}),\n",
       " Prediction(uid='A3EHJ5519LG7TR', iid='B00C2WA91E', r_ui=5.0, est=4.2620504148270895, details={'was_impossible': True, 'reason': 'User and/or item is unkown.'}),\n",
       " Prediction(uid='A2503LT8PZIHAD', iid='B001NTBVPA', r_ui=5.0, est=4.409111097155999, details={'actual_k': 3, 'was_impossible': False}),\n",
       " Prediction(uid='A1MBXP3NZM2BUO', iid='B000ZJZ7OA', r_ui=4.0, est=5, details={'actual_k': 1, 'was_impossible': False}),\n",
       " Prediction(uid='AQSV34W54L0VO', iid='B00AAIPT76', r_ui=5.0, est=5, details={'actual_k': 1, 'was_impossible': False}),\n",
       " Prediction(uid='A1BVE2ZIBKJ7YI', iid='B0025KVAY8', r_ui=1.0, est=4.2620504148270895, details={'was_impossible': True, 'reason': 'User and/or item is unkown.'}),\n",
       " Prediction(uid='A3SX5MZTCZRQLF', iid='B007PJ4P4G', r_ui=5.0, est=4.866005756315958, details={'actual_k': 1, 'was_impossible': False}),\n",
       " Prediction(uid='A1U5NWJOYH2QQH', iid='B00429N18S', r_ui=5.0, est=3.9166666666666665, details={'actual_k': 0, 'was_impossible': False}),\n",
       " Prediction(uid='A1ZPY91VE3IDN1', iid='B009QV15DU', r_ui=5.0, est=4.425925925925926, details={'actual_k': 0, 'was_impossible': False}),\n",
       " Prediction(uid='A3OXHLG6DIBRW8', iid='B002CMAW20', r_ui=5.0, est=4.4508670520231215, details={'actual_k': 0, 'was_impossible': False}),\n",
       " Prediction(uid='A2V7EO331SFUF6', iid='B0003404RW', r_ui=1.0, est=4.2620504148270895, details={'was_impossible': True, 'reason': 'User and/or item is unkown.'}),\n",
       " Prediction(uid='A3O1FVLUD9X1XC', iid='B00461E7JE', r_ui=5.0, est=4.410256410256411, details={'actual_k': 0, 'was_impossible': False}),\n",
       " Prediction(uid='A11I1I9QLMAM1A', iid='B00DQZPCTA', r_ui=5.0, est=4.2890287739791875, details={'actual_k': 7, 'was_impossible': False}),\n",
       " Prediction(uid='A2OWR5G2OAQF7C', iid='B007PTCFFW', r_ui=5.0, est=4.840941586511406, details={'actual_k': 6, 'was_impossible': False}),\n",
       " Prediction(uid='A5JLAU2ARJ0BO', iid='B00004TS16', r_ui=5.0, est=3.893939393939394, details={'actual_k': 0, 'was_impossible': False}),\n",
       " Prediction(uid='A365PBEOWM7EI7', iid='B000IV6S9S', r_ui=5.0, est=3.1587837837837838, details={'actual_k': 1, 'was_impossible': False}),\n",
       " Prediction(uid='A257X1MQJO82P2', iid='B000JEV4XY', r_ui=5.0, est=4.2620504148270895, details={'was_impossible': True, 'reason': 'User and/or item is unkown.'}),\n",
       " Prediction(uid='A3DWO5RJDA430F', iid='B005G89KI4', r_ui=5.0, est=4.2620504148270895, details={'was_impossible': True, 'reason': 'User and/or item is unkown.'}),\n",
       " Prediction(uid='A3D01HLSUFEZQY', iid='B005NY40M2', r_ui=1.0, est=4.2620504148270895, details={'was_impossible': True, 'reason': 'User and/or item is unkown.'}),\n",
       " Prediction(uid='A1R3GN9MEJFXM3', iid='B003X26LYG', r_ui=5.0, est=4.967741935483871, details={'actual_k': 0, 'was_impossible': False}),\n",
       " Prediction(uid='AAA0TUKS5VBSA', iid='B005A0B7CA', r_ui=4.0, est=3.4739462654540736, details={'actual_k': 2, 'was_impossible': False}),\n",
       " Prediction(uid='A32NEDX6UVV8DE', iid='B005PVXIWQ', r_ui=5.0, est=4.448979591836735, details={'actual_k': 0, 'was_impossible': False}),\n",
       " Prediction(uid='AP53MVRC8ZEW2', iid='B001NMT63G', r_ui=4.0, est=4.2620504148270895, details={'was_impossible': True, 'reason': 'User and/or item is unkown.'}),\n",
       " Prediction(uid='A18OTCHQ6MXD6X', iid='B00746O3X8', r_ui=4.0, est=4.481481481481482, details={'actual_k': 0, 'was_impossible': False}),\n",
       " Prediction(uid='A3CW0ZLUO5X2B1', iid='B0031RGETU', r_ui=4.0, est=4.2620504148270895, details={'was_impossible': True, 'reason': 'User and/or item is unkown.'}),\n",
       " Prediction(uid='A1YEPFLLH42OU1', iid='B007QEEPWC', r_ui=3.0, est=4.2620504148270895, details={'was_impossible': True, 'reason': 'User and/or item is unkown.'}),\n",
       " Prediction(uid='A32AK8FOAZEPE2', iid='B006MBX5NK', r_ui=1.0, est=4.2620504148270895, details={'was_impossible': True, 'reason': 'User and/or item is unkown.'}),\n",
       " Prediction(uid='A253IOATGMT2UP', iid='B00B588HY2', r_ui=4.0, est=5, details={'actual_k': 1, 'was_impossible': False}),\n",
       " Prediction(uid='A1LD5SE8IZ1H70', iid='B005LN1JEC', r_ui=5.0, est=4.345454545454546, details={'actual_k': 0, 'was_impossible': False}),\n",
       " Prediction(uid='A1USYP4AXF5I1D', iid='B004QGXOOI', r_ui=5.0, est=3.9166666666666665, details={'actual_k': 0, 'was_impossible': False}),\n",
       " Prediction(uid='A2XRMQA6PJ5ZJ8', iid='B001FW9QGQ', r_ui=5.0, est=4.573033707865169, details={'actual_k': 0, 'was_impossible': False}),\n",
       " Prediction(uid='AAA0TUKS5VBSA', iid='B00IJ4OVZE', r_ui=4.0, est=4.338573021181717, details={'actual_k': 1, 'was_impossible': False}),\n",
       " Prediction(uid='A1J75JJ0Q2OEJN', iid='B004TPJKEY', r_ui=4.0, est=3.6236860025272337, details={'actual_k': 5, 'was_impossible': False}),\n",
       " Prediction(uid='A3OXHLG6DIBRW8', iid='B003DDP2IQ', r_ui=4.0, est=4.2620504148270895, details={'was_impossible': True, 'reason': 'User and/or item is unkown.'}),\n",
       " Prediction(uid='A11D1KHM7DVOQK', iid='B00008RS96', r_ui=2.0, est=4.2620504148270895, details={'was_impossible': True, 'reason': 'User and/or item is unkown.'}),\n",
       " Prediction(uid='AVPNQUVZWMDSX', iid='B0095P2F1S', r_ui=4.0, est=4.223369491618683, details={'actual_k': 4, 'was_impossible': False}),\n",
       " Prediction(uid='AGVWTYW0ULXHT', iid='B00BERGFV6', r_ui=4.0, est=4.452260823235251, details={'actual_k': 4, 'was_impossible': False}),\n",
       " Prediction(uid='A365PBEOWM7EI7', iid='B0054MS2WM', r_ui=3.0, est=3.7837837837837838, details={'actual_k': 0, 'was_impossible': False}),\n",
       " Prediction(uid='A1J87SYB3JPQWH', iid='B0018N380W', r_ui=5.0, est=4.2620504148270895, details={'was_impossible': True, 'reason': 'User and/or item is unkown.'}),\n",
       " Prediction(uid='A1HSM98KUGTHNY', iid='B003DZ122E', r_ui=3.0, est=4.2620504148270895, details={'was_impossible': True, 'reason': 'User and/or item is unkown.'}),\n",
       " Prediction(uid='A3LWC833HQIG7J', iid='B003TWOD3G', r_ui=1.0, est=4.372093023255814, details={'actual_k': 0, 'was_impossible': False}),\n",
       " Prediction(uid='A2AEZQ3DGBBLPR', iid='B0000DF2LT', r_ui=4.0, est=3.675324675324675, details={'actual_k': 0, 'was_impossible': False}),\n",
       " Prediction(uid='A3LGT6UZL99IW1', iid='B007Q8GOGI', r_ui=5.0, est=3.562414075225198, details={'actual_k': 12, 'was_impossible': False}),\n",
       " Prediction(uid='A3NKRH3TJ4DPVI', iid='B000LRMS66', r_ui=5.0, est=4.829240229850694, details={'actual_k': 6, 'was_impossible': False}),\n",
       " Prediction(uid='A1BZIM4WGZ6DZP', iid='B001QUA6R0', r_ui=5.0, est=4.888888888888889, details={'actual_k': 0, 'was_impossible': False}),\n",
       " Prediction(uid='A2BMZRO0H7TFCS', iid='B008X9Z9ZQ', r_ui=4.0, est=3.823452762639549, details={'actual_k': 8, 'was_impossible': False}),\n",
       " Prediction(uid='A3OXHLG6DIBRW8', iid='B0007XGOW8', r_ui=2.0, est=4.2620504148270895, details={'was_impossible': True, 'reason': 'User and/or item is unkown.'}),\n",
       " Prediction(uid='A1JUBRIZMO0RJV', iid='B00022ADXK', r_ui=4.0, est=4.2620504148270895, details={'was_impossible': True, 'reason': 'User and/or item is unkown.'}),\n",
       " Prediction(uid='ARTA78TP6H73D', iid='B008R6WUZC', r_ui=4.0, est=4.06, details={'actual_k': 0, 'was_impossible': False}),\n",
       " Prediction(uid='A31N0XY2UTB25C', iid='B004T9Y0MW', r_ui=4.0, est=3.4482074640023512, details={'actual_k': 1, 'was_impossible': False}),\n",
       " Prediction(uid='A2QIC4G483SQQA', iid='B00A7F5S0A', r_ui=5.0, est=4.2620504148270895, details={'was_impossible': True, 'reason': 'User and/or item is unkown.'}),\n",
       " Prediction(uid='A2XRMQA6PJ5ZJ8', iid='B002ONCC98', r_ui=5.0, est=4.573033707865169, details={'actual_k': 0, 'was_impossible': False}),\n",
       " Prediction(uid='A31HOWJKEIY037', iid='B0000C5FLO', r_ui=3.0, est=4.2620504148270895, details={'was_impossible': True, 'reason': 'User and/or item is unkown.'}),\n",
       " Prediction(uid='A1KKE6VX8VPWZK', iid='B001HJTK5Y', r_ui=5.0, est=4.647887323943662, details={'actual_k': 0, 'was_impossible': False}),\n",
       " Prediction(uid='AK3GKIV8DEY8B', iid='B002UHKR6I', r_ui=5.0, est=4.2620504148270895, details={'was_impossible': True, 'reason': 'User and/or item is unkown.'}),\n",
       " Prediction(uid='ACSX5AIZE3MJ9', iid='B002TLTGM6', r_ui=4.0, est=2.057996675667218, details={'actual_k': 2, 'was_impossible': False}),\n",
       " Prediction(uid='A680RUE1FDO8B', iid='B004IS22WO', r_ui=1.0, est=4.2620504148270895, details={'was_impossible': True, 'reason': 'User and/or item is unkown.'}),\n",
       " Prediction(uid='A3SOJO7Z7R9WIA', iid='B0040IUI46', r_ui=1.0, est=3.2413793103448274, details={'actual_k': 0, 'was_impossible': False}),\n",
       " Prediction(uid='ARXU3FESTWMJJ', iid='B003XU6H8I', r_ui=4.0, est=4.346380320131843, details={'actual_k': 2, 'was_impossible': False}),\n",
       " Prediction(uid='A11FX8HL2ANK6T', iid='B003LVZO8S', r_ui=5.0, est=4.604615384615385, details={'actual_k': 1, 'was_impossible': False}),\n",
       " Prediction(uid='ARC5ASW9CUAGP', iid='B000BI7NHY', r_ui=4.0, est=4.142857142857143, details={'actual_k': 0, 'was_impossible': False}),\n",
       " Prediction(uid='A1VEELTKS8NLZB', iid='B003A4H2LI', r_ui=2.0, est=4.0256410256410255, details={'actual_k': 0, 'was_impossible': False}),\n",
       " Prediction(uid='A2PSD2R9A1CXG7', iid='B0007G6RZE', r_ui=5.0, est=4.923717098929008, details={'actual_k': 2, 'was_impossible': False}),\n",
       " Prediction(uid='A2503LT8PZIHAD', iid='B0079UAT0A', r_ui=3.0, est=4.297811719895045, details={'actual_k': 14, 'was_impossible': False}),\n",
       " Prediction(uid='ALDAF4VVLFRHP', iid='B002YU83YO', r_ui=5.0, est=5, details={'actual_k': 3, 'was_impossible': False}),\n",
       " Prediction(uid='A3V7D0LH8L7BG0', iid='B001L2MJO6', r_ui=5.0, est=4.573417894325159, details={'actual_k': 3, 'was_impossible': False}),\n",
       " Prediction(uid='A2IIAQ7VVAHXTD', iid='B0045JTDLE', r_ui=5.0, est=4.2620504148270895, details={'was_impossible': True, 'reason': 'User and/or item is unkown.'}),\n",
       " Prediction(uid='A2WJ5XSE4I9F55', iid='B004J16XB6', r_ui=2.0, est=3.305084745762712, details={'actual_k': 0, 'was_impossible': False}),\n",
       " Prediction(uid='A1EH2S92FHWZRP', iid='B00C97AF16', r_ui=3.0, est=2.3797549420903774, details={'actual_k': 2, 'was_impossible': False}),\n",
       " Prediction(uid='A3BY5KCNQZXV5U', iid='B005B47AIU', r_ui=4.0, est=4.2620504148270895, details={'was_impossible': True, 'reason': 'User and/or item is unkown.'}),\n",
       " Prediction(uid='AKBVYIIHWI04B', iid='B006JWMOOI', r_ui=5.0, est=4.75, details={'actual_k': 0, 'was_impossible': False}),\n",
       " Prediction(uid='A12DQZKRKTNF5E', iid='B00GGGIWTI', r_ui=5.0, est=4.2620504148270895, details={'was_impossible': True, 'reason': 'User and/or item is unkown.'}),\n",
       " Prediction(uid='A27QXQQOLAMRRR', iid='B001MVL6C2', r_ui=5.0, est=4.2620504148270895, details={'was_impossible': True, 'reason': 'User and/or item is unkown.'}),\n",
       " Prediction(uid='A3JAH5WW61N2EK', iid='B006ZP8UOW', r_ui=5.0, est=4.290322580645161, details={'actual_k': 0, 'was_impossible': False}),\n",
       " Prediction(uid='A19FRW264WZTGP', iid='B001R0QBI2', r_ui=4.0, est=4.695899224282979, details={'actual_k': 2, 'was_impossible': False}),\n",
       " Prediction(uid='A2ZFFSJ0VM6KSJ', iid='B004IUVEB2', r_ui=5.0, est=4.6923076923076925, details={'actual_k': 1, 'was_impossible': False}),\n",
       " Prediction(uid='AQ2FC1DLKVD8H', iid='B00G4UQ6U8', r_ui=5.0, est=4.66047849242465, details={'actual_k': 9, 'was_impossible': False}),\n",
       " Prediction(uid='A2HKUM9OEBQKDW', iid='B00483DTMQ', r_ui=3.0, est=4.22, details={'actual_k': 0, 'was_impossible': False}),\n",
       " Prediction(uid='AFNG8O2DXRCUV', iid='B000NMFCIA', r_ui=4.0, est=4.385128205128205, details={'actual_k': 1, 'was_impossible': False}),\n",
       " Prediction(uid='A2SKEQT0WTB954', iid='B00008OE6I', r_ui=5.0, est=4.648936170212766, details={'actual_k': 0, 'was_impossible': False}),\n",
       " Prediction(uid='A1V5TRJXTI6F01', iid='B000HPV3RW', r_ui=5.0, est=4.666666666666667, details={'actual_k': 0, 'was_impossible': False}),\n",
       " Prediction(uid='A1DB5QPH7WO488', iid='B000JVCPEY', r_ui=1.0, est=3.8125, details={'actual_k': 0, 'was_impossible': False}),\n",
       " Prediction(uid='AWHL379EE14K7', iid='B001LJOV40', r_ui=5.0, est=4.2620504148270895, details={'was_impossible': True, 'reason': 'User and/or item is unkown.'}),\n",
       " Prediction(uid='A19UTUEBWKIZFT', iid='B00EVWXAEQ', r_ui=5.0, est=5, details={'actual_k': 2, 'was_impossible': False}),\n",
       " Prediction(uid='A2H4OMJLE7JFM2', iid='B002FFZGCU', r_ui=4.0, est=5, details={'actual_k': 1, 'was_impossible': False}),\n",
       " Prediction(uid='A1XB7JGJ459ERP', iid='B00FYMCSYA', r_ui=5.0, est=4.2620504148270895, details={'was_impossible': True, 'reason': 'User and/or item is unkown.'}),\n",
       " Prediction(uid='AQCJWSMSURQI2', iid='B0034CL2ZI', r_ui=4.0, est=3.8220810321180205, details={'actual_k': 8, 'was_impossible': False}),\n",
       " Prediction(uid='A15CL28ALB7MTZ', iid='B00HFRWWAM', r_ui=3.0, est=4.834716996322851, details={'actual_k': 7, 'was_impossible': False}),\n",
       " Prediction(uid='A3T7V207KRDE2O', iid='B002N1J7DU', r_ui=5.0, est=4.79050736497545, details={'actual_k': 1, 'was_impossible': False}),\n",
       " Prediction(uid='APMYPD97EHUUZ', iid='B000067RLH', r_ui=5.0, est=4.2620504148270895, details={'was_impossible': True, 'reason': 'User and/or item is unkown.'}),\n",
       " Prediction(uid='A3JUHP1E3WUHEA', iid='B004CLYEH8', r_ui=5.0, est=4.456050985064807, details={'actual_k': 15, 'was_impossible': False}),\n",
       " Prediction(uid='AQ2FC1DLKVD8H', iid='B00L2442H0', r_ui=5.0, est=4.480867571330645, details={'actual_k': 3, 'was_impossible': False}),\n",
       " Prediction(uid='A3T7V207KRDE2O', iid='B0038QS2NU', r_ui=5.0, est=4.2620504148270895, details={'was_impossible': True, 'reason': 'User and/or item is unkown.'}),\n",
       " Prediction(uid='A274MXTX3DYLUV', iid='B007YXA5TC', r_ui=5.0, est=4.369565217391305, details={'actual_k': 0, 'was_impossible': False}),\n",
       " Prediction(uid='A1V4VVBQBFXRHC', iid='B001BM5XB2', r_ui=5.0, est=5, details={'actual_k': 1, 'was_impossible': False}),\n",
       " Prediction(uid='A3VI2VETB90ZG5', iid='B00B7Y7M1S', r_ui=4.0, est=5, details={'actual_k': 1, 'was_impossible': False}),\n",
       " Prediction(uid='A3RMEU4GNP60BM', iid='B0058VIWTM', r_ui=2.0, est=4.166666666666667, details={'actual_k': 0, 'was_impossible': False}),\n",
       " Prediction(uid='A3SVYWA9O1KUQV', iid='B0002INL4M', r_ui=5.0, est=4.647058823529412, details={'actual_k': 0, 'was_impossible': False}),\n",
       " Prediction(uid='A1ZPUEHF4AES86', iid='B002C0XXZ0', r_ui=5.0, est=4.2620504148270895, details={'was_impossible': True, 'reason': 'User and/or item is unkown.'}),\n",
       " Prediction(uid='A2NT3W1F1XYBFZ', iid='B002WE6D44', r_ui=4.0, est=4.558139534883721, details={'actual_k': 0, 'was_impossible': False}),\n",
       " Prediction(uid='A1K4G5YJDJQI6Q', iid='B0016OK5O0', r_ui=1.0, est=4.2620504148270895, details={'was_impossible': True, 'reason': 'User and/or item is unkown.'}),\n",
       " Prediction(uid='A3EFSLEMHNPP6A', iid='B002DW99H8', r_ui=5.0, est=4.350877192982456, details={'actual_k': 0, 'was_impossible': False}),\n",
       " Prediction(uid='A4S2WAQVQR6PI', iid='B004LXJXSW', r_ui=5.0, est=4.023809523809524, details={'actual_k': 0, 'was_impossible': False}),\n",
       " Prediction(uid='A20DZX38KRBIT8', iid='B000FQ76IS', r_ui=5.0, est=4.2620504148270895, details={'was_impossible': True, 'reason': 'User and/or item is unkown.'}),\n",
       " Prediction(uid='A2BMZRO0H7TFCS', iid='B00198DM2K', r_ui=5.0, est=3.952054794520548, details={'actual_k': 0, 'was_impossible': False}),\n",
       " Prediction(uid='ABAPF3XY1W6JX', iid='B004M8SBNE', r_ui=5.0, est=4.393939393939394, details={'actual_k': 0, 'was_impossible': False}),\n",
       " Prediction(uid='A2D1LPEUCTNT8X', iid='B006JO1YGA', r_ui=5.0, est=4.2620504148270895, details={'was_impossible': True, 'reason': 'User and/or item is unkown.'}),\n",
       " Prediction(uid='A3DGJMO6VPG6FJ', iid='B000JLK5NW', r_ui=5.0, est=3.9682539682539684, details={'actual_k': 0, 'was_impossible': False}),\n",
       " Prediction(uid='A23GFTVIETX7DS', iid='B00E1CZRHY', r_ui=5.0, est=4.750169827447569, details={'actual_k': 3, 'was_impossible': False}),\n",
       " Prediction(uid='A18A5VSD0IPN14', iid='B0067GLP78', r_ui=4.0, est=4.5, details={'actual_k': 0, 'was_impossible': False}),\n",
       " Prediction(uid='AT09WGFUM934H', iid='B000068O34', r_ui=5.0, est=4.363636363636363, details={'actual_k': 0, 'was_impossible': False}),\n",
       " Prediction(uid='A20DDH4NT6Q1E8', iid='B008TO3X4Y', r_ui=4.0, est=2.5784897025171625, details={'actual_k': 1, 'was_impossible': False}),\n",
       " Prediction(uid='A2W9I628I6SE1U', iid='B003Y74AXY', r_ui=5.0, est=3.246475953565506, details={'actual_k': 1, 'was_impossible': False}),\n",
       " Prediction(uid='A1V4A5U5O3TMMD', iid='B003AK67HW', r_ui=5.0, est=4.2620504148270895, details={'was_impossible': True, 'reason': 'User and/or item is unkown.'}),\n",
       " Prediction(uid='A3IJL9A50KVVZ1', iid='B00009R8P6', r_ui=3.0, est=4.2620504148270895, details={'was_impossible': True, 'reason': 'User and/or item is unkown.'}),\n",
       " Prediction(uid='A2BX8DDQGCCG2J', iid='B005EOWBKE', r_ui=5.0, est=4.731343283582089, details={'actual_k': 0, 'was_impossible': False}),\n",
       " Prediction(uid='A680RUE1FDO8B', iid='B004E95HJC', r_ui=2.0, est=4.2620504148270895, details={'was_impossible': True, 'reason': 'User and/or item is unkown.'}),\n",
       " Prediction(uid='ABXANRX4GPYRZ', iid='B0000CFYM9', r_ui=5.0, est=4.1066666666666665, details={'actual_k': 0, 'was_impossible': False}),\n",
       " Prediction(uid='A3QNQQKJTL76H0', iid='B001LDTKCY', r_ui=2.0, est=4.2620504148270895, details={'was_impossible': True, 'reason': 'User and/or item is unkown.'}),\n",
       " Prediction(uid='AGX2K0FMS0IVL', iid='B004VS9G2U', r_ui=5.0, est=3.811320754716981, details={'actual_k': 0, 'was_impossible': False}),\n",
       " Prediction(uid='A1EH2S92FHWZRP', iid='B000M2GYF6', r_ui=5.0, est=4.13139001523513, details={'actual_k': 3, 'was_impossible': False}),\n",
       " Prediction(uid='A18HE80910BTZI', iid='B0043M668G', r_ui=5.0, est=4.5019249897305365, details={'actual_k': 5, 'was_impossible': False}),\n",
       " Prediction(uid='AP2NZAALUQKF5', iid='B0002DFL3G', r_ui=5.0, est=4.2620504148270895, details={'was_impossible': True, 'reason': 'User and/or item is unkown.'}),\n",
       " Prediction(uid='A25KKXUQQ0OLWB', iid='B00E98O7GC', r_ui=5.0, est=4.774193548387097, details={'actual_k': 0, 'was_impossible': False}),\n",
       " Prediction(uid='A2OKRGHIYTBQ6P', iid='B0054I5VEI', r_ui=4.0, est=4.2620504148270895, details={'was_impossible': True, 'reason': 'User and/or item is unkown.'}),\n",
       " Prediction(uid='A6FIAB28IS79', iid='B000M00M2E', r_ui=5.0, est=3.986372180451128, details={'actual_k': 1, 'was_impossible': False}),\n",
       " Prediction(uid='A2VCXIAWCPQ13P', iid='B002IJA1EG', r_ui=4.0, est=3.6444444444444444, details={'actual_k': 0, 'was_impossible': False}),\n",
       " Prediction(uid='A18L9A64XNGVGU', iid='B000M15WTG', r_ui=1.0, est=3.5555555555555554, details={'actual_k': 0, 'was_impossible': False}),\n",
       " Prediction(uid='A23ONMGKEWDG4M', iid='B00GOX22WQ', r_ui=5.0, est=4.125, details={'actual_k': 0, 'was_impossible': False}),\n",
       " Prediction(uid='AMWL7XIWIPXEZ', iid='B007L8Q75G', r_ui=4.0, est=4.2620504148270895, details={'was_impossible': True, 'reason': 'User and/or item is unkown.'}),\n",
       " Prediction(uid='AEWYUPCNDV7HY', iid='B0014TMYPU', r_ui=2.0, est=4.2620504148270895, details={'was_impossible': True, 'reason': 'User and/or item is unkown.'}),\n",
       " Prediction(uid='A3AYSYSLHU26U9', iid='B0041OMWNY', r_ui=4.0, est=4.621636749608271, details={'actual_k': 3, 'was_impossible': False}),\n",
       " Prediction(uid='ASCBJEPXTOU0V', iid='B00JJJW4Z2', r_ui=4.0, est=4.2620504148270895, details={'was_impossible': True, 'reason': 'User and/or item is unkown.'}),\n",
       " Prediction(uid='A38Z6QG6988WS7', iid='B001CF6B32', r_ui=5.0, est=4.2620504148270895, details={'was_impossible': True, 'reason': 'User and/or item is unkown.'}),\n",
       " Prediction(uid='A1R6RKKE44AYA8', iid='B005F79F2C', r_ui=5.0, est=4.2620504148270895, details={'was_impossible': True, 'reason': 'User and/or item is unkown.'}),\n",
       " Prediction(uid='A3LDPF5FMB782Z', iid='140053271X', r_ui=4.0, est=4.2620504148270895, details={'was_impossible': True, 'reason': 'User and/or item is unkown.'}),\n",
       " Prediction(uid='AV10H5K6VPQIJ', iid='B005CLPP8E', r_ui=5.0, est=4.482142857142857, details={'actual_k': 0, 'was_impossible': False}),\n",
       " Prediction(uid='A30KPB2ILF6K6J', iid='B00452V66G', r_ui=5.0, est=4.957808692268824, details={'actual_k': 3, 'was_impossible': False}),\n",
       " Prediction(uid='A17HMM1M7T9PJ1', iid='B0012S7GRY', r_ui=4.0, est=4.2620504148270895, details={'was_impossible': True, 'reason': 'User and/or item is unkown.'}),\n",
       " Prediction(uid='A3284KYDZ00BZA', iid='B000RZQZM0', r_ui=5.0, est=4.241606337117833, details={'actual_k': 4, 'was_impossible': False}),\n",
       " Prediction(uid='A1NNMOD9H36Q8E', iid='B000BYCKUI', r_ui=4.0, est=4.2620504148270895, details={'was_impossible': True, 'reason': 'User and/or item is unkown.'}),\n",
       " Prediction(uid='A2V5M5EJPOD2IU', iid='B001O4EPHA', r_ui=5.0, est=5, details={'actual_k': 1, 'was_impossible': False}),\n",
       " Prediction(uid='AL1XV4L25FZ2S', iid='B000ZJPNKI', r_ui=3.0, est=4.2620504148270895, details={'was_impossible': True, 'reason': 'User and/or item is unkown.'}),\n",
       " Prediction(uid='A376OJHLE6SU9Q', iid='B004MSQZUU', r_ui=4.0, est=4.502114282933105, details={'actual_k': 6, 'was_impossible': False}),\n",
       " Prediction(uid='A23GFTVIETX7DS', iid='B00AR95FOU', r_ui=5.0, est=4.267918143669929, details={'actual_k': 10, 'was_impossible': False}),\n",
       " Prediction(uid='A35IX2GE0VC0JP', iid='B0006MVJUW', r_ui=4.0, est=4.2620504148270895, details={'was_impossible': True, 'reason': 'User and/or item is unkown.'}),\n",
       " Prediction(uid='A3RGJ1FXOB1ZLL', iid='B005CKQF3E', r_ui=5.0, est=3.9777183600713015, details={'actual_k': 1, 'was_impossible': False}),\n",
       " Prediction(uid='A18S2VGUH9SCV5', iid='B00DZJU6NY', r_ui=4.0, est=3.5780075187969924, details={'actual_k': 1, 'was_impossible': False}),\n",
       " Prediction(uid='A5JLAU2ARJ0BO', iid='B0043CVH2Q', r_ui=3.0, est=2.893939393939394, details={'actual_k': 1, 'was_impossible': False}),\n",
       " Prediction(uid='A4UGMKUSX9XHI', iid='B004CLYEDC', r_ui=5.0, est=5, details={'actual_k': 11, 'was_impossible': False}),\n",
       " Prediction(uid='A34UVV757IKPVB', iid='B000Z9R2QQ', r_ui=4.0, est=3.8142857142857145, details={'actual_k': 0, 'was_impossible': False}),\n",
       " Prediction(uid='AD8DLOGHAXL', iid='B003YNU1UY', r_ui=4.0, est=4.2620504148270895, details={'was_impossible': True, 'reason': 'User and/or item is unkown.'}),\n",
       " Prediction(uid='AVSMRPI23DQI2', iid='B0050YG3CU', r_ui=5.0, est=4.533333333333333, details={'actual_k': 0, 'was_impossible': False}),\n",
       " Prediction(uid='A3AYSYSLHU26U9', iid='B005QCDY50', r_ui=5.0, est=3.7107272244680294, details={'actual_k': 14, 'was_impossible': False}),\n",
       " Prediction(uid='A1N5FSCYN4796F', iid='B004ZF0QAK', r_ui=3.0, est=3.857071464267866, details={'actual_k': 1, 'was_impossible': False}),\n",
       " Prediction(uid='ATDQ9CGCWTT8D', iid='B00AKWUZ58', r_ui=4.0, est=4.2620504148270895, details={'was_impossible': True, 'reason': 'User and/or item is unkown.'}),\n",
       " Prediction(uid='AI2AOCTC8BQVZ', iid='B0049VMMZ2', r_ui=5.0, est=4.5, details={'actual_k': 0, 'was_impossible': False}),\n",
       " Prediction(uid='A2YEOR4XJ8N3QE', iid='B0088LYCZC', r_ui=5.0, est=4.188679245283019, details={'actual_k': 0, 'was_impossible': False}),\n",
       " Prediction(uid='ASFW4ZMNZJKDA', iid='B0079T722E', r_ui=5.0, est=4.3, details={'actual_k': 0, 'was_impossible': False}),\n",
       " Prediction(uid='A1D27BCSYV7VWH', iid='B00I2EJCH8', r_ui=3.0, est=4.2620504148270895, details={'was_impossible': True, 'reason': 'User and/or item is unkown.'}),\n",
       " Prediction(uid='A3DL29NLZ7SXXG', iid='B00BSZVFBY', r_ui=5.0, est=4.2620504148270895, details={'was_impossible': True, 'reason': 'User and/or item is unkown.'}),\n",
       " Prediction(uid='AI0BCEWRE04G0', iid='B0013LQD7Y', r_ui=5.0, est=4.245614035087719, details={'actual_k': 0, 'was_impossible': False}),\n",
       " Prediction(uid='A1O229NVVDJUX2', iid='B002KC55OM', r_ui=4.0, est=4.163636363636364, details={'actual_k': 0, 'was_impossible': False}),\n",
       " Prediction(uid='ABXANRX4GPYRZ', iid='B000I6P1I2', r_ui=1.0, est=4.1066666666666665, details={'actual_k': 0, 'was_impossible': False}),\n",
       " Prediction(uid='A3QMJMTLJC34QC', iid='B00006BBIK', r_ui=4.0, est=4.2620504148270895, details={'was_impossible': True, 'reason': 'User and/or item is unkown.'}),\n",
       " Prediction(uid='A1Z16630QMH8Q6', iid='B00183I7EE', r_ui=5.0, est=4.2620504148270895, details={'was_impossible': True, 'reason': 'User and/or item is unkown.'}),\n",
       " Prediction(uid='A2L90SGUP36KGA', iid='B00AVBDGHM', r_ui=4.0, est=5, details={'actual_k': 1, 'was_impossible': False}),\n",
       " Prediction(uid='A18GJ9MYYO6GCQ', iid='B006ZT4VA0', r_ui=5.0, est=4.45945945945946, details={'actual_k': 0, 'was_impossible': False}),\n",
       " Prediction(uid='A11T807LX2EF00', iid='B009M27MB2', r_ui=4.0, est=4.044473985935507, details={'actual_k': 6, 'was_impossible': False}),\n",
       " Prediction(uid='A30UP2KKD5IQEP', iid='B003ES5ZUU', r_ui=5.0, est=5, details={'actual_k': 9, 'was_impossible': False}),\n",
       " Prediction(uid='A1BT6TL7UCIC5Y', iid='B002DW96M6', r_ui=4.0, est=4.086042856631694, details={'actual_k': 2, 'was_impossible': False}),\n",
       " Prediction(uid='A274X54O9CN2SR', iid='B00012FVYM', r_ui=5.0, est=4.0256410256410255, details={'actual_k': 0, 'was_impossible': False}),\n",
       " Prediction(uid='A1LD5SE8IZ1H70', iid='B0051OLAWW', r_ui=5.0, est=4.2620504148270895, details={'was_impossible': True, 'reason': 'User and/or item is unkown.'}),\n",
       " Prediction(uid='ADLVFFE4VBT8', iid='B0023MYNCE', r_ui=5.0, est=4.2620504148270895, details={'was_impossible': True, 'reason': 'User and/or item is unkown.'}),\n",
       " Prediction(uid='A14NA0W8ESGDSI', iid='B001C3V54O', r_ui=5.0, est=5, details={'actual_k': 1, 'was_impossible': False}),\n",
       " Prediction(uid='A1K4G5YJDJQI6Q', iid='B002QEBMAK', r_ui=4.0, est=2.796875, details={'actual_k': 0, 'was_impossible': False}),\n",
       " Prediction(uid='A3LSEIG2PIJYBL', iid='B000OFTRKU', r_ui=4.0, est=4.176470588235294, details={'actual_k': 0, 'was_impossible': False}),\n",
       " Prediction(uid='A27TN8D0CZ8LUY', iid='B004PX56TI', r_ui=5.0, est=3.9047619047619047, details={'actual_k': 0, 'was_impossible': False}),\n",
       " Prediction(uid='A3TRY87JJCA5Y8', iid='B000UZH5W6', r_ui=5.0, est=4.2620504148270895, details={'was_impossible': True, 'reason': 'User and/or item is unkown.'}),\n",
       " Prediction(uid='A1FR68QH6Z4YZM', iid='B002VA56I8', r_ui=4.0, est=4.682926829268292, details={'actual_k': 0, 'was_impossible': False}),\n",
       " Prediction(uid='A3F8T3BRXRX5P3', iid='B000IZAN4K', r_ui=5.0, est=4.2620504148270895, details={'was_impossible': True, 'reason': 'User and/or item is unkown.'}),\n",
       " Prediction(uid='A1CMD08Z49PGKQ', iid='B007B31IAK', r_ui=5.0, est=5, details={'actual_k': 1, 'was_impossible': False}),\n",
       " Prediction(uid='A2ER8G4JJJ7XER', iid='B0088PK040', r_ui=5.0, est=4.2620504148270895, details={'was_impossible': True, 'reason': 'User and/or item is unkown.'}),\n",
       " Prediction(uid='A2HJY7418G1KV1', iid='B00AEI9O96', r_ui=5.0, est=4.2620504148270895, details={'was_impossible': True, 'reason': 'User and/or item is unkown.'}),\n",
       " Prediction(uid='AZCE11PSTCH1L', iid='B006EWUO22', r_ui=5.0, est=4.297872340425532, details={'actual_k': 0, 'was_impossible': False}),\n",
       " Prediction(uid='A20951I210L0IB', iid='B0041Q38NU', r_ui=4.0, est=4.097472895876216, details={'actual_k': 2, 'was_impossible': False}),\n",
       " Prediction(uid='A2WF58BAWLVI95', iid='B0000AOWY1', r_ui=1.0, est=4.2620504148270895, details={'was_impossible': True, 'reason': 'User and/or item is unkown.'}),\n",
       " Prediction(uid='A3TAS1AG6FMBQW', iid='B00ECGX9NS', r_ui=2.0, est=4.2620504148270895, details={'was_impossible': True, 'reason': 'User and/or item is unkown.'}),\n",
       " Prediction(uid='ASRA2UZ3JV87B', iid='B001TUYTZM', r_ui=4.0, est=3.6923076923076925, details={'actual_k': 0, 'was_impossible': False}),\n",
       " Prediction(uid='A18FLOC8YQY0P8', iid='B001N0OFHU', r_ui=4.0, est=4.285714285714286, details={'actual_k': 0, 'was_impossible': False}),\n",
       " Prediction(uid='A38RMU1Y5TDP9', iid='B008BBI72I', r_ui=4.0, est=4.2620504148270895, details={'was_impossible': True, 'reason': 'User and/or item is unkown.'}),\n",
       " Prediction(uid='A2XPK6XCL0UH1S', iid='B001541R5W', r_ui=4.0, est=3.9285714285714284, details={'actual_k': 0, 'was_impossible': False}),\n",
       " Prediction(uid='AFFVUZEGP1FDQ', iid='B00F3SIQKK', r_ui=5.0, est=1.4457446808510634, details={'actual_k': 1, 'was_impossible': False}),\n",
       " Prediction(uid='A2PJH18W4XHTZW', iid='B007477COO', r_ui=5.0, est=4.9728201636755776, details={'actual_k': 2, 'was_impossible': False}),\n",
       " Prediction(uid='A1Z3598J0371ND', iid='B006354RGE', r_ui=5.0, est=4.2620504148270895, details={'was_impossible': True, 'reason': 'User and/or item is unkown.'}),\n",
       " Prediction(uid='A28BX3MM90A6FI', iid='B0013TRZI2', r_ui=5.0, est=4.4, details={'actual_k': 0, 'was_impossible': False}),\n",
       " Prediction(uid='ACH055GTTIGC9', iid='B003UE52ME', r_ui=5.0, est=4.46875, details={'actual_k': 0, 'was_impossible': False}),\n",
       " Prediction(uid='AD0J5KK4WQXNS', iid='B0006VHVK0', r_ui=5.0, est=4.2620504148270895, details={'was_impossible': True, 'reason': 'User and/or item is unkown.'}),\n",
       " Prediction(uid='AZBXKUH4AIW3X', iid='B00FFVYSKW', r_ui=5.0, est=3.7567567567567566, details={'actual_k': 0, 'was_impossible': False}),\n",
       " Prediction(uid='A1W415JP5WEAJK', iid='B005CLPP84', r_ui=4.0, est=4.724624405988873, details={'actual_k': 8, 'was_impossible': False}),\n",
       " Prediction(uid='A3DWO5RJDA430F', iid='B005HY4U5A', r_ui=3.0, est=4.112244897959184, details={'actual_k': 0, 'was_impossible': False}),\n",
       " Prediction(uid='A213J54E63SYOP', iid='B0006DPMU4', r_ui=5.0, est=3.732142857142857, details={'actual_k': 0, 'was_impossible': False}),\n",
       " Prediction(uid='A22NKFOH9RATRC', iid='B000OUW7M0', r_ui=2.0, est=4.2620504148270895, details={'was_impossible': True, 'reason': 'User and/or item is unkown.'}),\n",
       " Prediction(uid='A36A1ZYZH8568P', iid='B005PSLFGA', r_ui=5.0, est=4.15625, details={'actual_k': 0, 'was_impossible': False}),\n",
       " Prediction(uid='A32QOZWIKQDNZX', iid='B000VUIXOE', r_ui=5.0, est=4.2620504148270895, details={'was_impossible': True, 'reason': 'User and/or item is unkown.'}),\n",
       " Prediction(uid='A1Q5P5ML3176C0', iid='B00009R6LS', r_ui=5.0, est=4.2620504148270895, details={'was_impossible': True, 'reason': 'User and/or item is unkown.'}),\n",
       " Prediction(uid='AYLLSFYS3UP1H', iid='B00894YP00', r_ui=5.0, est=4.383333333333334, details={'actual_k': 0, 'was_impossible': False}),\n",
       " Prediction(uid='A25WJCAP606YMP', iid='B0038LILTK', r_ui=1.0, est=4.2, details={'actual_k': 0, 'was_impossible': False}),\n",
       " Prediction(uid='A12DLJESJKM1OQ', iid='B000087BXC', r_ui=4.0, est=4.4, details={'actual_k': 0, 'was_impossible': False}),\n",
       " Prediction(uid='A2SNE4QQGVP13U', iid='B005LLBBSS', r_ui=4.0, est=4.4, details={'actual_k': 0, 'was_impossible': False}),\n",
       " Prediction(uid='ADKGE078JK8K7', iid='B0058XGN7I', r_ui=4.0, est=4.538461538461538, details={'actual_k': 0, 'was_impossible': False}),\n",
       " Prediction(uid='A16RI68PS6T5CA', iid='B0002ICEF4', r_ui=3.0, est=4.2620504148270895, details={'was_impossible': True, 'reason': 'User and/or item is unkown.'}),\n",
       " Prediction(uid='AWPODHOB4GFWL', iid='B00198BBQ4', r_ui=4.0, est=4.2620504148270895, details={'was_impossible': True, 'reason': 'User and/or item is unkown.'}),\n",
       " Prediction(uid='A1ZU55TM45Y2R8', iid='B002TMRZOQ', r_ui=5.0, est=4.676343192280161, details={'actual_k': 4, 'was_impossible': False}),\n",
       " Prediction(uid='A3SQCTNYQFVBWM', iid='B00EVWS1JK', r_ui=4.0, est=3.92, details={'actual_k': 0, 'was_impossible': False}),\n",
       " Prediction(uid='A2503LT8PZIHAD', iid='B00428N9N6', r_ui=5.0, est=4.135802469135802, details={'actual_k': 0, 'was_impossible': False}),\n",
       " Prediction(uid='AG6TX1ZJHLMO7', iid='B000FJJASO', r_ui=5.0, est=4.454545454545454, details={'actual_k': 0, 'was_impossible': False}),\n",
       " Prediction(uid='AR1T36GLLAFFX', iid='B0017UCTX8', r_ui=5.0, est=4.42, details={'actual_k': 0, 'was_impossible': False}),\n",
       " Prediction(uid='ACH055GTTIGC9', iid='B0043955ZO', r_ui=4.0, est=4.2620504148270895, details={'was_impossible': True, 'reason': 'User and/or item is unkown.'}),\n",
       " Prediction(uid='A1HBEQWSMVQEWJ', iid='B00DWGB6CU', r_ui=1.0, est=4.2620504148270895, details={'was_impossible': True, 'reason': 'User and/or item is unkown.'}),\n",
       " Prediction(uid='A2SH6A32BE6NEV', iid='B000OVAM1W', r_ui=5.0, est=4.333333333333333, details={'actual_k': 0, 'was_impossible': False}),\n",
       " Prediction(uid='A30X750M8V1XXW', iid='B004P8K24W', r_ui=4.0, est=3.953488372093023, details={'actual_k': 0, 'was_impossible': False}),\n",
       " Prediction(uid='A3PD8JD9L4WEII', iid='B002VPE1Q6', r_ui=3.0, est=4.8695261956431235, details={'actual_k': 4, 'was_impossible': False}),\n",
       " Prediction(uid='A2L42QEWR77PKZ', iid='B008JDZ91U', r_ui=5.0, est=4.2620504148270895, details={'was_impossible': True, 'reason': 'User and/or item is unkown.'}),\n",
       " Prediction(uid='A3NEAETOSXDBOM', iid='B00CGWNK2U', r_ui=4.0, est=4.140983606557377, details={'actual_k': 1, 'was_impossible': False}),\n",
       " Prediction(uid='A1KDUQ2HU0WD68', iid='B00HVT27B8', r_ui=5.0, est=4.2549239379768835, details={'actual_k': 4, 'was_impossible': False}),\n",
       " Prediction(uid='A2NYK9KWFMJV4Y', iid='B00BVTLYAY', r_ui=5.0, est=5, details={'actual_k': 1, 'was_impossible': False}),\n",
       " Prediction(uid='A2PZXXPGLXXKZU', iid='B00746LVOM', r_ui=4.0, est=3.8260869565217392, details={'actual_k': 0, 'was_impossible': False}),\n",
       " Prediction(uid='AA8RBTN3J2F5H', iid='B000YB862E', r_ui=5.0, est=4.787878787878788, details={'actual_k': 0, 'was_impossible': False}),\n",
       " Prediction(uid='A2IMLOJ2Z2QEU2', iid='B00FPKDPZC', r_ui=5.0, est=4.0476190476190474, details={'actual_k': 0, 'was_impossible': False}),\n",
       " Prediction(uid='A1VOFY3QFT9WCG', iid='B004PG08SE', r_ui=5.0, est=4.2620504148270895, details={'was_impossible': True, 'reason': 'User and/or item is unkown.'}),\n",
       " Prediction(uid='ALNE7Q71JFC0F', iid='B007ODZYRK', r_ui=1.0, est=3.6, details={'actual_k': 0, 'was_impossible': False}),\n",
       " Prediction(uid='AGOH8N902URMW', iid='B0060J3VCE', r_ui=5.0, est=4.2620504148270895, details={'was_impossible': True, 'reason': 'User and/or item is unkown.'}),\n",
       " Prediction(uid='A1FMU4CJLIDHR9', iid='B0002ZLYYY', r_ui=5.0, est=4.454545454545454, details={'actual_k': 0, 'was_impossible': False}),\n",
       " Prediction(uid='A2QIC4G483SQQA', iid='B009O7YUF6', r_ui=5.0, est=5, details={'actual_k': 1, 'was_impossible': False}),\n",
       " Prediction(uid='A20951I210L0IB', iid='B0028Y5GKK', r_ui=4.0, est=3.7666666666666666, details={'actual_k': 0, 'was_impossible': False}),\n",
       " Prediction(uid='AT09WGFUM934H', iid='B008BFXOZE', r_ui=1.0, est=4.363636363636363, details={'actual_k': 0, 'was_impossible': False}),\n",
       " Prediction(uid='A12DLJESJKM1OQ', iid='B00008J639', r_ui=5.0, est=4.4, details={'actual_k': 0, 'was_impossible': False}),\n",
       " Prediction(uid='A30XZK10EZN9V4', iid='B003XM1WE0', r_ui=5.0, est=4.317073170731708, details={'actual_k': 0, 'was_impossible': False}),\n",
       " Prediction(uid='AA91O96C1Z18W', iid='B00603RU8Q', r_ui=5.0, est=4.542857142857143, details={'actual_k': 0, 'was_impossible': False}),\n",
       " Prediction(uid='AC6Z7DP1Z5GHD', iid='B003HIXH84', r_ui=4.0, est=4.2620504148270895, details={'was_impossible': True, 'reason': 'User and/or item is unkown.'}),\n",
       " Prediction(uid='A2IIAQ7VVAHXTD', iid='B006RBMJ46', r_ui=4.0, est=4.2620504148270895, details={'was_impossible': True, 'reason': 'User and/or item is unkown.'}),\n",
       " Prediction(uid='ACY9QYNDFLVBI', iid='B003CQNPCY', r_ui=5.0, est=4.2620504148270895, details={'was_impossible': True, 'reason': 'User and/or item is unkown.'}),\n",
       " Prediction(uid='A209G57KXCBF4C', iid='B001DEUUZC', r_ui=5.0, est=4.2620504148270895, details={'was_impossible': True, 'reason': 'User and/or item is unkown.'}),\n",
       " Prediction(uid='A250AXLRBVYKB4', iid='B001FVI91U', r_ui=5.0, est=4.698195517998474, details={'actual_k': 2, 'was_impossible': False}),\n",
       " Prediction(uid='A2XRIU3SOYZ0ZC', iid='B003XPT86Q', r_ui=5.0, est=4.2620504148270895, details={'was_impossible': True, 'reason': 'User and/or item is unkown.'}),\n",
       " Prediction(uid='A15QYHQH80W30L', iid='B001K9BFB8', r_ui=5.0, est=4.4245283018867925, details={'actual_k': 0, 'was_impossible': False}),\n",
       " Prediction(uid='A2PSC7LUNIDEAH', iid='B003WOLM62', r_ui=5.0, est=4.090909090909091, details={'actual_k': 1, 'was_impossible': False}),\n",
       " Prediction(uid='AEJAGHLC675A7', iid='B00C2WIYL6', r_ui=5.0, est=4.2620504148270895, details={'was_impossible': True, 'reason': 'User and/or item is unkown.'}),\n",
       " Prediction(uid='A1MZL91Z44RN06', iid='B00F1CRTLK', r_ui=5.0, est=4.709013141538187, details={'actual_k': 2, 'was_impossible': False}),\n",
       " Prediction(uid='A2FWZ58M6IQMD7', iid='B00D2LR76E', r_ui=4.0, est=3.789473684210526, details={'actual_k': 0, 'was_impossible': False}),\n",
       " Prediction(uid='A3VVMIMMTYQV5F', iid='B000VHQA6U', r_ui=5.0, est=4.195121951219512, details={'actual_k': 0, 'was_impossible': False}),\n",
       " Prediction(uid='A5JLAU2ARJ0BO', iid='B000J34TPK', r_ui=4.0, est=3.893939393939394, details={'actual_k': 0, 'was_impossible': False}),\n",
       " Prediction(uid='AQM0K7MBBT4AY', iid='B003VAK1G4', r_ui=5.0, est=1.0089447236180904, details={'actual_k': 1, 'was_impossible': False}),\n",
       " Prediction(uid='AT6CZDCP4TRGA', iid='B005QI5DZI', r_ui=5.0, est=3.776315789473684, details={'actual_k': 0, 'was_impossible': False}),\n",
       " Prediction(uid='A3J3ZHGDUDPCFL', iid='B00BOHNYU6', r_ui=5.0, est=5, details={'actual_k': 8, 'was_impossible': False}),\n",
       " Prediction(uid='A2TN0U8173HM7A', iid='B00005T3BD', r_ui=5.0, est=5, details={'actual_k': 0, 'was_impossible': False}),\n",
       " ...]"
      ]
     },
     "execution_count": 29,
     "metadata": {
      "tags": []
     },
     "output_type": "execute_result"
    }
   ],
   "source": [
    "test_pred"
   ]
  },
  {
   "cell_type": "code",
   "execution_count": 30,
   "metadata": {
    "colab": {
     "base_uri": "https://localhost:8080/",
     "height": 69
    },
    "colab_type": "code",
    "id": "HZF-bK-VkdUT",
    "outputId": "d979cef1-a091-429e-fd6a-46d935716711"
   },
   "outputs": [
    {
     "name": "stdout",
     "output_type": "stream",
     "text": [
      "User-based Model : Test Set\n",
      "RMSE: 1.0621\n"
     ]
    },
    {
     "data": {
      "text/plain": [
       "1.0621323073152356"
      ]
     },
     "execution_count": 30,
     "metadata": {
      "tags": []
     },
     "output_type": "execute_result"
    }
   ],
   "source": [
    "# get RMSE\n",
    "print(\"User-based Model : Test Set\")\n",
    "accuracy.rmse(test_pred, verbose=True)"
   ]
  }
 ],
 "metadata": {
  "colab": {
   "collapsed_sections": [],
   "machine_shape": "hm",
   "name": "Recommendation Systems_Project_V1.0_Group8_NOV_B_Batch_Abhishek+Kadam_10May2020_GC.ipynb",
   "provenance": []
  },
  "kernelspec": {
   "display_name": "Python 3",
   "language": "python",
   "name": "python3"
  },
  "language_info": {
   "codemirror_mode": {
    "name": "ipython",
    "version": 3
   },
   "file_extension": ".py",
   "mimetype": "text/x-python",
   "name": "python",
   "nbconvert_exporter": "python",
   "pygments_lexer": "ipython3",
   "version": "3.6.5"
  }
 },
 "nbformat": 4,
 "nbformat_minor": 1
}
