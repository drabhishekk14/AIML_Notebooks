{
  "cells": [
    {
      "cell_type": "markdown",
      "metadata": {
        "id": "view-in-github",
        "colab_type": "text"
      },
      "source": [
        "<a href=\"https://colab.research.google.com/github/drabhishekk14/AIML_Notebooks/blob/main/String_Operations.ipynb\" target=\"_parent\"><img src=\"https://colab.research.google.com/assets/colab-badge.svg\" alt=\"Open In Colab\"/></a>"
      ]
    },
    {
      "cell_type": "markdown",
      "metadata": {
        "id": "jwsf3x_pOHqO"
      },
      "source": [
        "# String Operations"
      ]
    },
    {
      "cell_type": "code",
      "execution_count": null,
      "metadata": {
        "id": "DMqHGKRwOHqU"
      },
      "outputs": [],
      "source": [
        "name = 'My Name is Balaji'"
      ]
    },
    {
      "cell_type": "code",
      "execution_count": null,
      "metadata": {
        "id": "IUUS2CM_OHqW",
        "outputId": "2009fb8e-8134-4106-edb8-f5cd1e004d85"
      },
      "outputs": [
        {
          "data": {
            "text/plain": [
              "'My Name is Balaji'"
            ]
          },
          "execution_count": 2,
          "metadata": {},
          "output_type": "execute_result"
        }
      ],
      "source": [
        "name"
      ]
    },
    {
      "cell_type": "code",
      "execution_count": null,
      "metadata": {
        "id": "9vLEKSedOHqX",
        "outputId": "2ac19ef9-8ddc-467a-c321-bd601dd3fc87"
      },
      "outputs": [
        {
          "data": {
            "text/plain": [
              "str"
            ]
          },
          "execution_count": 3,
          "metadata": {},
          "output_type": "execute_result"
        }
      ],
      "source": [
        "type(name)"
      ]
    },
    {
      "cell_type": "code",
      "execution_count": null,
      "metadata": {
        "id": "3FXWJj90OHqY",
        "outputId": "1d21efb5-1563-4119-d3f2-ec6bb444cf72"
      },
      "outputs": [
        {
          "data": {
            "text/plain": [
              "17"
            ]
          },
          "execution_count": 4,
          "metadata": {},
          "output_type": "execute_result"
        }
      ],
      "source": [
        "len(name)"
      ]
    },
    {
      "cell_type": "code",
      "execution_count": null,
      "metadata": {
        "id": "fnNDy-2cOHqZ",
        "outputId": "eb5615d6-2860-4dda-867e-6cbb18768ab9"
      },
      "outputs": [
        {
          "data": {
            "text/plain": [
              "3"
            ]
          },
          "execution_count": 5,
          "metadata": {},
          "output_type": "execute_result"
        }
      ],
      "source": [
        "name.count('a') # count how many a's are in the string"
      ]
    },
    {
      "cell_type": "code",
      "execution_count": null,
      "metadata": {
        "id": "1DHQ6OWEOHqa",
        "outputId": "5bd48ebf-73f8-485b-cba3-78fec08b83b1"
      },
      "outputs": [
        {
          "data": {
            "text/plain": [
              "False"
            ]
          },
          "execution_count": 6,
          "metadata": {},
          "output_type": "execute_result"
        }
      ],
      "source": [
        "name.isupper()"
      ]
    },
    {
      "cell_type": "code",
      "execution_count": null,
      "metadata": {
        "id": "JrKHk-RTOHqb",
        "outputId": "2b5374ae-72fc-4b3f-a01c-3b51c81477bb"
      },
      "outputs": [
        {
          "data": {
            "text/plain": [
              "False"
            ]
          },
          "execution_count": 7,
          "metadata": {},
          "output_type": "execute_result"
        }
      ],
      "source": [
        "name.islower()"
      ]
    },
    {
      "cell_type": "code",
      "execution_count": null,
      "metadata": {
        "id": "zcauPqQrOHqc"
      },
      "outputs": [],
      "source": [
        "name= name.upper()"
      ]
    },
    {
      "cell_type": "code",
      "execution_count": null,
      "metadata": {
        "id": "HSZNFQpHOHqd",
        "outputId": "646111b0-4ad1-4732-a640-e9f13dfa8639"
      },
      "outputs": [
        {
          "data": {
            "text/plain": [
              "True"
            ]
          },
          "execution_count": 9,
          "metadata": {},
          "output_type": "execute_result"
        }
      ],
      "source": [
        "name.isupper() "
      ]
    },
    {
      "cell_type": "code",
      "execution_count": null,
      "metadata": {
        "id": "6JWzEfA4OHqe",
        "outputId": "77a86e55-d9b9-485d-d541-a30ef96398ae"
      },
      "outputs": [
        {
          "data": {
            "text/plain": [
              "'MY NAME IS BALAJI'"
            ]
          },
          "execution_count": 10,
          "metadata": {},
          "output_type": "execute_result"
        }
      ],
      "source": [
        "name"
      ]
    },
    {
      "cell_type": "code",
      "execution_count": null,
      "metadata": {
        "id": "VvNnNRslOHqe",
        "outputId": "348b0182-a262-494d-a3b4-5a81eab84210"
      },
      "outputs": [
        {
          "data": {
            "text/plain": [
              "'my name is balaji'"
            ]
          },
          "execution_count": 11,
          "metadata": {},
          "output_type": "execute_result"
        }
      ],
      "source": [
        "name.swapcase() # change lower to upper and vice versa"
      ]
    },
    {
      "cell_type": "code",
      "execution_count": null,
      "metadata": {
        "id": "gODwjkwhOHqf",
        "outputId": "3006e5ea-2e5d-4e1a-c2e5-7dab916242f4"
      },
      "outputs": [
        {
          "data": {
            "text/plain": [
              "'My Name Is Balaji'"
            ]
          },
          "execution_count": 12,
          "metadata": {},
          "output_type": "execute_result"
        }
      ],
      "source": [
        "'my name is balaji'.title() # Titlecase : first letter of each word is capitlized"
      ]
    },
    {
      "cell_type": "code",
      "execution_count": null,
      "metadata": {
        "id": "lB3zrN1COHqg",
        "outputId": "4de3e547-b0b2-4d7c-8cd4-bc062effcc34"
      },
      "outputs": [
        {
          "data": {
            "text/plain": [
              "'My name is balaji'"
            ]
          },
          "execution_count": 13,
          "metadata": {},
          "output_type": "execute_result"
        }
      ],
      "source": [
        "'my name is balaji'.capitalize() #Capitalizes only the first character of the string"
      ]
    },
    {
      "cell_type": "markdown",
      "metadata": {
        "id": "iCq_jUNOOHqh"
      },
      "source": [
        "## Extracting substrings based on index position"
      ]
    },
    {
      "cell_type": "code",
      "execution_count": null,
      "metadata": {
        "id": "OwAUGTHROHqh",
        "outputId": "e03ba7ad-ccae-4a55-80a7-49fb397c9a1e"
      },
      "outputs": [
        {
          "data": {
            "text/plain": [
              "' NAM'"
            ]
          },
          "execution_count": 14,
          "metadata": {},
          "output_type": "execute_result"
        }
      ],
      "source": [
        "name[2:6] # index counting starts from 0 in python"
      ]
    },
    {
      "cell_type": "code",
      "execution_count": null,
      "metadata": {
        "id": "YK9OIu6OOHqh",
        "outputId": "f27d35ad-5572-4ebb-8fef-1e79f401b164"
      },
      "outputs": [
        {
          "data": {
            "text/plain": [
              "'M'"
            ]
          },
          "execution_count": 15,
          "metadata": {},
          "output_type": "execute_result"
        }
      ],
      "source": [
        "name[5]"
      ]
    },
    {
      "cell_type": "markdown",
      "metadata": {
        "id": "GkEB1T1mOHqi"
      },
      "source": [
        "## Deleting Leading and Trailing spaces from Strings"
      ]
    },
    {
      "cell_type": "code",
      "execution_count": null,
      "metadata": {
        "id": "6FwN1IdKOHqi"
      },
      "outputs": [],
      "source": [
        "name = '  My Name is Bala  ' # With leading and trailing space(s)"
      ]
    },
    {
      "cell_type": "code",
      "execution_count": null,
      "metadata": {
        "id": "SEAb1r0MOHqj",
        "outputId": "b3dd49aa-c7e2-42ff-957a-3678b3f38fd6"
      },
      "outputs": [
        {
          "data": {
            "text/plain": [
              "'  My Name is Bala  '"
            ]
          },
          "execution_count": 17,
          "metadata": {},
          "output_type": "execute_result"
        }
      ],
      "source": [
        "name"
      ]
    },
    {
      "cell_type": "code",
      "execution_count": null,
      "metadata": {
        "id": "N52ZQLWAOHqj",
        "outputId": "08e2b610-eb1b-4deb-a2c9-e2dac70888e7"
      },
      "outputs": [
        {
          "data": {
            "text/plain": [
              "'My Name is Bala'"
            ]
          },
          "execution_count": 18,
          "metadata": {},
          "output_type": "execute_result"
        }
      ],
      "source": [
        "name.strip()"
      ]
    },
    {
      "cell_type": "code",
      "execution_count": null,
      "metadata": {
        "id": "3hfsgLA7OHqk",
        "outputId": "6f422861-e996-44e8-c650-a14a379220fe"
      },
      "outputs": [
        {
          "data": {
            "text/plain": [
              "'My Name is Bala  '"
            ]
          },
          "execution_count": 19,
          "metadata": {},
          "output_type": "execute_result"
        }
      ],
      "source": [
        "name.lstrip() # Only leading (left) space is removed"
      ]
    },
    {
      "cell_type": "code",
      "execution_count": null,
      "metadata": {
        "id": "Deru4zLCOHqk",
        "outputId": "1ad3a7ee-915b-44bd-91e3-938cf2095497"
      },
      "outputs": [
        {
          "data": {
            "text/plain": [
              "'  My Name is Bala'"
            ]
          },
          "execution_count": 20,
          "metadata": {},
          "output_type": "execute_result"
        }
      ],
      "source": [
        "name.rstrip() # Only trailing(right) space is removed"
      ]
    },
    {
      "cell_type": "code",
      "execution_count": null,
      "metadata": {
        "id": "tcllwWrYOHql"
      },
      "outputs": [],
      "source": [
        "name = '**Bala**'"
      ]
    },
    {
      "cell_type": "code",
      "execution_count": null,
      "metadata": {
        "id": "Q3xCYn24OHql",
        "outputId": "188356af-6689-461c-e511-4a66c33917fa"
      },
      "outputs": [
        {
          "data": {
            "text/plain": [
              "'Bala'"
            ]
          },
          "execution_count": 22,
          "metadata": {},
          "output_type": "execute_result"
        }
      ],
      "source": [
        "name.strip('*') # specifying character to strip, default is space"
      ]
    },
    {
      "cell_type": "markdown",
      "metadata": {
        "id": "_xq84ZeoOHql"
      },
      "source": [
        "## Splitting a String"
      ]
    },
    {
      "cell_type": "code",
      "execution_count": null,
      "metadata": {
        "id": "ReDzF15COHqm"
      },
      "outputs": [],
      "source": [
        "full_name = 'Balaji Sundararaman'"
      ]
    },
    {
      "cell_type": "code",
      "execution_count": null,
      "metadata": {
        "id": "SjsjShbzOHqm",
        "outputId": "c14027da-02be-4e85-8bcf-0bacdd3f8af9"
      },
      "outputs": [
        {
          "data": {
            "text/plain": [
              "'Balaji Sundararaman'"
            ]
          },
          "execution_count": 24,
          "metadata": {},
          "output_type": "execute_result"
        }
      ],
      "source": [
        "full_name"
      ]
    },
    {
      "cell_type": "code",
      "execution_count": null,
      "metadata": {
        "id": "xORbxDQpOHqm",
        "outputId": "d759e7fe-b257-4ab9-822d-2cadd9868564"
      },
      "outputs": [
        {
          "data": {
            "text/plain": [
              "['Balaji', 'Sundararaman']"
            ]
          },
          "execution_count": 25,
          "metadata": {},
          "output_type": "execute_result"
        }
      ],
      "source": [
        "full_name.split() # default Splitting character is space & also removes leading and trailing space. \n",
        "# You can specify some other character if you want"
      ]
    },
    {
      "cell_type": "code",
      "execution_count": null,
      "metadata": {
        "id": "9MzaxdBfOHqn",
        "outputId": "cd9ff02e-85c9-42a9-a432-27b5e5749099"
      },
      "outputs": [
        {
          "data": {
            "text/plain": [
              "('Balaji', 'Sundararaman')"
            ]
          },
          "execution_count": 26,
          "metadata": {},
          "output_type": "execute_result"
        }
      ],
      "source": [
        "FN,LN = full_name.split()\n",
        "FN,LN"
      ]
    },
    {
      "cell_type": "code",
      "execution_count": null,
      "metadata": {
        "id": "PJh_DuHbOHqn",
        "outputId": "56e08f16-8523-4bbb-a780-7548e2712740"
      },
      "outputs": [
        {
          "data": {
            "text/plain": [
              "'Balaji'"
            ]
          },
          "execution_count": 27,
          "metadata": {},
          "output_type": "execute_result"
        }
      ],
      "source": [
        "FN"
      ]
    },
    {
      "cell_type": "code",
      "execution_count": null,
      "metadata": {
        "id": "BV6lN5VYOHqo",
        "outputId": "7dafd5b6-cb02-4962-997c-1c8817e05bfd"
      },
      "outputs": [
        {
          "data": {
            "text/plain": [
              "'Sundararaman'"
            ]
          },
          "execution_count": 28,
          "metadata": {},
          "output_type": "execute_result"
        }
      ],
      "source": [
        "LN"
      ]
    },
    {
      "cell_type": "code",
      "execution_count": null,
      "metadata": {
        "id": "di6y5DeSOHqo"
      },
      "outputs": [],
      "source": [
        "# ALternative way of retrieving parts of the string and storing it\n",
        "first_name = full_name.split()[0] #grab the first element\n",
        "last_name = full_name.split()[1] # grab the second element"
      ]
    },
    {
      "cell_type": "code",
      "execution_count": null,
      "metadata": {
        "id": "XxWypz6pOHqo",
        "outputId": "8d0d9589-a665-4cea-b9c4-35585c4bef24"
      },
      "outputs": [
        {
          "data": {
            "text/plain": [
              "'Balaji'"
            ]
          },
          "execution_count": 30,
          "metadata": {},
          "output_type": "execute_result"
        }
      ],
      "source": [
        "first_name"
      ]
    },
    {
      "cell_type": "code",
      "execution_count": null,
      "metadata": {
        "id": "2_xEl6-qOHqo",
        "outputId": "09cc32fe-1d5e-45a5-b055-0cbc735f4384"
      },
      "outputs": [
        {
          "data": {
            "text/plain": [
              "'Sundararaman'"
            ]
          },
          "execution_count": 31,
          "metadata": {},
          "output_type": "execute_result"
        }
      ],
      "source": [
        "last_name"
      ]
    },
    {
      "cell_type": "code",
      "execution_count": null,
      "metadata": {
        "id": "maeO9xMJOHqp"
      },
      "outputs": [],
      "source": [
        "middle_name = 'smart'"
      ]
    },
    {
      "cell_type": "code",
      "execution_count": null,
      "metadata": {
        "id": "S7xERVijOHqp",
        "outputId": "4941bf50-67a4-42ef-cd00-c7a76c2e7694"
      },
      "outputs": [
        {
          "data": {
            "text/plain": [
              "'Balaji smart Sundararaman'"
            ]
          },
          "execution_count": 33,
          "metadata": {},
          "output_type": "execute_result"
        }
      ],
      "source": [
        "# concatenating strings using + operator\n",
        "full_name = first_name + ' '+ middle_name +' '+ last_name\n",
        "full_name"
      ]
    },
    {
      "cell_type": "code",
      "execution_count": null,
      "metadata": {
        "id": "VM0y801COHqq",
        "outputId": "0aebb406-72b7-4e0f-bbac-9a9ee9a7a1cf"
      },
      "outputs": [
        {
          "data": {
            "text/plain": [
              "['Balaji', 'smart', 'Sundararaman']"
            ]
          },
          "execution_count": 34,
          "metadata": {},
          "output_type": "execute_result"
        }
      ],
      "source": [
        "full_name.split() #split() will split original string into as many parts as there are \n",
        "# the separating character(space in this case)"
      ]
    },
    {
      "cell_type": "code",
      "execution_count": null,
      "metadata": {
        "id": "FYyuLL1ROHqq"
      },
      "outputs": [],
      "source": [
        "first_name = full_name.split()[0]\n",
        "middle_name = full_name.split()[1]\n",
        "last_name = full_name.split()[2]"
      ]
    },
    {
      "cell_type": "code",
      "execution_count": null,
      "metadata": {
        "id": "oxM-gdSFOHqq",
        "outputId": "7c745da3-ff8f-4924-dbc8-44a4579c0f0a"
      },
      "outputs": [
        {
          "data": {
            "text/plain": [
              "'Balaji'"
            ]
          },
          "execution_count": 36,
          "metadata": {},
          "output_type": "execute_result"
        }
      ],
      "source": [
        "first_name"
      ]
    },
    {
      "cell_type": "code",
      "execution_count": null,
      "metadata": {
        "id": "mNr9yT5KOHqr",
        "outputId": "e6358928-742b-4926-d428-c3afd2358b52"
      },
      "outputs": [
        {
          "data": {
            "text/plain": [
              "'smart'"
            ]
          },
          "execution_count": 37,
          "metadata": {},
          "output_type": "execute_result"
        }
      ],
      "source": [
        "middle_name"
      ]
    },
    {
      "cell_type": "code",
      "execution_count": null,
      "metadata": {
        "id": "XMHZilMHOHqr",
        "outputId": "3cf3ae8d-4ac0-4e17-c938-396ea7ebc8a7"
      },
      "outputs": [
        {
          "data": {
            "text/plain": [
              "'Sundararaman'"
            ]
          },
          "execution_count": 38,
          "metadata": {},
          "output_type": "execute_result"
        }
      ],
      "source": [
        "last_name"
      ]
    },
    {
      "cell_type": "markdown",
      "metadata": {
        "id": "7KEa6yg5OHqr"
      },
      "source": [
        "## Join Strings - Multiple Ways\n",
        "\n",
        "join() is a method/function of string objects. join() is called on a string object and it uses this string object to join the string objects passed as arguments to it."
      ]
    },
    {
      "cell_type": "code",
      "execution_count": null,
      "metadata": {
        "id": "lyIifCLIOHqr",
        "outputId": "dcb47248-d2b0-410f-bc85-acb5b292fd3a"
      },
      "outputs": [
        {
          "data": {
            "text/plain": [
              "'Balaji Sundararaman'"
            ]
          },
          "execution_count": 39,
          "metadata": {},
          "output_type": "execute_result"
        }
      ],
      "source": [
        "' '.join([first_name, last_name]) # join() is a method of string object.  \n",
        "# Here ' ' (space) is the string object\n",
        "# join() joins the strings passed as arguments and it uses the string before .join() to\n",
        "# join them"
      ]
    },
    {
      "cell_type": "code",
      "execution_count": null,
      "metadata": {
        "id": "vBBDqp_YOHqs",
        "outputId": "95df815d-d562-4e57-9732-475cb4a929de"
      },
      "outputs": [
        {
          "data": {
            "text/plain": [
              "'Balaji smart Sundararaman'"
            ]
          },
          "execution_count": 40,
          "metadata": {},
          "output_type": "execute_result"
        }
      ],
      "source": [
        "' '.join([first_name, middle_name, last_name]) # join can take 2 or more arguments"
      ]
    },
    {
      "cell_type": "code",
      "execution_count": null,
      "metadata": {
        "id": "o_PMaZkLOHqs",
        "outputId": "78e0446f-ca51-4405-e9c4-854b327276f9"
      },
      "outputs": [
        {
          "data": {
            "text/plain": [
              "'Balaji smart Sundararaman'"
            ]
          },
          "execution_count": 41,
          "metadata": {},
          "output_type": "execute_result"
        }
      ],
      "source": [
        "first_name + ' ' + middle_name + ' ' + last_name #same result using +"
      ]
    },
    {
      "cell_type": "markdown",
      "metadata": {
        "id": "qAen0HF2OHqs"
      },
      "source": [
        "## Looping through a string object"
      ]
    },
    {
      "cell_type": "markdown",
      "metadata": {
        "id": "yvuVZFmiOHqt"
      },
      "source": [
        "The python string object is iterable, meaning that you can loop or iterate through each character in the string object."
      ]
    },
    {
      "cell_type": "code",
      "execution_count": null,
      "metadata": {
        "ExecuteTime": {
          "end_time": "2021-05-11T14:31:31.431198Z",
          "start_time": "2021-05-11T14:31:31.420228Z"
        },
        "id": "hxfw87kBOHqt"
      },
      "outputs": [],
      "source": [
        "course = 'This is a course on data science'"
      ]
    },
    {
      "cell_type": "code",
      "execution_count": null,
      "metadata": {
        "ExecuteTime": {
          "end_time": "2021-05-11T14:31:36.441808Z",
          "start_time": "2021-05-11T14:31:36.412852Z"
        },
        "id": "vtWMyXUXOHqt",
        "outputId": "76a5b8e4-cfe1-4527-ed55-fe0d2b895ce8"
      },
      "outputs": [
        {
          "data": {
            "text/plain": [
              "'This is a course on data science'"
            ]
          },
          "execution_count": 2,
          "metadata": {},
          "output_type": "execute_result"
        }
      ],
      "source": [
        "course"
      ]
    },
    {
      "cell_type": "code",
      "execution_count": null,
      "metadata": {
        "ExecuteTime": {
          "end_time": "2021-05-11T14:31:53.967622Z",
          "start_time": "2021-05-11T14:31:53.944684Z"
        },
        "id": "IqgMbiGdOHqt",
        "outputId": "b90026eb-4041-4c81-f691-3005b1732966"
      },
      "outputs": [
        {
          "name": "stdout",
          "output_type": "stream",
          "text": [
            "T\n",
            "h\n",
            "i\n",
            "s\n",
            " \n",
            "i\n",
            "s\n",
            " \n",
            "a\n",
            " \n",
            "c\n",
            "o\n",
            "u\n",
            "r\n",
            "s\n",
            "e\n",
            " \n",
            "o\n",
            "n\n",
            " \n",
            "d\n",
            "a\n",
            "t\n",
            "a\n",
            " \n",
            "s\n",
            "c\n",
            "i\n",
            "e\n",
            "n\n",
            "c\n",
            "e\n"
          ]
        }
      ],
      "source": [
        "for char in course:\n",
        "    print(char)"
      ]
    },
    {
      "source": [
        "## Strings are Immutable"
      ],
      "cell_type": "markdown",
      "metadata": {
        "id": "JQfDTdZqOHqu"
      }
    },
    {
      "cell_type": "code",
      "execution_count": null,
      "metadata": {
        "id": "1HUZRejIOHqu"
      },
      "outputs": [],
      "source": [
        "name = 'Mandeep'"
      ]
    },
    {
      "cell_type": "code",
      "execution_count": null,
      "metadata": {
        "id": "bL4KToqDOHqu",
        "outputId": "a017f3b3-f383-48b7-d465-02b37717eeb0"
      },
      "outputs": [
        {
          "output_type": "execute_result",
          "data": {
            "text/plain": [
              "'M'"
            ]
          },
          "metadata": {},
          "execution_count": 9
        }
      ],
      "source": [
        "name[0]"
      ]
    },
    {
      "cell_type": "code",
      "execution_count": null,
      "metadata": {
        "id": "J_cuO9aAOHqu",
        "outputId": "5924e175-210f-4caf-c659-3f9f39fdc41b"
      },
      "outputs": [
        {
          "output_type": "error",
          "ename": "TypeError",
          "evalue": "'str' object does not support item assignment",
          "traceback": [
            "\u001b[1;31m---------------------------------------------------------------------------\u001b[0m",
            "\u001b[1;31mTypeError\u001b[0m                                 Traceback (most recent call last)",
            "\u001b[1;32m<ipython-input-10-0b0a5ffe2688>\u001b[0m in \u001b[0;36m<module>\u001b[1;34m\u001b[0m\n\u001b[1;32m----> 1\u001b[1;33m \u001b[0mname\u001b[0m\u001b[1;33m[\u001b[0m\u001b[1;36m0\u001b[0m\u001b[1;33m]\u001b[0m \u001b[1;33m=\u001b[0m \u001b[1;34m'S'\u001b[0m\u001b[1;33m\u001b[0m\u001b[1;33m\u001b[0m\u001b[0m\n\u001b[0m",
            "\u001b[1;31mTypeError\u001b[0m: 'str' object does not support item assignment"
          ]
        }
      ],
      "source": [
        "name[0] = 'S' # you cannot change characters in a string once defined"
      ]
    },
    {
      "cell_type": "code",
      "execution_count": null,
      "metadata": {
        "id": "2Tfbng5oOHqv",
        "outputId": "d64466d2-819e-4bac-bebd-bf2091704de4"
      },
      "outputs": [
        {
          "output_type": "execute_result",
          "data": {
            "text/plain": [
              "'andeep'"
            ]
          },
          "metadata": {},
          "execution_count": 11
        }
      ],
      "source": [
        "# workaround\n",
        "\n",
        "name[1:]"
      ]
    },
    {
      "cell_type": "code",
      "execution_count": null,
      "metadata": {
        "id": "gxMZlxhgOHqv",
        "outputId": "756a6ab0-3957-4a7e-88f1-235e29d33a79"
      },
      "outputs": [
        {
          "output_type": "execute_result",
          "data": {
            "text/plain": [
              "'Sandeep'"
            ]
          },
          "metadata": {},
          "execution_count": 12
        }
      ],
      "source": [
        "new_name = 'S'+name[1:]\n",
        "new_name"
      ]
    }
  ],
  "metadata": {
    "kernelspec": {
      "name": "python3",
      "display_name": "Python 3.8.5 64-bit ('base': conda)"
    },
    "language_info": {
      "codemirror_mode": {
        "name": "ipython",
        "version": 3
      },
      "file_extension": ".py",
      "mimetype": "text/x-python",
      "name": "python",
      "nbconvert_exporter": "python",
      "pygments_lexer": "ipython3",
      "version": "3.8.5"
    },
    "toc": {
      "base_numbering": 1,
      "nav_menu": {},
      "number_sections": true,
      "sideBar": true,
      "skip_h1_title": true,
      "title_cell": "Table of Contents",
      "title_sidebar": "Contents",
      "toc_cell": false,
      "toc_position": {},
      "toc_section_display": true,
      "toc_window_display": false
    },
    "colab": {
      "name": "String_Operations.ipynb",
      "provenance": [],
      "include_colab_link": true
    }
  },
  "nbformat": 4,
  "nbformat_minor": 0
}