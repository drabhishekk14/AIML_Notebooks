{
  "nbformat": 4,
  "nbformat_minor": 0,
  "metadata": {
    "colab": {
      "name": "Siblings program.ipynb",
      "provenance": [],
      "authorship_tag": "ABX9TyP5h3bjpPS5rzZi4Sdzh/2h",
      "include_colab_link": true
    },
    "kernelspec": {
      "name": "python3",
      "display_name": "Python 3"
    },
    "language_info": {
      "name": "python"
    }
  },
  "cells": [
    {
      "cell_type": "markdown",
      "metadata": {
        "id": "view-in-github",
        "colab_type": "text"
      },
      "source": [
        "<a href=\"https://colab.research.google.com/github/drabhishekk14/AIML_Notebooks/blob/main/Siblings_program.ipynb\" target=\"_parent\"><img src=\"https://colab.research.google.com/assets/colab-badge.svg\" alt=\"Open In Colab\"/></a>"
      ]
    },
    {
      "cell_type": "markdown",
      "source": [
        "Create a short program asking a user how many siblings they have, and what their names are. See if you can display the results."
      ],
      "metadata": {
        "id": "wYSjUhGOmv-a"
      }
    },
    {
      "cell_type": "code",
      "execution_count": 24,
      "metadata": {
        "colab": {
          "base_uri": "https://localhost:8080/"
        },
        "id": "uHC573xNmuA6",
        "outputId": "4687189d-3981-4bc3-d88e-c8d80fbf3e7b"
      },
      "outputs": [
        {
          "output_type": "stream",
          "name": "stdout",
          "text": [
            "Enter the number of siblings you have here:\n",
            "3\n",
            "You have 3 siblings.\n",
            "\n",
            "Enter the names of your siblings here:\n",
            "A, B, C\n",
            "Your siblings are A, B, C\n"
          ]
        }
      ],
      "source": [
        "nsiblings=input('Enter the number of siblings you have here:\\n')\n",
        "if int(nsiblings) > 1: \n",
        "  print('You have %d siblings.\\n'% int(nsiblings))\n",
        "elif int(nsiblings)==1:\n",
        "  print('You have %d sibling.\\n'% int(nsiblings))\n",
        "elif int(nsiblings)<1:\n",
        "  print('You have %d siblings. No further input required\\n'% int(nsiblings))\n",
        "if int(nsiblings)<1:\n",
        "  StopIteration\n",
        "elif int(nsiblings)>1:\n",
        "  names=input('Enter the names of your siblings here:\\n')\n",
        "elif int(nsiblings)==1:\n",
        "  names=input('Enter the name of your sibling here:\\n')\n",
        "if int(nsiblings) > 1: \n",
        "  print('Your siblings are %s' %names)\n",
        "elif int(nsiblings)==1:\n",
        "  print('Your sibling is %s' %names)"
      ]
    }
  ]
}