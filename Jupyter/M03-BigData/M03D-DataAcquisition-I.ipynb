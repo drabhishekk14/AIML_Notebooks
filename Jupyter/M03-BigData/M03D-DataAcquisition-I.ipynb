{
  "cells": [
    {
      "cell_type": "markdown",
      "metadata": {
        "id": "FtcmYWJc-FBb"
      },
      "source": [
        "![Cloud-First](https://github.com/tulip-lab/sit742/blob/develop/Jupyter/image/CloudFirst.png?raw=1) \n",
        "\n",
        "\n",
        "# SIT742: Modern Data Science\n",
        "**(Module: Big Data)**\n",
        "\n",
        "---\n",
        "- Materials in this module include resources collected from various open-source online repositories.\n",
        "- You are free to use, change and distribute this package.\n",
        "- If you found any issue/bug for this document, please submit an issue at [tulip-lab/sit742](https://github.com/tulip-lab/sit742/issues)\n",
        "\n",
        "\n",
        "Prepared by **SIT742 Teaching Team**\n",
        "\n",
        "---\n",
        "\n",
        "\n",
        "## Session 3D: Data Acquisition (1)\n",
        "\n",
        "In this week, we will learn how to use Python Packages to ETL the data and files."
      ]
    },
    {
      "cell_type": "markdown",
      "metadata": {
        "id": "Fb5TqlLE-FBo"
      },
      "source": [
        "## Content\n",
        "\n",
        "\n",
        "\n",
        "### Part 1 Numpy Module\n",
        "\n",
        "1.1 [Importing Numpy](#importnp)\n",
        "\n",
        "1.2 [Numpy arrays](#nparray)\n",
        "\n",
        "1.3 [Manipulating arrays](#maninp)\n",
        "\n",
        "1.4 [Array Operations](#arrayop)\n",
        "\n",
        "1.5 [np.random](#random)\n",
        "\n",
        "1.6 [Vectorizing Functions](#vecfunc)\n",
        "\n",
        "\n",
        "\n",
        "### Part 2 Data Loading\n",
        "\n",
        "2.1 [TXT](#txt)\n",
        "\n",
        "2.2 [CSV](#csv)\n",
        "\n",
        "2.3 [JSON](#json)\n",
        "\n"
      ]
    },
    {
      "cell_type": "markdown",
      "metadata": {
        "id": "fm6guAC1-FHe"
      },
      "source": [
        "---\n",
        "## <span style=\"color:#0b486b\">1. Numpy module</span>\n"
      ]
    },
    {
      "cell_type": "markdown",
      "metadata": {
        "id": "o1E02sGn-FHg"
      },
      "source": [
        "Python lists are very flexible for storing any sequence of Python objects. But usually flexibility comes at the price of performance and therefore Python lists are not ideal for numerical calculations where we are interested in performance. Here is where **NumPy** comes in. It adds support for large, multi-dimensional arrays and matrices, along with high-level mathematical functions to operate on these arrays to Python. \n",
        "\n",
        "Relying on `'BLAS'` and `'LAPACK'`, `'NumPy'` gives a functionality comparable with `'MATLAB'` to Python. NumPy facilitates advanced mathematical and other types of operations on large numbers of data. Typically, such operations are executed more efficiently and with less code than is possible using Python’s built-in sequences. It has become one of the fundamental packages used for numerical computations.\n",
        "\n",
        "In this tutorial we will review its basics, so to learn more about NumPy, visit [NumPy User Guide](http://docs.scipy.org/doc/numpy/user/index.html)"
      ]
    },
    {
      "cell_type": "markdown",
      "metadata": {
        "id": "Hc_bsO3l-FHj"
      },
      "source": [
        "<a id = \"importnp\"></a>\n",
        "\n",
        "### <span style=\"color:#0b486b\">1.1 Importing Numpy</span>"
      ]
    },
    {
      "cell_type": "markdown",
      "metadata": {
        "id": "yWUvtzi8-FHm"
      },
      "source": [
        "As you have learnt in this session, first we have to import a package to be able to use it. NumPy is imported with:"
      ]
    },
    {
      "cell_type": "code",
      "execution_count": 1,
      "metadata": {
        "id": "2-B8prOg-FHq"
      },
      "outputs": [],
      "source": [
        "import numpy"
      ]
    },
    {
      "cell_type": "markdown",
      "metadata": {
        "id": "a39r4M3p-FH1"
      },
      "source": [
        "Although it is the convention to import it like with an alias:"
      ]
    },
    {
      "cell_type": "code",
      "execution_count": 2,
      "metadata": {
        "id": "SKj133sh-FH7"
      },
      "outputs": [],
      "source": [
        "import numpy as np"
      ]
    },
    {
      "cell_type": "markdown",
      "metadata": {
        "id": "uAmsO-V8-FIR"
      },
      "source": [
        "<a id = \"nparray\"></a>\n",
        "\n",
        "### <span style=\"color:#0b486b\">1.2 Numpy arrays</span>"
      ]
    },
    {
      "cell_type": "markdown",
      "metadata": {
        "id": "tlnX1eG8-FIT"
      },
      "source": [
        "The core of NumPy is its arrays. You can create an array from a Python list or tuple using `'array'` function. They work similarly to lists apart from the fact that:\n",
        "\n",
        "* you can easily perform element-wise operation on them, and\n",
        "* unlike lists, they should be pre-allocated. This means that there is no equivalent to list append for arrays. The size of the arrays is known at the time it is defined.\n",
        "\n"
      ]
    },
    {
      "cell_type": "markdown",
      "metadata": {
        "id": "ATvr-1ZS-FIW"
      },
      "source": [
        "#### <span style=\"color:#0b486b\">1.2.1 Create an array from a list</span>"
      ]
    },
    {
      "cell_type": "code",
      "execution_count": 3,
      "metadata": {
        "id": "xC6z9Xyo-FIY"
      },
      "outputs": [],
      "source": [
        "x = [1, 7, 3, 4, 0, -5]"
      ]
    },
    {
      "cell_type": "code",
      "execution_count": 4,
      "metadata": {
        "colab": {
          "base_uri": "https://localhost:8080/"
        },
        "id": "gdsnKRWa-FIi",
        "outputId": "5c2e0c6d-a2e4-4f65-8fc8-27eec7338793"
      },
      "outputs": [
        {
          "output_type": "execute_result",
          "data": {
            "text/plain": [
              "numpy.ndarray"
            ]
          },
          "metadata": {},
          "execution_count": 4
        }
      ],
      "source": [
        "y = np.array(x)\n",
        "type(y)"
      ]
    },
    {
      "cell_type": "markdown",
      "metadata": {
        "id": "nnBy-g5b-FIq"
      },
      "source": [
        "#### <span style=\"color:#0b486b\">1.2.2 Create an array using a range</span>"
      ]
    },
    {
      "cell_type": "code",
      "execution_count": 5,
      "metadata": {
        "colab": {
          "base_uri": "https://localhost:8080/"
        },
        "id": "OBt00bhq-FIs",
        "outputId": "d462637d-74ba-4d23-943d-4b5e9f019b50"
      },
      "outputs": [
        {
          "output_type": "execute_result",
          "data": {
            "text/plain": [
              "range(0, 5)"
            ]
          },
          "metadata": {},
          "execution_count": 5
        }
      ],
      "source": [
        "range(5)"
      ]
    },
    {
      "cell_type": "code",
      "execution_count": 6,
      "metadata": {
        "colab": {
          "base_uri": "https://localhost:8080/"
        },
        "id": "e1KYDBLq-FI7",
        "outputId": "45a9eed7-eeac-4e1b-b852-5324eeeab622"
      },
      "outputs": [
        {
          "output_type": "stream",
          "name": "stdout",
          "text": [
            "[0 1 2 3 4]\n"
          ]
        }
      ],
      "source": [
        "print(np.array(range(5)))"
      ]
    },
    {
      "cell_type": "code",
      "execution_count": 15,
      "metadata": {
        "colab": {
          "base_uri": "https://localhost:8080/"
        },
        "id": "LhL0M03i-FJD",
        "outputId": "34a0decd-a722-4105-c63c-c66b682eaf00"
      },
      "outputs": [
        {
          "output_type": "stream",
          "name": "stdout",
          "text": [
            "[2.  2.2 2.4 2.6 2.8]\n"
          ]
        }
      ],
      "source": [
        "print(np.arange(2, 3, 0.2))  # Why is there no value 3.0 in the output?\n",
        "#For any output out, this is the distance between two adjacent values, out[i+1] - out[i]. in the above case there is no adjacent value to 3"
      ]
    },
    {
      "cell_type": "code",
      "execution_count": 22,
      "metadata": {
        "colab": {
          "base_uri": "https://localhost:8080/"
        },
        "id": "_SQTHmfL-FJL",
        "outputId": "67461971-919e-44aa-feaf-a14e11936595"
      },
      "outputs": [
        {
          "output_type": "stream",
          "name": "stdout",
          "text": [
            "(array([2.  , 2.25, 2.5 , 2.75, 3.  ]), 0.25)\n"
          ]
        }
      ],
      "source": [
        "print(np.linspace(2, 3, 5,endpoint = True, retstep = True))    # returns numbers spaced evenly on a linear scale, both endspoints are included\n"
      ]
    },
    {
      "cell_type": "markdown",
      "metadata": {
        "id": "JDpURgHfM8-D"
      },
      "source": [
        "Just try to change the variable value 5 with 1, 2, 4  or 10? \\\n",
        "\n",
        "What pattern could you find ?\n",
        "\n",
        "Could you guess what is the function of **linspace**, if without the given comments?\n",
        "\n",
        "Then, you can try to use the same method to learn what is the function of **logspace**?\n",
        "\n",
        "\n"
      ]
    },
    {
      "cell_type": "code",
      "execution_count": 23,
      "metadata": {
        "colab": {
          "base_uri": "https://localhost:8080/"
        },
        "id": "Ol089FmC-FJS",
        "outputId": "8ac55607-e4d5-4589-9935-2a44e0c0d7e4"
      },
      "outputs": [
        {
          "output_type": "stream",
          "name": "stdout",
          "text": [
            "[ 100.          177.827941    316.22776602  562.34132519 1000.        ]\n"
          ]
        }
      ],
      "source": [
        "print(np.logspace(2, 3, 5))   # returns numbers spaced evenly on a log scale"
      ]
    },
    {
      "cell_type": "markdown",
      "metadata": {
        "id": "hXqpHuub-FJZ"
      },
      "source": [
        "**Note:** If you need any help on how to use a function or what it does, you can use IPython help. Just add a question mark (?) at the end of the function and execute the cell:"
      ]
    },
    {
      "cell_type": "code",
      "execution_count": 24,
      "metadata": {
        "id": "xFYTD-O--FJb"
      },
      "outputs": [],
      "source": [
        "np.logspace?"
      ]
    },
    {
      "cell_type": "markdown",
      "metadata": {
        "id": "PnwvGJX4-FJj"
      },
      "source": [
        "#### <span style=\"color:#0b486b\">1.2.3 Create a prefilled array</span>"
      ]
    },
    {
      "cell_type": "code",
      "execution_count": 25,
      "metadata": {
        "colab": {
          "base_uri": "https://localhost:8080/"
        },
        "id": "zSvnqTuR-FJn",
        "outputId": "ec3f2e8f-6937-4d45-e6c6-a59792f50aca"
      },
      "outputs": [
        {
          "output_type": "stream",
          "name": "stdout",
          "text": [
            "[0. 0. 0. 0. 0.]\n"
          ]
        }
      ],
      "source": [
        "print(np.zeros(5))"
      ]
    },
    {
      "cell_type": "code",
      "execution_count": 26,
      "metadata": {
        "colab": {
          "base_uri": "https://localhost:8080/"
        },
        "id": "MuWwpVx2-FJ0",
        "outputId": "45f427a3-19e8-4fb2-d0d1-063d1f0759ee"
      },
      "outputs": [
        {
          "output_type": "stream",
          "name": "stdout",
          "text": [
            "The 1st sample is [1 1 1 1 1]\n",
            "The 2nd sample is  [1. 1. 1. 1. 1.]\n",
            "The 3rd sample is  [[1 1 1 1 1]\n",
            " [1 1 1 1 1]\n",
            " [1 1 1 1 1]\n",
            " [1 1 1 1 1]\n",
            " [1 1 1 1 1]]\n",
            "The 4th sample is  [[[1 1 1 1 1]\n",
            "  [1 1 1 1 1]\n",
            "  [1 1 1 1 1]\n",
            "  [1 1 1 1 1]\n",
            "  [1 1 1 1 1]]\n",
            "\n",
            " [[1 1 1 1 1]\n",
            "  [1 1 1 1 1]\n",
            "  [1 1 1 1 1]\n",
            "  [1 1 1 1 1]\n",
            "  [1 1 1 1 1]]\n",
            "\n",
            " [[1 1 1 1 1]\n",
            "  [1 1 1 1 1]\n",
            "  [1 1 1 1 1]\n",
            "  [1 1 1 1 1]\n",
            "  [1 1 1 1 1]]\n",
            "\n",
            " [[1 1 1 1 1]\n",
            "  [1 1 1 1 1]\n",
            "  [1 1 1 1 1]\n",
            "  [1 1 1 1 1]\n",
            "  [1 1 1 1 1]]\n",
            "\n",
            " [[1 1 1 1 1]\n",
            "  [1 1 1 1 1]\n",
            "  [1 1 1 1 1]\n",
            "  [1 1 1 1 1]\n",
            "  [1 1 1 1 1]]]\n"
          ]
        }
      ],
      "source": [
        "print(\"The 1st sample is\",np.ones(5, dtype=int))   # you can specify the data type, default is float\n",
        "print(\"The 2nd sample is \",np.ones(5, dtype=float)) \n",
        "print(\"The 3rd sample is \",np.ones((5,5), dtype=int)) \n",
        "print(\"The 4th sample is \",np.ones((5,5,5), dtype=int)) "
      ]
    },
    {
      "cell_type": "code",
      "execution_count": 28,
      "metadata": {
        "id": "GYRJUOyf3_gv",
        "outputId": "dad224e9-9c69-484e-d3d4-7fa6be843b38",
        "colab": {
          "base_uri": "https://localhost:8080/"
        }
      },
      "outputs": [
        {
          "output_type": "execute_result",
          "data": {
            "text/plain": [
              "array([1., 1.])"
            ]
          },
          "metadata": {},
          "execution_count": 28
        }
      ],
      "source": [
        "np.ones(2)"
      ]
    },
    {
      "cell_type": "markdown",
      "metadata": {
        "id": "g7FgDgFa-FJ7"
      },
      "source": [
        "#### <span style=\"color:#0b486b\">1.2.4 `'mgrid'`</span>\n",
        "similar to meshgrid in MATLAB:"
      ]
    },
    {
      "cell_type": "code",
      "execution_count": 34,
      "metadata": {
        "colab": {
          "base_uri": "https://localhost:8080/"
        },
        "id": "U5OdZS-L-FKB",
        "outputId": "d2b26a4b-b97c-4574-d1d2-a78ac89314ad"
      },
      "outputs": [
        {
          "output_type": "stream",
          "name": "stdout",
          "text": [
            "[[0 0 0]\n",
            " [1 1 1]\n",
            " [2 2 2]]\n",
            "[[0 1 2]\n",
            " [0 1 2]\n",
            " [0 1 2]]\n"
          ]
        }
      ],
      "source": [
        "x, y = np.mgrid[0:3, 0:3]\n",
        "\n",
        "print(x)\n",
        "print(y)"
      ]
    },
    {
      "cell_type": "code",
      "execution_count": 30,
      "metadata": {
        "id": "vI0XK1HEPpRb"
      },
      "outputs": [],
      "source": [
        "np.mgrid?"
      ]
    },
    {
      "cell_type": "markdown",
      "metadata": {
        "id": "BK24IR2b-FKJ"
      },
      "source": [
        "#### <span style=\"color:#0b486b\">1.2.5 Array attributes</span>\n",
        "\n",
        "NumPy arrays have multiple attributes and methods. The cell below shows a few of them. You can press tab after typing the dot operator `'(.)'` to use IPython auto-complete and see the rest of them."
      ]
    },
    {
      "cell_type": "code",
      "execution_count": 35,
      "metadata": {
        "id": "MirmVfAm-FKN"
      },
      "outputs": [],
      "source": [
        "y = np.array([3, 0, -4, 6, 12, 2])"
      ]
    },
    {
      "cell_type": "code",
      "execution_count": 36,
      "metadata": {
        "colab": {
          "base_uri": "https://localhost:8080/"
        },
        "id": "lPHoezhC-FKW",
        "outputId": "b7c91b6a-58c9-43ee-8d9b-f335f7db3178"
      },
      "outputs": [
        {
          "output_type": "stream",
          "name": "stdout",
          "text": [
            "number of dimensions:\t 1\n",
            "dimension of the array: (6,)\n",
            "numerical data type:\t int64\n",
            "maximum of the array:\t 12\n",
            "index of the array max: 4\n",
            "mean of the array:\t 3.1666666666666665\n"
          ]
        }
      ],
      "source": [
        "print(\"number of dimensions:\\t\", y.ndim)        \n",
        "print(\"dimension of the array:\", y.shape)       \n",
        "print(\"numerical data type:\\t\", y.dtype)\n",
        "print(\"maximum of the array:\\t\", y.max())       \n",
        "print(\"index of the array max:\", y.argmax())    \n",
        "print(\"mean of the array:\\t\", y.mean())      "
      ]
    },
    {
      "cell_type": "markdown",
      "metadata": {
        "id": "CrbiDDhr-FKk"
      },
      "source": [
        "#### <span style=\"color:#0b486b\">1.2.6 Multi-dimensional arrays</span>\n"
      ]
    },
    {
      "cell_type": "markdown",
      "metadata": {
        "id": "qDBhj18y-FKn"
      },
      "source": [
        "You can define arrays with 2 (or higher) dimensions in numpy:"
      ]
    },
    {
      "cell_type": "markdown",
      "metadata": {
        "id": "ltKaGI6K-FKo"
      },
      "source": [
        "##### from lists"
      ]
    },
    {
      "cell_type": "code",
      "execution_count": 37,
      "metadata": {
        "colab": {
          "base_uri": "https://localhost:8080/"
        },
        "id": "d8M2wkbR-FKr",
        "outputId": "d956021e-5b69-4ea4-ddd7-c62e30dc7662"
      },
      "outputs": [
        {
          "output_type": "stream",
          "name": "stdout",
          "text": [
            "[[ 1  2 10 20]\n",
            " [ 3  4 30 40]]\n",
            "\n",
            "2 (2, 4)\n"
          ]
        }
      ],
      "source": [
        "x = [[1, 2, 10, 20], [3, 4, 30, 40]]\n",
        "y = np.array(x)\n",
        "print(y)\n",
        "print()\n",
        "print(y.ndim, y.shape)"
      ]
    },
    {
      "cell_type": "markdown",
      "metadata": {
        "id": "XmXmLGk1-FKz"
      },
      "source": [
        "##### pre-filled "
      ]
    },
    {
      "cell_type": "code",
      "execution_count": 38,
      "metadata": {
        "id": "qiG5NGcB-FK2"
      },
      "outputs": [],
      "source": [
        "x = np.ones((3, 5), dtype='int')"
      ]
    },
    {
      "cell_type": "code",
      "execution_count": 39,
      "metadata": {
        "colab": {
          "base_uri": "https://localhost:8080/"
        },
        "id": "qSRQFimN-FK8",
        "scrolled": true,
        "outputId": "40f1c0c1-4de4-4548-935a-84a0268697d8"
      },
      "outputs": [
        {
          "output_type": "stream",
          "name": "stdout",
          "text": [
            "[[1 1 1 1 1]\n",
            " [1 1 1 1 1]\n",
            " [1 1 1 1 1]]\n",
            "\n",
            "2 (3, 5)\n"
          ]
        }
      ],
      "source": [
        "print(x)\n",
        "print()\n",
        "print(x.ndim, x.shape)"
      ]
    },
    {
      "cell_type": "markdown",
      "metadata": {
        "id": "foS348qb-FLB"
      },
      "source": [
        "##### `'diag()'`\n",
        "diagonal matrix"
      ]
    },
    {
      "cell_type": "code",
      "execution_count": 40,
      "metadata": {
        "colab": {
          "base_uri": "https://localhost:8080/"
        },
        "id": "M-ttVrqJ-FLN",
        "outputId": "5bb15bca-c3d9-44d4-9299-cfd079e88779"
      },
      "outputs": [
        {
          "output_type": "execute_result",
          "data": {
            "text/plain": [
              "array([[1, 0, 0],\n",
              "       [0, 2, 0],\n",
              "       [0, 0, 3]])"
            ]
          },
          "metadata": {},
          "execution_count": 40
        }
      ],
      "source": [
        "np.diag([1, 2, 3])"
      ]
    },
    {
      "cell_type": "markdown",
      "metadata": {
        "id": "3fRD43wu-FLY"
      },
      "source": [
        "<a id = \"maninp\"></a>\n",
        "\n",
        "### <span style=\"color:#0b486b\">1.3 Manipulating arrays</span>\n"
      ]
    },
    {
      "cell_type": "markdown",
      "metadata": {
        "id": "cgGZKWuW-FLa"
      },
      "source": [
        "#### <span style=\"color:#0b486b\">1.3.1 Indexing</span>\n"
      ]
    },
    {
      "cell_type": "markdown",
      "metadata": {
        "id": "reg5bJIY-FLc"
      },
      "source": [
        "Similar to lists, you can index elements in an array using `'[]'` and indices:"
      ]
    },
    {
      "cell_type": "markdown",
      "metadata": {
        "id": "47U6VVq--FLf"
      },
      "source": [
        "If `'x'` is a 1-dimensional array, `'x[i]'` will index `'ith'` element of `'x'`:"
      ]
    },
    {
      "cell_type": "code",
      "execution_count": 41,
      "metadata": {
        "colab": {
          "base_uri": "https://localhost:8080/"
        },
        "id": "WI3XEpO0-FLi",
        "outputId": "28ff7663-0e73-4690-8880-3cf9ac791b07"
      },
      "outputs": [
        {
          "output_type": "stream",
          "name": "stdout",
          "text": [
            "4\n"
          ]
        }
      ],
      "source": [
        "x = np.array([2, 8, -2, 4, 3])\n",
        "print(x[3])"
      ]
    },
    {
      "cell_type": "markdown",
      "metadata": {
        "id": "kOhiutVu-FLp"
      },
      "source": [
        "If 'x' is a 2-dimensional arrray:\n",
        "\n",
        "* '`x[i, j]'` or `'x[i][j]'` will index the element in `'ith'` row and `'jth'` column\n",
        "* '`x[i, :]'` will index the `'ith'` row \n",
        "* `'x[:, j]'` will index `'jth'` column\n",
        "* Keep in mind the index starts at 0"
      ]
    },
    {
      "cell_type": "code",
      "execution_count": 42,
      "metadata": {
        "colab": {
          "base_uri": "https://localhost:8080/"
        },
        "id": "5dZ8bMdA-FLr",
        "outputId": "ee6b4324-b85a-4385-f26a-2145e3dd486c"
      },
      "outputs": [
        {
          "output_type": "stream",
          "name": "stdout",
          "text": [
            "0\n"
          ]
        }
      ],
      "source": [
        "x = np.array([[7, 6, 8, 6, 4],\n",
        "              [4, 7, -2, 0, 9]])\n",
        "              \n",
        "print(x[1, 3])"
      ]
    },
    {
      "cell_type": "code",
      "execution_count": 44,
      "metadata": {
        "colab": {
          "base_uri": "https://localhost:8080/"
        },
        "id": "RYHDHduJ-FLw",
        "outputId": "d0b91ad1-0eca-4b55-bde0-fe3a34d82d77"
      },
      "outputs": [
        {
          "output_type": "stream",
          "name": "stdout",
          "text": [
            "[ 4  7 -2  0  9]\n"
          ]
        }
      ],
      "source": [
        "print(x[1, :])      # or x[1]"
      ]
    },
    {
      "cell_type": "code",
      "execution_count": 45,
      "metadata": {
        "colab": {
          "base_uri": "https://localhost:8080/"
        },
        "id": "WUyelaZV-FL1",
        "outputId": "cbddb551-8fad-4f0d-90c4-1a525b5481d6"
      },
      "outputs": [
        {
          "output_type": "stream",
          "name": "stdout",
          "text": [
            "[6 0]\n"
          ]
        }
      ],
      "source": [
        "print(x[:, 3])"
      ]
    },
    {
      "cell_type": "markdown",
      "metadata": {
        "id": "YMP2cU6y-FMB"
      },
      "source": [
        "Arrays can also be indexed with other arrays:"
      ]
    },
    {
      "cell_type": "code",
      "execution_count": 46,
      "metadata": {
        "colab": {
          "base_uri": "https://localhost:8080/"
        },
        "id": "QgEan722-FMC",
        "outputId": "937da509-0162-4f73-ab8c-b90bc09ec79a"
      },
      "outputs": [
        {
          "output_type": "stream",
          "name": "stdout",
          "text": [
            "[8 4 3] [8 4 3]\n",
            "[ 2  0 -2  0  0  9  0]\n"
          ]
        }
      ],
      "source": [
        "x = np.array([2, 8, -2, 4, 3, 9, 0])\n",
        "\n",
        "idx1 = [1, 3, 4]        # list\n",
        "idx2 = np.array(idx1)   # array\n",
        "\n",
        "print(x[idx1], x[idx2])\n",
        "x[idx2] = 0\n",
        "print(x)"
      ]
    },
    {
      "cell_type": "markdown",
      "metadata": {
        "id": "0KBUG3Eg-FMI"
      },
      "source": [
        "You can also index masks. The index mask should be a NumPy arrays of data type Bool. Then the element of the array is selected only if the index mask at the position of the element is True."
      ]
    },
    {
      "cell_type": "code",
      "execution_count": 49,
      "metadata": {
        "id": "X1I8PH1Q-FMK"
      },
      "outputs": [],
      "source": [
        "x = np.array([2, 8, -2, 4, 3, 9, 0])"
      ]
    },
    {
      "cell_type": "code",
      "execution_count": 50,
      "metadata": {
        "id": "7ge96tsf-FMQ"
      },
      "outputs": [],
      "source": [
        "mask = np.array([False, True, True, False, False, True, False])"
      ]
    },
    {
      "cell_type": "code",
      "execution_count": 51,
      "metadata": {
        "colab": {
          "base_uri": "https://localhost:8080/"
        },
        "id": "PEoatrjz-FMU",
        "outputId": "5dade8b9-5865-4b2e-a0d5-5b35436ebda1"
      },
      "outputs": [
        {
          "output_type": "execute_result",
          "data": {
            "text/plain": [
              "array([ 8, -2,  9])"
            ]
          },
          "metadata": {},
          "execution_count": 51
        }
      ],
      "source": [
        "x[mask]"
      ]
    },
    {
      "cell_type": "markdown",
      "metadata": {
        "id": "rHObUufk-FMb"
      },
      "source": [
        "Combining index masks with comparison operators enables you to conditionally select elements of the array."
      ]
    },
    {
      "cell_type": "code",
      "execution_count": 52,
      "metadata": {
        "colab": {
          "base_uri": "https://localhost:8080/"
        },
        "id": "ylAy1AHp-FMd",
        "outputId": "bc504775-5a18-4cc1-8a28-88f574875279"
      },
      "outputs": [
        {
          "output_type": "execute_result",
          "data": {
            "text/plain": [
              "array([2, 8, 4, 3])"
            ]
          },
          "metadata": {},
          "execution_count": 52
        }
      ],
      "source": [
        "x = np.array([2, 8, -2, 4, 3, 9, 0])\n",
        "mask = (x>=2) * (x<9)\n",
        "x[mask]"
      ]
    },
    {
      "cell_type": "markdown",
      "metadata": {
        "id": "HA-J3zZr-FMq"
      },
      "source": [
        "#### <span style=\"color:#0b486b\">1.3.2 Slicing</span>\n"
      ]
    },
    {
      "cell_type": "markdown",
      "metadata": {
        "id": "blX9Xzbl-FMs"
      },
      "source": [
        "Similar to Python lists, arrays can also be sliced:\n",
        ": is used to "
      ]
    },
    {
      "cell_type": "code",
      "execution_count": 53,
      "metadata": {
        "colab": {
          "base_uri": "https://localhost:8080/"
        },
        "id": "QJ550Wak-FMu",
        "outputId": "96cb27b5-225e-4736-e79d-35e07c01f328"
      },
      "outputs": [
        {
          "output_type": "stream",
          "name": "stdout",
          "text": [
            "[4 3 9 0]\n",
            "[4 9]\n"
          ]
        }
      ],
      "source": [
        "x = np.array([2, 8, -2, 4, 3, 9, 0])\n",
        "\n",
        "print(x[3:])    # slicing\n",
        "print(x[3:7:2])  # slicing with a specified step"
      ]
    },
    {
      "cell_type": "code",
      "execution_count": 54,
      "metadata": {
        "colab": {
          "base_uri": "https://localhost:8080/"
        },
        "id": "w8V9DnNs-FMz",
        "outputId": "ee6e2137-5b15-40fa-cae3-787622a0fda8"
      },
      "outputs": [
        {
          "output_type": "stream",
          "name": "stdout",
          "text": [
            "[7 0 5]\n",
            "\n",
            "[[6 6 3]\n",
            " [7 5 5]]\n"
          ]
        }
      ],
      "source": [
        "x = np.array([[7, 6, 8, 6, 4, 3],\n",
        "              [4, 7, 0, 5, 9, 5],\n",
        "              [7, 3, 6, 3, 5, 1]])\n",
        "              \n",
        "\n",
        "print(x[1, 1:4])\n",
        "print()\n",
        "print(x[:2, 1::2])    # rows zero up to 2, cols 1 up to end with a step=2"
      ]
    },
    {
      "cell_type": "markdown",
      "metadata": {
        "id": "hWTmUPd6-FM5"
      },
      "source": [
        "#### <span style=\"color:#0b486b\">1.3.3 Iteration over items</span>\n"
      ]
    },
    {
      "cell_type": "markdown",
      "metadata": {
        "id": "Eu9gjTKo-FM7"
      },
      "source": [
        "Since most of NumPy functions are capable of operating on arrays, in many cases iteration over items of an arrays can be (and should be) avoided. Otherwise it is pretty much similar to iterating over values of a list:"
      ]
    },
    {
      "cell_type": "code",
      "execution_count": 63,
      "metadata": {
        "colab": {
          "base_uri": "https://localhost:8080/"
        },
        "id": "eayPM8on-FNA",
        "outputId": "38beafd0-93fe-4fea-eba2-1f532feaedfb"
      },
      "outputs": [
        {
          "output_type": "stream",
          "name": "stdout",
          "text": [
            "[ 0  7 14 21 28 35 42 49 56 63 70]\n",
            "0\n",
            "7\n",
            "14\n",
            "21\n",
            "28\n",
            "35\n",
            "42\n",
            "49\n",
            "56\n",
            "63\n",
            "70\n"
          ]
        }
      ],
      "source": [
        "a = np.arange(0, 77, 7)\n",
        "print(a)\n",
        "for item in a:\n",
        "    print(item) "
      ]
    },
    {
      "cell_type": "markdown",
      "metadata": {
        "id": "uEEZs2Pd-FNG"
      },
      "source": [
        "Of course you could iterate over items using their indices too:"
      ]
    },
    {
      "cell_type": "code",
      "execution_count": 70,
      "metadata": {
        "colab": {
          "base_uri": "https://localhost:8080/"
        },
        "id": "W35khYsr-FNJ",
        "outputId": "e76998a4-fc1f-4b1e-f146-cbbf0a1365bd"
      },
      "outputs": [
        {
          "output_type": "stream",
          "name": "stdout",
          "text": [
            "0\n",
            "7\n",
            "14\n",
            "21\n",
            "28\n",
            "35\n",
            "42\n",
            "49\n",
            "(8,)\n"
          ]
        }
      ],
      "source": [
        "a = np.arange(0, 50, 7)\n",
        "for i in range(a.shape[0]):\n",
        "    print(a[i],)\n",
        "print(a.shape)"
      ]
    },
    {
      "cell_type": "markdown",
      "metadata": {
        "id": "E9efgG2f-FNQ"
      },
      "source": [
        "There are also many functions for manipulating arrays. The most used ones are:"
      ]
    },
    {
      "cell_type": "markdown",
      "metadata": {
        "id": "Jq2e_fTx-FNS"
      },
      "source": [
        "#### <span style=\"color:#0b486b\">1.3.4 `copy()`</span>\n"
      ]
    },
    {
      "cell_type": "markdown",
      "metadata": {
        "id": "Yqcj120w-FNU"
      },
      "source": [
        "**Remember** that assignment operator is not an equivalent for copying arrays. In fact Python does not pass the values. It passess the references."
      ]
    },
    {
      "cell_type": "code",
      "execution_count": 71,
      "metadata": {
        "colab": {
          "base_uri": "https://localhost:8080/"
        },
        "id": "Wkx8l22X-FNa",
        "outputId": "76ef254e-a277-499f-defa-419bb12d83e3"
      },
      "outputs": [
        {
          "output_type": "stream",
          "name": "stdout",
          "text": [
            "[1, 2, 3] [1, 2, 3]\n"
          ]
        }
      ],
      "source": [
        "x = [1, 2, 3]\n",
        "y = x\n",
        "print(x, y)"
      ]
    },
    {
      "cell_type": "code",
      "execution_count": 72,
      "metadata": {
        "colab": {
          "base_uri": "https://localhost:8080/"
        },
        "id": "69hYgW58-FNf",
        "outputId": "beb3e718-05c3-4394-8d0e-42b362a146b5"
      },
      "outputs": [
        {
          "output_type": "stream",
          "name": "stdout",
          "text": [
            "[0, 2, 3] [0, 2, 3]\n"
          ]
        }
      ],
      "source": [
        "y[0] = 0       # now we alter an element of y\n",
        "print(x, y)     # note that x has changed as well"
      ]
    },
    {
      "cell_type": "markdown",
      "metadata": {
        "id": "Oof00tVc-FNq"
      },
      "source": [
        "Same is true for numpy arrays. That's why if you need a copy of an array, you should use `'copy()'` function."
      ]
    },
    {
      "cell_type": "code",
      "execution_count": 73,
      "metadata": {
        "colab": {
          "base_uri": "https://localhost:8080/"
        },
        "id": "ir5585gc-FNs",
        "outputId": "1a25813e-6b83-49aa-cc9c-c06729f31ee3"
      },
      "outputs": [
        {
          "output_type": "stream",
          "name": "stdout",
          "text": [
            "[0 2 3] [0 2 3]\n"
          ]
        }
      ],
      "source": [
        "x = np.array([1, 2, 3])\n",
        "y = x\n",
        "\n",
        "y[0] = 0       # now we alter an element of y\n",
        "print(x, y)     # note that x has changed as well"
      ]
    },
    {
      "cell_type": "code",
      "execution_count": 74,
      "metadata": {
        "colab": {
          "base_uri": "https://localhost:8080/"
        },
        "id": "Uo-iZzvC-FN3",
        "outputId": "a125c007-c4e5-42b5-bfc9-b4677b45ccf1"
      },
      "outputs": [
        {
          "output_type": "stream",
          "name": "stdout",
          "text": [
            "[1 2 3] [0 2 3]\n"
          ]
        }
      ],
      "source": [
        "x = np.array([1, 2, 3])\n",
        "y = x.copy()  # or np.copy(x)\n",
        "y[0] = 0\n",
        "\n",
        "print(x, y)"
      ]
    },
    {
      "cell_type": "markdown",
      "metadata": {
        "id": "tSrPOa8t-FN_"
      },
      "source": [
        "#### <span style=\"color:#0b486b\">1.3.5 `reshape()`</span>\n"
      ]
    },
    {
      "cell_type": "code",
      "execution_count": 86,
      "metadata": {
        "colab": {
          "base_uri": "https://localhost:8080/"
        },
        "id": "8tnEtiPp-FOC",
        "outputId": "2f68d801-0745-4f78-f442-615005321de1"
      },
      "outputs": [
        {
          "output_type": "stream",
          "name": "stdout",
          "text": [
            "[ 0  1  2  3  4  5  6  7  8  9 10 11 12 13 14 15 16 17 18 19 20]\n",
            "\n",
            "[[ 0  1  2]\n",
            " [ 3  4  5]\n",
            " [ 6  7  8]\n",
            " [ 9 10 11]\n",
            " [12 13 14]\n",
            " [15 16 17]\n",
            " [18 19 20]]\n"
          ]
        }
      ],
      "source": [
        "x1 = np.arange(21)\n",
        "x2 = x1.reshape((7, 3))    # or np.reshape(x1, (2, 3))\n",
        "\n",
        "print(x1)\n",
        "print()\n",
        "print(x2)"
      ]
    },
    {
      "cell_type": "markdown",
      "metadata": {
        "id": "7_aHU31V-FOL"
      },
      "source": [
        "#### <span style=\"color:#0b486b\">1.3.6 `astype()`</span>\n"
      ]
    },
    {
      "cell_type": "markdown",
      "metadata": {
        "id": "76fjepzM-FON"
      },
      "source": [
        "Used for type casting:"
      ]
    },
    {
      "cell_type": "code",
      "execution_count": 87,
      "metadata": {
        "colab": {
          "base_uri": "https://localhost:8080/"
        },
        "id": "k1GoBiQV-FOO",
        "outputId": "bdd7b031-2835-486c-a837-4854adb2d6ee"
      },
      "outputs": [
        {
          "output_type": "stream",
          "name": "stdout",
          "text": [
            "<class 'numpy.ndarray'> [0 1 2 3 4]\n",
            "<class 'numpy.ndarray'> [0. 1. 2. 3. 4.]\n"
          ]
        }
      ],
      "source": [
        "x1 = np.arange(5)\n",
        "x2 = x1.astype(float)\n",
        "\n",
        "print(type(x1), x1)\n",
        "print(type(x2), x2)"
      ]
    },
    {
      "cell_type": "markdown",
      "metadata": {
        "id": "k6bOoR14-FOU"
      },
      "source": [
        "#### <span style=\"color:#0b486b\">1.3.7 `T` Transpose</span> "
      ]
    },
    {
      "cell_type": "markdown",
      "metadata": {
        "id": "oe1PUocl-FOc"
      },
      "source": [
        "transpose method:"
      ]
    },
    {
      "cell_type": "code",
      "execution_count": 88,
      "metadata": {
        "colab": {
          "base_uri": "https://localhost:8080/"
        },
        "id": "DXLlgFaT-FOe",
        "outputId": "9b0f053c-c2e3-4c8a-c384-a37abc40a3a4"
      },
      "outputs": [
        {
          "output_type": "stream",
          "name": "stdout",
          "text": [
            "[[1 1 3 0]\n",
            " [0 1 1 3]]\n",
            "\n",
            "[[1 0]\n",
            " [1 1]\n",
            " [3 1]\n",
            " [0 3]]\n"
          ]
        }
      ],
      "source": [
        "x1 = np.random.randint(5, size=(2, 4))\n",
        "x2 = x1.T\n",
        "\n",
        "print(x1)\n",
        "print()\n",
        "print(x2)"
      ]
    },
    {
      "cell_type": "markdown",
      "metadata": {
        "id": "axdyp7nJ-FOi"
      },
      "source": [
        "<a id = \"arrayop\"></a>\n",
        "\n",
        "### <span style=\"color:#0b486b\">1.4 Array operations</span>\n"
      ]
    },
    {
      "cell_type": "markdown",
      "metadata": {
        "id": "Pdnp48Ov-FOp"
      },
      "source": [
        "#### <span style=\"color:#0b486b\">1.4.1 Arithmetic operators</span>\n"
      ]
    },
    {
      "cell_type": "markdown",
      "metadata": {
        "id": "tbF09PSC-FOr"
      },
      "source": [
        "Arrays can be added, subtracted, multiplied and divided using +, -, \\* and, /. Operations done by these operators are **element wise**."
      ]
    },
    {
      "cell_type": "code",
      "execution_count": 89,
      "metadata": {
        "id": "Rrdn8VQE-FOt"
      },
      "outputs": [],
      "source": [
        "x1 = np.array([[2, 3, 5, 7], \n",
        "               [2, 4, 6, 8]], dtype=float)\n",
        "x2 = np.array([[6, 5, 4, 3], \n",
        "               [9, 7, 5, 3]], dtype=float)"
      ]
    },
    {
      "cell_type": "code",
      "execution_count": 90,
      "metadata": {
        "colab": {
          "base_uri": "https://localhost:8080/"
        },
        "id": "NsdLlPTm-FO1",
        "outputId": "f8b5458c-9660-431b-f64d-952c72bf60bd"
      },
      "outputs": [
        {
          "output_type": "stream",
          "name": "stdout",
          "text": [
            "[[2. 3. 5. 7.]\n",
            " [2. 4. 6. 8.]]\n",
            "\n",
            "[[6. 5. 4. 3.]\n",
            " [9. 7. 5. 3.]]\n"
          ]
        }
      ],
      "source": [
        "print(x1)\n",
        "print()\n",
        "print(x2)"
      ]
    },
    {
      "cell_type": "code",
      "execution_count": 91,
      "metadata": {
        "colab": {
          "base_uri": "https://localhost:8080/"
        },
        "id": "6NWyxuog-FO7",
        "outputId": "619c3271-170e-4677-c059-cefdfafd37c4"
      },
      "outputs": [
        {
          "output_type": "stream",
          "name": "stdout",
          "text": [
            "[[ 8.  8.  9. 10.]\n",
            " [11. 11. 11. 11.]]\n"
          ]
        }
      ],
      "source": [
        "print(x1 + x2)"
      ]
    },
    {
      "cell_type": "code",
      "execution_count": 92,
      "metadata": {
        "colab": {
          "base_uri": "https://localhost:8080/"
        },
        "id": "xb4lLmlt-FPG",
        "outputId": "388a14e2-eace-49ae-fa10-253b68d4d4b3"
      },
      "outputs": [
        {
          "output_type": "stream",
          "name": "stdout",
          "text": [
            "[[-4. -2.  1.  4.]\n",
            " [-7. -3.  1.  5.]]\n"
          ]
        }
      ],
      "source": [
        "print(x1 - x2)"
      ]
    },
    {
      "cell_type": "code",
      "execution_count": 93,
      "metadata": {
        "colab": {
          "base_uri": "https://localhost:8080/"
        },
        "id": "7NM1P_u6-FPM",
        "outputId": "d45da67e-1581-4f85-b2de-ae42b64a3e2a"
      },
      "outputs": [
        {
          "output_type": "stream",
          "name": "stdout",
          "text": [
            "[[12. 15. 20. 21.]\n",
            " [18. 28. 30. 24.]]\n"
          ]
        }
      ],
      "source": [
        "print(x1 * x2)"
      ]
    },
    {
      "cell_type": "code",
      "execution_count": 94,
      "metadata": {
        "colab": {
          "base_uri": "https://localhost:8080/"
        },
        "id": "pBirpVSg-FPR",
        "outputId": "10d01e9c-41ca-4292-eee3-a04794a0fb79"
      },
      "outputs": [
        {
          "output_type": "stream",
          "name": "stdout",
          "text": [
            "[[0.33333333 0.6        1.25       2.33333333]\n",
            " [0.22222222 0.57142857 1.2        2.66666667]]\n"
          ]
        }
      ],
      "source": [
        "print(x1 / x2)"
      ]
    },
    {
      "cell_type": "code",
      "execution_count": 95,
      "metadata": {
        "colab": {
          "base_uri": "https://localhost:8080/"
        },
        "id": "BWYmg3gc-FPZ",
        "outputId": "36bea63b-9a72-486c-c900-add3caee1a5d"
      },
      "outputs": [
        {
          "output_type": "stream",
          "name": "stdout",
          "text": [
            "[[ 5.  6.  8. 10.]\n",
            " [ 5.  7.  9. 11.]]\n"
          ]
        }
      ],
      "source": [
        "print(3 + x1)"
      ]
    },
    {
      "cell_type": "code",
      "execution_count": 96,
      "metadata": {
        "colab": {
          "base_uri": "https://localhost:8080/"
        },
        "id": "bHFn1Mxt-FPd",
        "outputId": "a81c5c62-3cb2-4576-8b7e-653d60487358"
      },
      "outputs": [
        {
          "output_type": "stream",
          "name": "stdout",
          "text": [
            "[[ 6.  9. 15. 21.]\n",
            " [ 6. 12. 18. 24.]]\n"
          ]
        }
      ],
      "source": [
        "print(3 * x1)"
      ]
    },
    {
      "cell_type": "code",
      "execution_count": 97,
      "metadata": {
        "colab": {
          "base_uri": "https://localhost:8080/"
        },
        "id": "Piegik6m-FPl",
        "outputId": "4df33704-de78-4a46-9015-6ac23926642e"
      },
      "outputs": [
        {
          "output_type": "stream",
          "name": "stdout",
          "text": [
            "[[1.5        1.         0.6        0.42857143]\n",
            " [1.5        0.75       0.5        0.375     ]]\n"
          ]
        }
      ],
      "source": [
        "print(3 / x1)"
      ]
    },
    {
      "cell_type": "markdown",
      "metadata": {
        "id": "2xqoJwUZ-FPr"
      },
      "source": [
        "#### <span style=\"color:#0b486b\">1.4.2 Boolean operators</span>\n",
        "\n",
        "Much like arithmetic operators discussed above, boolean (comparison) operators perform element-wise on arrays."
      ]
    },
    {
      "cell_type": "code",
      "execution_count": 100,
      "metadata": {
        "colab": {
          "base_uri": "https://localhost:8080/"
        },
        "id": "aM5g731W-FPs",
        "outputId": "c101f568-7575-46c0-b488-5adda6e35676"
      },
      "outputs": [
        {
          "output_type": "stream",
          "name": "stdout",
          "text": [
            "[False  True  True False] bool\n"
          ]
        }
      ],
      "source": [
        "x1 = np.array([2, 3, 5, 7])\n",
        "x2 = np.array([2, 4, 6, 7])\n",
        "y = x1<x2\n",
        "\n",
        "print( y, y.dtype)"
      ]
    },
    {
      "cell_type": "markdown",
      "metadata": {
        "id": "cnIFJb0j-FPw"
      },
      "source": [
        "use methods `'.any()'` and `'.all()'` to return a single boolean value indicating whether any or all values in the array are True respectively. This value in turn can be used as a condition for an `'if'` statement."
      ]
    },
    {
      "cell_type": "code",
      "execution_count": 101,
      "metadata": {
        "colab": {
          "base_uri": "https://localhost:8080/"
        },
        "id": "7NGdUs29-FPy",
        "outputId": "59d55c65-3dcb-4735-88ad-b65202af95f0"
      },
      "outputs": [
        {
          "output_type": "stream",
          "name": "stdout",
          "text": [
            "False\n",
            "True\n"
          ]
        }
      ],
      "source": [
        "print (y.all())\n",
        "print (y.any())"
      ]
    },
    {
      "cell_type": "markdown",
      "metadata": {
        "id": "xy2gjc2T-FP3"
      },
      "source": [
        "NumPy has many other functions that you can read about them in [NumPy User Guide](http://docs.scipy.org/doc/numpy/user/). Specially read about:"
      ]
    },
    {
      "cell_type": "markdown",
      "metadata": {
        "id": "0lc_o_C5-FP4"
      },
      "source": [
        "* `np.unique`, returns unique elements of an array\n",
        "* `np.flatten`, flattens a multi-dimensional array\n",
        "* `np.mean`, `np.std`, `np.median`\n",
        "* `np.min`, `np.max`, `np.argmin`, `np.argmax`"
      ]
    },
    {
      "cell_type": "markdown",
      "metadata": {
        "id": "xTcRRTbn-FP5"
      },
      "source": [
        "<a id = \"random\"></a>\n",
        "\n",
        "### <span style=\"color:#0b486b\">1.5 np.random</span>\n"
      ]
    },
    {
      "cell_type": "markdown",
      "metadata": {
        "id": "MPPLTWcv-FP7"
      },
      "source": [
        "NumPy has a module called `random` to generate arrays of random numbers. There are different ways to generate a random number:"
      ]
    },
    {
      "cell_type": "code",
      "execution_count": 102,
      "metadata": {
        "colab": {
          "base_uri": "https://localhost:8080/"
        },
        "id": "OlyjQz8z-FP8",
        "outputId": "02b98c1b-087e-4af1-c162-0c29979af057"
      },
      "outputs": [
        {
          "output_type": "stream",
          "name": "stdout",
          "text": [
            "0.3385552703389795\n"
          ]
        }
      ],
      "source": [
        "print( np.random.rand())"
      ]
    },
    {
      "cell_type": "code",
      "execution_count": 103,
      "metadata": {
        "colab": {
          "base_uri": "https://localhost:8080/"
        },
        "id": "IxnFBbRv-FQD",
        "outputId": "0b8cf3f4-c2fa-4ba3-b246-1634645c1fee"
      },
      "outputs": [
        {
          "output_type": "stream",
          "name": "stdout",
          "text": [
            "[[0.35646561 0.72916374 0.27627314 0.55562004 0.97783385]\n",
            " [0.27169037 0.97007444 0.33148459 0.51190621 0.50168063]]\n"
          ]
        }
      ],
      "source": [
        "# 2x5 random array drawn from standard normal distribution\n",
        "print( np.random.random([2, 5]))"
      ]
    },
    {
      "cell_type": "code",
      "execution_count": 104,
      "metadata": {
        "colab": {
          "base_uri": "https://localhost:8080/"
        },
        "id": "YZ_OPkSs-FQI",
        "outputId": "7a8e4ac3-74f1-4e82-f920-3a47304edd93"
      },
      "outputs": [
        {
          "output_type": "stream",
          "name": "stdout",
          "text": [
            "[[0.18691062 0.32697603 0.2062551  0.56471896 0.86717176]\n",
            " [0.2717253  0.58062771 0.41139066 0.6446071  0.38132278]]\n"
          ]
        }
      ],
      "source": [
        "# 2x5 random array drawn from standard normal distribution\n",
        "print (np.random.rand(2, 5))"
      ]
    },
    {
      "cell_type": "code",
      "execution_count": 105,
      "metadata": {
        "colab": {
          "base_uri": "https://localhost:8080/"
        },
        "id": "9GIPOTP_-FQM",
        "outputId": "46eea245-d5cb-48b7-e836-2049709227c4"
      },
      "outputs": [
        {
          "output_type": "stream",
          "name": "stdout",
          "text": [
            "[[2 1 7 0 6]\n",
            " [1 7 6 2 9]]\n"
          ]
        }
      ],
      "source": [
        "# 2x5 random array drawn from a uniform distribution on {0, 1, 2, ..., 9}\n",
        "print (np.random.randint(10, size=[2, 5])) "
      ]
    },
    {
      "cell_type": "markdown",
      "metadata": {
        "id": "C9UFe6xH-FQQ"
      },
      "source": [
        "##### <span style=\"color:#0b486b\">1.5.1 Random seed</span>\n"
      ]
    },
    {
      "cell_type": "markdown",
      "metadata": {
        "id": "yqKfnar6-FQR"
      },
      "source": [
        "Random numbers generated by computers are not really random. They are called pseudo-random. Thus we can set the random generator to generate the same set of random numbers every time. This is useful while testing the code."
      ]
    },
    {
      "cell_type": "code",
      "execution_count": 106,
      "metadata": {
        "colab": {
          "base_uri": "https://localhost:8080/"
        },
        "id": "d55atcWW-FQS",
        "outputId": "bb096a53-59b5-4028-841c-2247de95ecdd"
      },
      "outputs": [
        {
          "output_type": "stream",
          "name": "stdout",
          "text": [
            "0.6917019760324657\n",
            "0.9050653298404416\n",
            "0.5015648832359193\n",
            "0.4374360553183053\n",
            "0.6134063539635196\n"
          ]
        }
      ],
      "source": [
        "for i in range(5):\n",
        "    print (np.random.random(),)    "
      ]
    },
    {
      "cell_type": "code",
      "execution_count": 107,
      "metadata": {
        "colab": {
          "base_uri": "https://localhost:8080/"
        },
        "id": "IEhNqhH2-FQX",
        "outputId": "939cb8a9-d0a8-4fd5-ad0c-4f9355ff90f5"
      },
      "outputs": [
        {
          "output_type": "stream",
          "name": "stdout",
          "text": [
            "0.5434049417909654\n",
            "0.5434049417909654\n",
            "0.5434049417909654\n",
            "0.5434049417909654\n",
            "0.5434049417909654\n"
          ]
        }
      ],
      "source": [
        "for i in range(5):\n",
        "    np.random.seed(100)\n",
        "    print (np.random.random(),)    "
      ]
    },
    {
      "cell_type": "markdown",
      "metadata": {
        "id": "AZWRunty-FQd"
      },
      "source": [
        "<a id = \"vecfunc\"></a>\n",
        "\n",
        "### <span style=\"color:#0b486b\">1.6 Vectorizing functions</span>\n"
      ]
    },
    {
      "cell_type": "markdown",
      "metadata": {
        "id": "cO7BR00T-FQf"
      },
      "source": [
        "As mentioned earlier in operators, to get a good performance you should avoid looping over elements in an array and use vectorized algorithms. Many methods and functions of NumPy already support vectors, so keep this in mind while writing your own code.\n",
        "\n",
        "But for now, suppose you have written a step function which does not work with arrays, as the cell below:"
      ]
    },
    {
      "cell_type": "code",
      "execution_count": 108,
      "metadata": {
        "id": "TZLJoQZq-FQh"
      },
      "outputs": [],
      "source": [
        "def step_func(x):\n",
        "    \"\"\"\n",
        "    scalar implementation of step function\n",
        "    \"\"\"\n",
        "    \n",
        "    if x>=0:\n",
        "        return 1\n",
        "    else:\n",
        "        return 0"
      ]
    },
    {
      "cell_type": "markdown",
      "metadata": {
        "id": "4PRIQauM-FQm"
      },
      "source": [
        "Obviously it fails when dealing with an array, because it expects a scalar as its input. Execute the cell below and see that it raises an error:"
      ]
    },
    {
      "cell_type": "code",
      "execution_count": 109,
      "metadata": {
        "colab": {
          "base_uri": "https://localhost:8080/",
          "height": 334
        },
        "id": "pqcpMBr7-FQn",
        "outputId": "5d075251-5746-4eeb-8d26-315f14281ce4"
      },
      "outputs": [
        {
          "output_type": "error",
          "ename": "ValueError",
          "evalue": "ignored",
          "traceback": [
            "\u001b[0;31m---------------------------------------------------------------------------\u001b[0m",
            "\u001b[0;31mValueError\u001b[0m                                Traceback (most recent call last)",
            "\u001b[0;32m<ipython-input-109-8c5d61b1375a>\u001b[0m in \u001b[0;36m<module>\u001b[0;34m\u001b[0m\n\u001b[1;32m      2\u001b[0m \u001b[0;31m# it raises an error\u001b[0m\u001b[0;34m\u001b[0m\u001b[0;34m\u001b[0m\u001b[0;34m\u001b[0m\u001b[0m\n\u001b[1;32m      3\u001b[0m \u001b[0;34m\u001b[0m\u001b[0m\n\u001b[0;32m----> 4\u001b[0;31m \u001b[0mstep_func\u001b[0m\u001b[0;34m(\u001b[0m\u001b[0mnp\u001b[0m\u001b[0;34m.\u001b[0m\u001b[0marray\u001b[0m\u001b[0;34m(\u001b[0m\u001b[0;34m[\u001b[0m\u001b[0;36m2\u001b[0m\u001b[0;34m,\u001b[0m \u001b[0;36m7\u001b[0m\u001b[0;34m,\u001b[0m \u001b[0;34m-\u001b[0m\u001b[0;36m4\u001b[0m\u001b[0;34m,\u001b[0m \u001b[0;34m-\u001b[0m\u001b[0;36m9\u001b[0m\u001b[0;34m,\u001b[0m \u001b[0;36m0\u001b[0m\u001b[0;34m,\u001b[0m \u001b[0;36m4\u001b[0m\u001b[0;34m]\u001b[0m\u001b[0;34m)\u001b[0m\u001b[0;34m)\u001b[0m\u001b[0;34m\u001b[0m\u001b[0;34m\u001b[0m\u001b[0m\n\u001b[0m",
            "\u001b[0;32m<ipython-input-108-b94842407185>\u001b[0m in \u001b[0;36mstep_func\u001b[0;34m(x)\u001b[0m\n\u001b[1;32m      4\u001b[0m     \"\"\"\n\u001b[1;32m      5\u001b[0m \u001b[0;34m\u001b[0m\u001b[0m\n\u001b[0;32m----> 6\u001b[0;31m     \u001b[0;32mif\u001b[0m \u001b[0mx\u001b[0m\u001b[0;34m>=\u001b[0m\u001b[0;36m0\u001b[0m\u001b[0;34m:\u001b[0m\u001b[0;34m\u001b[0m\u001b[0;34m\u001b[0m\u001b[0m\n\u001b[0m\u001b[1;32m      7\u001b[0m         \u001b[0;32mreturn\u001b[0m \u001b[0;36m1\u001b[0m\u001b[0;34m\u001b[0m\u001b[0;34m\u001b[0m\u001b[0m\n\u001b[1;32m      8\u001b[0m     \u001b[0;32melse\u001b[0m\u001b[0;34m:\u001b[0m\u001b[0;34m\u001b[0m\u001b[0;34m\u001b[0m\u001b[0m\n",
            "\u001b[0;31mValueError\u001b[0m: The truth value of an array with more than one element is ambiguous. Use a.any() or a.all()"
          ]
        }
      ],
      "source": [
        "# since step_func expects a scalar and recieves an array instead, \n",
        "# it raises an error\n",
        "\n",
        "step_func(np.array([2, 7, -4, -9, 0, 4]))"
      ]
    },
    {
      "cell_type": "markdown",
      "metadata": {
        "id": "iSkI0M-G-FQr"
      },
      "source": [
        "You can use the function `'np.vectorize()'` to obtain a vectorized version of `'step_func'` that can handle vector data:"
      ]
    },
    {
      "cell_type": "code",
      "execution_count": 110,
      "metadata": {
        "colab": {
          "base_uri": "https://localhost:8080/"
        },
        "id": "VWZEN82_-FQt",
        "outputId": "ffb4f471-93ba-4894-9e74-db2348e109b2"
      },
      "outputs": [
        {
          "output_type": "execute_result",
          "data": {
            "text/plain": [
              "array([1, 1, 0, 0, 1, 1])"
            ]
          },
          "metadata": {},
          "execution_count": 110
        }
      ],
      "source": [
        "step_func_vectorized = np.vectorize(step_func)\n",
        "step_func_vectorized(np.array([2, 7, -4, -9, 0, 4]))"
      ]
    },
    {
      "cell_type": "markdown",
      "metadata": {
        "id": "bnn0lc9P-FQy"
      },
      "source": [
        "Although `'vectorize()'` can automatically derive a vectorized version of a scalar function, but it is always better to keep this in mind and write functions vector-compatible, from the beginning. For example we could write the step function as it is shown in the cell below, so it can handle scalar and vector data."
      ]
    },
    {
      "cell_type": "code",
      "execution_count": 112,
      "metadata": {
        "id": "7qdNrJ3R-FQ1"
      },
      "outputs": [],
      "source": [
        "def step_func2(x):\n",
        "    \"\"\"\n",
        "    vector and scalar implementation of step function\n",
        "    \"\"\"\n",
        "    \n",
        "    return 1 * (x>=0)"
      ]
    },
    {
      "cell_type": "code",
      "execution_count": 113,
      "metadata": {
        "colab": {
          "base_uri": "https://localhost:8080/"
        },
        "id": "pB2wcxK0-FQ5",
        "outputId": "226340de-0a5e-47e3-a3d6-eef87ddce2b8"
      },
      "outputs": [
        {
          "output_type": "execute_result",
          "data": {
            "text/plain": [
              "array([1, 1, 0, 0, 1, 1])"
            ]
          },
          "metadata": {},
          "execution_count": 113
        }
      ],
      "source": [
        "step_func2(np.array([2, 7, -4, -9, 0, 4]))"
      ]
    },
    {
      "cell_type": "markdown",
      "metadata": {
        "id": "05sezgN2-FQ9"
      },
      "source": [
        "---\n",
        "## <span style=\"color:#0b486b\">2. File I/O</span>"
      ]
    },
    {
      "cell_type": "markdown",
      "metadata": {
        "id": "Z6iEGtaO-FQ-"
      },
      "source": [
        "For Online platforms such as Google Colab, or IBM Cloud, it is important for you to get familiar with the provided data storage or cloud data storage function. Alternatively, you might want to directly access the file, and load into your Notebook."
      ]
    },
    {
      "cell_type": "code",
      "execution_count": 114,
      "metadata": {
        "colab": {
          "base_uri": "https://localhost:8080/"
        },
        "id": "DopvIhrG-FRA",
        "outputId": "e73df7d5-6780-4c63-e15a-a911a13bda26"
      },
      "outputs": [
        {
          "output_type": "stream",
          "name": "stdout",
          "text": [
            "Looking in indexes: https://pypi.org/simple, https://us-python.pkg.dev/colab-wheels/public/simple/\n",
            "Collecting wget\n",
            "  Downloading wget-3.2.zip (10 kB)\n",
            "Building wheels for collected packages: wget\n",
            "  Building wheel for wget (setup.py) ... \u001b[?25l\u001b[?25hdone\n",
            "  Created wheel for wget: filename=wget-3.2-py3-none-any.whl size=9675 sha256=ce864c97394efbfd6c3632c65126b79e3ced819bbe9d4ded49900d8e6a7d7adc\n",
            "  Stored in directory: /root/.cache/pip/wheels/a1/b6/7c/0e63e34eb06634181c63adacca38b79ff8f35c37e3c13e3c02\n",
            "Successfully built wget\n",
            "Installing collected packages: wget\n",
            "Successfully installed wget-3.2\n"
          ]
        }
      ],
      "source": [
        "!pip install wget"
      ]
    },
    {
      "cell_type": "markdown",
      "metadata": {
        "id": "QXFY49LC-FRE"
      },
      "source": [
        "Then you can download the file into GPFS file system."
      ]
    },
    {
      "cell_type": "code",
      "execution_count": 115,
      "metadata": {
        "id": "ab6v2GxS-FRF"
      },
      "outputs": [],
      "source": [
        "import wget\n",
        "\n",
        "link_to_data = 'https://github.com/tulip-lab/sit742/raw/master/Jupyter/data/csv_data1.csv'\n",
        "DataSet = wget.download(link_to_data)"
      ]
    },
    {
      "cell_type": "markdown",
      "metadata": {
        "id": "uluOknMC-FRJ"
      },
      "source": [
        "<a id = \"txt\"></a>\n",
        "\n",
        "### <span style=\"color:#0b486b\">2.1 TXT</span>\n"
      ]
    },
    {
      "cell_type": "markdown",
      "metadata": {
        "id": "o1ZysbwZ-FRK"
      },
      "source": [
        "TXT file format is the most simplistic way to store data. \n",
        "\n",
        "Load a TXT file with `'np.loadtxt()'`:"
      ]
    },
    {
      "cell_type": "code",
      "execution_count": 116,
      "metadata": {
        "colab": {
          "base_uri": "https://localhost:8080/"
        },
        "id": "Q2zCykcT-FRL",
        "outputId": "6fb87f05-0617-478a-ec47-204678a6ffe1"
      },
      "outputs": [
        {
          "output_type": "execute_result",
          "data": {
            "text/plain": [
              "array([ 2. ,  4.5,  2. ,  0. , -2. ])"
            ]
          },
          "metadata": {},
          "execution_count": 116
        }
      ],
      "source": [
        "import numpy as np\n",
        "\n",
        "# This code is for local PC\n",
        "# x = np.loadtxt(\"data/txt_data1.txt\")\n",
        "\n",
        "# The following code for IBM Cloud\n",
        "link_to_data = 'https://github.com/tulip-lab/sit742/raw/master/Jupyter/data/txt_data1.txt'\n",
        "DataSet = wget.download(link_to_data)\n",
        "\n",
        "x = np.loadtxt(\"txt_data1.txt\")\n",
        "x"
      ]
    },
    {
      "cell_type": "markdown",
      "metadata": {
        "id": "iZZfyuL1-FRP"
      },
      "source": [
        "Save a TXT file with `'np.savetxt()'`:"
      ]
    },
    {
      "cell_type": "code",
      "execution_count": 117,
      "metadata": {
        "colab": {
          "base_uri": "https://localhost:8080/"
        },
        "id": "-RkfeDje-FRR",
        "outputId": "b136516e-165a-4753-d1ce-08dfe7d90fc0"
      },
      "outputs": [
        {
          "output_type": "execute_result",
          "data": {
            "text/plain": [
              "array([3, 7, 7, 0, 4])"
            ]
          },
          "metadata": {},
          "execution_count": 117
        }
      ],
      "source": [
        "y = np.random.randint(10, size=5)\n",
        "np.savetxt(\"txt_data2.txt\", y)\n",
        "y"
      ]
    },
    {
      "cell_type": "markdown",
      "metadata": {
        "id": "OT2pfvIA-FRW"
      },
      "source": [
        "<a id = \"csv\"></a>\n",
        "\n",
        "### <span style=\"color:#0b486b\">2.2 CSV</span>\n"
      ]
    },
    {
      "cell_type": "markdown",
      "metadata": {
        "id": "XN8xU7cR-FRX"
      },
      "source": [
        "Comma Separated Values format and its variations, are one the most used file format to store data.\n",
        "\n",
        "You can use `'np.genfromtxt()'` to read a CSV file:\n",
        "\n",
        "**NOTE:** The best way to read CSV and XLS files is using **pandas** package that will be introduced later."
      ]
    },
    {
      "cell_type": "code",
      "execution_count": 118,
      "metadata": {
        "colab": {
          "base_uri": "https://localhost:8080/"
        },
        "id": "gHHWnj8r-FRZ",
        "outputId": "866e60fc-7526-41a1-80b6-429ec12a23f8"
      },
      "outputs": [
        {
          "output_type": "stream",
          "name": "stdout",
          "text": [
            "csv_data1 (1).csv\n"
          ]
        }
      ],
      "source": [
        "import wget\n",
        "\n",
        "link_to_data = 'https://github.com/tulip-lab/sit742/raw/master/Jupyter/data/csv_data1.csv'\n",
        "DataSet = wget.download(link_to_data)\n",
        "\n",
        "print(DataSet)"
      ]
    },
    {
      "cell_type": "code",
      "execution_count": 119,
      "metadata": {
        "colab": {
          "base_uri": "https://localhost:8080/"
        },
        "id": "PlB0GcDT-FRd",
        "outputId": "44e26d33-fc74-49a1-9cb4-84fc4a8e7402"
      },
      "outputs": [
        {
          "output_type": "execute_result",
          "data": {
            "text/plain": [
              "array([[5., 8., 9., 0.],\n",
              "       [0., 4., 6., 5.],\n",
              "       [9., 9., 5., 2.],\n",
              "       [0., 8., 3., 6.],\n",
              "       [7., 9., 8., 6.],\n",
              "       [1., 1., 5., 3.]])"
            ]
          },
          "metadata": {},
          "execution_count": 119
        }
      ],
      "source": [
        "import numpy as np\n",
        "\n",
        "\n",
        "x = np.genfromtxt(\"csv_data1.csv\", delimiter=\",\")\n",
        "x"
      ]
    },
    {
      "cell_type": "markdown",
      "metadata": {
        "id": "eMR_478x-FRk"
      },
      "source": [
        "Use `'np.savetxt()'` to save a 2d-array in a CSV file."
      ]
    },
    {
      "cell_type": "code",
      "execution_count": 120,
      "metadata": {
        "colab": {
          "base_uri": "https://localhost:8080/"
        },
        "id": "BvkGTJF_-FRl",
        "outputId": "ac1a69b0-d1fb-4956-d641-0399113e49a6"
      },
      "outputs": [
        {
          "output_type": "execute_result",
          "data": {
            "text/plain": [
              "array([[2, 5, 2, 2],\n",
              "       [2, 1, 0, 8],\n",
              "       [4, 0, 9, 6],\n",
              "       [2, 4, 1, 5],\n",
              "       [3, 4, 4, 3],\n",
              "       [7, 1, 1, 7]])"
            ]
          },
          "metadata": {},
          "execution_count": 120
        }
      ],
      "source": [
        "x = np.random.randint(10, size=(6,4))\n",
        "np.savetxt(\"csv_data2.csv\", x, delimiter=',')\n",
        "x"
      ]
    },
    {
      "cell_type": "markdown",
      "metadata": {
        "id": "jWORjUcv-FRp"
      },
      "source": [
        "<a id = \"json\"></a>\n",
        "\n",
        "### <span style=\"color:#0b486b\">2.3 JSON</span>\n",
        "\n",
        "\n",
        "JSON is the most used file format when dealing with web services. \n",
        "\n",
        "To read a JSON file, use `'json'` package and `'load()'` function, or `'loads()'` if the data is serialized. It reads the data and parses it into a dictionary."
      ]
    },
    {
      "cell_type": "code",
      "execution_count": 121,
      "metadata": {
        "colab": {
          "base_uri": "https://localhost:8080/"
        },
        "id": "yABGeta3-FRq",
        "outputId": "5a5a448f-edb3-4046-a750-a559e7f9331b"
      },
      "outputs": [
        {
          "output_type": "stream",
          "name": "stdout",
          "text": [
            "json_data1.json\n"
          ]
        }
      ],
      "source": [
        "link_to_data = 'https://github.com/tulip-lab/sit742/raw/master/Jupyter/data/json_data1.json'\n",
        "DataSet = wget.download(link_to_data)\n",
        "\n",
        "print(DataSet)"
      ]
    },
    {
      "cell_type": "code",
      "execution_count": 122,
      "metadata": {
        "colab": {
          "base_uri": "https://localhost:8080/"
        },
        "id": "7FAA_6uT-FRu",
        "outputId": "a0dd5a89-4e8f-4732-802f-678b91dfaa8d"
      },
      "outputs": [
        {
          "output_type": "execute_result",
          "data": {
            "text/plain": [
              "dict_keys(['firstName', 'lastName', 'isAlive', 'age', 'address', 'phoneNumbers', 'children', 'spouse'])"
            ]
          },
          "metadata": {},
          "execution_count": 122
        }
      ],
      "source": [
        "import json\n",
        "with open(\"json_data1.json\", 'rb') as fp:\n",
        "    fcontent = fp.read()\n",
        "# data = json.loads(fcontent)\n",
        "data = json.loads(fcontent.decode('utf-8'))\n",
        "data.keys()"
      ]
    },
    {
      "cell_type": "code",
      "execution_count": 123,
      "metadata": {
        "colab": {
          "base_uri": "https://localhost:8080/"
        },
        "id": "DWTeTfFq-FRz",
        "outputId": "d326a181-e855-4afd-fd8f-8bb02b32dd2d"
      },
      "outputs": [
        {
          "output_type": "execute_result",
          "data": {
            "text/plain": [
              "{'firstName': 'John',\n",
              " 'lastName': 'Smith',\n",
              " 'isAlive': True,\n",
              " 'age': 25,\n",
              " 'address': {'streetAddress': '21 2nd Street',\n",
              "  'city': 'New York',\n",
              "  'state': 'NY',\n",
              "  'postalCode': '10021-3100'},\n",
              " 'phoneNumbers': [{'type': 'home', 'number': '212 555-1234'},\n",
              "  {'type': 'office', 'number': '646 555-4567'}],\n",
              " 'children': [],\n",
              " 'spouse': None}"
            ]
          },
          "metadata": {},
          "execution_count": 123
        }
      ],
      "source": [
        "data"
      ]
    },
    {
      "cell_type": "code",
      "execution_count": 124,
      "metadata": {
        "colab": {
          "base_uri": "https://localhost:8080/"
        },
        "id": "hc-aODdh-FR2",
        "outputId": "e8144eda-4d95-4476-e1e3-f2bf2c61e883"
      },
      "outputs": [
        {
          "output_type": "execute_result",
          "data": {
            "text/plain": [
              "[{'type': 'home', 'number': '212 555-1234'},\n",
              " {'type': 'office', 'number': '646 555-4567'}]"
            ]
          },
          "metadata": {},
          "execution_count": 124
        }
      ],
      "source": [
        "data['phoneNumbers']"
      ]
    },
    {
      "cell_type": "markdown",
      "metadata": {
        "id": "dOuOtK50-FR5"
      },
      "source": [
        "You can also write a python dictionary into a JSON file. To do this use `'dump()'` or `'dumps()'` functions."
      ]
    },
    {
      "cell_type": "code",
      "execution_count": 125,
      "metadata": {
        "colab": {
          "base_uri": "https://localhost:8080/"
        },
        "id": "GuglShkt-FR6",
        "outputId": "e47c62a6-4daa-4b72-d9b1-91b71e2657ce"
      },
      "outputs": [
        {
          "output_type": "execute_result",
          "data": {
            "text/plain": [
              "[{'Name': 'Zara', 'Age': 7, 'Class': 'First'},\n",
              " {'Name': 'Lily', 'Age': 9, 'Class': 'Third'}]"
            ]
          },
          "metadata": {},
          "execution_count": 125
        }
      ],
      "source": [
        "data = [{'Name': 'Zara', 'Age': 7, 'Class': 'First'}, \n",
        "        {'Name': 'Lily', 'Age': 9, 'Class': 'Third'}];\n",
        "data"
      ]
    },
    {
      "cell_type": "code",
      "execution_count": 127,
      "metadata": {
        "colab": {
          "base_uri": "https://localhost:8080/"
        },
        "id": "Ql8yHsKw-FR9",
        "outputId": "9030fc1c-0f39-457a-c33e-2c962129fa93"
      },
      "outputs": [
        {
          "output_type": "execute_result",
          "data": {
            "text/plain": [
              "[{'Name': 'Zara', 'Age': 7, 'Class': 'First'},\n",
              " {'Name': 'Lily', 'Age': 9, 'Class': 'Third'}]"
            ]
          },
          "metadata": {},
          "execution_count": 127
        }
      ],
      "source": [
        "with open(\"json_data_now.json\", 'w') as fp:\n",
        "    json.dump(data, fp)\n",
        "data"
      ]
    }
  ],
  "metadata": {
    "colab": {
      "collapsed_sections": [],
      "name": "M03D-DataAcquisition-I.ipynb",
      "provenance": []
    },
    "kernelspec": {
      "display_name": "Python 3",
      "language": "python",
      "name": "python3"
    },
    "language_info": {
      "codemirror_mode": {
        "name": "ipython",
        "version": 3
      },
      "file_extension": ".py",
      "mimetype": "text/x-python",
      "name": "python",
      "nbconvert_exporter": "python",
      "pygments_lexer": "ipython3",
      "version": "3.6.4"
    }
  },
  "nbformat": 4,
  "nbformat_minor": 0
}