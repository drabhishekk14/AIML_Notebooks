{
  "nbformat": 4,
  "nbformat_minor": 0,
  "metadata": {
    "colab": {
      "name": "Further Learning 1.11.ipynb",
      "provenance": [],
      "authorship_tag": "ABX9TyPwskjQbssAfZmGwC7csumB",
      "include_colab_link": true
    },
    "kernelspec": {
      "name": "python3",
      "display_name": "Python 3"
    },
    "language_info": {
      "name": "python"
    }
  },
  "cells": [
    {
      "cell_type": "markdown",
      "metadata": {
        "id": "view-in-github",
        "colab_type": "text"
      },
      "source": [
        "<a href=\"https://colab.research.google.com/github/drabhishekk14/AIML_Notebooks/blob/main/Further_Learning_1_11.ipynb\" target=\"_parent\"><img src=\"https://colab.research.google.com/assets/colab-badge.svg\" alt=\"Open In Colab\"/></a>"
      ]
    },
    {
      "cell_type": "markdown",
      "source": [
        "Write code to implement the following tasks: a) Import the library math from standard Python libraries; b) Define a variable and assign an integer value to it (smaller than 20); c) Use factorial() function (an object in math library) to calculate the factorial of the variable; d) and print its value\n",
        "\n",
        "Write code to implement the following tasks: a) Write a function that takes an integer variable and returns its factorial; b) Use this function to find the factorial of the variable defined in above; c) Check whether your answers match."
      ],
      "metadata": {
        "id": "rVgX0V29YXpw"
      }
    },
    {
      "cell_type": "code",
      "execution_count": 1,
      "metadata": {
        "id": "y5yG-SNQXxEp"
      },
      "outputs": [],
      "source": [
        "#a) Import the library math from standard Python libraries\n",
        "import math"
      ]
    },
    {
      "cell_type": "code",
      "source": [
        "# b) Define a variable and assign an integer value to it (smaller than 20); \n",
        "variable = 9\n",
        "variable"
      ],
      "metadata": {
        "colab": {
          "base_uri": "https://localhost:8080/"
        },
        "id": "8LfrJkefYu8a",
        "outputId": "a0e9e84a-65a3-49de-ee3a-1127ae8e6826"
      },
      "execution_count": 4,
      "outputs": [
        {
          "output_type": "execute_result",
          "data": {
            "text/plain": [
              "9"
            ]
          },
          "metadata": {},
          "execution_count": 4
        }
      ]
    },
    {
      "cell_type": "code",
      "source": [
        "#c) Use factorial() function (an object in math library) to calculate the factorial of the variable;\n",
        "factorial = math.factorial(variable)"
      ],
      "metadata": {
        "id": "wFw2smuuY-bL"
      },
      "execution_count": 14,
      "outputs": []
    },
    {
      "cell_type": "code",
      "source": [
        "#d) and print its value\n",
        "print(factorial)"
      ],
      "metadata": {
        "colab": {
          "base_uri": "https://localhost:8080/"
        },
        "id": "F5bZylHHcGIe",
        "outputId": "b51a1bda-ed79-412c-c31b-544a5e464d51"
      },
      "execution_count": 15,
      "outputs": [
        {
          "output_type": "stream",
          "name": "stdout",
          "text": [
            "362880\n"
          ]
        }
      ]
    },
    {
      "cell_type": "code",
      "source": [
        "#a) Write a function that takes an integer variable and returns its factorial;\n",
        "def function1(value):\n",
        "  input = abs(value)\n",
        "  temp = math.factorial(input)\n",
        "  return temp\n",
        "#b) Use this function to find the factorial of the variable defined in above; \n",
        "factorial1 = function1(variable)"
      ],
      "metadata": {
        "id": "KB6-mU0wZIGp"
      },
      "execution_count": 19,
      "outputs": []
    },
    {
      "cell_type": "code",
      "source": [
        "#c) Check whether your answers match.\n",
        "print(factorial1)"
      ],
      "metadata": {
        "colab": {
          "base_uri": "https://localhost:8080/"
        },
        "id": "56PVhJLxdBel",
        "outputId": "d97a9194-5559-4409-e918-33033dab8e31"
      },
      "execution_count": 23,
      "outputs": [
        {
          "output_type": "stream",
          "name": "stdout",
          "text": [
            "362880\n"
          ]
        }
      ]
    },
    {
      "cell_type": "code",
      "source": [],
      "metadata": {
        "id": "bAmp0kHTdYIm"
      },
      "execution_count": 22,
      "outputs": []
    }
  ]
}