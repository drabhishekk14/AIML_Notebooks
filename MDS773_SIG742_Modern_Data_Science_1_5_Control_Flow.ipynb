{
  "nbformat": 4,
  "nbformat_minor": 0,
  "metadata": {
    "colab": {
      "name": "MDS773_SIG742 - Modern Data Science_1.5_Control Flow.ipynb",
      "provenance": [],
      "authorship_tag": "ABX9TyO//h/7jIPLc03pFvljjhkM",
      "include_colab_link": true
    },
    "kernelspec": {
      "name": "python3",
      "display_name": "Python 3"
    },
    "language_info": {
      "name": "python"
    }
  },
  "cells": [
    {
      "cell_type": "markdown",
      "metadata": {
        "id": "view-in-github",
        "colab_type": "text"
      },
      "source": [
        "<a href=\"https://colab.research.google.com/github/drabhishekk14/AIML_Notebooks/blob/main/MDS773_SIG742_Modern_Data_Science_1_5_Control_Flow.ipynb\" target=\"_parent\"><img src=\"https://colab.research.google.com/assets/colab-badge.svg\" alt=\"Open In Colab\"/></a>"
      ]
    },
    {
      "cell_type": "code",
      "execution_count": 2,
      "metadata": {
        "colab": {
          "base_uri": "https://localhost:8080/"
        },
        "id": "fYLd3-98eRUb",
        "outputId": "48380f0e-1724-4003-b15f-0d12dc7b14ce"
      },
      "outputs": [
        {
          "output_type": "stream",
          "name": "stdout",
          "text": [
            "15 is odd\n",
            "This is always printed\n"
          ]
        }
      ],
      "source": [
        "x = 15 \n",
        "if x % 2 == 0: \n",
        "  print('%d is even' % x) \n",
        "else: \n",
        "  print('%d is odd' % x) \n",
        "print('This is always printed')"
      ]
    },
    {
      "cell_type": "code",
      "source": [
        "x = 14 \n",
        "if x % 2 == 0: \n",
        "  print('%d is even' % x) \n",
        "else: \n",
        "  print('%d is odd' % x) \n",
        "print('This is always printed')"
      ],
      "metadata": {
        "colab": {
          "base_uri": "https://localhost:8080/"
        },
        "id": "xyOJFVAof94F",
        "outputId": "43eecd4f-497b-4aea-b98d-5917a26d0431"
      },
      "execution_count": 3,
      "outputs": [
        {
          "output_type": "stream",
          "name": "stdout",
          "text": [
            "14 is even\n",
            "This is always printed\n"
          ]
        }
      ]
    },
    {
      "cell_type": "code",
      "source": [
        "x = -2 \n",
        "if x < 0: \n",
        "  print(\"The negative number %d is not valid here.\" % x) \n",
        "print(\"This is always printed\")"
      ],
      "metadata": {
        "colab": {
          "base_uri": "https://localhost:8080/"
        },
        "id": "6UgqGWLQgJRa",
        "outputId": "88948b14-47f8-467b-d57c-dc8132fce1e4"
      },
      "execution_count": 4,
      "outputs": [
        {
          "output_type": "stream",
          "name": "stdout",
          "text": [
            "The negative number -2 is not valid here.\n",
            "This is always printed\n"
          ]
        }
      ]
    },
    {
      "cell_type": "code",
      "source": [
        "x = 10 \n",
        "y = 10 \n",
        "if (x < y): \n",
        "  print(\"x is less than y\") \n",
        "elif (x > y): \n",
        "  print(\"x is greater than y\") \n",
        "else: \n",
        "  print(\"x and y must be equal\")"
      ],
      "metadata": {
        "colab": {
          "base_uri": "https://localhost:8080/"
        },
        "id": "K7zJr-f6gUpy",
        "outputId": "74c7dbc6-7e34-437e-9ec3-094449f2938f"
      },
      "execution_count": 5,
      "outputs": [
        {
          "output_type": "stream",
          "name": "stdout",
          "text": [
            "x and y must be equal\n"
          ]
        }
      ]
    },
    {
      "cell_type": "code",
      "source": [
        "x= 10\n",
        "y= 11\n",
        "if (x < y):\n",
        "  print(\"x is less than y\")\n",
        "elif(x > y):\n",
        "  print (\"x is greater than y\")\n",
        "else:\n",
        "  print (\"x and y must be equal\")"
      ],
      "metadata": {
        "colab": {
          "base_uri": "https://localhost:8080/"
        },
        "id": "e8-qh3jagsy0",
        "outputId": "cf7389c0-0096-4d8e-9442-b7a673247768"
      },
      "execution_count": 6,
      "outputs": [
        {
          "output_type": "stream",
          "name": "stdout",
          "text": [
            "x is less than y\n"
          ]
        }
      ]
    },
    {
      "cell_type": "code",
      "source": [
        "x=10\n",
        "y=9\n",
        "if( x < y):\n",
        "  print (\"x is less than y\")\n",
        "elif(x > y):\n",
        "  print (\"x is greater than y\")\n",
        "else:\n",
        "  print(\" x and y must be equal\")"
      ],
      "metadata": {
        "colab": {
          "base_uri": "https://localhost:8080/"
        },
        "id": "85RCWsJzhPXh",
        "outputId": "c517e309-4546-42e1-d4be-0bbbc3f1a267"
      },
      "execution_count": 7,
      "outputs": [
        {
          "output_type": "stream",
          "name": "stdout",
          "text": [
            "x is greater than y\n"
          ]
        }
      ]
    },
    {
      "cell_type": "code",
      "source": [
        "for name in [\"Joe\", \"Amy\", \"Brad\", \"Angelina\", \"Zuki\"]: \n",
        "  print(\"Hi %s Please come to my party on Saturday!\" % name)"
      ],
      "metadata": {
        "colab": {
          "base_uri": "https://localhost:8080/"
        },
        "id": "eDegkM0RhqOl",
        "outputId": "b3389de7-a4dd-4f04-e8dd-07db31687983"
      },
      "execution_count": 8,
      "outputs": [
        {
          "output_type": "stream",
          "name": "stdout",
          "text": [
            "Hi Joe Please come to my party on Saturday!\n",
            "Hi Amy Please come to my party on Saturday!\n",
            "Hi Brad Please come to my party on Saturday!\n",
            "Hi Angelina Please come to my party on Saturday!\n",
            "Hi Zuki Please come to my party on Saturday!\n"
          ]
        }
      ]
    },
    {
      "cell_type": "code",
      "source": [
        "for name in [\"Shruti\", \"Chinmayee\",\"Manu\"]:\n",
        "  print (\"Hi %s Please come for dinner by 7pm\" % name)"
      ],
      "metadata": {
        "colab": {
          "base_uri": "https://localhost:8080/"
        },
        "id": "o7fxb_CbhxPp",
        "outputId": "2192eb80-13b3-42e4-c8d1-b2316cc0cbec"
      },
      "execution_count": 9,
      "outputs": [
        {
          "output_type": "stream",
          "name": "stdout",
          "text": [
            "Hi Shruti Please come for dinner by 7pm\n",
            "Hi Chinmayee Please come for dinner by 7pm\n",
            "Hi Manu Please come for dinner by 7pm\n"
          ]
        }
      ]
    },
    {
      "cell_type": "code",
      "source": [
        "for name in [\"Shruti\", \"Chinmayee\",\"Manu\",\"Joe\", \"Amy\", \"Brad\", \"Angelina\", \"Zuki\"]:\n",
        "  print (\"Hi %s your admission to MDS is confirmed\" % name)\n"
      ],
      "metadata": {
        "colab": {
          "base_uri": "https://localhost:8080/"
        },
        "id": "nUpBtAKfiK7p",
        "outputId": "6cafce04-e666-4aba-fd40-87d870a6231f"
      },
      "execution_count": 19,
      "outputs": [
        {
          "output_type": "stream",
          "name": "stdout",
          "text": [
            "Hi Shruti your admission to MDS is confirmed\n",
            "Hi Chinmayee your admission to MDS is confirmed\n",
            "Hi Manu your admission to MDS is confirmed\n",
            "Hi Joe your admission to MDS is confirmed\n",
            "Hi Amy your admission to MDS is confirmed\n",
            "Hi Brad your admission to MDS is confirmed\n",
            "Hi Angelina your admission to MDS is confirmed\n",
            "Hi Zuki your admission to MDS is confirmed\n"
          ]
        }
      ]
    },
    {
      "cell_type": "code",
      "source": [
        "for i in [0, 1, 2, 3, 4 ]: \n",
        "  print( 'The count is %d' % i)"
      ],
      "metadata": {
        "colab": {
          "base_uri": "https://localhost:8080/"
        },
        "id": "HIFLV4VOjtgl",
        "outputId": "9776cafb-88f1-47bf-dbe3-90661339ae1f"
      },
      "execution_count": 20,
      "outputs": [
        {
          "output_type": "stream",
          "name": "stdout",
          "text": [
            "The count is 0\n",
            "The count is 1\n",
            "The count is 2\n",
            "The count is 3\n",
            "The count is 4\n"
          ]
        }
      ]
    },
    {
      "cell_type": "code",
      "source": [
        "i = 0\n",
        "while (i < 7): \n",
        "  print('The count is %d' % i) \n",
        "  i = i + 1\n",
        "  print('Good bye!')"
      ],
      "metadata": {
        "colab": {
          "base_uri": "https://localhost:8080/"
        },
        "id": "nlXvcrbkk5qa",
        "outputId": "567ba6ce-bc4e-492f-e1d1-5acf3839f185"
      },
      "execution_count": 34,
      "outputs": [
        {
          "output_type": "stream",
          "name": "stdout",
          "text": [
            "The count is 0\n",
            "Good bye!\n",
            "The count is 1\n",
            "Good bye!\n",
            "The count is 2\n",
            "Good bye!\n",
            "The count is 3\n",
            "Good bye!\n",
            "The count is 4\n",
            "Good bye!\n",
            "The count is 5\n",
            "Good bye!\n",
            "The count is 6\n",
            "Good bye!\n"
          ]
        }
      ]
    },
    {
      "cell_type": "code",
      "source": [
        "i = 6 \n",
        "while i > 5 : \n",
        "  print('The count is %d' % i) \n",
        "  i = i + 1 \n",
        "  print('Good bye!')"
      ],
      "metadata": {
        "id": "MWBcAsujlB_A"
      },
      "execution_count": null,
      "outputs": []
    },
    {
      "cell_type": "code",
      "source": [
        "i = 4 \n",
        "while i > 5 : \n",
        "  print('The count is %d' % i) \n",
        "  i = i + 1 \n",
        "  print('Good bye!')"
      ],
      "metadata": {
        "id": "yxQqKE_NlRwf"
      },
      "execution_count": 36,
      "outputs": []
    },
    {
      "cell_type": "code",
      "source": [
        "i = 0 \n",
        "while True : \n",
        "  print( 'The count is %d' % i) \n",
        "  i = i + 1 \n",
        "  if i > 6: \n",
        "    break \n",
        "  print('Good bye!')"
      ],
      "metadata": {
        "colab": {
          "base_uri": "https://localhost:8080/"
        },
        "id": "0hzNjKz6lXvr",
        "outputId": "dc637c5a-a678-48f6-80a1-40ba0d8028a6"
      },
      "execution_count": 39,
      "outputs": [
        {
          "output_type": "stream",
          "name": "stdout",
          "text": [
            "The count is 0\n",
            "Good bye!\n",
            "The count is 1\n",
            "Good bye!\n",
            "The count is 2\n",
            "Good bye!\n",
            "The count is 3\n",
            "Good bye!\n",
            "The count is 4\n",
            "Good bye!\n",
            "The count is 5\n",
            "Good bye!\n",
            "The count is 6\n"
          ]
        }
      ]
    },
    {
      "cell_type": "code",
      "source": [
        ""
      ],
      "metadata": {
        "id": "jTQDnDZol3pi"
      },
      "execution_count": null,
      "outputs": []
    }
  ]
}