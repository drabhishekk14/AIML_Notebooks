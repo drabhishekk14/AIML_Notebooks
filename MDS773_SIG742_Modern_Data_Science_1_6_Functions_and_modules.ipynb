{
  "nbformat": 4,
  "nbformat_minor": 0,
  "metadata": {
    "colab": {
      "name": "MDS773_SIG742_Modern_Data_Science_1_6_Functions and modules.ipynb",
      "provenance": [],
      "authorship_tag": "ABX9TyPwTxGs3CDLSOR68UlEc5Wx",
      "include_colab_link": true
    },
    "kernelspec": {
      "name": "python3",
      "display_name": "Python 3"
    },
    "language_info": {
      "name": "python"
    }
  },
  "cells": [
    {
      "cell_type": "markdown",
      "metadata": {
        "id": "view-in-github",
        "colab_type": "text"
      },
      "source": [
        "<a href=\"https://colab.research.google.com/github/drabhishekk14/AIML_Notebooks/blob/main/MDS773_SIG742_Modern_Data_Science_1_6_Functions_and_modules.ipynb\" target=\"_parent\"><img src=\"https://colab.research.google.com/assets/colab-badge.svg\" alt=\"Open In Colab\"/></a>"
      ]
    },
    {
      "cell_type": "code",
      "execution_count": 2,
      "metadata": {
        "colab": {
          "base_uri": "https://localhost:8080/"
        },
        "id": "aNR4Q3WOR880",
        "outputId": "51976c5f-acf1-411d-821d-96db757b6e4b"
      },
      "outputs": [
        {
          "output_type": "stream",
          "name": "stdout",
          "text": [
            "Hello world!\n"
          ]
        }
      ],
      "source": [
        "def say_hello():\n",
        "  print('Hello world!')\n",
        "say_hello()"
      ]
    },
    {
      "cell_type": "code",
      "source": [
        "abs(5) \n",
        "abs(-5)"
      ],
      "metadata": {
        "colab": {
          "base_uri": "https://localhost:8080/"
        },
        "id": "klOSup32TygX",
        "outputId": "1974d0f3-fd69-4adb-d986-70028dd81fb0"
      },
      "execution_count": 3,
      "outputs": [
        {
          "output_type": "execute_result",
          "data": {
            "text/plain": [
              "5"
            ]
          },
          "metadata": {},
          "execution_count": 3
        }
      ]
    },
    {
      "cell_type": "code",
      "source": [
        "def print_twice(param): \n",
        "  print(param + ' ' + param)"
      ],
      "metadata": {
        "id": "ZCXONqNSUCMO"
      },
      "execution_count": 5,
      "outputs": []
    },
    {
      "cell_type": "code",
      "source": [
        "print_twice('SIT472')"
      ],
      "metadata": {
        "colab": {
          "base_uri": "https://localhost:8080/"
        },
        "id": "9ey1TAaOY81A",
        "outputId": "ec3ba2f4-0e14-44cf-bf77-35b5fbb5d34f"
      },
      "execution_count": 8,
      "outputs": [
        {
          "output_type": "stream",
          "name": "stdout",
          "text": [
            "SIT472 SIT472\n"
          ]
        }
      ]
    },
    {
      "cell_type": "code",
      "source": [
        "def cat_twice(part1, part2): \n",
        "  cat = part1 + part2 \n",
        "  print(cat) \n",
        "  print(cat) \n",
        "str1 = 'Good' \n",
        "str2 = 'Morning' \n",
        "cat_twice(str1, str2) \n",
        "print(cat)\n",
        "\n"
      ],
      "metadata": {
        "colab": {
          "base_uri": "https://localhost:8080/",
          "height": 261
        },
        "id": "WaEsZt3wbHBP",
        "outputId": "47a7d491-00d6-49c1-9907-4e3ab2a8d968"
      },
      "execution_count": 13,
      "outputs": [
        {
          "output_type": "stream",
          "name": "stdout",
          "text": [
            "GoodMorning\n",
            "GoodMorning\n"
          ]
        },
        {
          "output_type": "error",
          "ename": "NameError",
          "evalue": "ignored",
          "traceback": [
            "\u001b[0;31m---------------------------------------------------------------------------\u001b[0m",
            "\u001b[0;31mNameError\u001b[0m                                 Traceback (most recent call last)",
            "\u001b[0;32m<ipython-input-13-f8d40c190356>\u001b[0m in \u001b[0;36m<module>\u001b[0;34m\u001b[0m\n\u001b[1;32m      6\u001b[0m \u001b[0mstr2\u001b[0m \u001b[0;34m=\u001b[0m \u001b[0;34m'Morning'\u001b[0m\u001b[0;34m\u001b[0m\u001b[0;34m\u001b[0m\u001b[0m\n\u001b[1;32m      7\u001b[0m \u001b[0mcat_twice\u001b[0m\u001b[0;34m(\u001b[0m\u001b[0mstr1\u001b[0m\u001b[0;34m,\u001b[0m \u001b[0mstr2\u001b[0m\u001b[0;34m)\u001b[0m\u001b[0;34m\u001b[0m\u001b[0;34m\u001b[0m\u001b[0m\n\u001b[0;32m----> 8\u001b[0;31m \u001b[0mprint\u001b[0m\u001b[0;34m(\u001b[0m\u001b[0mcat\u001b[0m\u001b[0;34m)\u001b[0m\u001b[0;34m\u001b[0m\u001b[0;34m\u001b[0m\u001b[0m\n\u001b[0m\u001b[1;32m      9\u001b[0m \u001b[0;34m\u001b[0m\u001b[0m\n",
            "\u001b[0;31mNameError\u001b[0m: name 'cat' is not defined"
          ]
        }
      ]
    },
    {
      "cell_type": "code",
      "source": [
        "bigger = max(3,5) \n",
        "bigger"
      ],
      "metadata": {
        "colab": {
          "base_uri": "https://localhost:8080/"
        },
        "id": "E0HwnWi4b7Uw",
        "outputId": "4952bb6d-3d75-49b8-f447-46425ed6b1f6"
      },
      "execution_count": 14,
      "outputs": [
        {
          "output_type": "execute_result",
          "data": {
            "text/plain": [
              "5"
            ]
          },
          "metadata": {},
          "execution_count": 14
        }
      ]
    },
    {
      "cell_type": "code",
      "source": [
        "def area (RADIUS):\n",
        "  temp = 3.14 * RADIUS ** 2\n",
        "  return temp"
      ],
      "metadata": {
        "id": "saqRCyHOcEIG"
      },
      "execution_count": 19,
      "outputs": []
    },
    {
      "cell_type": "code",
      "source": [
        "print (area(5))"
      ],
      "metadata": {
        "colab": {
          "base_uri": "https://localhost:8080/"
        },
        "id": "eFwinjsBeNdf",
        "outputId": "dac2f137-8a66-4ba5-cc8c-77116ab44132"
      },
      "execution_count": 20,
      "outputs": [
        {
          "output_type": "stream",
          "name": "stdout",
          "text": [
            "78.5\n"
          ]
        }
      ]
    },
    {
      "cell_type": "code",
      "source": [
        "def absolute_value(x): \n",
        "  if x < 0: \n",
        "    return -x \n",
        "  elif x > 0: \n",
        "    return x \n",
        " "
      ],
      "metadata": {
        "id": "VAvTkkKaea2u"
      },
      "execution_count": 22,
      "outputs": []
    },
    {
      "cell_type": "code",
      "source": [
        " print(absolute_value(-6))"
      ],
      "metadata": {
        "colab": {
          "base_uri": "https://localhost:8080/"
        },
        "id": "ympL2XgLeqgg",
        "outputId": "5393401a-33ab-48ff-b564-4ef3ebe7b86c"
      },
      "execution_count": 23,
      "outputs": [
        {
          "output_type": "stream",
          "name": "stdout",
          "text": [
            "6\n"
          ]
        }
      ]
    },
    {
      "cell_type": "code",
      "source": [
        "def cat_twice(part1, part2): \n",
        "  \"\"\" Concatenates part1 and part 2, and prints the result twice. \"\"\" \n",
        "  cat = part1 + part2\n",
        "  print(cat) \n",
        "\n"
      ],
      "metadata": {
        "id": "VqjT02R3ekCR"
      },
      "execution_count": 29,
      "outputs": []
    },
    {
      "cell_type": "code",
      "source": [
        "print (cat_twice('MEOW ','MEOW' ))"
      ],
      "metadata": {
        "colab": {
          "base_uri": "https://localhost:8080/"
        },
        "id": "p5OtaiSVe72h",
        "outputId": "3276c167-0d3f-4e57-abfe-b02d438aafae"
      },
      "execution_count": 32,
      "outputs": [
        {
          "output_type": "stream",
          "name": "stdout",
          "text": [
            "MEOW MEOW\n",
            "None\n"
          ]
        }
      ]
    },
    {
      "cell_type": "code",
      "source": [
        "help(cat_twice)"
      ],
      "metadata": {
        "colab": {
          "base_uri": "https://localhost:8080/"
        },
        "id": "1X0ayHlQfxIy",
        "outputId": "39e85a61-5d55-412f-e341-b184a6bb439c"
      },
      "execution_count": 33,
      "outputs": [
        {
          "output_type": "stream",
          "name": "stdout",
          "text": [
            "Help on function cat_twice in module __main__:\n",
            "\n",
            "cat_twice(part1, part2)\n",
            "    Concatenates part1 and part 2, and prints the result twice.\n",
            "\n"
          ]
        }
      ]
    },
    {
      "cell_type": "code",
      "source": [
        "import math \n",
        "math.pi # Variable pi from the module"
      ],
      "metadata": {
        "colab": {
          "base_uri": "https://localhost:8080/"
        },
        "id": "7MVJdZWahRi6",
        "outputId": "08bdd330-d888-4a20-abed-200b1d452ca5"
      },
      "execution_count": 35,
      "outputs": [
        {
          "output_type": "execute_result",
          "data": {
            "text/plain": [
              "3.141592653589793"
            ]
          },
          "metadata": {},
          "execution_count": 35
        }
      ]
    },
    {
      "cell_type": "code",
      "source": [
        "from IPython.core.display import Math\n",
        "from math import pi\n",
        "pi"
      ],
      "metadata": {
        "colab": {
          "base_uri": "https://localhost:8080/"
        },
        "id": "xaEU4QY6iWoy",
        "outputId": "89d43ad6-e71c-436d-9a5c-4b3cb81c6db2"
      },
      "execution_count": 40,
      "outputs": [
        {
          "output_type": "execute_result",
          "data": {
            "text/plain": [
              "3.141592653589793"
            ]
          },
          "metadata": {},
          "execution_count": 40
        }
      ]
    }
  ]
}