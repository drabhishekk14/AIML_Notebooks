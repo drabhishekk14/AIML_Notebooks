{
  "cells": [
    {
      "cell_type": "markdown",
      "metadata": {
        "id": "view-in-github",
        "colab_type": "text"
      },
      "source": [
        "<a href=\"https://colab.research.google.com/github/drabhishekk14/AIML_Notebooks/blob/main/223014373_Abhishek_KadamSIT742Task1_Copy1.ipynb\" target=\"_parent\"><img src=\"https://colab.research.google.com/assets/colab-badge.svg\" alt=\"Open In Colab\"/></a>"
      ]
    },
    {
      "cell_type": "markdown",
      "metadata": {
        "id": "h7IlK05eB5T9"
      },
      "source": [
        "**Student id: -** **2230114373**\n",
        "\n",
        "**Sudent Name: -** **Abhishek Kadam**\n",
        "\n",
        "**Attempting High Distinction Questions: - Yes**"
      ]
    },
    {
      "cell_type": "markdown",
      "metadata": {
        "id": "MScLG_0gvn1y"
      },
      "source": [
        "# **Part1**"
      ]
    },
    {
      "cell_type": "markdown",
      "metadata": {
        "id": "oQ6eB066vx-R"
      },
      "source": [
        "Answer1.1"
      ]
    },
    {
      "cell_type": "code",
      "execution_count": 1,
      "metadata": {
        "colab": {
          "base_uri": "https://localhost:8080/"
        },
        "id": "YLc2Dag2vmSg",
        "outputId": "d6deab52-2ac0-429b-a144-a5b9895ec5b0"
      },
      "outputs": [
        {
          "output_type": "stream",
          "name": "stdout",
          "text": [
            "Median values of ages is: 31\n",
            "Ages value 61 and above are larger than 90 percent of other ages\n"
          ]
        }
      ],
      "source": [
        "# Program to find the median value of age\n",
        "\n",
        "ages = [5,31,43,48,50,41,7,11,15,39,80,82,32,2,8,6,25,36,27,61,31]\n",
        "n = len(ages)\n",
        "ages.sort()# sorting the ages in ascedning order\n",
        "\n",
        "if n % 2 == 0: #cheking the count of ages values is even or odd\n",
        "\tmedian1 = ages[n//2]\n",
        "\tmedian2 = ages[n//2 - 1]\n",
        "\tmedian = (median1 + median2)/2\n",
        "else:\n",
        "\tmedian = ages[n//2]\n",
        "print(\"Median values of ages is: \" + str(median))\n",
        "\n",
        "# Program to find the age which is larger than 90% of other ages\n",
        "# To find the age which is larger than 90% of other ages is same as finding the \n",
        "# 90th percentile of ages\n",
        "# Writing a function to calculate percentile\n",
        "def my_percentile(data, percentile):\n",
        "    import math #import math library to solve dependency of using .ceil function\n",
        "    n = len(data)\n",
        "    p = n * percentile / 100\n",
        "    \n",
        "    if p.is_integer():\n",
        "        return sorted(data)[int(p)]\n",
        "    else:\n",
        "      #using .ceil function from math library for approximating the percentile\n",
        "      #value\n",
        "        return sorted(data)[int(math.ceil(p)) - 1] #substracting 1 to adjust the \n",
        "        #index of the list\n",
        "age_l =my_percentile(ages,90)\n",
        "print(\"Ages value %s and above are larger than 90 percent of other ages\" % age_l)"
      ]
    },
    {
      "cell_type": "markdown",
      "metadata": {
        "id": "h0mxvS7EEB1w"
      },
      "source": [
        "Answer 1.2"
      ]
    },
    {
      "cell_type": "code",
      "execution_count": 2,
      "metadata": {
        "colab": {
          "base_uri": "https://localhost:8080/"
        },
        "id": "L-CRrPBCEEpI",
        "outputId": "00410406-d20c-4da0-bf53-83efbcc6344d"
      },
      "outputs": [
        {
          "output_type": "stream",
          "name": "stdout",
          "text": [
            "The summation of 12 is 78\n"
          ]
        }
      ],
      "source": [
        "# creating a summation function sum_test\n",
        "\n",
        "# defining sum_test function to take 'n' as an argument\n",
        "def sum_test(n): \n",
        "  # initializing a variable total with value '0'. This variable will keep \n",
        "  #accumulating the sum of numbers in the range\n",
        "  total = 0\n",
        "  # passing n+1 in the range to include last number in the range for summation\n",
        "  for i in range(n+1):\n",
        "    # each number in the range gets added to total and the for loop iterates \n",
        "    #till \"n+1\" value is reached\n",
        "    total = total + i\n",
        "  print (\"The summation of %s is %s\"% (n,total))\n",
        "# Per the question passing value '12' to the sum_test function\n",
        "sum_test(12)  "
      ]
    },
    {
      "cell_type": "markdown",
      "metadata": {
        "id": "vMtNdw2sW19g"
      },
      "source": [
        "Answer 1.3"
      ]
    },
    {
      "cell_type": "code",
      "execution_count": 3,
      "metadata": {
        "colab": {
          "base_uri": "https://localhost:8080/"
        },
        "id": "zofZoReRW1qE",
        "outputId": "b62b207d-8da4-468f-e68c-ff7351b3e592"
      },
      "outputs": [
        {
          "output_type": "stream",
          "name": "stdout",
          "text": [
            "please fill your score 90\n",
            "HD\n"
          ]
        }
      ],
      "source": [
        "# Program for score grade mechanism \n",
        "while True :\n",
        "    try:\n",
        "      score = int(input(\"please fill your score \"))\n",
        "    except ValueError:\n",
        "      print(\"Try again! Provide score without decimals.\")\n",
        "      continue\n",
        "    else:\n",
        "      if score >=90:\n",
        "        print(\"HD\")\n",
        "      elif score >=80:\n",
        "        print(\"D\")\n",
        "      elif score >=70:\n",
        "        print(\"C\")\n",
        "      elif score >=60:\n",
        "        print(\"P\")\n",
        "      elif score <60:\n",
        "        print(\"F\")\n",
        "      break\n"
      ]
    },
    {
      "cell_type": "markdown",
      "metadata": {
        "id": "CHAFxaverOTG"
      },
      "source": [
        "Answer 1.4"
      ]
    },
    {
      "cell_type": "code",
      "execution_count": 4,
      "metadata": {
        "colab": {
          "base_uri": "https://localhost:8080/"
        },
        "id": "SotK6ye5c8FE",
        "outputId": "96a2e075-dded-43ee-bb7a-084be05bd0a0"
      },
      "outputs": [
        {
          "output_type": "stream",
          "name": "stdout",
          "text": [
            "*\n",
            "**\n",
            "***\n",
            "****\n",
            "*****\n",
            "****\n",
            "***\n",
            "**\n",
            "*\n"
          ]
        }
      ],
      "source": [
        "# Ask is to print a triangle pattern which has increasing and decreasing colums\n",
        "#such that the number of rows is 9. The given figure shows max column = 5, hence\n",
        "# taking num = 5\n",
        "\n",
        "num = 5\n",
        "\n",
        "row = 1\n",
        "# outter while loop for assigning number of columns when number of rows is less\n",
        "# than or equal to num.\n",
        "while row <= num :\n",
        "    col = 1\n",
        "    # inner while loop for printing stars\n",
        "    while col <= row:\n",
        "        print(\"*\", end = \"\")\n",
        "        col += 1 # columns incrementor\n",
        "    print()\n",
        "    row += 1 # row incrementor\n",
        "# outter while loop for assigning number of columns when number of rows is\n",
        "# greater than or equal to num.\n",
        "while row >= num:\n",
        "  #introducing a break statement to terminate while loop when columns = 0\n",
        "    if col ==0:\n",
        "        break\n",
        "    # assigning a value to column such that it decrease per increase in row\n",
        "    col = 2*num-row\n",
        "    while col > 0:\n",
        "        print(\"*\"*col, end =\"\")\n",
        "        print() # adding print () before the coulum decrementor to get new line\n",
        "        # per iteration\n",
        "        col -=1 # column decrementor"
      ]
    },
    {
      "cell_type": "markdown",
      "metadata": {
        "id": "RmFJ_Vs3hNip"
      },
      "source": [
        "Answer 1.5"
      ]
    },
    {
      "cell_type": "code",
      "execution_count": 5,
      "metadata": {
        "colab": {
          "base_uri": "https://localhost:8080/"
        },
        "id": "veSnBMAwhPt4",
        "outputId": "60d0fb26-1aae-4f8f-c647-54891a01d21a"
      },
      "outputs": [
        {
          "output_type": "stream",
          "name": "stdout",
          "text": [
            "3479\n"
          ]
        }
      ],
      "source": [
        "test = \"aAsmr3idd4bgs7Dlsf9eAF\"\n",
        "# creating a variable to collect the numbers from the string\n",
        "digit = \"\"\n",
        "# for statement to check if each the charachter is a digit and adding it in digit variable\n",
        "for i in test:\n",
        "  if i in \"0123456789\":\n",
        "    digit+=i\n",
        "print (digit)\n",
        "\n"
      ]
    },
    {
      "cell_type": "markdown",
      "metadata": {
        "id": "FGmatJe6kchs"
      },
      "source": [
        "Answer 1.6"
      ]
    },
    {
      "cell_type": "code",
      "execution_count": 6,
      "metadata": {
        "colab": {
          "base_uri": "https://localhost:8080/"
        },
        "id": "cdlI_dllkepe",
        "outputId": "cd7e1bca-d408-44b2-93c3-524ee39097b1"
      },
      "outputs": [
        {
          "output_type": "execute_result",
          "data": {
            "text/plain": [
              "[0, 10, 21, 29]"
            ]
          },
          "metadata": {},
          "execution_count": 6
        }
      ],
      "source": [
        "# Defining a function to iterate through the string and identify the position of word hello in the string\n",
        "def find_all(i_str, sub):\n",
        "    start = 0\n",
        "    while True:\n",
        "        start = i_str.find(sub, start)\n",
        "        if start == -1: \n",
        "          return\n",
        "        yield start\n",
        "        start += len(sub) # to iterate throug the string\n",
        "\n",
        "list(find_all(\"helloworldhelloPythonhelloc++hellojava\", \"hello\")) # [0, 5, 10, 15]"
      ]
    },
    {
      "cell_type": "markdown",
      "metadata": {
        "id": "neKySbCjnkvn"
      },
      "source": [
        "Answer 1.7"
      ]
    },
    {
      "cell_type": "code",
      "execution_count": 7,
      "metadata": {
        "colab": {
          "base_uri": "https://localhost:8080/"
        },
        "id": "p-h2-08_NNUh",
        "outputId": "2ebcb2cc-456a-4c64-85ee-1acafb94074c"
      },
      "outputs": [
        {
          "output_type": "stream",
          "name": "stdout",
          "text": [
            "name: Daniel, age: 50\n",
            "age: 60\n",
            "name: Daniel, age: 60\n"
          ]
        }
      ],
      "source": [
        "#First ask is to create class Person with two variables name and age and\n",
        "#2 methods Get_age and Set_age \n",
        "class Person:\n",
        "  def __init__(self, name, age):\n",
        "    self.name = name\n",
        "    self.age = age\n",
        "\n",
        "# one of the asks is to output object of the class. Printing the object within\n",
        "#the class can be acheived by either using __repr__ function commented here;\n",
        "  #def __repr__(self): \n",
        "    #return \"name: %s, age: %s\" %(self.name, self.age)\n",
        "# OR by defining a string function like__str__. Both approaches supress the \n",
        "#default output __main__.Person object at \" memory location\"\n",
        "\n",
        "# Using the string function for returning the object of class with its values\n",
        "  def __str__(self): \n",
        "    return \"name: %s, age: %s\" %(self.name, self.age)\n",
        "\n",
        "# Second ask is to creat 2 methods for class Persons Get_age and Set_age\n",
        "\n",
        "# Creating Get_age method\n",
        "  def Get_age(self):\n",
        "    return(\"age: %s\" %(self.age)) # Use return fucntion instead of print to \n",
        "    #avoid getting extra None output. \n",
        "\n",
        "# creating Set_age method\n",
        "  def Set_age(self, age):\n",
        "    self.age = age\n",
        "\n",
        "# ***** At this stage the Class Person with two variables name and age and \n",
        "#2 methods Get_age and Set_age are created now *****#\n",
        "\n",
        "# Next ask is to creat an object daniel with Name = Daniel and Age = 50  \n",
        "daniel = Person(\"Daniel\", 50)\n",
        "\n",
        "# Using Print function to print the object daniel\n",
        "print(daniel)\n",
        "\n",
        "# Setting age of Daniel as 60\n",
        "daniel.Set_age(60)\n",
        "\n",
        "# Print age of Daniel to see the updated age\n",
        "print(daniel.Get_age())\n",
        "\n",
        "# Using Print function to print the object daniel to see the updated record\n",
        "print(daniel)"
      ]
    },
    {
      "cell_type": "markdown",
      "metadata": {
        "id": "W7hixrWYgIZ1"
      },
      "source": [
        "Answer 1.8"
      ]
    },
    {
      "cell_type": "code",
      "execution_count": 8,
      "metadata": {
        "colab": {
          "base_uri": "https://localhost:8080/"
        },
        "id": "45-3UW-MgKWx",
        "outputId": "d22cfbcf-e6c9-4c8a-cedf-eb8d29b48b91"
      },
      "outputs": [
        {
          "output_type": "stream",
          "name": "stdout",
          "text": [
            "List contains all unique elements.\n",
            "1 2 3 \n",
            "1 3 2 \n",
            "2 1 3 \n",
            "2 3 1 \n",
            "3 2 1 \n",
            "3 1 2 \n",
            "[[1, 2, 3], [1, 2, 3], [1, 2, 3], [1, 2, 3], [1, 2, 3], [1, 2, 3]]\n",
            "List contains all unique elements.\n",
            "1 \n",
            "[[1]]\n"
          ]
        }
      ],
      "source": [
        "# The ask is, given the array nums with integers, return all possible permutations of the array. The ask is also to validate if the integers in nums are unique\n",
        "\n",
        "#Function to validate the integers are unique\n",
        "\n",
        "def unique(nums):\n",
        "  # Validating if the nums are unique\n",
        "  flag = 0\n",
        "  \n",
        "# using set() + len() to check all unique list elements\n",
        "  flag = len(set(nums)) == len(nums)\n",
        "\n",
        "# printing result\n",
        "  if(flag) :\n",
        "    print (\"List contains all unique elements.\")\n",
        "  else : \n",
        "    print (\"List contains does not contains all unique elements.\")\n",
        "\n",
        "# Function to find the possible permutations\n",
        "def permutations(res, nums, l, h) :\n",
        "\t\n",
        "\t# Base case\n",
        "\t# Add the vector to result and return\n",
        "\tif (l == h) :\n",
        "\t\tres.append(nums);\n",
        "\t\tfor i in range(len(nums)):\n",
        "\t\t\tprint(nums[i], end=' ');\n",
        "\n",
        "\t\tprint('')\n",
        "\t\treturn;\n",
        "\n",
        "\t# Permutations made\n",
        "\tfor i in range(l, h + 1):\n",
        "\t\t\n",
        "\t\t# Swapping\n",
        "\t\ttemp = nums[l];\n",
        "\t\tnums[l] = nums[i];\n",
        "\t\tnums[i] = temp;\n",
        "\n",
        "\t\t# Calling permutations for\n",
        "\t\t# next greater value of l\n",
        "\t\tpermutations(res, nums, l + 1, h);\n",
        "\n",
        "\t\t# Backtracking\n",
        "\t\ttemp = nums[l];\n",
        "\t\tnums[l] = nums[i];\n",
        "\t\tnums[i] = temp;\n",
        "\n",
        "# Function to get the permutations\n",
        "def permute(nums):\n",
        "\t\n",
        "\t# Declaring result variable\n",
        "\tx = len(nums) - 1;\n",
        "\tres = [];\n",
        "\t\n",
        "\t# Calling permutations for the first time by passing l as 0 and \n",
        "  #h = nums.size()-1\n",
        "\tpermutations(res, nums, 0, x);\n",
        "\treturn res;\n",
        "\n",
        "# First input nums [1,2,3]\n",
        "nums = [1,2,3];\n",
        "unique(nums)\n",
        "\n",
        "res = print((permute(nums)));\n",
        "\n",
        "# Second input nums[1]\n",
        "nums =[1]\n",
        "unique(nums)\n",
        "res = print((permute(nums)))"
      ]
    },
    {
      "cell_type": "markdown",
      "metadata": {
        "id": "j6rSTghjhYnm"
      },
      "source": [
        "# **Part 2**"
      ]
    },
    {
      "cell_type": "markdown",
      "metadata": {
        "id": "iaWne3Y14weQ"
      },
      "source": [
        "## **Which version of Question 2 for you?**"
      ]
    },
    {
      "cell_type": "code",
      "execution_count": 9,
      "metadata": {
        "colab": {
          "base_uri": "https://localhost:8080/"
        },
        "id": "0uINGEQM1Iln",
        "outputId": "74bb4e26-29d6-49eb-aa22-20135003db14"
      },
      "outputs": [
        {
          "output_type": "stream",
          "name": "stdout",
          "text": [
            "Version II\n"
          ]
        }
      ],
      "source": [
        "def sum_digit(n):\n",
        "  r=0\n",
        "  while n:\n",
        "    r, n = r + n % 10, n//10\n",
        "  return r\n",
        "def check_studentid (studentid):\n",
        "    x = sum_digit(studentid)\n",
        "    if x%2 == 0:\n",
        "      print (\"Version I\")\n",
        "    else:\n",
        "      print (\"Version II\")\n",
        "\n",
        "check_studentid (223014373)\n",
        "\n"
      ]
    },
    {
      "cell_type": "markdown",
      "metadata": {
        "id": "n7zOxI5J7vjd"
      },
      "source": [
        "# **Hill climb on linear regression**"
      ]
    },
    {
      "cell_type": "markdown",
      "metadata": {
        "id": "dmhW5Y_8jhIE"
      },
      "source": [
        "**Importing libraries**"
      ]
    },
    {
      "cell_type": "code",
      "execution_count": 10,
      "metadata": {
        "collapsed": true,
        "id": "EXW-X7XN7pqU"
      },
      "outputs": [],
      "source": [
        "# importing the libraries required\n",
        "\n",
        "import numpy as np\n",
        "import pandas as pd\n",
        "import matplotlib.pyplot as plt\n",
        "import seaborn as sns\n",
        "%matplotlib inline\n",
        "from random import random, randint\n",
        "from random import seed\n",
        "from random import normalvariate "
      ]
    },
    {
      "cell_type": "markdown",
      "metadata": {
        "id": "qamup748jo3m"
      },
      "source": [
        "**Creating data**"
      ]
    },
    {
      "cell_type": "code",
      "execution_count": 11,
      "metadata": {
        "colab": {
          "base_uri": "https://localhost:8080/",
          "height": 313
        },
        "id": "KgguSU-a8d20",
        "outputId": "7652e7ff-dd32-4a90-cd1b-5d77cca234e4"
      },
      "outputs": [
        {
          "output_type": "execute_result",
          "data": {
            "text/plain": [
              "<function matplotlib.pyplot.show(*args, **kw)>"
            ]
          },
          "metadata": {},
          "execution_count": 11
        },
        {
          "output_type": "display_data",
          "data": {
            "text/plain": [
              "<Figure size 432x288 with 1 Axes>"
            ],
            "image/png": "[encoded data removed]"
          },
          "metadata": {
            "needs_background": "light"
          }
        }
      ],
      "source": [
        "# Creating the data for the assignment to fit the regression line to the data\n",
        "X = np.linspace(0, 3, 30)\n",
        "Y = 2.5 * np.linspace (0, 3, 30) + np.random.rand(30)\n",
        "fig, ax = plt.subplots()\n",
        "ax.set_title(\"Regression line to fit\")\n",
        "ax.set_ylabel (\"Y\")\n",
        "ax.set_xlabel (\"X\")\n",
        "ax.plot (X, Y, label = \"line to fit\")\n",
        "ax.legend ()\n",
        "plt.show"
      ]
    },
    {
      "cell_type": "markdown",
      "metadata": {
        "id": "bRSfIkZidaC5"
      },
      "source": [
        "# **Answer 2.1**"
      ]
    },
    {
      "cell_type": "code",
      "execution_count": 12,
      "metadata": {
        "collapsed": true,
        "id": "IAp3_fiXRaAm"
      },
      "outputs": [],
      "source": [
        "# Ask is to define a function \"find_error (a, X, Y)\" that calculates RMSE \n",
        "def find_error(a, X, Y):\n",
        "  import math # for getting squareroot function\n",
        "  RMSE = math.sqrt(np.square(np.subtract(Y, a*X)).mean()) # \n",
        "  print(\"The RMSE is %s\" % round(float(RMSE),4))"
      ]
    },
    {
      "cell_type": "code",
      "execution_count": 13,
      "metadata": {
        "colab": {
          "base_uri": "https://localhost:8080/"
        },
        "id": "IR2lxtb7Yeaq",
        "outputId": "00a1a196-d173-4c70-c7ea-91c960f14fca"
      },
      "outputs": [
        {
          "output_type": "stream",
          "name": "stdout",
          "text": [
            "The random value assigned to coefficient 'a' is 4\n",
            "The RMSE is 2.1785\n"
          ]
        }
      ],
      "source": [
        "#finding the Root Mean Square Error (RMSE) for random value of coefficient \"a\"\n",
        "seed = (100)\n",
        "a= randint(0,5)\n",
        "print(\"The random value assigned to coefficient 'a' is %d\" % (a))\n",
        "find_error(a, X, Y)"
      ]
    },
    {
      "cell_type": "markdown",
      "metadata": {
        "id": "_obK6Nbke0et"
      },
      "source": [
        "# **Answer 2.2**"
      ]
    },
    {
      "cell_type": "code",
      "execution_count": 14,
      "metadata": {
        "collapsed": true,
        "id": "wR2DUjN0JaJv"
      },
      "outputs": [],
      "source": [
        "#The ask is to define a function fit_regression (n, X, Y) to find an optimal \n",
        "#coefficient a.\n",
        "def fit_regression(n, X, Y):\n",
        "  \n",
        "  for i in range(0, n):\n",
        "      #Perform hill climbing per the steps given\n",
        "\n",
        "      # initializing first value of a as a random float value           \n",
        "      a = float(random())\n",
        "\n",
        "      # creating yfit from X by multiplying each element in X by a\n",
        "      yfit = [element * a for element in X]\n",
        "      # Calculating the error by subtracting items in yfit from Y. Important to \n",
        "      # consider if the errors are positive or negative.\n",
        "      error = []\n",
        "      for item1, item2 in zip(Y, yfit):\n",
        "          error.append(item1-item2)\n",
        "      \n",
        "      # Adjusting the value of a for getting new yfit\n",
        "      a_adjust =a+normalvariate(0,1)\n",
        "      yfit = [element * a_adjust for element in X]\n",
        "      \n",
        "      # Calculating new error\n",
        "      error_new = []\n",
        "      for item1, item2 in zip(Y, yfit):\n",
        "          error_new.append(item1-item2)\n",
        "      if error_new < error:\n",
        "        a = a_adjust\n",
        "        error = error_new\n",
        "        return(a)    "
      ]
    },
    {
      "cell_type": "code",
      "execution_count": 53,
      "metadata": {
        "colab": {
          "base_uri": "https://localhost:8080/",
          "height": 301
        },
        "id": "qi3xIHh-XkcC",
        "outputId": "c5027694-c388-474d-e335-940418fc1b0d"
      },
      "outputs": [
        {
          "output_type": "stream",
          "name": "stdout",
          "text": [
            "2.7600868638183105\n"
          ]
        },
        {
          "output_type": "execute_result",
          "data": {
            "text/plain": [
              "<function matplotlib.pyplot.show(*args, **kw)>"
            ]
          },
          "metadata": {},
          "execution_count": 53
        },
        {
          "output_type": "display_data",
          "data": {
            "text/plain": [
              "<Figure size 432x288 with 1 Axes>"
            ],
            "image/png": "[encoded data removed]"
          },
          "metadata": {
            "needs_background": "light"
          }
        }
      ],
      "source": [
        "# using the fit_regression function to find optimal a.\n",
        "# the plot is used to check the most optimal value.\n",
        "n = 10000\n",
        "a = (fit_regression(n,X,Y))\n",
        "print (a)\n",
        "fig, ax = plt.subplots()\n",
        "ax.set_title = (\"Regression line to fit\")\n",
        "ax.set_ylabel = (\"Y\")\n",
        "ax.set_xlabel = (\"X\")\n",
        "ax.plot (X, Y, label= \"line  to fit\")\n",
        "ax.plot (X, a * X, label = \"fitted line\")\n",
        "ax.legend()\n",
        "plt.show"
      ]
    },
    {
      "cell_type": "markdown",
      "metadata": {
        "id": "BkjW5k3_c7qF"
      },
      "source": [
        "**>>>>>>>>>>>>>>>>>>>>>>>>>>>>>>>>>>>>>>>>>>>>>>>>>>>>>>>>END<<<<<<<<<<<<<<<<<<<<<<<<<<<<<<<<<<<<<<<<<<<<<<<<<<<<<<<<<<<<<**\n",
        "\n"
      ]
    },
    {
      "cell_type": "code",
      "execution_count": 15,
      "metadata": {
        "collapsed": true,
        "id": "_RLmxyo3MWpx"
      },
      "outputs": [],
      "source": []
    }
  ],
  "metadata": {
    "colab": {
      "collapsed_sections": [],
      "provenance": [],
      "include_colab_link": true
    },
    "kernelspec": {
      "display_name": "Python 3",
      "language": "python",
      "name": "python3"
    },
    "language_info": {
      "name": "python"
    }
  },
  "nbformat": 4,
  "nbformat_minor": 0
}