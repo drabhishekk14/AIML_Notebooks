{
 "cells": [
  {
   "cell_type": "markdown",
   "metadata": {
    "id": "mQBnXJMoXFXw"
   },
   "source": [
    "Project Overview - Pneumonia detection system - CV\n",
    "\n",
    "The goal is to build a pneumonia detection system, to locate the position of inflammation in an image. Tissues with sparse material, such as lungs which are full of air, do not absorb the X-rays and appear black in the image. Dense tissues such as bones absorb X-rays and appear white in the image.While we are theoretically detecting “lung opacities”, there are lung opacities that are not pneumonia related.In the data, some of these are labeled “Not Normal No Lung Opacity”.This extra third class indicates that while pneumonia was determined not to be present, there was nonetheless some type of abnormality on the image and oftentimes this finding may mimic the appearance of true pneumonia.Dicom original images: -Medical images are stored in a special format called DICOM files (*.dcm).\n",
    "\n",
    "They contain a combination of header metadata as well as underlying raw image arrays for pixel data.Details about the data and dataset files are given in below link, https://www.kaggle.com/c/rsna-pneumonia-detection-challenge/\n",
    "Team\n",
    "\n",
    "Mentor - Mr. Shirish Patil\n",
    "\n",
    "Dr. Abhishek Kadam,\n",
    "Sriram Srinivasan,\n",
    "Deepak Upadhyay,\n",
    "Aparna Nammi,\n",
    "Amit Mahajan."
   ]
  },
  {
   "cell_type": "markdown",
   "metadata": {
    "id": "rl6FFH8zXMb8"
   },
   "source": [
    "### Classification Model for Pneumonia Detection-- Mounting the Google Drive"
   ]
  },
  {
   "cell_type": "code",
   "execution_count": 1,
   "metadata": {
    "colab": {
     "base_uri": "https://localhost:8080/"
    },
    "collapsed": false,
    "id": "nazIfU_TXTst",
    "outputId": "5c15cbd3-7dd7-4ebb-c272-1da2a793ef90"
   },
   "outputs": [
    {
     "name": "stdout",
     "output_type": "stream",
     "text": [
      "Mounted at /content/drive\n"
     ]
    }
   ],
   "source": [
    "#Mount Google drive if you are using google colab¶\n",
    "from google.colab import drive\n",
    "drive.mount('/content/drive')"
   ]
  },
  {
   "cell_type": "markdown",
   "metadata": {
    "id": "fjGwyd_VYaSU"
   },
   "source": [
    "Declaring the Root Directory"
   ]
  },
  {
   "cell_type": "code",
   "execution_count": 2,
   "metadata": {
    "collapsed": true,
    "id": "2JJiqxYFPQOK"
   },
   "outputs": [],
   "source": [
    "import os\n",
    "os.chdir('/content/drive/My Drive/CAPSTONE_PROJECT/Kaggle-Data')\n",
    "\n",
    "path = '.'"
   ]
  },
  {
   "cell_type": "code",
   "execution_count": 3,
   "metadata": {
    "colab": {
     "base_uri": "https://localhost:8080/"
    },
    "collapsed": false,
    "id": "eZkryzNq9_wy",
    "outputId": "0ed0863f-4438-41f9-cf39-f4b674bc7021"
   },
   "outputs": [
    {
     "name": "stdout",
     "output_type": "stream",
     "text": [
      "\u001b[?25l\r",
      "\u001b[K     |▏                               | 10kB 17.6MB/s eta 0:00:01\r",
      "\u001b[K     |▍                               | 20kB 23.3MB/s eta 0:00:01\r",
      "\u001b[K     |▌                               | 30kB 28.1MB/s eta 0:00:01\r",
      "\u001b[K     |▊                               | 40kB 22.6MB/s eta 0:00:01\r",
      "\u001b[K     |▉                               | 51kB 21.3MB/s eta 0:00:01\r",
      "\u001b[K     |█                               | 61kB 23.1MB/s eta 0:00:01\r",
      "\u001b[K     |█▏                              | 71kB 13.1MB/s eta 0:00:01\r",
      "\u001b[K     |█▍                              | 81kB 11.6MB/s eta 0:00:01\r",
      "\u001b[K     |█▋                              | 92kB 12.6MB/s eta 0:00:01\r",
      "\u001b[K     |█▊                              | 102kB 12.9MB/s eta 0:00:01\r",
      "\u001b[K     |██                              | 112kB 12.9MB/s eta 0:00:01\r",
      "\u001b[K     |██                              | 122kB 12.9MB/s eta 0:00:01\r",
      "\u001b[K     |██▎                             | 133kB 12.9MB/s eta 0:00:01\r",
      "\u001b[K     |██▍                             | 143kB 12.9MB/s eta 0:00:01\r",
      "\u001b[K     |██▋                             | 153kB 12.9MB/s eta 0:00:01\r",
      "\u001b[K     |██▉                             | 163kB 12.9MB/s eta 0:00:01\r",
      "\u001b[K     |███                             | 174kB 12.9MB/s eta 0:00:01\r",
      "\u001b[K     |███▏                            | 184kB 12.9MB/s eta 0:00:01\r",
      "\u001b[K     |███▎                            | 194kB 12.9MB/s eta 0:00:01\r",
      "\u001b[K     |███▌                            | 204kB 12.9MB/s eta 0:00:01\r",
      "\u001b[K     |███▋                            | 215kB 12.9MB/s eta 0:00:01\r",
      "\u001b[K     |███▉                            | 225kB 12.9MB/s eta 0:00:01\r",
      "\u001b[K     |████                            | 235kB 12.9MB/s eta 0:00:01\r",
      "\u001b[K     |████▏                           | 245kB 12.9MB/s eta 0:00:01\r",
      "\u001b[K     |████▍                           | 256kB 12.9MB/s eta 0:00:01\r",
      "\u001b[K     |████▌                           | 266kB 12.9MB/s eta 0:00:01\r",
      "\u001b[K     |████▊                           | 276kB 12.9MB/s eta 0:00:01\r",
      "\u001b[K     |████▉                           | 286kB 12.9MB/s eta 0:00:01\r",
      "\u001b[K     |█████                           | 296kB 12.9MB/s eta 0:00:01\r",
      "\u001b[K     |█████▎                          | 307kB 12.9MB/s eta 0:00:01\r",
      "\u001b[K     |█████▍                          | 317kB 12.9MB/s eta 0:00:01\r",
      "\u001b[K     |█████▋                          | 327kB 12.9MB/s eta 0:00:01\r",
      "\u001b[K     |█████▊                          | 337kB 12.9MB/s eta 0:00:01\r",
      "\u001b[K     |██████                          | 348kB 12.9MB/s eta 0:00:01\r",
      "\u001b[K     |██████                          | 358kB 12.9MB/s eta 0:00:01\r",
      "\u001b[K     |██████▎                         | 368kB 12.9MB/s eta 0:00:01\r",
      "\u001b[K     |██████▌                         | 378kB 12.9MB/s eta 0:00:01\r",
      "\u001b[K     |██████▋                         | 389kB 12.9MB/s eta 0:00:01\r",
      "\u001b[K     |██████▉                         | 399kB 12.9MB/s eta 0:00:01\r",
      "\u001b[K     |███████                         | 409kB 12.9MB/s eta 0:00:01\r",
      "\u001b[K     |███████▏                        | 419kB 12.9MB/s eta 0:00:01\r",
      "\u001b[K     |███████▎                        | 430kB 12.9MB/s eta 0:00:01\r",
      "\u001b[K     |███████▌                        | 440kB 12.9MB/s eta 0:00:01\r",
      "\u001b[K     |███████▊                        | 450kB 12.9MB/s eta 0:00:01\r",
      "\u001b[K     |███████▉                        | 460kB 12.9MB/s eta 0:00:01\r",
      "\u001b[K     |████████                        | 471kB 12.9MB/s eta 0:00:01\r",
      "\u001b[K     |████████▏                       | 481kB 12.9MB/s eta 0:00:01\r",
      "\u001b[K     |████████▍                       | 491kB 12.9MB/s eta 0:00:01\r",
      "\u001b[K     |████████▌                       | 501kB 12.9MB/s eta 0:00:01\r",
      "\u001b[K     |████████▊                       | 512kB 12.9MB/s eta 0:00:01\r",
      "\u001b[K     |█████████                       | 522kB 12.9MB/s eta 0:00:01\r",
      "\u001b[K     |█████████                       | 532kB 12.9MB/s eta 0:00:01\r",
      "\u001b[K     |█████████▎                      | 542kB 12.9MB/s eta 0:00:01\r",
      "\u001b[K     |█████████▍                      | 552kB 12.9MB/s eta 0:00:01\r",
      "\u001b[K     |█████████▋                      | 563kB 12.9MB/s eta 0:00:01\r",
      "\u001b[K     |█████████▊                      | 573kB 12.9MB/s eta 0:00:01\r",
      "\u001b[K     |██████████                      | 583kB 12.9MB/s eta 0:00:01\r",
      "\u001b[K     |██████████▏                     | 593kB 12.9MB/s eta 0:00:01\r",
      "\u001b[K     |██████████▎                     | 604kB 12.9MB/s eta 0:00:01\r",
      "\u001b[K     |██████████▌                     | 614kB 12.9MB/s eta 0:00:01\r",
      "\u001b[K     |██████████▋                     | 624kB 12.9MB/s eta 0:00:01\r",
      "\u001b[K     |██████████▉                     | 634kB 12.9MB/s eta 0:00:01\r",
      "\u001b[K     |███████████                     | 645kB 12.9MB/s eta 0:00:01\r",
      "\u001b[K     |███████████▏                    | 655kB 12.9MB/s eta 0:00:01\r",
      "\u001b[K     |███████████▍                    | 665kB 12.9MB/s eta 0:00:01\r",
      "\u001b[K     |███████████▌                    | 675kB 12.9MB/s eta 0:00:01\r",
      "\u001b[K     |███████████▊                    | 686kB 12.9MB/s eta 0:00:01\r",
      "\u001b[K     |███████████▉                    | 696kB 12.9MB/s eta 0:00:01\r",
      "\u001b[K     |████████████                    | 706kB 12.9MB/s eta 0:00:01\r",
      "\u001b[K     |████████████▏                   | 716kB 12.9MB/s eta 0:00:01\r",
      "\u001b[K     |████████████▍                   | 727kB 12.9MB/s eta 0:00:01\r",
      "\u001b[K     |████████████▋                   | 737kB 12.9MB/s eta 0:00:01\r",
      "\u001b[K     |████████████▊                   | 747kB 12.9MB/s eta 0:00:01\r",
      "\u001b[K     |█████████████                   | 757kB 12.9MB/s eta 0:00:01\r",
      "\u001b[K     |█████████████                   | 768kB 12.9MB/s eta 0:00:01\r",
      "\u001b[K     |█████████████▎                  | 778kB 12.9MB/s eta 0:00:01\r",
      "\u001b[K     |█████████████▍                  | 788kB 12.9MB/s eta 0:00:01\r",
      "\u001b[K     |█████████████▋                  | 798kB 12.9MB/s eta 0:00:01\r",
      "\u001b[K     |█████████████▉                  | 808kB 12.9MB/s eta 0:00:01\r",
      "\u001b[K     |██████████████                  | 819kB 12.9MB/s eta 0:00:01\r",
      "\u001b[K     |██████████████▏                 | 829kB 12.9MB/s eta 0:00:01\r",
      "\u001b[K     |██████████████▎                 | 839kB 12.9MB/s eta 0:00:01\r",
      "\u001b[K     |██████████████▌                 | 849kB 12.9MB/s eta 0:00:01\r",
      "\u001b[K     |██████████████▋                 | 860kB 12.9MB/s eta 0:00:01\r",
      "\u001b[K     |██████████████▉                 | 870kB 12.9MB/s eta 0:00:01\r",
      "\u001b[K     |███████████████                 | 880kB 12.9MB/s eta 0:00:01\r",
      "\u001b[K     |███████████████▏                | 890kB 12.9MB/s eta 0:00:01\r",
      "\u001b[K     |███████████████▍                | 901kB 12.9MB/s eta 0:00:01\r",
      "\u001b[K     |███████████████▌                | 911kB 12.9MB/s eta 0:00:01\r",
      "\u001b[K     |███████████████▊                | 921kB 12.9MB/s eta 0:00:01\r",
      "\u001b[K     |███████████████▉                | 931kB 12.9MB/s eta 0:00:01\r",
      "\u001b[K     |████████████████                | 942kB 12.9MB/s eta 0:00:01\r",
      "\u001b[K     |████████████████▎               | 952kB 12.9MB/s eta 0:00:01\r",
      "\u001b[K     |████████████████▍               | 962kB 12.9MB/s eta 0:00:01\r",
      "\u001b[K     |████████████████▋               | 972kB 12.9MB/s eta 0:00:01\r",
      "\u001b[K     |████████████████▊               | 983kB 12.9MB/s eta 0:00:01\r",
      "\u001b[K     |█████████████████               | 993kB 12.9MB/s eta 0:00:01\r",
      "\u001b[K     |█████████████████               | 1.0MB 12.9MB/s eta 0:00:01\r",
      "\u001b[K     |█████████████████▎              | 1.0MB 12.9MB/s eta 0:00:01\r",
      "\u001b[K     |█████████████████▌              | 1.0MB 12.9MB/s eta 0:00:01\r",
      "\u001b[K     |█████████████████▋              | 1.0MB 12.9MB/s eta 0:00:01\r",
      "\u001b[K     |█████████████████▉              | 1.0MB 12.9MB/s eta 0:00:01\r",
      "\u001b[K     |██████████████████              | 1.1MB 12.9MB/s eta 0:00:01\r",
      "\u001b[K     |██████████████████▏             | 1.1MB 12.9MB/s eta 0:00:01\r",
      "\u001b[K     |██████████████████▎             | 1.1MB 12.9MB/s eta 0:00:01\r",
      "\u001b[K     |██████████████████▌             | 1.1MB 12.9MB/s eta 0:00:01\r",
      "\u001b[K     |██████████████████▊             | 1.1MB 12.9MB/s eta 0:00:01\r",
      "\u001b[K     |██████████████████▉             | 1.1MB 12.9MB/s eta 0:00:01\r",
      "\u001b[K     |███████████████████             | 1.1MB 12.9MB/s eta 0:00:01\r",
      "\u001b[K     |███████████████████▏            | 1.1MB 12.9MB/s eta 0:00:01\r",
      "\u001b[K     |███████████████████▍            | 1.1MB 12.9MB/s eta 0:00:01\r",
      "\u001b[K     |███████████████████▌            | 1.1MB 12.9MB/s eta 0:00:01\r",
      "\u001b[K     |███████████████████▊            | 1.2MB 12.9MB/s eta 0:00:01\r",
      "\u001b[K     |████████████████████            | 1.2MB 12.9MB/s eta 0:00:01\r",
      "\u001b[K     |████████████████████            | 1.2MB 12.9MB/s eta 0:00:01\r",
      "\u001b[K     |████████████████████▎           | 1.2MB 12.9MB/s eta 0:00:01\r",
      "\u001b[K     |████████████████████▍           | 1.2MB 12.9MB/s eta 0:00:01\r",
      "\u001b[K     |████████████████████▋           | 1.2MB 12.9MB/s eta 0:00:01\r",
      "\u001b[K     |████████████████████▊           | 1.2MB 12.9MB/s eta 0:00:01\r",
      "\u001b[K     |█████████████████████           | 1.2MB 12.9MB/s eta 0:00:01\r",
      "\u001b[K     |█████████████████████▏          | 1.2MB 12.9MB/s eta 0:00:01\r",
      "\u001b[K     |█████████████████████▎          | 1.2MB 12.9MB/s eta 0:00:01\r",
      "\u001b[K     |█████████████████████▌          | 1.3MB 12.9MB/s eta 0:00:01\r",
      "\u001b[K     |█████████████████████▋          | 1.3MB 12.9MB/s eta 0:00:01\r",
      "\u001b[K     |█████████████████████▉          | 1.3MB 12.9MB/s eta 0:00:01\r",
      "\u001b[K     |██████████████████████          | 1.3MB 12.9MB/s eta 0:00:01\r",
      "\u001b[K     |██████████████████████▏         | 1.3MB 12.9MB/s eta 0:00:01\r",
      "\u001b[K     |██████████████████████▍         | 1.3MB 12.9MB/s eta 0:00:01\r",
      "\u001b[K     |██████████████████████▌         | 1.3MB 12.9MB/s eta 0:00:01\r",
      "\u001b[K     |██████████████████████▊         | 1.3MB 12.9MB/s eta 0:00:01\r",
      "\u001b[K     |██████████████████████▉         | 1.3MB 12.9MB/s eta 0:00:01\r",
      "\u001b[K     |███████████████████████         | 1.4MB 12.9MB/s eta 0:00:01\r",
      "\u001b[K     |███████████████████████▏        | 1.4MB 12.9MB/s eta 0:00:01\r",
      "\u001b[K     |███████████████████████▍        | 1.4MB 12.9MB/s eta 0:00:01\r",
      "\u001b[K     |███████████████████████▋        | 1.4MB 12.9MB/s eta 0:00:01\r",
      "\u001b[K     |███████████████████████▊        | 1.4MB 12.9MB/s eta 0:00:01\r",
      "\u001b[K     |████████████████████████        | 1.4MB 12.9MB/s eta 0:00:01\r",
      "\u001b[K     |████████████████████████        | 1.4MB 12.9MB/s eta 0:00:01\r",
      "\u001b[K     |████████████████████████▎       | 1.4MB 12.9MB/s eta 0:00:01\r",
      "\u001b[K     |████████████████████████▍       | 1.4MB 12.9MB/s eta 0:00:01\r",
      "\u001b[K     |████████████████████████▋       | 1.4MB 12.9MB/s eta 0:00:01\r",
      "\u001b[K     |████████████████████████▉       | 1.5MB 12.9MB/s eta 0:00:01\r",
      "\u001b[K     |█████████████████████████       | 1.5MB 12.9MB/s eta 0:00:01\r",
      "\u001b[K     |█████████████████████████▏      | 1.5MB 12.9MB/s eta 0:00:01\r",
      "\u001b[K     |█████████████████████████▎      | 1.5MB 12.9MB/s eta 0:00:01\r",
      "\u001b[K     |█████████████████████████▌      | 1.5MB 12.9MB/s eta 0:00:01\r",
      "\u001b[K     |█████████████████████████▋      | 1.5MB 12.9MB/s eta 0:00:01\r",
      "\u001b[K     |█████████████████████████▉      | 1.5MB 12.9MB/s eta 0:00:01\r",
      "\u001b[K     |██████████████████████████      | 1.5MB 12.9MB/s eta 0:00:01\r",
      "\u001b[K     |██████████████████████████▏     | 1.5MB 12.9MB/s eta 0:00:01\r",
      "\u001b[K     |██████████████████████████▍     | 1.5MB 12.9MB/s eta 0:00:01\r",
      "\u001b[K     |██████████████████████████▌     | 1.6MB 12.9MB/s eta 0:00:01\r",
      "\u001b[K     |██████████████████████████▊     | 1.6MB 12.9MB/s eta 0:00:01\r",
      "\u001b[K     |██████████████████████████▉     | 1.6MB 12.9MB/s eta 0:00:01\r",
      "\u001b[K     |███████████████████████████     | 1.6MB 12.9MB/s eta 0:00:01\r",
      "\u001b[K     |███████████████████████████▎    | 1.6MB 12.9MB/s eta 0:00:01\r",
      "\u001b[K     |███████████████████████████▍    | 1.6MB 12.9MB/s eta 0:00:01\r",
      "\u001b[K     |███████████████████████████▋    | 1.6MB 12.9MB/s eta 0:00:01\r",
      "\u001b[K     |███████████████████████████▊    | 1.6MB 12.9MB/s eta 0:00:01\r",
      "\u001b[K     |████████████████████████████    | 1.6MB 12.9MB/s eta 0:00:01\r",
      "\u001b[K     |████████████████████████████    | 1.6MB 12.9MB/s eta 0:00:01\r",
      "\u001b[K     |████████████████████████████▎   | 1.7MB 12.9MB/s eta 0:00:01\r",
      "\u001b[K     |████████████████████████████▌   | 1.7MB 12.9MB/s eta 0:00:01\r",
      "\u001b[K     |████████████████████████████▋   | 1.7MB 12.9MB/s eta 0:00:01\r",
      "\u001b[K     |████████████████████████████▉   | 1.7MB 12.9MB/s eta 0:00:01\r",
      "\u001b[K     |█████████████████████████████   | 1.7MB 12.9MB/s eta 0:00:01\r",
      "\u001b[K     |█████████████████████████████▏  | 1.7MB 12.9MB/s eta 0:00:01\r",
      "\u001b[K     |█████████████████████████████▎  | 1.7MB 12.9MB/s eta 0:00:01\r",
      "\u001b[K     |█████████████████████████████▌  | 1.7MB 12.9MB/s eta 0:00:01\r",
      "\u001b[K     |█████████████████████████████▊  | 1.7MB 12.9MB/s eta 0:00:01\r",
      "\u001b[K     |█████████████████████████████▉  | 1.8MB 12.9MB/s eta 0:00:01\r",
      "\u001b[K     |██████████████████████████████  | 1.8MB 12.9MB/s eta 0:00:01\r",
      "\u001b[K     |██████████████████████████████▏ | 1.8MB 12.9MB/s eta 0:00:01\r",
      "\u001b[K     |██████████████████████████████▍ | 1.8MB 12.9MB/s eta 0:00:01\r",
      "\u001b[K     |██████████████████████████████▌ | 1.8MB 12.9MB/s eta 0:00:01\r",
      "\u001b[K     |██████████████████████████████▊ | 1.8MB 12.9MB/s eta 0:00:01\r",
      "\u001b[K     |███████████████████████████████ | 1.8MB 12.9MB/s eta 0:00:01\r",
      "\u001b[K     |███████████████████████████████ | 1.8MB 12.9MB/s eta 0:00:01\r",
      "\u001b[K     |███████████████████████████████▎| 1.8MB 12.9MB/s eta 0:00:01\r",
      "\u001b[K     |███████████████████████████████▍| 1.8MB 12.9MB/s eta 0:00:01\r",
      "\u001b[K     |███████████████████████████████▋| 1.9MB 12.9MB/s eta 0:00:01\r",
      "\u001b[K     |███████████████████████████████▊| 1.9MB 12.9MB/s eta 0:00:01\r",
      "\u001b[K     |████████████████████████████████| 1.9MB 12.9MB/s eta 0:00:01\r",
      "\u001b[K     |████████████████████████████████| 1.9MB 12.9MB/s \n",
      "\u001b[?25h"
     ]
    }
   ],
   "source": [
    "# install dependencies not included by Colab\n",
    "# use pip3 to ensure compatibility w/ Google Deep Learning Images \n",
    "!pip3 install -q pydicom \n",
    "!pip3 install -q tqdm \n",
    "!pip3 install -q imgaug "
   ]
  },
  {
   "cell_type": "code",
   "execution_count": 4,
   "metadata": {
    "collapsed": true,
    "id": "0N89Lchx-G0r"
   },
   "outputs": [],
   "source": [
    "import os \n",
    "import sys\n",
    "\n",
    "import random\n",
    "import math\n",
    "import numpy as np\n",
    "import cv2\n",
    "import matplotlib.pyplot as plt\n",
    "import json\n",
    "import pydicom\n",
    "from imgaug import augmenters as iaa\n",
    "from tqdm import tqdm\n",
    "import pandas as pd \n",
    "import glob \n",
    "import tensorflow.keras.layers\n",
    "import tensorflow.keras.models\n",
    "import tensorflow.keras.optimizers\n",
    "import tensorflow.keras.datasets\n",
    "import tensorflow.keras.utils\n",
    "import tensorflow.keras.backend\n",
    "import numpy\n",
    "import matplotlib.image as mpimg\n",
    "from PIL import Image"
   ]
  },
  {
   "cell_type": "code",
   "execution_count": 5,
   "metadata": {
    "collapsed": true,
    "id": "HeBxh3Nf-I-H"
   },
   "outputs": [],
   "source": [
    "# Root directory of the project\n",
    "ROOT_DIR = os.path.abspath('/content/drive/My Drive/CAPSTONE_PROJECT/Kaggle-Data')\n",
    "\n",
    "# Directory to save logs and trained model\n",
    "MODEL_DIR = os.path.join(ROOT_DIR, 'logs')\n",
    "\n",
    "if not os.path.exists(ROOT_DIR):\n",
    "    os.makedirs(ROOT_DIR)\n",
    "os.chdir(ROOT_DIR)"
   ]
  },
  {
   "cell_type": "code",
   "execution_count": 6,
   "metadata": {
    "collapsed": true,
    "id": "lJWPvj20JVW2"
   },
   "outputs": [],
   "source": [
    "import pydicom as dicom\n",
    "import pandas as pd"
   ]
  },
  {
   "cell_type": "code",
   "execution_count": 7,
   "metadata": {
    "colab": {
     "base_uri": "https://localhost:8080/"
    },
    "collapsed": false,
    "id": "YSntuK2bktmA",
    "outputId": "bc310278-2008-4274-d881-aa395e55bd7b"
   },
   "outputs": [
    {
     "name": "stdout",
     "output_type": "stream",
     "text": [
      "fatal: destination path 'Mask_RCNN' already exists and is not an empty directory.\n",
      "WARNING:root:Fail load requirements file, so using default ones.\n",
      "zip_safe flag not set; analyzing archive contents...\n"
     ]
    }
   ],
   "source": [
    "os.chdir(ROOT_DIR)\n",
    "!git clone https://github.com/matterport/Mask_RCNN.git\n",
    "os.chdir('Mask_RCNN')\n",
    "!python setup.py -q install"
   ]
  },
  {
   "cell_type": "code",
   "execution_count": 8,
   "metadata": {
    "collapsed": true,
    "id": "PBkDJ0Smk1NW"
   },
   "outputs": [],
   "source": [
    "sys.path.append(os.path.join(ROOT_DIR, 'Mask_RCNN'))  # To find local version of the library\n",
    "from mrcnn.config import Config\n",
    "from mrcnn import utils\n",
    "import mrcnn.model as modellib\n",
    "from mrcnn import visualize\n",
    "from mrcnn.model import log\n",
    "from skimage.transform import resize"
   ]
  },
  {
   "cell_type": "code",
   "execution_count": 9,
   "metadata": {
    "collapsed": true,
    "id": "bKx4XxSAAFZe"
   },
   "outputs": [],
   "source": [
    "train_dicom_dir = os.path.join(ROOT_DIR, 'stage_2_train_images')\n",
    "test_dicom_dir = os.path.join(ROOT_DIR, 'stage_2_test_images')"
   ]
  },
  {
   "cell_type": "code",
   "execution_count": 10,
   "metadata": {
    "collapsed": true,
    "id": "9bo5FJFUATIZ"
   },
   "outputs": [],
   "source": [
    "def get_dicom_fps(dicom_dir):\n",
    "    dicom_fps = glob.glob(dicom_dir+'/'+'*.dcm')\n",
    "    return list(set(dicom_fps))\n",
    "\n",
    "def parse_dataset(dicom_dir, anns): \n",
    "    image_fps = get_dicom_fps(dicom_dir)\n",
    "    image_annotations = {fp: [] for fp in image_fps}\n",
    "    for index, row in anns.iterrows(): \n",
    "        fp = os.path.join(dicom_dir, str(row['patientId'])+'.dcm')\n",
    "        image_annotations[fp].append(row)\n",
    "    return image_fps, image_annotations "
   ]
  },
  {
   "cell_type": "code",
   "execution_count": 47,
   "metadata": {
    "collapsed": true,
    "id": "eH_xqjYUcWBh"
   },
   "outputs": [],
   "source": [
    "X = []\n",
    "y = []\n",
    "z = []\n",
    "T = []\n",
    "u = []\n",
    "V = []\n",
    "w = []\n",
    "F = []\n",
    "img1 = []\n",
    "img0 = []"
   ]
  },
  {
   "cell_type": "code",
   "execution_count": 12,
   "metadata": {
    "collapsed": true,
    "id": "wIL8iNtXCINd"
   },
   "outputs": [],
   "source": [
    "class DetectorDataset(utils.Dataset):\n",
    "    \"\"\"Dataset class for training pneumonia detection on the RSNA pneumonia dataset.\n",
    "    \"\"\"\n",
    "\n",
    "    def __init__(self, image_fps, image_annotations, orig_height, orig_width):\n",
    "        super().__init__(self)\n",
    "        \n",
    "        # Add classes\n",
    "        self.add_class('pneumonia', 1, 'Lung Opacity')\n",
    "   \n",
    "        # add images \n",
    "        for i, fp in enumerate(image_fps):\n",
    "            annotations = image_annotations[fp]\n",
    "            y.append(image_annotations[fp]) #Preparing image for image Data Generator CNN         \n",
    "            self.add_image('pneumonia', image_id=i, path=fp, \n",
    "                           annotations=annotations, orig_height=orig_height, orig_width=orig_width)\n",
    "            resized_img = resize(image, (128, 128), anti_aliasing=True) #Preparing image for image Data Generator CNN\n",
    "            X.append(resized_img) #Preparing image for image Data Generator CNN\n",
    "        for i, a in enumerate(annotations):\n",
    "                if a['Target'] == 1:\n",
    "                     resized_img = resize(image, (128, 128), anti_aliasing=True) #Preparing image for image Data Generator CNN\n",
    "                     T.append(resized_img) #Preparing image for image Data Generator CNN\n",
    "                     u.append(annotations)\n",
    "                     img1.append(image_fps)\n",
    "                if a['Target'] == 0:\n",
    "                     resized_img = resize(image, (128, 128), anti_aliasing=True) #Preparing image for image Data Generator CNN\n",
    "                     V.append(resized_img) #Preparing image for image Data Generator CNN\n",
    "                     w.append(annotations)\n",
    "                     img0.append(image_fps)\n",
    "    def image_reference(self, image_id):\n",
    "        info = self.image_info[image_id]\n",
    "        return info['path']\n",
    "\n",
    "    def load_image(self, image_id):\n",
    "        info = self.image_info[image_id]\n",
    "        fp = info['path']\n",
    "        ds = pydicom.read_file(fp)\n",
    "        image = ds.pixel_array\n",
    "        # If grayscale. Convert to RGB for consistency.\n",
    "        if len(image.shape) != 3 or image.shape[2] != 3:\n",
    "            image = np.stack((image,) * 3, -1)\n",
    "        return image\n",
    "\n",
    "    def load_mask(self, image_id):\n",
    "        info = self.image_info[image_id]\n",
    "        annotations = info['annotations']\n",
    "        count = len(annotations)\n",
    "        if count == 0:\n",
    "            mask = np.zeros((info['orig_height'], info['orig_width'], 1), dtype=np.uint8)\n",
    "            class_ids = np.zeros((1,), dtype=np.int32)\n",
    "        else:\n",
    "            mask = np.zeros((info['orig_height'], info['orig_width'], count), dtype=np.uint8)\n",
    "            class_ids = np.zeros((count,), dtype=np.int32)\n",
    "            for i, a in enumerate(annotations):\n",
    "                if a['Target'] == 1:\n",
    "                    x = int(a['x'])\n",
    "                    y = int(a['y'])\n",
    "                    w = int(a['width'])\n",
    "                    h = int(a['height'])\n",
    "                    mask_instance = mask[:, :, i].copy()\n",
    "                    cv2.rectangle(mask_instance, (x, y), (x+w, y+h), 255, -1)\n",
    "                    mask[:, :, i] = mask_instance\n",
    "                    class_ids[i] = 1  \n",
    "        return mask.astype(np.bool), class_ids.astype(np.int32)"
   ]
  },
  {
   "cell_type": "markdown",
   "metadata": {
    "id": "9RlMo04ckd98"
   },
   "source": [
    "### Examine the annotation data, parse the dataset, and view dicom fields"
   ]
  },
  {
   "cell_type": "code",
   "execution_count": 13,
   "metadata": {
    "colab": {
     "base_uri": "https://localhost:8080/",
     "height": 227
    },
    "collapsed": false,
    "id": "SWo8_82vCYnG",
    "outputId": "aa2efba3-9014-4dbe-8ff2-b21d9717de42"
   },
   "outputs": [
    {
     "data": {
      "text/html": [
       "<div>\n",
       "<style scoped>\n",
       "    .dataframe tbody tr th:only-of-type {\n",
       "        vertical-align: middle;\n",
       "    }\n",
       "\n",
       "    .dataframe tbody tr th {\n",
       "        vertical-align: top;\n",
       "    }\n",
       "\n",
       "    .dataframe thead th {\n",
       "        text-align: right;\n",
       "    }\n",
       "</style>\n",
       "<table border=\"1\" class=\"dataframe\">\n",
       "  <thead>\n",
       "    <tr style=\"text-align: right;\">\n",
       "      <th></th>\n",
       "      <th>patientId</th>\n",
       "      <th>x</th>\n",
       "      <th>y</th>\n",
       "      <th>width</th>\n",
       "      <th>height</th>\n",
       "      <th>Target</th>\n",
       "    </tr>\n",
       "  </thead>\n",
       "  <tbody>\n",
       "    <tr>\n",
       "      <th>0</th>\n",
       "      <td>0004cfab-14fd-4e49-80ba-63a80b6bddd6</td>\n",
       "      <td>NaN</td>\n",
       "      <td>NaN</td>\n",
       "      <td>NaN</td>\n",
       "      <td>NaN</td>\n",
       "      <td>0</td>\n",
       "    </tr>\n",
       "    <tr>\n",
       "      <th>1</th>\n",
       "      <td>00313ee0-9eaa-42f4-b0ab-c148ed3241cd</td>\n",
       "      <td>NaN</td>\n",
       "      <td>NaN</td>\n",
       "      <td>NaN</td>\n",
       "      <td>NaN</td>\n",
       "      <td>0</td>\n",
       "    </tr>\n",
       "    <tr>\n",
       "      <th>2</th>\n",
       "      <td>00322d4d-1c29-4943-afc9-b6754be640eb</td>\n",
       "      <td>NaN</td>\n",
       "      <td>NaN</td>\n",
       "      <td>NaN</td>\n",
       "      <td>NaN</td>\n",
       "      <td>0</td>\n",
       "    </tr>\n",
       "    <tr>\n",
       "      <th>3</th>\n",
       "      <td>003d8fa0-6bf1-40ed-b54c-ac657f8495c5</td>\n",
       "      <td>NaN</td>\n",
       "      <td>NaN</td>\n",
       "      <td>NaN</td>\n",
       "      <td>NaN</td>\n",
       "      <td>0</td>\n",
       "    </tr>\n",
       "    <tr>\n",
       "      <th>4</th>\n",
       "      <td>00436515-870c-4b36-a041-de91049b9ab4</td>\n",
       "      <td>264.0</td>\n",
       "      <td>152.0</td>\n",
       "      <td>213.0</td>\n",
       "      <td>379.0</td>\n",
       "      <td>1</td>\n",
       "    </tr>\n",
       "    <tr>\n",
       "      <th>5</th>\n",
       "      <td>00436515-870c-4b36-a041-de91049b9ab4</td>\n",
       "      <td>562.0</td>\n",
       "      <td>152.0</td>\n",
       "      <td>256.0</td>\n",
       "      <td>453.0</td>\n",
       "      <td>1</td>\n",
       "    </tr>\n",
       "  </tbody>\n",
       "</table>\n",
       "</div>"
      ],
      "text/plain": [
       "                              patientId      x      y  width  height  Target\n",
       "0  0004cfab-14fd-4e49-80ba-63a80b6bddd6    NaN    NaN    NaN     NaN       0\n",
       "1  00313ee0-9eaa-42f4-b0ab-c148ed3241cd    NaN    NaN    NaN     NaN       0\n",
       "2  00322d4d-1c29-4943-afc9-b6754be640eb    NaN    NaN    NaN     NaN       0\n",
       "3  003d8fa0-6bf1-40ed-b54c-ac657f8495c5    NaN    NaN    NaN     NaN       0\n",
       "4  00436515-870c-4b36-a041-de91049b9ab4  264.0  152.0  213.0   379.0       1\n",
       "5  00436515-870c-4b36-a041-de91049b9ab4  562.0  152.0  256.0   453.0       1"
      ]
     },
     "execution_count": 13,
     "metadata": {
      "tags": []
     },
     "output_type": "execute_result"
    }
   ],
   "source": [
    "# training dataset\n",
    "anns = pd.read_csv(os.path.join(ROOT_DIR, 'stage_2_train_labels.csv'))\n",
    "anns.head(6)"
   ]
  },
  {
   "cell_type": "code",
   "execution_count": 15,
   "metadata": {
    "collapsed": true,
    "id": "kdEMhaRmCopL"
   },
   "outputs": [],
   "source": [
    "image_fps, image_annotations = parse_dataset(train_dicom_dir, anns=anns)"
   ]
  },
  {
   "cell_type": "code",
   "execution_count": 16,
   "metadata": {
    "collapsed": true,
    "id": "MjPBIL2aCuHF"
   },
   "outputs": [],
   "source": [
    "ds = pydicom.read_file(image_fps[0]) # read dicom image from filepath \n",
    "image = ds.pixel_array # get image array"
   ]
  },
  {
   "cell_type": "code",
   "execution_count": 17,
   "metadata": {
    "colab": {
     "base_uri": "https://localhost:8080/"
    },
    "collapsed": false,
    "id": "KDKfXJGfBuM-",
    "outputId": "b0476959-726c-4eba-a086-be059a97f467"
   },
   "outputs": [
    {
     "data": {
      "text/plain": [
       "26684"
      ]
     },
     "execution_count": 17,
     "metadata": {
      "tags": []
     },
     "output_type": "execute_result"
    }
   ],
   "source": [
    "len(image_fps)"
   ]
  },
  {
   "cell_type": "code",
   "execution_count": null,
   "metadata": {
    "colab": {
     "base_uri": "https://localhost:8080/",
     "height": 233
    },
    "collapsed": false,
    "id": "RjZzHntdXrTF",
    "outputId": "62a7dc43-b800-4b96-de6d-6ddb0cdc5d37"
   },
   "outputs": [
    {
     "data": {
      "text/html": [
       "<div>\n",
       "<style scoped>\n",
       "    .dataframe tbody tr th:only-of-type {\n",
       "        vertical-align: middle;\n",
       "    }\n",
       "\n",
       "    .dataframe tbody tr th {\n",
       "        vertical-align: top;\n",
       "    }\n",
       "\n",
       "    .dataframe thead th {\n",
       "        text-align: right;\n",
       "    }\n",
       "</style>\n",
       "<table border=\"1\" class=\"dataframe\">\n",
       "  <thead>\n",
       "    <tr style=\"text-align: right;\">\n",
       "      <th></th>\n",
       "      <th>patientId</th>\n",
       "      <th>x</th>\n",
       "      <th>y</th>\n",
       "      <th>width</th>\n",
       "      <th>height</th>\n",
       "      <th>Target</th>\n",
       "    </tr>\n",
       "  </thead>\n",
       "  <tbody>\n",
       "    <tr>\n",
       "      <th>4</th>\n",
       "      <td>00436515-870c-4b36-a041-de91049b9ab4</td>\n",
       "      <td>264.0</td>\n",
       "      <td>152.0</td>\n",
       "      <td>213.0</td>\n",
       "      <td>379.0</td>\n",
       "      <td>1</td>\n",
       "    </tr>\n",
       "    <tr>\n",
       "      <th>5</th>\n",
       "      <td>00436515-870c-4b36-a041-de91049b9ab4</td>\n",
       "      <td>562.0</td>\n",
       "      <td>152.0</td>\n",
       "      <td>256.0</td>\n",
       "      <td>453.0</td>\n",
       "      <td>1</td>\n",
       "    </tr>\n",
       "    <tr>\n",
       "      <th>8</th>\n",
       "      <td>00704310-78a8-4b38-8475-49f4573b2dbb</td>\n",
       "      <td>323.0</td>\n",
       "      <td>577.0</td>\n",
       "      <td>160.0</td>\n",
       "      <td>104.0</td>\n",
       "      <td>1</td>\n",
       "    </tr>\n",
       "    <tr>\n",
       "      <th>9</th>\n",
       "      <td>00704310-78a8-4b38-8475-49f4573b2dbb</td>\n",
       "      <td>695.0</td>\n",
       "      <td>575.0</td>\n",
       "      <td>162.0</td>\n",
       "      <td>137.0</td>\n",
       "      <td>1</td>\n",
       "    </tr>\n",
       "    <tr>\n",
       "      <th>14</th>\n",
       "      <td>00aecb01-a116-45a2-956c-08d2fa55433f</td>\n",
       "      <td>288.0</td>\n",
       "      <td>322.0</td>\n",
       "      <td>94.0</td>\n",
       "      <td>135.0</td>\n",
       "      <td>1</td>\n",
       "    </tr>\n",
       "    <tr>\n",
       "      <th>15</th>\n",
       "      <td>00aecb01-a116-45a2-956c-08d2fa55433f</td>\n",
       "      <td>547.0</td>\n",
       "      <td>299.0</td>\n",
       "      <td>119.0</td>\n",
       "      <td>165.0</td>\n",
       "      <td>1</td>\n",
       "    </tr>\n",
       "  </tbody>\n",
       "</table>\n",
       "</div>"
      ],
      "text/plain": [
       "                               patientId      x      y  width  height  Target\n",
       "4   00436515-870c-4b36-a041-de91049b9ab4  264.0  152.0  213.0   379.0       1\n",
       "5   00436515-870c-4b36-a041-de91049b9ab4  562.0  152.0  256.0   453.0       1\n",
       "8   00704310-78a8-4b38-8475-49f4573b2dbb  323.0  577.0  160.0   104.0       1\n",
       "9   00704310-78a8-4b38-8475-49f4573b2dbb  695.0  575.0  162.0   137.0       1\n",
       "14  00aecb01-a116-45a2-956c-08d2fa55433f  288.0  322.0   94.0   135.0       1\n",
       "15  00aecb01-a116-45a2-956c-08d2fa55433f  547.0  299.0  119.0   165.0       1"
      ]
     },
     "execution_count": 21,
     "metadata": {
      "tags": []
     },
     "output_type": "execute_result"
    }
   ],
   "source": [
    "is_1 =  anns['Target']==1\n",
    "anns1 = anns[is_1]\n",
    "anns1.head(6)"
   ]
  },
  {
   "cell_type": "code",
   "execution_count": null,
   "metadata": {
    "colab": {
     "base_uri": "https://localhost:8080/",
     "height": 233
    },
    "collapsed": false,
    "id": "3QtsfFj8ZDXn",
    "outputId": "452d5508-5e92-409f-d11d-57eae427ee3e"
   },
   "outputs": [
    {
     "data": {
      "text/html": [
       "<div>\n",
       "<style scoped>\n",
       "    .dataframe tbody tr th:only-of-type {\n",
       "        vertical-align: middle;\n",
       "    }\n",
       "\n",
       "    .dataframe tbody tr th {\n",
       "        vertical-align: top;\n",
       "    }\n",
       "\n",
       "    .dataframe thead th {\n",
       "        text-align: right;\n",
       "    }\n",
       "</style>\n",
       "<table border=\"1\" class=\"dataframe\">\n",
       "  <thead>\n",
       "    <tr style=\"text-align: right;\">\n",
       "      <th></th>\n",
       "      <th>patientId</th>\n",
       "      <th>x</th>\n",
       "      <th>y</th>\n",
       "      <th>width</th>\n",
       "      <th>height</th>\n",
       "      <th>Target</th>\n",
       "    </tr>\n",
       "  </thead>\n",
       "  <tbody>\n",
       "    <tr>\n",
       "      <th>0</th>\n",
       "      <td>0004cfab-14fd-4e49-80ba-63a80b6bddd6</td>\n",
       "      <td>NaN</td>\n",
       "      <td>NaN</td>\n",
       "      <td>NaN</td>\n",
       "      <td>NaN</td>\n",
       "      <td>0</td>\n",
       "    </tr>\n",
       "    <tr>\n",
       "      <th>1</th>\n",
       "      <td>00313ee0-9eaa-42f4-b0ab-c148ed3241cd</td>\n",
       "      <td>NaN</td>\n",
       "      <td>NaN</td>\n",
       "      <td>NaN</td>\n",
       "      <td>NaN</td>\n",
       "      <td>0</td>\n",
       "    </tr>\n",
       "    <tr>\n",
       "      <th>2</th>\n",
       "      <td>00322d4d-1c29-4943-afc9-b6754be640eb</td>\n",
       "      <td>NaN</td>\n",
       "      <td>NaN</td>\n",
       "      <td>NaN</td>\n",
       "      <td>NaN</td>\n",
       "      <td>0</td>\n",
       "    </tr>\n",
       "    <tr>\n",
       "      <th>3</th>\n",
       "      <td>003d8fa0-6bf1-40ed-b54c-ac657f8495c5</td>\n",
       "      <td>NaN</td>\n",
       "      <td>NaN</td>\n",
       "      <td>NaN</td>\n",
       "      <td>NaN</td>\n",
       "      <td>0</td>\n",
       "    </tr>\n",
       "    <tr>\n",
       "      <th>6</th>\n",
       "      <td>00569f44-917d-4c86-a842-81832af98c30</td>\n",
       "      <td>NaN</td>\n",
       "      <td>NaN</td>\n",
       "      <td>NaN</td>\n",
       "      <td>NaN</td>\n",
       "      <td>0</td>\n",
       "    </tr>\n",
       "    <tr>\n",
       "      <th>7</th>\n",
       "      <td>006cec2e-6ce2-4549-bffa-eadfcd1e9970</td>\n",
       "      <td>NaN</td>\n",
       "      <td>NaN</td>\n",
       "      <td>NaN</td>\n",
       "      <td>NaN</td>\n",
       "      <td>0</td>\n",
       "    </tr>\n",
       "  </tbody>\n",
       "</table>\n",
       "</div>"
      ],
      "text/plain": [
       "                              patientId   x   y  width  height  Target\n",
       "0  0004cfab-14fd-4e49-80ba-63a80b6bddd6 NaN NaN    NaN     NaN       0\n",
       "1  00313ee0-9eaa-42f4-b0ab-c148ed3241cd NaN NaN    NaN     NaN       0\n",
       "2  00322d4d-1c29-4943-afc9-b6754be640eb NaN NaN    NaN     NaN       0\n",
       "3  003d8fa0-6bf1-40ed-b54c-ac657f8495c5 NaN NaN    NaN     NaN       0\n",
       "6  00569f44-917d-4c86-a842-81832af98c30 NaN NaN    NaN     NaN       0\n",
       "7  006cec2e-6ce2-4549-bffa-eadfcd1e9970 NaN NaN    NaN     NaN       0"
      ]
     },
     "execution_count": 22,
     "metadata": {
      "tags": []
     },
     "output_type": "execute_result"
    }
   ],
   "source": [
    "is_0 =  anns['Target']==0\n",
    "anns0 = anns[is_0]\n",
    "anns0.head(6)"
   ]
  },
  {
   "cell_type": "code",
   "execution_count": null,
   "metadata": {
    "colab": {
     "base_uri": "https://localhost:8080/"
    },
    "collapsed": false,
    "id": "1lsWk_b1Z6-o",
    "outputId": "934e5461-8089-4d48-b9bb-1773673ebb1d"
   },
   "outputs": [
    {
     "data": {
      "text/plain": [
       "(9555, 6)"
      ]
     },
     "execution_count": 23,
     "metadata": {
      "tags": []
     },
     "output_type": "execute_result"
    }
   ],
   "source": [
    "anns1.shape"
   ]
  },
  {
   "cell_type": "code",
   "execution_count": null,
   "metadata": {
    "colab": {
     "base_uri": "https://localhost:8080/"
    },
    "collapsed": false,
    "id": "aViTHq_HaAWS",
    "outputId": "96f44b80-712d-4c45-d7d4-29b2f19b4daf"
   },
   "outputs": [
    {
     "data": {
      "text/plain": [
       "(20672, 6)"
      ]
     },
     "execution_count": 24,
     "metadata": {
      "tags": []
     },
     "output_type": "execute_result"
    }
   ],
   "source": [
    "anns0.shape"
   ]
  },
  {
   "cell_type": "code",
   "execution_count": null,
   "metadata": {
    "colab": {
     "base_uri": "https://localhost:8080/"
    },
    "collapsed": false,
    "id": "nHY3SyeV_MMM",
    "outputId": "4bf38a19-b9b9-40e2-d62f-da1632cc928c"
   },
   "outputs": [
    {
     "data": {
      "text/plain": [
       "(30227, 6)"
      ]
     },
     "execution_count": 25,
     "metadata": {
      "tags": []
     },
     "output_type": "execute_result"
    }
   ],
   "source": [
    "anns.shape"
   ]
  },
  {
   "cell_type": "code",
   "execution_count": null,
   "metadata": {
    "colab": {
     "base_uri": "https://localhost:8080/",
     "height": 35
    },
    "collapsed": false,
    "id": "GsCY1mde-qYL",
    "outputId": "fd9e32d7-c71a-4220-f2cc-be937c85e543"
   },
   "outputs": [
    {
     "data": {
      "application/vnd.google.colaboratory.intrinsic+json": {
       "type": "string"
      },
      "text/plain": [
       "'00436515-870c-4b36-a041-de91049b9ab4'"
      ]
     },
     "execution_count": 26,
     "metadata": {
      "tags": []
     },
     "output_type": "execute_result"
    }
   ],
   "source": [
    "anns.iloc[4]['patientId']"
   ]
  },
  {
   "cell_type": "code",
   "execution_count": null,
   "metadata": {
    "colab": {
     "base_uri": "https://localhost:8080/"
    },
    "collapsed": false,
    "id": "88jzq94Y1Apk",
    "outputId": "0d608c7a-aaf2-4bba-bd56-7c7d526f2f7d"
   },
   "outputs": [
    {
     "data": {
      "text/plain": [
       "114"
      ]
     },
     "execution_count": 132,
     "metadata": {
      "tags": []
     },
     "output_type": "execute_result"
    }
   ],
   "source": [
    "len(image_fps[0])"
   ]
  },
  {
   "cell_type": "code",
   "execution_count": null,
   "metadata": {
    "colab": {
     "base_uri": "https://localhost:8080/"
    },
    "collapsed": false,
    "id": "sHyN2_C-8sWJ",
    "outputId": "72fff4f7-b66e-44f2-a2ab-d73bf5289dcf"
   },
   "outputs": [
    {
     "name": "stdout",
     "output_type": "stream",
     "text": [
      "/content/drive/My Drive/CAPSTONE_PROJECT/Kaggle-Data/stage_2_train_images/388cc388-c2aa-4bfe-8a63-4565c626d951.dcm\n"
     ]
    }
   ],
   "source": [
    "print (image_fps[0])"
   ]
  },
  {
   "cell_type": "code",
   "execution_count": null,
   "metadata": {
    "collapsed": true,
    "id": "iNj2CVlpQTPs"
   },
   "outputs": [],
   "source": [
    "ds = dicom.read_file(image_fps[0])\n",
    "df2 = pd.DataFrame(ds.values())\n",
    "df3 = pd.DataFrame(ds.values())\n",
    "df3[0] = df3[0].apply(lambda x: dicom.dataelem.DataElement_from_raw(x) if isinstance(x, dicom.dataelem.RawDataElement) else x)\n",
    "df3['name'] = df3[0].apply(lambda x: x.name)\n",
    "df3['value'] = df3[0].apply(lambda x: x.value)\n",
    "df3 = df3[['name', 'value']]"
   ]
  },
  {
   "cell_type": "code",
   "execution_count": null,
   "metadata": {
    "colab": {
     "base_uri": "https://localhost:8080/"
    },
    "collapsed": false,
    "id": "Wz_L6JNf9YbG",
    "outputId": "bc97d4c7-256e-437b-8742-6628b05df070"
   },
   "outputs": [
    {
     "data": {
      "text/plain": [
       "(35, 1)"
      ]
     },
     "execution_count": 229,
     "metadata": {
      "tags": []
     },
     "output_type": "execute_result"
    }
   ],
   "source": [
    "df2.shape"
   ]
  },
  {
   "cell_type": "code",
   "execution_count": null,
   "metadata": {
    "colab": {
     "base_uri": "https://localhost:8080/",
     "height": 35
    },
    "collapsed": false,
    "id": "-eP7ZqRITM7P",
    "outputId": "fb003e62-4511-4d29-902b-0ef989737002"
   },
   "outputs": [
    {
     "data": {
      "application/vnd.google.colaboratory.intrinsic+json": {
       "type": "string"
      },
      "text/plain": [
       "'388cc388-c2aa-4bfe-8a63-4565c626d951'"
      ]
     },
     "execution_count": 222,
     "metadata": {
      "tags": []
     },
     "output_type": "execute_result"
    }
   ],
   "source": [
    "df3.iloc[11][1]"
   ]
  },
  {
   "cell_type": "code",
   "execution_count": null,
   "metadata": {
    "colab": {
     "base_uri": "https://localhost:8080/"
    },
    "collapsed": false,
    "id": "xrsiT8IPVFnk",
    "outputId": "622cef54-a04e-4e54-c270-1a895b5f2601"
   },
   "outputs": [
    {
     "name": "stdout",
     "output_type": "stream",
     "text": [
      "009482dc-3db5-48d4-8580-5c89c4f01334\n"
     ]
    }
   ],
   "source": [
    "print(anns.iloc[11]['patientId'])"
   ]
  },
  {
   "cell_type": "code",
   "execution_count": null,
   "metadata": {
    "colab": {
     "base_uri": "https://localhost:8080/"
    },
    "collapsed": false,
    "id": "_vOrI6V0CAYy",
    "outputId": "5af67d5b-ed59-46fb-c845-92e12ea7f8f6"
   },
   "outputs": [
    {
     "data": {
      "text/plain": [
       "Dataset.file_meta -------------------------------\n",
       "(0002, 0000) File Meta Information Group Length  UL: 202\n",
       "(0002, 0001) File Meta Information Version       OB: b'\\x00\\x01'\n",
       "(0002, 0002) Media Storage SOP Class UID         UI: Secondary Capture Image Storage\n",
       "(0002, 0003) Media Storage SOP Instance UID      UI: 1.2.276.0.7230010.3.1.4.8323329.19752.1517874419.644112\n",
       "(0002, 0010) Transfer Syntax UID                 UI: JPEG Baseline (Process 1)\n",
       "(0002, 0012) Implementation Class UID            UI: 1.2.276.0.7230010.3.0.3.6.0\n",
       "(0002, 0013) Implementation Version Name         SH: 'OFFIS_DCMTK_360'\n",
       "-------------------------------------------------\n",
       "(0008, 0005) Specific Character Set              CS: 'ISO_IR 100'\n",
       "(0008, 0016) SOP Class UID                       UI: Secondary Capture Image Storage\n",
       "(0008, 0018) SOP Instance UID                    UI: 1.2.276.0.7230010.3.1.4.8323329.19752.1517874419.644112\n",
       "(0008, 0020) Study Date                          DA: '19010101'\n",
       "(0008, 0030) Study Time                          TM: '000000.00'\n",
       "(0008, 0050) Accession Number                    SH: ''\n",
       "(0008, 0060) Modality                            CS: 'CR'\n",
       "(0008, 0064) Conversion Type                     CS: 'WSD'\n",
       "(0008, 0090) Referring Physician's Name          PN: ''\n",
       "(0008, 103e) Series Description                  LO: 'view: AP'\n",
       "(0010, 0010) Patient's Name                      PN: '388cc388-c2aa-4bfe-8a63-4565c626d951'\n",
       "(0010, 0020) Patient ID                          LO: '388cc388-c2aa-4bfe-8a63-4565c626d951'\n",
       "(0010, 0030) Patient's Birth Date                DA: ''\n",
       "(0010, 0040) Patient's Sex                       CS: 'M'\n",
       "(0010, 1010) Patient's Age                       AS: '61'\n",
       "(0018, 0015) Body Part Examined                  CS: 'CHEST'\n",
       "(0018, 5101) View Position                       CS: 'AP'\n",
       "(0020, 000d) Study Instance UID                  UI: 1.2.276.0.7230010.3.1.2.8323329.19752.1517874419.644111\n",
       "(0020, 000e) Series Instance UID                 UI: 1.2.276.0.7230010.3.1.3.8323329.19752.1517874419.644110\n",
       "(0020, 0010) Study ID                            SH: ''\n",
       "(0020, 0011) Series Number                       IS: \"1\"\n",
       "(0020, 0013) Instance Number                     IS: \"1\"\n",
       "(0020, 0020) Patient Orientation                 CS: ''\n",
       "(0028, 0002) Samples per Pixel                   US: 1\n",
       "(0028, 0004) Photometric Interpretation          CS: 'MONOCHROME2'\n",
       "(0028, 0010) Rows                                US: 1024\n",
       "(0028, 0011) Columns                             US: 1024\n",
       "(0028, 0030) Pixel Spacing                       DS: [0.168, 0.168]\n",
       "(0028, 0100) Bits Allocated                      US: 8\n",
       "(0028, 0101) Bits Stored                         US: 8\n",
       "(0028, 0102) High Bit                            US: 7\n",
       "(0028, 0103) Pixel Representation                US: 0\n",
       "(0028, 2110) Lossy Image Compression             CS: '01'\n",
       "(0028, 2114) Lossy Image Compression Method      CS: 'ISO_10918_1'\n",
       "(7fe0, 0010) Pixel Data                          OB: Array of 90130 elements"
      ]
     },
     "execution_count": 234,
     "metadata": {
      "tags": []
     },
     "output_type": "execute_result"
    }
   ],
   "source": [
    "ds"
   ]
  },
  {
   "cell_type": "code",
   "execution_count": null,
   "metadata": {
    "colab": {
     "base_uri": "https://localhost:8080/",
     "height": 35
    },
    "collapsed": false,
    "id": "IvOmvbYeCsJq",
    "outputId": "7de0eb65-eb75-4ac8-cec3-651b1764febb"
   },
   "outputs": [
    {
     "data": {
      "application/vnd.google.colaboratory.intrinsic+json": {
       "type": "string"
      },
      "text/plain": [
       "'388cc388-c2aa-4bfe-8a63-4565c626d951'"
      ]
     },
     "execution_count": 238,
     "metadata": {
      "tags": []
     },
     "output_type": "execute_result"
    }
   ],
   "source": [
    "ds[0x0010, 0x0020].value"
   ]
  },
  {
   "cell_type": "code",
   "execution_count": null,
   "metadata": {
    "colab": {
     "base_uri": "https://localhost:8080/"
    },
    "collapsed": false,
    "id": "8IFaKMafZSim",
    "outputId": "bfeb925e-35e0-48ca-fdad-c91fb8c94808"
   },
   "outputs": [
    {
     "data": {
      "text/plain": [
       "0"
      ]
     },
     "execution_count": 45,
     "metadata": {
      "tags": []
     },
     "output_type": "execute_result"
    }
   ],
   "source": [
    "len(image_fps0)"
   ]
  },
  {
   "cell_type": "code",
   "execution_count": null,
   "metadata": {
    "colab": {
     "base_uri": "https://localhost:8080/"
    },
    "collapsed": false,
    "id": "uQBnhdMzqamC",
    "outputId": "f4f68e91-470e-4745-e972-58aa64291f21"
   },
   "outputs": [
    {
     "data": {
      "text/plain": [
       "9555"
      ]
     },
     "execution_count": 109,
     "metadata": {
      "tags": []
     },
     "output_type": "execute_result"
    }
   ],
   "source": [
    "len(image_annotations01)"
   ]
  },
  {
   "cell_type": "markdown",
   "metadata": {
    "id": "cHHrb3C1BK-y"
   },
   "source": [
    "Split the data into training and validation datasets\n",
    "Note: We have only used only a portion of the images for demonstration purposes. See comments below.\n",
    "\n",
    "To use all the images do: image_fps_list = list(image_fps)\n",
    "Or change the number of images from 100 to a custom number"
   ]
  },
  {
   "cell_type": "code",
   "execution_count": 48,
   "metadata": {
    "colab": {
     "base_uri": "https://localhost:8080/"
    },
    "collapsed": false,
    "id": "7jByVCZt-ZOC",
    "outputId": "3500d1f1-f72b-450e-ada0-ab5a85cfe188"
   },
   "outputs": [
    {
     "name": "stdout",
     "output_type": "stream",
     "text": [
      "900 100\n"
     ]
    }
   ],
   "source": [
    "# Original DICOM image size: 1024 x 1024\n",
    "ORIG_SIZE = 1024\n",
    "######################################################################\n",
    "# Modify this line to use more or fewer images for training/validation. \n",
    "# To use all images, do: image_fps_list = list(image_fps[:3600])\n",
    "image_fps_list = list(image_fps[:1000]) \n",
    "#####################################################################\n",
    "\n",
    "# split dataset into training vs. validation dataset \n",
    "# split ratio is set to 0.9 vs. 0.1 (train vs. validation, respectively)\n",
    "sorted(image_fps_list)\n",
    "random.seed(42)\n",
    "random.shuffle(image_fps_list)\n",
    "\n",
    "validation_split = 0.1\n",
    "split_index = int((1 - validation_split) * len(image_fps_list))\n",
    "\n",
    "image_fps_train = image_fps_list[:split_index]\n",
    "image_fps_val = image_fps_list[split_index:]\n",
    "\n",
    "print(len(image_fps_train), len(image_fps_val))\n",
    "\n",
    "# prepare the training dataset using the DetectorDataset class\n",
    "dataset_train = DetectorDataset(image_fps_train, image_annotations, ORIG_SIZE, ORIG_SIZE)\n",
    "dataset_train.prepare()\n",
    "\n",
    "# prepare the validation dataset\n",
    "dataset_val = DetectorDataset(image_fps_val, image_annotations, ORIG_SIZE, ORIG_SIZE)\n",
    "dataset_val.prepare()"
   ]
  },
  {
   "cell_type": "code",
   "execution_count": null,
   "metadata": {
    "colab": {
     "base_uri": "https://localhost:8080/"
    },
    "collapsed": false,
    "id": "O77_H6fVrQ3H",
    "outputId": "c5c7f9be-7281-428e-fb6f-0529f1263bed"
   },
   "outputs": [
    {
     "name": "stdout",
     "output_type": "stream",
     "text": [
      "/content/drive/My Drive/CAPSTONE_PROJECT/Kaggle-Data/stage_2_train_images/43b42736-57c4-447d-9c50-19b92dcde9e3.dcm\n"
     ]
    }
   ],
   "source": [
    "print (image_fps_list[0])"
   ]
  },
  {
   "cell_type": "markdown",
   "metadata": {
    "id": "cAhOHQL0DXmi"
   },
   "source": [
    "Create and prepare the training dataset using the DetectorDataset class."
   ]
  },
  {
   "cell_type": "markdown",
   "metadata": {
    "id": "djgxe3j8Dfdx"
   },
   "source": [
    "Let's look at a sample annotation. We see a bounding box with (x, y) of the the top left corner as well as the width and height."
   ]
  },
  {
   "cell_type": "code",
   "execution_count": null,
   "metadata": {
    "colab": {
     "base_uri": "https://localhost:8080/"
    },
    "collapsed": false,
    "id": "8sno2wMLDio6",
    "outputId": "a3791178-b32f-42ba-a686-fdcef2280ff1"
   },
   "outputs": [
    {
     "data": {
      "text/plain": [
       "[patientId    be5d92d6-f2b3-483c-842c-aff4571ee8a7\n",
       " x                                             491\n",
       " y                                             340\n",
       " width                                         187\n",
       " height                                        467\n",
       " Target                                          1\n",
       " Name: 20949, dtype: object, patientId    be5d92d6-f2b3-483c-842c-aff4571ee8a7\n",
       " x                                             113\n",
       " y                                             233\n",
       " width                                         225\n",
       " height                                        523\n",
       " Target                                          1\n",
       " Name: 20950, dtype: object]"
      ]
     },
     "execution_count": 50,
     "metadata": {
      "tags": []
     },
     "output_type": "execute_result"
    }
   ],
   "source": [
    "# Show annotation(s) for a DICOM image \n",
    "test_fp = random.choice(image_fps_train)\n",
    "image_annotations[test_fp]"
   ]
  },
  {
   "cell_type": "markdown",
   "metadata": {
    "id": "EQQZBG2fDvL9"
   },
   "source": [
    "Display a random image with bounding boxes"
   ]
  },
  {
   "cell_type": "code",
   "execution_count": null,
   "metadata": {
    "colab": {
     "base_uri": "https://localhost:8080/",
     "height": 337
    },
    "collapsed": false,
    "id": "4xwsrf9G1lHR",
    "outputId": "02bbbeff-1595-4112-e2cb-45222a23055f"
   },
   "outputs": [
    {
     "name": "stdout",
     "output_type": "stream",
     "text": [
      "(1024, 1024, 3)\n",
      "/content/drive/My Drive/CAPSTONE_PROJECT/Kaggle-Data/stage_2_train_images/345b6880-93d1-4706-872b-04b7cda49f07.dcm\n",
      "[0]\n"
     ]
    },
    {
     "data": {
      "image/png": "[encoded data removed]",
      "text/plain": [
       "<Figure size 720x720 with 2 Axes>"
      ]
     },
     "metadata": {
      "needs_background": "light",
      "tags": []
     },
     "output_type": "display_data"
    }
   ],
   "source": [
    "# Load and display random samples and their bounding boxes\n",
    "# Suggestion: Run this a few times to see different examples. \n",
    "\n",
    "image_id = random.choice(dataset_train.image_ids)\n",
    "image_fp = dataset_train.image_reference(image_id)\n",
    "image = dataset_train.load_image(image_id)\n",
    "mask, class_ids = dataset_train.load_mask(image_id)\n",
    "\n",
    "print(image.shape)\n",
    "\n",
    "plt.figure(figsize=(10, 10))\n",
    "plt.subplot(1, 2, 1)\n",
    "plt.imshow(image[:, :, 0], cmap='gray')\n",
    "plt.axis('off')\n",
    "\n",
    "plt.subplot(1, 2, 2)\n",
    "masked = np.zeros(image.shape[:2])\n",
    "for i in range(mask.shape[2]):\n",
    "    masked += image[:, :, 0] * mask[:, :, i]\n",
    "plt.imshow(masked, cmap='gray')\n",
    "plt.axis('off')\n",
    "\n",
    "print(image_fp)\n",
    "print(class_ids)"
   ]
  },
  {
   "cell_type": "code",
   "execution_count": 49,
   "metadata": {
    "collapsed": true,
    "id": "BioBZWaMxuPd"
   },
   "outputs": [],
   "source": [
    "import matplotlib.pyplot as plt\n",
    "import tensorflow as tf \n",
    "from tensorflow import keras \n",
    "from tensorflow.keras.models import Sequential\n",
    "from tensorflow.keras.layers import Dense, Activation, Conv2D, MaxPooling2D, Flatten, Dropout, BatchNormalization\n",
    "from tensorflow.keras.optimizers import Adam\n",
    "from tensorflow.keras.callbacks import EarlyStopping\n",
    "from tensorflow.keras.preprocessing.image import ImageDataGenerator\n",
    "from sklearn.metrics import precision_recall_curve, roc_curve, accuracy_score, confusion_matrix, precision_score, recall_score\n",
    "from sklearn.decomposition import PCA\n",
    "from sklearn.model_selection import train_test_split\n",
    "import matplotlib.pyplot as plt \n",
    "import seaborn as sns \n",
    "plt.style.use('fivethirtyeight')\n",
    "import pickle \n",
    "import os \n",
    "import numpy as np\n",
    "import cv2 \n",
    "%matplotlib inline\n",
    "#https://www.kaggle.com/therealcyberlord/pneumonia-detection-using-deep-learning"
   ]
  },
  {
   "cell_type": "code",
   "execution_count": 50,
   "metadata": {
    "colab": {
     "base_uri": "https://localhost:8080/"
    },
    "collapsed": false,
    "id": "ykV3ThKsg0a3",
    "outputId": "2803f49d-43c5-460d-8677-34a90d4de81f"
   },
   "outputs": [
    {
     "name": "stdout",
     "output_type": "stream",
     "text": [
      "[[0.00784314 0.01176471 0.01176471 ... 0.01568627 0.01568627 0.01568627]\n",
      " [0.00784314 0.01176471 0.01176471 ... 0.01372549 0.01568627 0.01568627]\n",
      " [0.01078431 0.01176471 0.01176471 ... 0.01176471 0.01568627 0.01568627]\n",
      " ...\n",
      " [0.07058824 0.13333333 0.20196078 ... 0.02745098 0.0254902  0.02352941]\n",
      " [0.07058824 0.13333333 0.20784314 ... 0.02352941 0.02352941 0.02352941]\n",
      " [0.06960784 0.12745098 0.19509804 ... 0.02156863 0.02156863 0.02156863]]\n"
     ]
    }
   ],
   "source": [
    "len(X)\n",
    "print (X[1])"
   ]
  },
  {
   "cell_type": "code",
   "execution_count": 51,
   "metadata": {
    "colab": {
     "base_uri": "https://localhost:8080/"
    },
    "collapsed": false,
    "id": "rGNGUDadg6Zp",
    "outputId": "b174dc9b-5028-4dea-f0a8-ea1664705018"
   },
   "outputs": [
    {
     "data": {
      "text/plain": [
       "1000"
      ]
     },
     "execution_count": 51,
     "metadata": {
      "tags": []
     },
     "output_type": "execute_result"
    }
   ],
   "source": [
    "len(y)"
   ]
  },
  {
   "cell_type": "code",
   "execution_count": 52,
   "metadata": {
    "colab": {
     "base_uri": "https://localhost:8080/"
    },
    "collapsed": false,
    "id": "O-PlgDyPBQZN",
    "outputId": "a557090f-d9ca-42d2-d4e5-01cd644c8b9e"
   },
   "outputs": [
    {
     "name": "stdout",
     "output_type": "stream",
     "text": [
      "[patientId    dec3b97e-a2e3-45e4-a72d-1d6d9ce016e0\n",
      "x                                             NaN\n",
      "y                                             NaN\n",
      "width                                         NaN\n",
      "height                                        NaN\n",
      "Target                                          0\n",
      "Name: 24800, dtype: object]\n"
     ]
    }
   ],
   "source": [
    "print (y[0])"
   ]
  },
  {
   "cell_type": "code",
   "execution_count": 24,
   "metadata": {
    "colab": {
     "base_uri": "https://localhost:8080/"
    },
    "collapsed": false,
    "id": "To4sLtIUHSVc",
    "outputId": "9f300a22-7826-468a-b4e0-46fce5162994"
   },
   "outputs": [
    {
     "name": "stdout",
     "output_type": "stream",
     "text": [
      "de7f40b2-741b-4345-881c-856526ec76dc\n"
     ]
    }
   ],
   "source": [
    "print (y[0][0].patientId)"
   ]
  },
  {
   "cell_type": "code",
   "execution_count": 57,
   "metadata": {
    "collapsed": true,
    "id": "4rCQfDiwIZWm"
   },
   "outputs": [],
   "source": [
    "count = len(y)"
   ]
  },
  {
   "cell_type": "code",
   "execution_count": 58,
   "metadata": {
    "collapsed": true,
    "id": "YW7fNbse6cDl"
   },
   "outputs": [],
   "source": [
    "z = []"
   ]
  },
  {
   "cell_type": "code",
   "execution_count": 59,
   "metadata": {
    "collapsed": true,
    "id": "Htuo9M23izQa"
   },
   "outputs": [],
   "source": [
    "for i in range(count): \n",
    " z.append(y[i][0].Target) "
   ]
  },
  {
   "cell_type": "code",
   "execution_count": 60,
   "metadata": {
    "colab": {
     "base_uri": "https://localhost:8080/"
    },
    "collapsed": false,
    "id": "QyHKTNXxi3yL",
    "outputId": "7a171d8e-babd-4dc5-dd94-a9902b4ce1d7"
   },
   "outputs": [
    {
     "data": {
      "text/plain": [
       "1000"
      ]
     },
     "execution_count": 60,
     "metadata": {
      "tags": []
     },
     "output_type": "execute_result"
    }
   ],
   "source": [
    "len(z)"
   ]
  },
  {
   "cell_type": "code",
   "execution_count": 61,
   "metadata": {
    "colab": {
     "base_uri": "https://localhost:8080/"
    },
    "collapsed": false,
    "id": "0rnVA7aZ6f3a",
    "outputId": "08fe6ea3-da60-407c-e4be-a617cc8c47ff"
   },
   "outputs": [
    {
     "name": "stdout",
     "output_type": "stream",
     "text": [
      "0\n"
     ]
    }
   ],
   "source": [
    "print (z[13])"
   ]
  },
  {
   "cell_type": "code",
   "execution_count": 62,
   "metadata": {
    "collapsed": true,
    "id": "aVZStfB6r0lw"
   },
   "outputs": [],
   "source": [
    "X1 = np.array(X)\n",
    "y1 = np.array(y)"
   ]
  },
  {
   "cell_type": "code",
   "execution_count": 63,
   "metadata": {
    "collapsed": true,
    "id": "DTXS6zyU7CcL"
   },
   "outputs": [],
   "source": [
    "z1 = np.array(z)"
   ]
  },
  {
   "cell_type": "code",
   "execution_count": 64,
   "metadata": {
    "colab": {
     "base_uri": "https://localhost:8080/"
    },
    "collapsed": false,
    "id": "rXS9I9jVuCBw",
    "outputId": "64a16f72-f399-4702-9111-66634a5a997d"
   },
   "outputs": [
    {
     "data": {
      "text/plain": [
       "(1000, 128, 128)"
      ]
     },
     "execution_count": 64,
     "metadata": {
      "tags": []
     },
     "output_type": "execute_result"
    }
   ],
   "source": [
    "X1.shape"
   ]
  },
  {
   "cell_type": "code",
   "execution_count": 65,
   "metadata": {
    "collapsed": true,
    "id": "pZmGc2nmuYac"
   },
   "outputs": [],
   "source": [
    "X11 = X1.reshape(1000,128,128,1)"
   ]
  },
  {
   "cell_type": "code",
   "execution_count": 66,
   "metadata": {
    "collapsed": true,
    "id": "nstsMwpPWFWO"
   },
   "outputs": [],
   "source": [
    "X_train, X_test, y_train, y_test = train_test_split(X11, z1, test_size=0.2, random_state=32)\n",
    "X_train, X_val, y_train, y_val = train_test_split(X_train, y_train, test_size=0.20, random_state=32)"
   ]
  },
  {
   "cell_type": "code",
   "execution_count": 67,
   "metadata": {
    "collapsed": true,
    "id": "1hqhT57srfJR"
   },
   "outputs": [],
   "source": [
    "X_train = X_train / 255\n",
    "X_test = X_test / 255\n",
    "X_val = X_val / 255"
   ]
  },
  {
   "cell_type": "code",
   "execution_count": 68,
   "metadata": {
    "collapsed": true,
    "id": "3562xFZrkEY_"
   },
   "outputs": [],
   "source": [
    "# good for balancing out disproportions in the dataset \n",
    "datagen = ImageDataGenerator(\n",
    "        featurewise_center=False, \n",
    "        samplewise_center=False,  \n",
    "        featurewise_std_normalization=False,  \n",
    "        samplewise_std_normalization=False,  \n",
    "        zca_whitening=False,  \n",
    "        rotation_range=90, \n",
    "        zoom_range = 0.1, \n",
    "        width_shift_range=0.1,  \n",
    "        height_shift_range=0.1,  \n",
    "        horizontal_flip=True,  \n",
    "        vertical_flip=True)  \n",
    "\n",
    "datagen.fit(X_train)"
   ]
  },
  {
   "cell_type": "code",
   "execution_count": 90,
   "metadata": {
    "collapsed": true,
    "id": "ooXQiCESyagF"
   },
   "outputs": [],
   "source": [
    "model = Sequential()\n",
    "\n",
    "model.add(Conv2D(256, (3, 3), input_shape=X_train.shape[1:], padding='same'))\n",
    "model.add(Activation('relu'))\n",
    "model.add(MaxPooling2D(pool_size=(2, 2), padding='same'))\n",
    "model.add(BatchNormalization(axis=1))\n",
    "\n",
    "model.add(Conv2D(64, (3, 3), padding='same'))\n",
    "model.add(Activation('relu'))\n",
    "model.add(MaxPooling2D(pool_size=(2, 2), padding='same'))\n",
    "model.add(BatchNormalization(axis=1))\n",
    "\n",
    "model.add(Conv2D(16, (3, 3), padding='same'))\n",
    "model.add(Activation('relu'))\n",
    "model.add(MaxPooling2D(pool_size=(2, 2), padding='same'))\n",
    "model.add(BatchNormalization(axis=1))\n",
    "\n",
    "model.add(Flatten())  # this converts our 3D feature maps to 1D feature vectors\n",
    "\n",
    "model.add(Dropout(0.5))\n",
    "model.add(Dense(64))\n",
    "model.add(Activation('relu'))\n",
    "\n",
    "model.add(Dropout(0.5))\n",
    "model.add(Dense(1))\n",
    "model.add(Activation('sigmoid'))\n",
    "\n",
    "early_stop = EarlyStopping(patience=3, monitor='val_loss', restore_best_weights=True)\n",
    "adam = Adam(learning_rate=0.000001)\n",
    "model.compile(loss='binary_crossentropy',optimizer=adam,metrics=['acc'])"
   ]
  },
  {
   "cell_type": "code",
   "execution_count": 91,
   "metadata": {
    "colab": {
     "base_uri": "https://localhost:8080/"
    },
    "collapsed": false,
    "id": "FLa0M_rLymsF",
    "outputId": "7072a41d-cffc-4fce-a217-3740ce8d9361"
   },
   "outputs": [
    {
     "name": "stdout",
     "output_type": "stream",
     "text": [
      "Model: \"sequential_7\"\n",
      "_________________________________________________________________\n",
      "Layer (type)                 Output Shape              Param #   \n",
      "=================================================================\n",
      "conv2d_21 (Conv2D)           (None, 128, 128, 256)     2560      \n",
      "_________________________________________________________________\n",
      "activation_35 (Activation)   (None, 128, 128, 256)     0         \n",
      "_________________________________________________________________\n",
      "max_pooling2d_21 (MaxPooling (None, 64, 64, 256)       0         \n",
      "_________________________________________________________________\n",
      "batch_normalization_21 (Batc (None, 64, 64, 256)       256       \n",
      "_________________________________________________________________\n",
      "conv2d_22 (Conv2D)           (None, 64, 64, 64)        147520    \n",
      "_________________________________________________________________\n",
      "activation_36 (Activation)   (None, 64, 64, 64)        0         \n",
      "_________________________________________________________________\n",
      "max_pooling2d_22 (MaxPooling (None, 32, 32, 64)        0         \n",
      "_________________________________________________________________\n",
      "batch_normalization_22 (Batc (None, 32, 32, 64)        128       \n",
      "_________________________________________________________________\n",
      "conv2d_23 (Conv2D)           (None, 32, 32, 16)        9232      \n",
      "_________________________________________________________________\n",
      "activation_37 (Activation)   (None, 32, 32, 16)        0         \n",
      "_________________________________________________________________\n",
      "max_pooling2d_23 (MaxPooling (None, 16, 16, 16)        0         \n",
      "_________________________________________________________________\n",
      "batch_normalization_23 (Batc (None, 16, 16, 16)        64        \n",
      "_________________________________________________________________\n",
      "flatten_7 (Flatten)          (None, 4096)              0         \n",
      "_________________________________________________________________\n",
      "dropout_14 (Dropout)         (None, 4096)              0         \n",
      "_________________________________________________________________\n",
      "dense_14 (Dense)             (None, 64)                262208    \n",
      "_________________________________________________________________\n",
      "activation_38 (Activation)   (None, 64)                0         \n",
      "_________________________________________________________________\n",
      "dropout_15 (Dropout)         (None, 64)                0         \n",
      "_________________________________________________________________\n",
      "dense_15 (Dense)             (None, 1)                 65        \n",
      "_________________________________________________________________\n",
      "activation_39 (Activation)   (None, 1)                 0         \n",
      "=================================================================\n",
      "Total params: 422,033\n",
      "Trainable params: 421,809\n",
      "Non-trainable params: 224\n",
      "_________________________________________________________________\n"
     ]
    }
   ],
   "source": [
    "model.summary()"
   ]
  },
  {
   "cell_type": "code",
   "execution_count": null,
   "metadata": {
    "colab": {
     "base_uri": "https://localhost:8080/"
    },
    "collapsed": false,
    "id": "VjpZHb2AyvCV",
    "outputId": "6415dcc3-2839-4b20-d297-1d4c67ff6d2e"
   },
   "outputs": [
    {
     "name": "stdout",
     "output_type": "stream",
     "text": [
      "Epoch 1/20\n",
      "64/64 [==============================] - 115s 2s/step - loss: 1.0773 - acc: 0.5172 - val_loss: 0.6931 - val_acc: 0.7312\n",
      "Epoch 2/20\n",
      "64/64 [==============================] - 119s 2s/step - loss: 0.7616 - acc: 0.6547 - val_loss: 0.6928 - val_acc: 0.7312\n",
      "Epoch 3/20\n",
      "64/64 [==============================] - 116s 2s/step - loss: 0.6921 - acc: 0.6859 - val_loss: 0.6926 - val_acc: 0.7312\n",
      "Epoch 4/20\n",
      "64/64 [==============================] - 117s 2s/step - loss: 0.6807 - acc: 0.7188 - val_loss: 0.6926 - val_acc: 0.7312\n",
      "Epoch 5/20\n",
      "64/64 [==============================] - 117s 2s/step - loss: 0.7171 - acc: 0.6922 - val_loss: 0.6917 - val_acc: 0.7312\n",
      "Epoch 6/20\n",
      "64/64 [==============================] - 116s 2s/step - loss: 0.6710 - acc: 0.7047 - val_loss: 0.6913 - val_acc: 0.7312\n",
      "Epoch 7/20\n",
      "64/64 [==============================] - 121s 2s/step - loss: 0.6541 - acc: 0.7125 - val_loss: 0.6912 - val_acc: 0.7312\n",
      "Epoch 8/20\n",
      "64/64 [==============================] - 117s 2s/step - loss: 0.6579 - acc: 0.6984 - val_loss: 0.6828 - val_acc: 0.7312\n",
      "Epoch 9/20\n",
      "19/64 [=======>......................] - ETA: 1:14 - loss: 0.6315 - acc: 0.6895"
     ]
    }
   ],
   "source": [
    "history = model.fit(datagen.flow(X_train, y_train, batch_size=10), callbacks=[early_stop], validation_data=(X_val, y_val), epochs=20)"
   ]
  },
  {
   "cell_type": "code",
   "execution_count": 87,
   "metadata": {
    "colab": {
     "base_uri": "https://localhost:8080/"
    },
    "collapsed": false,
    "id": "p8YW3OI77ylc",
    "outputId": "9f2d1136-7d04-42cc-b3f3-84b6cec27d07"
   },
   "outputs": [
    {
     "name": "stdout",
     "output_type": "stream",
     "text": [
      "7/7 [==============================] - 7s 957ms/step - loss: 0.5443 - acc: 0.7850\n"
     ]
    },
    {
     "data": {
      "text/plain": [
       "[0.5443217158317566, 0.7850000262260437]"
      ]
     },
     "execution_count": 87,
     "metadata": {
      "tags": []
     },
     "output_type": "execute_result"
    }
   ],
   "source": [
    "model.evaluate(X_test, y_test)"
   ]
  },
  {
   "cell_type": "markdown",
   "metadata": {
    "id": "tzKlHgGj8AuT"
   },
   "source": [
    "Visualizing our training progress"
   ]
  },
  {
   "cell_type": "code",
   "execution_count": 88,
   "metadata": {
    "colab": {
     "base_uri": "https://localhost:8080/",
     "height": 1000
    },
    "collapsed": false,
    "id": "IuraQLUA79Py",
    "outputId": "a4521470-97c7-4d7e-d82c-6f3458993e00"
   },
   "outputs": [
    {
     "data": {
      "image/png": "[encoded data removed]",
      "text/plain": [
       "<Figure size 1152x648 with 1 Axes>"
      ]
     },
     "metadata": {
      "needs_background": "light",
      "tags": []
     },
     "output_type": "display_data"
    },
    {
     "data": {
      "image/png": "[encoded data removed]",
      "text/plain": [
       "<Figure size 1152x648 with 1 Axes>"
      ]
     },
     "metadata": {
      "needs_background": "light",
      "tags": []
     },
     "output_type": "display_data"
    },
    {
     "data": {
      "image/png": "[encoded data removed]",
      "text/plain": [
       "<Figure size 1152x648 with 1 Axes>"
      ]
     },
     "metadata": {
      "needs_background": "light",
      "tags": []
     },
     "output_type": "display_data"
    },
    {
     "data": {
      "image/png": "[encoded data removed]",
      "text/plain": [
       "<Figure size 1152x648 with 1 Axes>"
      ]
     },
     "metadata": {
      "needs_background": "light",
      "tags": []
     },
     "output_type": "display_data"
    }
   ],
   "source": [
    "plt.figure(figsize=(16, 9))\n",
    "plt.plot(history.epoch, history.history['acc'])\n",
    "plt.title('Model Accuracy')\n",
    "plt.legend(['train'], loc='upper left')\n",
    "plt.show()\n",
    "\n",
    "plt.figure(figsize=(16, 9))\n",
    "plt.plot(history.epoch, history.history['loss'])\n",
    "plt.title('Model Loss')\n",
    "plt.legend(['train'], loc='upper left')\n",
    "plt.show()\n",
    "\n",
    "plt.figure(figsize=(16, 9))\n",
    "plt.plot(history.epoch, history.history['val_acc'])\n",
    "plt.title('Model Validation Accuracy')\n",
    "plt.legend(['train'], loc='upper left')\n",
    "plt.show()\n",
    "\n",
    "plt.figure(figsize=(16, 9))\n",
    "plt.plot(history.epoch, history.history['val_loss'])\n",
    "plt.title('Model Validation Loss')\n",
    "plt.legend(['train'], loc='upper left')\n",
    "plt.show()"
   ]
  },
  {
   "cell_type": "markdown",
   "metadata": {
    "id": "vuv3lM2L8Qtb"
   },
   "source": [
    "Prepare data for precision vs. recall and ROC"
   ]
  },
  {
   "cell_type": "code",
   "execution_count": null,
   "metadata": {
    "collapsed": true,
    "id": "uzI9Scaa8TSy"
   },
   "outputs": [],
   "source": [
    "pred = model.predict(X_train)\n",
    "precisions, recalls, thresholds = precision_recall_curve(y_train, pred)\n",
    "fpr, tpr, thresholds2 = roc_curve(y_train, pred)"
   ]
  },
  {
   "cell_type": "code",
   "execution_count": null,
   "metadata": {
    "colab": {
     "base_uri": "https://localhost:8080/",
     "height": 575
    },
    "collapsed": false,
    "id": "6Lbk3Yz98dcG",
    "outputId": "43846730-3974-40f4-a767-d8c0d85a9f9c"
   },
   "outputs": [
    {
     "data": {
      "image/png": "[encoded data removed]",
      "text/plain": [
       "<Figure size 432x288 with 1 Axes>"
      ]
     },
     "metadata": {
      "needs_background": "light",
      "tags": []
     },
     "output_type": "display_data"
    },
    {
     "data": {
      "image/png": "[encoded data removed]",
      "text/plain": [
       "<Figure size 432x288 with 1 Axes>"
      ]
     },
     "metadata": {
      "needs_background": "light",
      "tags": []
     },
     "output_type": "display_data"
    }
   ],
   "source": [
    "def plot_precision_recall(precisions, recalls, thresholds):\n",
    "    plt.plot(thresholds, precisions[:-1], 'b--')\n",
    "    plt.plot(thresholds, recalls[:-1], 'g-')\n",
    "    plt.title('Precision vs. Recall')\n",
    "    plt.xlabel('Thresholds')\n",
    "    plt.legend(['Precision', 'Recall'], loc='best')\n",
    "    plt.show()\n",
    "\n",
    "def plot_roc(fpr, tpr):\n",
    "    plt.plot(fpr, tpr)\n",
    "    plt.plot([0, 1], [0, 1], 'k--')\n",
    "    plt.title('FPR (False Positive rate) vs TPR (True Positive Rate)')\n",
    "    plt.xlabel('False Positive Rate')\n",
    "    plt.ylabel('True Positive Rate (Recall)')\n",
    "    plt.show()\n",
    "    \n",
    "plot_precision_recall(precisions, recalls, thresholds)\n",
    "plot_roc(fpr, tpr)"
   ]
  },
  {
   "cell_type": "code",
   "execution_count": null,
   "metadata": {
    "colab": {
     "base_uri": "https://localhost:8080/"
    },
    "collapsed": false,
    "id": "fHAGZCTX8lII",
    "outputId": "a7748702-acf9-4c3e-8d50-3cc5cfcd4ad8"
   },
   "outputs": [
    {
     "name": "stdout",
     "output_type": "stream",
     "text": [
      "WARNING:tensorflow:5 out of the last 9 calls to <function Model.make_predict_function.<locals>.predict_function at 0x7fefafde2488> triggered tf.function retracing. Tracing is expensive and the excessive number of tracings could be due to (1) creating @tf.function repeatedly in a loop, (2) passing tensors with different shapes, (3) passing Python objects instead of tensors. For (1), please define your @tf.function outside of the loop. For (2), @tf.function has experimental_relax_shapes=True option that relaxes argument shapes that can avoid unnecessary retracing. For (3), please refer to https://www.tensorflow.org/tutorials/customization/performance#python_or_tensor_args and https://www.tensorflow.org/api_docs/python/tf/function for  more details.\n"
     ]
    }
   ],
   "source": [
    "predictions = model.predict(X_test)"
   ]
  },
  {
   "cell_type": "markdown",
   "metadata": {
    "id": "uTpVjqba8p6F"
   },
   "source": [
    "Set thresholds for our model, we want the results to be precise while not sacraficing too much recall"
   ]
  },
  {
   "cell_type": "code",
   "execution_count": null,
   "metadata": {
    "colab": {
     "base_uri": "https://localhost:8080/"
    },
    "collapsed": false,
    "id": "jWxjTV-xGCJI",
    "outputId": "2d23e7fa-98b5-478b-ff85-d9c373fdb24a"
   },
   "outputs": [
    {
     "name": "stdout",
     "output_type": "stream",
     "text": [
      "CONFUSION MATRIX ------------------\n",
      "[[18  0]\n",
      " [ 2  0]]\n",
      "\n",
      "TEST METRICS ----------------------\n",
      "Accuracy: 90.0%\n",
      "Precision: 90.0%\n",
      "Recall: 100.0%\n",
      "F1-score: 94.73684210526316\n",
      "AUC Score: 0.5\n",
      "\n",
      "TRAIN METRIC ----------------------\n"
     ]
    }
   ],
   "source": [
    "from sklearn.metrics import accuracy_score, confusion_matrix, roc_auc_score\n",
    "#from sklearn.metrics import (confusion_matrix, precision_recall_curve, auc,\n",
    "preds = model.predict(X_test)\n",
    "\n",
    "acc = accuracy_score(y_test, np.round(preds))*100\n",
    "cm = confusion_matrix(y_test, np.round(preds))\n",
    "tp, fn, fp, tn = cm.ravel()\n",
    "auc_score = roc_auc_score(y_test, preds[:,0])\n",
    "\n",
    "print('CONFUSION MATRIX ------------------')\n",
    "print(cm)\n",
    "\n",
    "print('\\nTEST METRICS ----------------------')\n",
    "precision = tp/(tp+fp)*100\n",
    "recall = tp/(tp+fn)*100\n",
    "print('Accuracy: {}%'.format(acc))\n",
    "print('Precision: {}%'.format(precision))\n",
    "print('Recall: {}%'.format(recall))\n",
    "print('F1-score: {}'.format(2*precision*recall/(precision+recall)))\n",
    "print('AUC Score: {}'.format(auc_score))\n",
    "\n",
    "print('\\nTRAIN METRIC ----------------------')\n",
    "#print('Train acc: {}'.format(np.round((hist.history['acc'][-1])*100, 2)))"
   ]
  }
 ],
 "metadata": {
  "colab": {
   "collapsed_sections": [],
   "name": "Capstone Basic Model for Final Report.ipynb",
   "provenance": []
  },
  "kernelspec": {
   "display_name": "Python 3",
   "language": "python",
   "name": "python3"
  },
  "language_info": {
   "codemirror_mode": {
    "name": "ipython",
    "version": 3
   },
   "file_extension": ".py",
   "mimetype": "text/x-python",
   "name": "python",
   "nbconvert_exporter": "python",
   "pygments_lexer": "ipython3",
   "version": "3.6.9"
  }
 },
 "nbformat": 4,
 "nbformat_minor": 0
}
