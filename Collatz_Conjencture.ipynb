{
  "nbformat": 4,
  "nbformat_minor": 0,
  "metadata": {
    "colab": {
      "name": "Collatz Conjencture.ipynb",
      "provenance": [],
      "collapsed_sections": [],
      "authorship_tag": "ABX9TyNt++J4tsU1BJGom+ZFArN7",
      "include_colab_link": true
    },
    "kernelspec": {
      "name": "python3",
      "display_name": "Python 3"
    },
    "language_info": {
      "name": "python"
    }
  },
  "cells": [
    {
      "cell_type": "markdown",
      "metadata": {
        "id": "view-in-github",
        "colab_type": "text"
      },
      "source": [
        "<a href=\"https://colab.research.google.com/github/drabhishekk14/AIML_Notebooks/blob/main/Collatz_Conjencture.ipynb\" target=\"_parent\"><img src=\"https://colab.research.google.com/assets/colab-badge.svg\" alt=\"Open In Colab\"/></a>"
      ]
    },
    {
      "cell_type": "code",
      "source": [
        "def collatz_conjencture(n):\n",
        "  while n!=1:\n",
        "    print(n, end = ',')\n",
        "\n",
        "    if n & 1:\n",
        "      n = n*3 + 1\n",
        "    else:\n",
        "      n = n // 2\n",
        "    print (n)\n",
        "collatz_conjencture(2)"
      ],
      "metadata": {
        "colab": {
          "base_uri": "https://localhost:8080/"
        },
        "id": "rdi-EQuXtsSt",
        "outputId": "f0dbcdaa-4881-4d7a-9717-1888d09fa487"
      },
      "execution_count": 5,
      "outputs": [
        {
          "output_type": "stream",
          "name": "stdout",
          "text": [
            "2,1\n"
          ]
        }
      ]
    }
  ]
}